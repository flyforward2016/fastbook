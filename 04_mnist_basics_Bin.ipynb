{
  "nbformat": 4,
  "nbformat_minor": 0,
  "metadata": {
    "jupytext": {
      "split_at_heading": true
    },
    "kernelspec": {
      "display_name": "Python 3",
      "language": "python",
      "name": "python3"
    },
    "language_info": {
      "codemirror_mode": {
        "name": "ipython",
        "version": 3
      },
      "file_extension": ".py",
      "mimetype": "text/x-python",
      "name": "python",
      "nbconvert_exporter": "python",
      "pygments_lexer": "ipython3",
      "version": "3.8.5"
    },
    "toc": {
      "base_numbering": 1,
      "nav_menu": {},
      "number_sections": false,
      "sideBar": true,
      "skip_h1_title": true,
      "title_cell": "Table of Contents",
      "title_sidebar": "Contents",
      "toc_cell": false,
      "toc_position": {},
      "toc_section_display": true,
      "toc_window_display": false
    },
    "colab": {
      "name": "04_mnist_basics_Bin.ipynb",
      "provenance": [],
      "collapsed_sections": [
        "1hTp6z4I34fl",
        "pjTPGfNNc6Ez",
        "ZZa5QVRpdpGv",
        "E5n1gbl434fy",
        "8aWV-PqU34gD",
        "w-Q_5pBL34gy",
        "hyW3zGDu34hA",
        "lEiddCsM34hH",
        "bOj-JKjU34hN",
        "coWiS61334hQ",
        "McWp0SGZ34hR",
        "aP1d_VhO34hR"
      ],
      "include_colab_link": true
    },
    "accelerator": "GPU"
  },
  "cells": [
    {
      "cell_type": "markdown",
      "metadata": {
        "id": "view-in-github",
        "colab_type": "text"
      },
      "source": [
        "<a href=\"https://colab.research.google.com/github/flyforward2016/fastbook/blob/master/04_mnist_basics_Bin.ipynb\" target=\"_parent\"><img src=\"https://colab.research.google.com/assets/colab-badge.svg\" alt=\"Open In Colab\"/></a>"
      ]
    },
    {
      "cell_type": "code",
      "metadata": {
        "id": "mcH_5tbd34fK"
      },
      "source": [
        "#hide\n",
        "!pip install -Uqq fastbook\n",
        "import fastbook\n",
        "fastbook.setup_book()"
      ],
      "execution_count": 2,
      "outputs": []
    },
    {
      "cell_type": "code",
      "metadata": {
        "id": "aMcnJu5V34fR"
      },
      "source": [
        "#hide\n",
        "from fastai.vision.all import *\n",
        "from fastbook import *\n",
        "\n",
        "matplotlib.rc('image', cmap='Greys')"
      ],
      "execution_count": 3,
      "outputs": []
    },
    {
      "cell_type": "markdown",
      "metadata": {
        "id": "TAcjuNvn34fS"
      },
      "source": [
        "[[chapter_mnist_basics]]"
      ]
    },
    {
      "cell_type": "markdown",
      "metadata": {
        "id": "gROBB5Bd34fT"
      },
      "source": [
        "# Under the Hood: Training a Digit Classifier"
      ]
    },
    {
      "cell_type": "markdown",
      "metadata": {
        "id": "EOR5yyaf34fT"
      },
      "source": [
        "Having seen what it looks like to actually train a variety of models in Chapter 2, let’s now look under the hood and see exactly what is going on. We’ll start by using computer vision to introduce fundamental tools and concepts for deep learning.\n",
        "\n",
        "To be exact, we'll discuss the roles of arrays and tensors and of broadcasting, a powerful technique for using them expressively. We'll explain stochastic gradient descent (SGD), the mechanism for learning by updating weights automatically. We'll discuss the choice of a loss function for our basic classification task, and the role of mini-batches. We'll also describe the math that a basic neural network is actually doing. Finally, we'll put all these pieces together.\n",
        "\n",
        "In future chapters we’ll do deep dives into other applications as well, and see how these concepts and tools generalize. But this chapter is about laying foundation stones. To be frank, that also makes this one of the hardest chapters, because of how these concepts all depend on each other. Like an arch, all the stones need to be in place for the structure to stay up. Also like an arch, once that happens, it's a powerful structure that can support other things. But it requires some patience to assemble.\n",
        "\n",
        "Let's begin. The first step is to consider how images are represented in a computer."
      ]
    },
    {
      "cell_type": "markdown",
      "metadata": {
        "id": "kWNbVmIb34fU"
      },
      "source": [
        "## Pixels: The Foundations of Computer Vision"
      ]
    },
    {
      "cell_type": "markdown",
      "metadata": {
        "id": "TLHXgsMZ34fV"
      },
      "source": [
        "In order to understand what happens in a computer vision model, we first have to understand how computers handle images. We'll use one of the most famous datasets in computer vision, [MNIST](https://en.wikipedia.org/wiki/MNIST_database), for our experiments. MNIST contains images of handwritten digits, collected by the National Institute of Standards and Technology and collated into a machine learning dataset by Yann Lecun and his colleagues. Lecun used MNIST in 1998 in [Lenet-5](http://yann.lecun.com/exdb/lenet/), the first computer system to demonstrate practically useful recognition of handwritten digit sequences. This was one of the most important breakthroughs in the history of AI."
      ]
    },
    {
      "cell_type": "markdown",
      "metadata": {
        "id": "zjZzuDg334fX"
      },
      "source": [
        "## Sidebar: Tenacity and Deep Learning"
      ]
    },
    {
      "cell_type": "markdown",
      "metadata": {
        "id": "OcaiXzGo34fX"
      },
      "source": [
        "The story of deep learning is one of tenacity and grit by a handful of dedicated researchers. After early hopes (and hype!) neural networks went out of favor in the 1990's and 2000's, and just a handful of researchers kept trying to make them work well. Three of them, Yann Lecun, Yoshua Bengio, and Geoffrey Hinton, were awarded the highest honor in computer science, the Turing Award (generally considered the \"Nobel Prize of computer science\"), in 2018 after triumphing despite the deep skepticism and disinterest of the wider machine learning and statistics community.\n",
        "\n",
        "Geoff Hinton has told of how even academic papers showing dramatically better results than anything previously published would be rejected by top journals and conferences, just because they used a neural network. Yann Lecun's work on convolutional neural networks, which we will study in the next section, showed that these models could read handwritten text—something that had never been achieved before. However, his breakthrough was ignored by most researchers, even as it was used commercially to read 10% of the checks in the US!\n",
        "\n",
        "In addition to these three Turing Award winners, there are many other researchers who have battled to get us to where we are today. For instance, Jurgen Schmidhuber (who many believe should have shared in the Turing Award) pioneered many important ideas, including working with his student Sepp Hochreiter on the long short-term memory (LSTM) architecture (widely used for speech recognition and other text modeling tasks, and used in the IMDb example in <<chapter_intro>>). Perhaps most important of all, Paul Werbos in 1974 invented back-propagation for neural networks, the technique shown in this chapter and used universally for training neural networks ([Werbos 1994](https://books.google.com/books/about/The_Roots_of_Backpropagation.html?id=WdR3OOM2gBwC)). His development was almost entirely ignored for decades, but today it is considered the most important foundation of modern AI.\n",
        "\n",
        "There is a lesson here for all of us! On your deep learning journey you will face many obstacles, both technical, and (even more difficult) posed by people around you who don't believe you'll be successful. There's one *guaranteed* way to fail, and that's to stop trying. We've seen that the only consistent trait amongst every fast.ai student that's gone on to be a world-class practitioner is that they are all very tenacious."
      ]
    },
    {
      "cell_type": "markdown",
      "metadata": {
        "id": "F-ZX4gkF34fY"
      },
      "source": [
        "## End sidebar"
      ]
    },
    {
      "cell_type": "markdown",
      "metadata": {
        "id": "QENfvgOK34fa"
      },
      "source": [
        "For this initial tutorial we are just going to try to create a model that can classify any image as a 3 or a 7. So let's download a sample of MNIST that contains images of just these digits:"
      ]
    },
    {
      "cell_type": "code",
      "metadata": {
        "colab": {
          "base_uri": "https://localhost:8080/",
          "height": 17
        },
        "id": "jVP3i2No34fb",
        "outputId": "85ce895b-7388-41de-dfa5-bd55b98af240"
      },
      "source": [
        "path = untar_data(URLs.MNIST_SAMPLE)"
      ],
      "execution_count": 4,
      "outputs": [
        {
          "output_type": "display_data",
          "data": {
            "text/html": [
              ""
            ],
            "text/plain": [
              "<IPython.core.display.HTML object>"
            ]
          },
          "metadata": {
            "tags": []
          }
        }
      ]
    },
    {
      "cell_type": "code",
      "metadata": {
        "id": "opI1N8VJ34fb"
      },
      "source": [
        "#hide\n",
        "Path.BASE_PATH = path"
      ],
      "execution_count": 5,
      "outputs": []
    },
    {
      "cell_type": "markdown",
      "metadata": {
        "id": "djjFOGAP34fc"
      },
      "source": [
        "We can see what's in this directory by using `ls`, a method added by fastai. This method returns an object of a special fastai class called `L`, which has all the same functionality of Python's built-in `list`, plus a lot more. One of its handy features is that, when printed, it displays the count of items, before listing the items themselves (if there are more than 10 items, it just shows the first few):"
      ]
    },
    {
      "cell_type": "code",
      "metadata": {
        "colab": {
          "base_uri": "https://localhost:8080/"
        },
        "id": "oEwLMr6o7SRB",
        "outputId": "a760dc54-8012-45eb-b662-6de298108375"
      },
      "source": [
        "path"
      ],
      "execution_count": 6,
      "outputs": [
        {
          "output_type": "execute_result",
          "data": {
            "text/plain": [
              "Path('.')"
            ]
          },
          "metadata": {
            "tags": []
          },
          "execution_count": 6
        }
      ]
    },
    {
      "cell_type": "code",
      "metadata": {
        "colab": {
          "base_uri": "https://localhost:8080/"
        },
        "id": "54fmX3eQ75vD",
        "outputId": "3094b025-be2d-4b11-a4a2-63ff4101b5d8"
      },
      "source": [
        "path.absolute()"
      ],
      "execution_count": 7,
      "outputs": [
        {
          "output_type": "execute_result",
          "data": {
            "text/plain": [
              "Path('.')"
            ]
          },
          "metadata": {
            "tags": []
          },
          "execution_count": 7
        }
      ]
    },
    {
      "cell_type": "code",
      "metadata": {
        "colab": {
          "base_uri": "https://localhost:8080/",
          "height": 105
        },
        "id": "DES4olQX8QD6",
        "outputId": "da974633-8a8e-47d6-b340-d262669a2539"
      },
      "source": [
        "doc(path)"
      ],
      "execution_count": 8,
      "outputs": [
        {
          "output_type": "display_data",
          "data": {
            "text/html": [
              "<h4 id=\"fastai/data/mnist_sample\" class=\"doc_header\"><code>fastai/data/mnist_sample</code><a href=\"\" class=\"source_link\" style=\"float:right\">[source]</a></h4><p>Path subclass for non-Windows systems.</p>\n",
              "<p>On a POSIX system, instantiating a Path should return this object.</p>\n"
            ],
            "text/plain": [
              "<IPython.core.display.HTML object>"
            ]
          },
          "metadata": {
            "tags": []
          }
        }
      ]
    },
    {
      "cell_type": "code",
      "metadata": {
        "colab": {
          "base_uri": "https://localhost:8080/"
        },
        "id": "ZGc8ZF2_7WQ4",
        "outputId": "fd075779-42d9-4ff0-ee63-bdfbe122ffcd"
      },
      "source": [
        "!ls # use bash to check where it is."
      ],
      "execution_count": 9,
      "outputs": [
        {
          "output_type": "stream",
          "text": [
            "gdrive\tsample_data\n"
          ],
          "name": "stdout"
        }
      ]
    },
    {
      "cell_type": "code",
      "metadata": {
        "colab": {
          "base_uri": "https://localhost:8080/"
        },
        "id": "lQ9uEOwG34fd",
        "outputId": "8307de63-26c1-48b7-ce56-7f07ebe3d029"
      },
      "source": [
        "path.ls()"
      ],
      "execution_count": 10,
      "outputs": [
        {
          "output_type": "execute_result",
          "data": {
            "text/plain": [
              "(#3) [Path('valid'),Path('train'),Path('labels.csv')]"
            ]
          },
          "metadata": {
            "tags": []
          },
          "execution_count": 10
        }
      ]
    },
    {
      "cell_type": "markdown",
      "metadata": {
        "id": "jl1Kztdw34ff"
      },
      "source": [
        "The MNIST dataset follows a common layout for machine learning datasets: separate folders for the training set and the validation set (and/or test set). Let's see what's inside the training set:"
      ]
    },
    {
      "cell_type": "code",
      "metadata": {
        "colab": {
          "base_uri": "https://localhost:8080/"
        },
        "id": "_CGnLSD234ff",
        "outputId": "1c06def4-6bba-442d-95cf-abcca3662071"
      },
      "source": [
        "(path/'train').ls()"
      ],
      "execution_count": 11,
      "outputs": [
        {
          "output_type": "execute_result",
          "data": {
            "text/plain": [
              "(#2) [Path('train/3'),Path('train/7')]"
            ]
          },
          "metadata": {
            "tags": []
          },
          "execution_count": 11
        }
      ]
    },
    {
      "cell_type": "code",
      "metadata": {
        "colab": {
          "base_uri": "https://localhost:8080/"
        },
        "id": "J__QItEN9ALb",
        "outputId": "18c63ea9-3522-41ee-d371-5ae6fac84fc4"
      },
      "source": [
        "(path/'train/3').ls()"
      ],
      "execution_count": 12,
      "outputs": [
        {
          "output_type": "execute_result",
          "data": {
            "text/plain": [
              "(#6131) [Path('train/3/1150.png'),Path('train/3/1121.png'),Path('train/3/34239.png'),Path('train/3/34728.png'),Path('train/3/2021.png'),Path('train/3/33745.png'),Path('train/3/4281.png'),Path('train/3/59978.png'),Path('train/3/58339.png'),Path('train/3/49955.png')...]"
            ]
          },
          "metadata": {
            "tags": []
          },
          "execution_count": 12
        }
      ]
    },
    {
      "cell_type": "markdown",
      "metadata": {
        "id": "b6VmqIoj34fg"
      },
      "source": [
        "There's a folder of 3s, and a folder of 7s. In machine learning parlance, we say that \"3\" and \"7\" are the *labels* (or targets) in this dataset. Let's take a look in one of these folders (using `sorted` to ensure we all get the same order of files):"
      ]
    },
    {
      "cell_type": "code",
      "metadata": {
        "colab": {
          "base_uri": "https://localhost:8080/"
        },
        "id": "vEpjI7IB34fh",
        "outputId": "277448a0-75c6-4248-c74a-22da30bb8fd6"
      },
      "source": [
        "threes = (path/'train'/'3').ls().sorted()\n",
        "sevens = (path/'train'/'7').ls().sorted()\n",
        "threes"
      ],
      "execution_count": 13,
      "outputs": [
        {
          "output_type": "execute_result",
          "data": {
            "text/plain": [
              "(#6131) [Path('train/3/10.png'),Path('train/3/10000.png'),Path('train/3/10011.png'),Path('train/3/10031.png'),Path('train/3/10034.png'),Path('train/3/10042.png'),Path('train/3/10052.png'),Path('train/3/1007.png'),Path('train/3/10074.png'),Path('train/3/10091.png')...]"
            ]
          },
          "metadata": {
            "tags": []
          },
          "execution_count": 13
        }
      ]
    },
    {
      "cell_type": "markdown",
      "metadata": {
        "id": "Nr6z99Q234fh"
      },
      "source": [
        "As we might expect, it's full of image files. Let’s take a look at one now. Here’s an image of a handwritten number 3, taken from the famous MNIST dataset of handwritten numbers:"
      ]
    },
    {
      "cell_type": "code",
      "metadata": {
        "colab": {
          "base_uri": "https://localhost:8080/"
        },
        "id": "S4FVyUbqREp-",
        "outputId": "346e41b3-a9da-4140-c808-2fc1f61629d0"
      },
      "source": [
        "type(threes)"
      ],
      "execution_count": 14,
      "outputs": [
        {
          "output_type": "execute_result",
          "data": {
            "text/plain": [
              "fastcore.foundation.L"
            ]
          },
          "metadata": {
            "tags": []
          },
          "execution_count": 14
        }
      ]
    },
    {
      "cell_type": "code",
      "metadata": {
        "colab": {
          "base_uri": "https://localhost:8080/",
          "height": 45
        },
        "id": "q8HN5QmI34fi",
        "outputId": "876f5de8-ead0-4cb7-e2dc-6a2df3addeb3"
      },
      "source": [
        "im3_path = threes[3]\n",
        "im3 = Image.open(im3_path)\n",
        "im3"
      ],
      "execution_count": 15,
      "outputs": [
        {
          "output_type": "execute_result",
          "data": {
            "image/png": "[encoded data removed]",
            "text/plain": [
              "<PIL.PngImagePlugin.PngImageFile image mode=L size=28x28 at 0x7F829CAF4358>"
            ]
          },
          "metadata": {
            "tags": []
          },
          "execution_count": 15
        }
      ]
    },
    {
      "cell_type": "code",
      "metadata": {
        "colab": {
          "base_uri": "https://localhost:8080/"
        },
        "id": "ljs7Byr9Xo41",
        "outputId": "5ccb8d68-f31d-4a71-a7c1-0e48908a3527"
      },
      "source": [
        "type(im3)"
      ],
      "execution_count": 16,
      "outputs": [
        {
          "output_type": "execute_result",
          "data": {
            "text/plain": [
              "PIL.PngImagePlugin.PngImageFile"
            ]
          },
          "metadata": {
            "tags": []
          },
          "execution_count": 16
        }
      ]
    },
    {
      "cell_type": "code",
      "metadata": {
        "colab": {
          "base_uri": "https://localhost:8080/",
          "height": 45
        },
        "id": "8XLUkIig-7RN",
        "outputId": "63f2a5ec-f255-4289-d8db-62643c5e283e"
      },
      "source": [
        "im7_path = sevens[7] # load the 7th seven in the dataset.\r\n",
        "im7 = Image.open(im7_path)\r\n",
        "im7"
      ],
      "execution_count": 17,
      "outputs": [
        {
          "output_type": "execute_result",
          "data": {
            "image/png": "[encoded data removed]",
            "text/plain": [
              "<PIL.PngImagePlugin.PngImageFile image mode=L size=28x28 at 0x7F829CCBA240>"
            ]
          },
          "metadata": {
            "tags": []
          },
          "execution_count": 17
        }
      ]
    },
    {
      "cell_type": "markdown",
      "metadata": {
        "id": "PN2BXtS334fi"
      },
      "source": [
        "Here we are using the `Image` class from the *Python Imaging Library* (PIL), which is the most widely used Python package for opening, manipulating, and viewing images. Jupyter knows about PIL images, so it displays the image for us automatically.\n",
        "\n",
        "In a computer, everything is represented as a number. To view the numbers that make up this image, we have to convert it to a *NumPy array* or a *PyTorch tensor*. For instance, here's what a section of the image looks like, converted to a NumPy array:"
      ]
    },
    {
      "cell_type": "code",
      "metadata": {
        "colab": {
          "base_uri": "https://localhost:8080/"
        },
        "id": "J5arHXHO34fj",
        "outputId": "1bddb2b2-4582-4cd5-ba2a-c55956f0fe2c"
      },
      "source": [
        "array(im3)[4:10,4:10]"
      ],
      "execution_count": 18,
      "outputs": [
        {
          "output_type": "execute_result",
          "data": {
            "text/plain": [
              "array([[  0,   0,   0,   0,   0,   0],\n",
              "       [  0,   0,   0,   0,   0,   0],\n",
              "       [  0,   0,   0,   0,   0, 178],\n",
              "       [  0,   0,   0,   0,   0, 186],\n",
              "       [  0,   0,   0,   0,   0, 186],\n",
              "       [  0,   0,   0,   0,   0,  39]], dtype=uint8)"
            ]
          },
          "metadata": {
            "tags": []
          },
          "execution_count": 18
        }
      ]
    },
    {
      "cell_type": "markdown",
      "metadata": {
        "id": "TzAIa0Dm34fj"
      },
      "source": [
        "The `4:10` indicates we requested the rows from index 4 (included) to 10 (not included) and the same for the columns. NumPy indexes from top to bottom and left to right, so this section is located in the top-left corner of the image. Here's the same thing as a PyTorch tensor:"
      ]
    },
    {
      "cell_type": "markdown",
      "metadata": {
        "id": "l7io7E05VFhx"
      },
      "source": [
        "tensor is the np version in pytorch. The only difference is tensor will be calculated in GPU."
      ]
    },
    {
      "cell_type": "code",
      "metadata": {
        "colab": {
          "base_uri": "https://localhost:8080/"
        },
        "id": "m9E5D2O234fj",
        "outputId": "eba270d8-a19c-461a-a205-b09eb9122106"
      },
      "source": [
        "tensor(im3)[4:10,4:10] # just looked at part of the tensor array"
      ],
      "execution_count": 19,
      "outputs": [
        {
          "output_type": "execute_result",
          "data": {
            "text/plain": [
              "tensor([[  0,   0,   0,   0,   0,   0],\n",
              "        [  0,   0,   0,   0,   0,   0],\n",
              "        [  0,   0,   0,   0,   0, 178],\n",
              "        [  0,   0,   0,   0,   0, 186],\n",
              "        [  0,   0,   0,   0,   0, 186],\n",
              "        [  0,   0,   0,   0,   0,  39]], dtype=torch.uint8)"
            ]
          },
          "metadata": {
            "tags": []
          },
          "execution_count": 19
        }
      ]
    },
    {
      "cell_type": "code",
      "metadata": {
        "colab": {
          "base_uri": "https://localhost:8080/"
        },
        "id": "9TQAUTJX-5IE",
        "outputId": "c4ddb946-b44d-4ace-b470-1592d19c3806"
      },
      "source": [
        "tensor(im3)[0:40,0:40] # You can see the number 3 here. "
      ],
      "execution_count": 20,
      "outputs": [
        {
          "output_type": "execute_result",
          "data": {
            "text/plain": [
              "tensor([[  0,   0,   0,   0,   0,   0,   0,   0,   0,   0,   0,   0,   0,   0,   0,   0,   0,   0,   0,   0,   0,   0,   0,   0,   0,   0,   0,   0],\n",
              "        [  0,   0,   0,   0,   0,   0,   0,   0,   0,   0,   0,   0,   0,   0,   0,   0,   0,   0,   0,   0,   0,   0,   0,   0,   0,   0,   0,   0],\n",
              "        [  0,   0,   0,   0,   0,   0,   0,   0,   0,   0,   0,   0,   0,   0,   0,   0,   0,   0,   0,   0,   0,   0,   0,   0,   0,   0,   0,   0],\n",
              "        [  0,   0,   0,   0,   0,   0,   0,   0,   0,   0,   0,   0,   0,   0,   0,   0,   0,   0,   0,   0,   0,   0,   0,   0,   0,   0,   0,   0],\n",
              "        [  0,   0,   0,   0,   0,   0,   0,   0,   0,   0,   0,   0,   0,   0,   0,   0,   0,   0,   0,   0,   0,   0,   0,   0,   0,   0,   0,   0],\n",
              "        [  0,   0,   0,   0,   0,   0,   0,   0,   0,   0, 104, 253, 253, 253, 255, 253, 253, 253, 218,  32,   0,   0,   0,   0,   0,   0,   0,   0],\n",
              "        [  0,   0,   0,   0,   0,   0,   0,   0,   0, 178, 248, 252, 252, 252, 253, 252, 252, 252, 252, 215,  34,   0,   0,   0,   0,   0,   0,   0],\n",
              "        [  0,   0,   0,   0,   0,   0,   0,   0,   0, 186, 252, 252, 252, 252, 253, 252, 252, 252, 252, 252,  79,   0,   0,   0,   0,   0,   0,   0],\n",
              "        [  0,   0,   0,   0,   0,   0,   0,   0,   0, 186, 252, 243, 172, 172,  39,  39,  39, 219, 252, 252,  79,   0,   0,   0,   0,   0,   0,   0],\n",
              "        [  0,   0,   0,   0,   0,   0,   0,   0,   0,  39,  53,  47,   0,   0,   0,  29, 117, 244, 252, 252,  79,   0,   0,   0,   0,   0,   0,   0],\n",
              "        [  0,   0,   0,   0,   0,   0,   0,   0,   0,   0,   0,   0,   0,   0,  54, 208, 252, 252, 252, 184,  21,   0,   0,   0,   0,   0,   0,   0],\n",
              "        [  0,   0,   0,   0,   0,   0,   0,   0,   0,   0,   0,   0,   3,  41, 253, 252, 252, 252, 206,  21,   0,   0,   0,   0,   0,   0,   0,   0],\n",
              "        [  0,   0,   0,   0,   0,   0,   0,   0,   0,   0,   5,  41, 165, 252, 253, 252, 252, 252, 227, 131,   9,   0,   0,   0,   0,   0,   0,   0],\n",
              "        [  0,   0,   0,   0,   0,   0,   0,   0,   0, 109, 163, 252, 252, 252, 253, 252, 252, 252, 252, 252, 156,   0,   0,   0,   0,   0,   0,   0],\n",
              "        [  0,   0,   0,   0,   0,   0,   0,   0,   0, 186, 252, 252, 252, 252, 253, 252, 252, 139, 224, 252, 233,  49,   0,   0,   0,   0,   0,   0],\n",
              "        [  0,   0,   0,   0,   0,   0,   0,   0,   0, 187, 253, 253, 253, 253, 134,  77,   0,   0, 130, 253, 253,  93,   0,   0,   0,   0,   0,   0],\n",
              "        [  0,   0,   0,   0,   0,   0,   0,   0,   0, 108, 162, 184,  68,  13,   0,   0,   0,  34, 222, 252, 252,  93,   0,   0,   0,   0,   0,   0],\n",
              "        [  0,   0,   0,   0,   0,   0,   0,   0,   0,   0,   5,  10,   0,   0,   0,   0,   0, 200, 252, 252, 166,  10,   0,   0,   0,   0,   0,   0],\n",
              "        [  0,   0,   0,   0,   0,   0,   0,   0,   0,   0,   0,   0,   0,   0,   0,  34, 200, 246, 252, 235,  54,   0,   0,   0,   0,   0,   0,   0],\n",
              "        [  0,   0,   0,   0,   0,   0,   0,   0,   0,   0,   0,   0,   0,   0,   0, 142, 252, 252, 234,  76,   0,   0,   0,   0,   0,   0,   0,   0],\n",
              "        [  0,   0,   0,   0,   0,   0, 168, 128,   0,   0,   0,   0,   3,  54, 187, 249, 252, 235, 146,   0,   0,   0,   0,   0,   0,   0,   0,   0],\n",
              "        [  0,   0,   0,   0,   0,   0, 226, 227, 138,  11,   7,  55, 177, 252, 253, 252, 237,  75,   0,   0,   0,   0,   0,   0,   0,   0,   0,   0],\n",
              "        [  0,   0,   0,   0,   0,   0, 202, 248, 252, 184, 174, 252, 252, 252, 253, 170,  59,   0,   0,   0,   0,   0,   0,   0,   0,   0,   0,   0],\n",
              "        [  0,   0,   0,   0,   0,   0,   0, 131, 249, 252, 252, 252, 251, 238, 107,   6,   0,   0,   0,   0,   0,   0,   0,   0,   0,   0,   0,   0],\n",
              "        [  0,   0,   0,   0,   0,   0,   0,   0,  95, 217, 252, 167, 113,   0,   0,   0,   0,   0,   0,   0,   0,   0,   0,   0,   0,   0,   0,   0],\n",
              "        [  0,   0,   0,   0,   0,   0,   0,   0,   0,   0,   0,   0,   0,   0,   0,   0,   0,   0,   0,   0,   0,   0,   0,   0,   0,   0,   0,   0],\n",
              "        [  0,   0,   0,   0,   0,   0,   0,   0,   0,   0,   0,   0,   0,   0,   0,   0,   0,   0,   0,   0,   0,   0,   0,   0,   0,   0,   0,   0],\n",
              "        [  0,   0,   0,   0,   0,   0,   0,   0,   0,   0,   0,   0,   0,   0,   0,   0,   0,   0,   0,   0,   0,   0,   0,   0,   0,   0,   0,   0]], dtype=torch.uint8)"
            ]
          },
          "metadata": {
            "tags": []
          },
          "execution_count": 20
        }
      ]
    },
    {
      "cell_type": "markdown",
      "metadata": {
        "id": "jPUXnTLr34fj"
      },
      "source": [
        "We can slice the array to pick just the part with the top of the digit in it, and then use a Pandas DataFrame to color-code the values using a gradient, which shows us clearly how the image is created from the pixel values:"
      ]
    },
    {
      "cell_type": "code",
      "metadata": {
        "colab": {
          "base_uri": "https://localhost:8080/",
          "height": 619
        },
        "id": "e6x4ZckF34fk",
        "outputId": "25a8819a-6fae-4b96-b6fe-78f6b2da52bf"
      },
      "source": [
        "#hide_output\n",
        "im3_t = tensor(im3)\n",
        "df = pd.DataFrame(im3_t[0:28,0:28])\n",
        "#df.style.set_properties(**{'font-size':'6pt'}).background_gradient('Greys')\n",
        "df.style.set_properties(**{'font-size':'6pt'}).background_gradient('PuBu')"
      ],
      "execution_count": 21,
      "outputs": [
        {
          "output_type": "execute_result",
          "data": {
            "text/html": [
              "<style  type=\"text/css\" >\n",
              "#T_e4e28e80_55be_11eb_abc6_0242ac1c0002row0_col0,#T_e4e28e80_55be_11eb_abc6_0242ac1c0002row0_col1,#T_e4e28e80_55be_11eb_abc6_0242ac1c0002row0_col2,#T_e4e28e80_55be_11eb_abc6_0242ac1c0002row0_col3,#T_e4e28e80_55be_11eb_abc6_0242ac1c0002row0_col4,#T_e4e28e80_55be_11eb_abc6_0242ac1c0002row0_col5,#T_e4e28e80_55be_11eb_abc6_0242ac1c0002row0_col6,#T_e4e28e80_55be_11eb_abc6_0242ac1c0002row0_col7,#T_e4e28e80_55be_11eb_abc6_0242ac1c0002row0_col8,#T_e4e28e80_55be_11eb_abc6_0242ac1c0002row0_col9,#T_e4e28e80_55be_11eb_abc6_0242ac1c0002row0_col10,#T_e4e28e80_55be_11eb_abc6_0242ac1c0002row0_col11,#T_e4e28e80_55be_11eb_abc6_0242ac1c0002row0_col12,#T_e4e28e80_55be_11eb_abc6_0242ac1c0002row0_col13,#T_e4e28e80_55be_11eb_abc6_0242ac1c0002row0_col14,#T_e4e28e80_55be_11eb_abc6_0242ac1c0002row0_col15,#T_e4e28e80_55be_11eb_abc6_0242ac1c0002row0_col16,#T_e4e28e80_55be_11eb_abc6_0242ac1c0002row0_col17,#T_e4e28e80_55be_11eb_abc6_0242ac1c0002row0_col18,#T_e4e28e80_55be_11eb_abc6_0242ac1c0002row0_col19,#T_e4e28e80_55be_11eb_abc6_0242ac1c0002row0_col20,#T_e4e28e80_55be_11eb_abc6_0242ac1c0002row0_col21,#T_e4e28e80_55be_11eb_abc6_0242ac1c0002row0_col22,#T_e4e28e80_55be_11eb_abc6_0242ac1c0002row0_col23,#T_e4e28e80_55be_11eb_abc6_0242ac1c0002row0_col24,#T_e4e28e80_55be_11eb_abc6_0242ac1c0002row0_col25,#T_e4e28e80_55be_11eb_abc6_0242ac1c0002row0_col26,#T_e4e28e80_55be_11eb_abc6_0242ac1c0002row0_col27,#T_e4e28e80_55be_11eb_abc6_0242ac1c0002row1_col0,#T_e4e28e80_55be_11eb_abc6_0242ac1c0002row1_col1,#T_e4e28e80_55be_11eb_abc6_0242ac1c0002row1_col2,#T_e4e28e80_55be_11eb_abc6_0242ac1c0002row1_col3,#T_e4e28e80_55be_11eb_abc6_0242ac1c0002row1_col4,#T_e4e28e80_55be_11eb_abc6_0242ac1c0002row1_col5,#T_e4e28e80_55be_11eb_abc6_0242ac1c0002row1_col6,#T_e4e28e80_55be_11eb_abc6_0242ac1c0002row1_col7,#T_e4e28e80_55be_11eb_abc6_0242ac1c0002row1_col8,#T_e4e28e80_55be_11eb_abc6_0242ac1c0002row1_col9,#T_e4e28e80_55be_11eb_abc6_0242ac1c0002row1_col10,#T_e4e28e80_55be_11eb_abc6_0242ac1c0002row1_col11,#T_e4e28e80_55be_11eb_abc6_0242ac1c0002row1_col12,#T_e4e28e80_55be_11eb_abc6_0242ac1c0002row1_col13,#T_e4e28e80_55be_11eb_abc6_0242ac1c0002row1_col14,#T_e4e28e80_55be_11eb_abc6_0242ac1c0002row1_col15,#T_e4e28e80_55be_11eb_abc6_0242ac1c0002row1_col16,#T_e4e28e80_55be_11eb_abc6_0242ac1c0002row1_col17,#T_e4e28e80_55be_11eb_abc6_0242ac1c0002row1_col18,#T_e4e28e80_55be_11eb_abc6_0242ac1c0002row1_col19,#T_e4e28e80_55be_11eb_abc6_0242ac1c0002row1_col20,#T_e4e28e80_55be_11eb_abc6_0242ac1c0002row1_col21,#T_e4e28e80_55be_11eb_abc6_0242ac1c0002row1_col22,#T_e4e28e80_55be_11eb_abc6_0242ac1c0002row1_col23,#T_e4e28e80_55be_11eb_abc6_0242ac1c0002row1_col24,#T_e4e28e80_55be_11eb_abc6_0242ac1c0002row1_col25,#T_e4e28e80_55be_11eb_abc6_0242ac1c0002row1_col26,#T_e4e28e80_55be_11eb_abc6_0242ac1c0002row1_col27,#T_e4e28e80_55be_11eb_abc6_0242ac1c0002row2_col0,#T_e4e28e80_55be_11eb_abc6_0242ac1c0002row2_col1,#T_e4e28e80_55be_11eb_abc6_0242ac1c0002row2_col2,#T_e4e28e80_55be_11eb_abc6_0242ac1c0002row2_col3,#T_e4e28e80_55be_11eb_abc6_0242ac1c0002row2_col4,#T_e4e28e80_55be_11eb_abc6_0242ac1c0002row2_col5,#T_e4e28e80_55be_11eb_abc6_0242ac1c0002row2_col6,#T_e4e28e80_55be_11eb_abc6_0242ac1c0002row2_col7,#T_e4e28e80_55be_11eb_abc6_0242ac1c0002row2_col8,#T_e4e28e80_55be_11eb_abc6_0242ac1c0002row2_col9,#T_e4e28e80_55be_11eb_abc6_0242ac1c0002row2_col10,#T_e4e28e80_55be_11eb_abc6_0242ac1c0002row2_col11,#T_e4e28e80_55be_11eb_abc6_0242ac1c0002row2_col12,#T_e4e28e80_55be_11eb_abc6_0242ac1c0002row2_col13,#T_e4e28e80_55be_11eb_abc6_0242ac1c0002row2_col14,#T_e4e28e80_55be_11eb_abc6_0242ac1c0002row2_col15,#T_e4e28e80_55be_11eb_abc6_0242ac1c0002row2_col16,#T_e4e28e80_55be_11eb_abc6_0242ac1c0002row2_col17,#T_e4e28e80_55be_11eb_abc6_0242ac1c0002row2_col18,#T_e4e28e80_55be_11eb_abc6_0242ac1c0002row2_col19,#T_e4e28e80_55be_11eb_abc6_0242ac1c0002row2_col20,#T_e4e28e80_55be_11eb_abc6_0242ac1c0002row2_col21,#T_e4e28e80_55be_11eb_abc6_0242ac1c0002row2_col22,#T_e4e28e80_55be_11eb_abc6_0242ac1c0002row2_col23,#T_e4e28e80_55be_11eb_abc6_0242ac1c0002row2_col24,#T_e4e28e80_55be_11eb_abc6_0242ac1c0002row2_col25,#T_e4e28e80_55be_11eb_abc6_0242ac1c0002row2_col26,#T_e4e28e80_55be_11eb_abc6_0242ac1c0002row2_col27,#T_e4e28e80_55be_11eb_abc6_0242ac1c0002row3_col0,#T_e4e28e80_55be_11eb_abc6_0242ac1c0002row3_col1,#T_e4e28e80_55be_11eb_abc6_0242ac1c0002row3_col2,#T_e4e28e80_55be_11eb_abc6_0242ac1c0002row3_col3,#T_e4e28e80_55be_11eb_abc6_0242ac1c0002row3_col4,#T_e4e28e80_55be_11eb_abc6_0242ac1c0002row3_col5,#T_e4e28e80_55be_11eb_abc6_0242ac1c0002row3_col6,#T_e4e28e80_55be_11eb_abc6_0242ac1c0002row3_col7,#T_e4e28e80_55be_11eb_abc6_0242ac1c0002row3_col8,#T_e4e28e80_55be_11eb_abc6_0242ac1c0002row3_col9,#T_e4e28e80_55be_11eb_abc6_0242ac1c0002row3_col10,#T_e4e28e80_55be_11eb_abc6_0242ac1c0002row3_col11,#T_e4e28e80_55be_11eb_abc6_0242ac1c0002row3_col12,#T_e4e28e80_55be_11eb_abc6_0242ac1c0002row3_col13,#T_e4e28e80_55be_11eb_abc6_0242ac1c0002row3_col14,#T_e4e28e80_55be_11eb_abc6_0242ac1c0002row3_col15,#T_e4e28e80_55be_11eb_abc6_0242ac1c0002row3_col16,#T_e4e28e80_55be_11eb_abc6_0242ac1c0002row3_col17,#T_e4e28e80_55be_11eb_abc6_0242ac1c0002row3_col18,#T_e4e28e80_55be_11eb_abc6_0242ac1c0002row3_col19,#T_e4e28e80_55be_11eb_abc6_0242ac1c0002row3_col20,#T_e4e28e80_55be_11eb_abc6_0242ac1c0002row3_col21,#T_e4e28e80_55be_11eb_abc6_0242ac1c0002row3_col22,#T_e4e28e80_55be_11eb_abc6_0242ac1c0002row3_col23,#T_e4e28e80_55be_11eb_abc6_0242ac1c0002row3_col24,#T_e4e28e80_55be_11eb_abc6_0242ac1c0002row3_col25,#T_e4e28e80_55be_11eb_abc6_0242ac1c0002row3_col26,#T_e4e28e80_55be_11eb_abc6_0242ac1c0002row3_col27,#T_e4e28e80_55be_11eb_abc6_0242ac1c0002row4_col0,#T_e4e28e80_55be_11eb_abc6_0242ac1c0002row4_col1,#T_e4e28e80_55be_11eb_abc6_0242ac1c0002row4_col2,#T_e4e28e80_55be_11eb_abc6_0242ac1c0002row4_col3,#T_e4e28e80_55be_11eb_abc6_0242ac1c0002row4_col4,#T_e4e28e80_55be_11eb_abc6_0242ac1c0002row4_col5,#T_e4e28e80_55be_11eb_abc6_0242ac1c0002row4_col6,#T_e4e28e80_55be_11eb_abc6_0242ac1c0002row4_col7,#T_e4e28e80_55be_11eb_abc6_0242ac1c0002row4_col8,#T_e4e28e80_55be_11eb_abc6_0242ac1c0002row4_col9,#T_e4e28e80_55be_11eb_abc6_0242ac1c0002row4_col10,#T_e4e28e80_55be_11eb_abc6_0242ac1c0002row4_col11,#T_e4e28e80_55be_11eb_abc6_0242ac1c0002row4_col12,#T_e4e28e80_55be_11eb_abc6_0242ac1c0002row4_col13,#T_e4e28e80_55be_11eb_abc6_0242ac1c0002row4_col14,#T_e4e28e80_55be_11eb_abc6_0242ac1c0002row4_col15,#T_e4e28e80_55be_11eb_abc6_0242ac1c0002row4_col16,#T_e4e28e80_55be_11eb_abc6_0242ac1c0002row4_col17,#T_e4e28e80_55be_11eb_abc6_0242ac1c0002row4_col18,#T_e4e28e80_55be_11eb_abc6_0242ac1c0002row4_col19,#T_e4e28e80_55be_11eb_abc6_0242ac1c0002row4_col20,#T_e4e28e80_55be_11eb_abc6_0242ac1c0002row4_col21,#T_e4e28e80_55be_11eb_abc6_0242ac1c0002row4_col22,#T_e4e28e80_55be_11eb_abc6_0242ac1c0002row4_col23,#T_e4e28e80_55be_11eb_abc6_0242ac1c0002row4_col24,#T_e4e28e80_55be_11eb_abc6_0242ac1c0002row4_col25,#T_e4e28e80_55be_11eb_abc6_0242ac1c0002row4_col26,#T_e4e28e80_55be_11eb_abc6_0242ac1c0002row4_col27,#T_e4e28e80_55be_11eb_abc6_0242ac1c0002row5_col0,#T_e4e28e80_55be_11eb_abc6_0242ac1c0002row5_col1,#T_e4e28e80_55be_11eb_abc6_0242ac1c0002row5_col2,#T_e4e28e80_55be_11eb_abc6_0242ac1c0002row5_col3,#T_e4e28e80_55be_11eb_abc6_0242ac1c0002row5_col4,#T_e4e28e80_55be_11eb_abc6_0242ac1c0002row5_col5,#T_e4e28e80_55be_11eb_abc6_0242ac1c0002row5_col6,#T_e4e28e80_55be_11eb_abc6_0242ac1c0002row5_col7,#T_e4e28e80_55be_11eb_abc6_0242ac1c0002row5_col8,#T_e4e28e80_55be_11eb_abc6_0242ac1c0002row5_col9,#T_e4e28e80_55be_11eb_abc6_0242ac1c0002row5_col20,#T_e4e28e80_55be_11eb_abc6_0242ac1c0002row5_col21,#T_e4e28e80_55be_11eb_abc6_0242ac1c0002row5_col22,#T_e4e28e80_55be_11eb_abc6_0242ac1c0002row5_col23,#T_e4e28e80_55be_11eb_abc6_0242ac1c0002row5_col24,#T_e4e28e80_55be_11eb_abc6_0242ac1c0002row5_col25,#T_e4e28e80_55be_11eb_abc6_0242ac1c0002row5_col26,#T_e4e28e80_55be_11eb_abc6_0242ac1c0002row5_col27,#T_e4e28e80_55be_11eb_abc6_0242ac1c0002row6_col0,#T_e4e28e80_55be_11eb_abc6_0242ac1c0002row6_col1,#T_e4e28e80_55be_11eb_abc6_0242ac1c0002row6_col2,#T_e4e28e80_55be_11eb_abc6_0242ac1c0002row6_col3,#T_e4e28e80_55be_11eb_abc6_0242ac1c0002row6_col4,#T_e4e28e80_55be_11eb_abc6_0242ac1c0002row6_col5,#T_e4e28e80_55be_11eb_abc6_0242ac1c0002row6_col6,#T_e4e28e80_55be_11eb_abc6_0242ac1c0002row6_col7,#T_e4e28e80_55be_11eb_abc6_0242ac1c0002row6_col8,#T_e4e28e80_55be_11eb_abc6_0242ac1c0002row6_col21,#T_e4e28e80_55be_11eb_abc6_0242ac1c0002row6_col22,#T_e4e28e80_55be_11eb_abc6_0242ac1c0002row6_col23,#T_e4e28e80_55be_11eb_abc6_0242ac1c0002row6_col24,#T_e4e28e80_55be_11eb_abc6_0242ac1c0002row6_col25,#T_e4e28e80_55be_11eb_abc6_0242ac1c0002row6_col26,#T_e4e28e80_55be_11eb_abc6_0242ac1c0002row6_col27,#T_e4e28e80_55be_11eb_abc6_0242ac1c0002row7_col0,#T_e4e28e80_55be_11eb_abc6_0242ac1c0002row7_col1,#T_e4e28e80_55be_11eb_abc6_0242ac1c0002row7_col2,#T_e4e28e80_55be_11eb_abc6_0242ac1c0002row7_col3,#T_e4e28e80_55be_11eb_abc6_0242ac1c0002row7_col4,#T_e4e28e80_55be_11eb_abc6_0242ac1c0002row7_col5,#T_e4e28e80_55be_11eb_abc6_0242ac1c0002row7_col6,#T_e4e28e80_55be_11eb_abc6_0242ac1c0002row7_col7,#T_e4e28e80_55be_11eb_abc6_0242ac1c0002row7_col8,#T_e4e28e80_55be_11eb_abc6_0242ac1c0002row7_col21,#T_e4e28e80_55be_11eb_abc6_0242ac1c0002row7_col22,#T_e4e28e80_55be_11eb_abc6_0242ac1c0002row7_col23,#T_e4e28e80_55be_11eb_abc6_0242ac1c0002row7_col24,#T_e4e28e80_55be_11eb_abc6_0242ac1c0002row7_col25,#T_e4e28e80_55be_11eb_abc6_0242ac1c0002row7_col26,#T_e4e28e80_55be_11eb_abc6_0242ac1c0002row7_col27,#T_e4e28e80_55be_11eb_abc6_0242ac1c0002row8_col0,#T_e4e28e80_55be_11eb_abc6_0242ac1c0002row8_col1,#T_e4e28e80_55be_11eb_abc6_0242ac1c0002row8_col2,#T_e4e28e80_55be_11eb_abc6_0242ac1c0002row8_col3,#T_e4e28e80_55be_11eb_abc6_0242ac1c0002row8_col4,#T_e4e28e80_55be_11eb_abc6_0242ac1c0002row8_col5,#T_e4e28e80_55be_11eb_abc6_0242ac1c0002row8_col6,#T_e4e28e80_55be_11eb_abc6_0242ac1c0002row8_col7,#T_e4e28e80_55be_11eb_abc6_0242ac1c0002row8_col8,#T_e4e28e80_55be_11eb_abc6_0242ac1c0002row8_col21,#T_e4e28e80_55be_11eb_abc6_0242ac1c0002row8_col22,#T_e4e28e80_55be_11eb_abc6_0242ac1c0002row8_col23,#T_e4e28e80_55be_11eb_abc6_0242ac1c0002row8_col24,#T_e4e28e80_55be_11eb_abc6_0242ac1c0002row8_col25,#T_e4e28e80_55be_11eb_abc6_0242ac1c0002row8_col26,#T_e4e28e80_55be_11eb_abc6_0242ac1c0002row8_col27,#T_e4e28e80_55be_11eb_abc6_0242ac1c0002row9_col0,#T_e4e28e80_55be_11eb_abc6_0242ac1c0002row9_col1,#T_e4e28e80_55be_11eb_abc6_0242ac1c0002row9_col2,#T_e4e28e80_55be_11eb_abc6_0242ac1c0002row9_col3,#T_e4e28e80_55be_11eb_abc6_0242ac1c0002row9_col4,#T_e4e28e80_55be_11eb_abc6_0242ac1c0002row9_col5,#T_e4e28e80_55be_11eb_abc6_0242ac1c0002row9_col6,#T_e4e28e80_55be_11eb_abc6_0242ac1c0002row9_col7,#T_e4e28e80_55be_11eb_abc6_0242ac1c0002row9_col8,#T_e4e28e80_55be_11eb_abc6_0242ac1c0002row9_col12,#T_e4e28e80_55be_11eb_abc6_0242ac1c0002row9_col13,#T_e4e28e80_55be_11eb_abc6_0242ac1c0002row9_col14,#T_e4e28e80_55be_11eb_abc6_0242ac1c0002row9_col21,#T_e4e28e80_55be_11eb_abc6_0242ac1c0002row9_col22,#T_e4e28e80_55be_11eb_abc6_0242ac1c0002row9_col23,#T_e4e28e80_55be_11eb_abc6_0242ac1c0002row9_col24,#T_e4e28e80_55be_11eb_abc6_0242ac1c0002row9_col25,#T_e4e28e80_55be_11eb_abc6_0242ac1c0002row9_col26,#T_e4e28e80_55be_11eb_abc6_0242ac1c0002row9_col27,#T_e4e28e80_55be_11eb_abc6_0242ac1c0002row10_col0,#T_e4e28e80_55be_11eb_abc6_0242ac1c0002row10_col1,#T_e4e28e80_55be_11eb_abc6_0242ac1c0002row10_col2,#T_e4e28e80_55be_11eb_abc6_0242ac1c0002row10_col3,#T_e4e28e80_55be_11eb_abc6_0242ac1c0002row10_col4,#T_e4e28e80_55be_11eb_abc6_0242ac1c0002row10_col5,#T_e4e28e80_55be_11eb_abc6_0242ac1c0002row10_col6,#T_e4e28e80_55be_11eb_abc6_0242ac1c0002row10_col7,#T_e4e28e80_55be_11eb_abc6_0242ac1c0002row10_col8,#T_e4e28e80_55be_11eb_abc6_0242ac1c0002row10_col9,#T_e4e28e80_55be_11eb_abc6_0242ac1c0002row10_col10,#T_e4e28e80_55be_11eb_abc6_0242ac1c0002row10_col11,#T_e4e28e80_55be_11eb_abc6_0242ac1c0002row10_col12,#T_e4e28e80_55be_11eb_abc6_0242ac1c0002row10_col13,#T_e4e28e80_55be_11eb_abc6_0242ac1c0002row10_col21,#T_e4e28e80_55be_11eb_abc6_0242ac1c0002row10_col22,#T_e4e28e80_55be_11eb_abc6_0242ac1c0002row10_col23,#T_e4e28e80_55be_11eb_abc6_0242ac1c0002row10_col24,#T_e4e28e80_55be_11eb_abc6_0242ac1c0002row10_col25,#T_e4e28e80_55be_11eb_abc6_0242ac1c0002row10_col26,#T_e4e28e80_55be_11eb_abc6_0242ac1c0002row10_col27,#T_e4e28e80_55be_11eb_abc6_0242ac1c0002row11_col0,#T_e4e28e80_55be_11eb_abc6_0242ac1c0002row11_col1,#T_e4e28e80_55be_11eb_abc6_0242ac1c0002row11_col2,#T_e4e28e80_55be_11eb_abc6_0242ac1c0002row11_col3,#T_e4e28e80_55be_11eb_abc6_0242ac1c0002row11_col4,#T_e4e28e80_55be_11eb_abc6_0242ac1c0002row11_col5,#T_e4e28e80_55be_11eb_abc6_0242ac1c0002row11_col6,#T_e4e28e80_55be_11eb_abc6_0242ac1c0002row11_col7,#T_e4e28e80_55be_11eb_abc6_0242ac1c0002row11_col8,#T_e4e28e80_55be_11eb_abc6_0242ac1c0002row11_col9,#T_e4e28e80_55be_11eb_abc6_0242ac1c0002row11_col10,#T_e4e28e80_55be_11eb_abc6_0242ac1c0002row11_col11,#T_e4e28e80_55be_11eb_abc6_0242ac1c0002row11_col20,#T_e4e28e80_55be_11eb_abc6_0242ac1c0002row11_col21,#T_e4e28e80_55be_11eb_abc6_0242ac1c0002row11_col22,#T_e4e28e80_55be_11eb_abc6_0242ac1c0002row11_col23,#T_e4e28e80_55be_11eb_abc6_0242ac1c0002row11_col24,#T_e4e28e80_55be_11eb_abc6_0242ac1c0002row11_col25,#T_e4e28e80_55be_11eb_abc6_0242ac1c0002row11_col26,#T_e4e28e80_55be_11eb_abc6_0242ac1c0002row11_col27,#T_e4e28e80_55be_11eb_abc6_0242ac1c0002row12_col0,#T_e4e28e80_55be_11eb_abc6_0242ac1c0002row12_col1,#T_e4e28e80_55be_11eb_abc6_0242ac1c0002row12_col2,#T_e4e28e80_55be_11eb_abc6_0242ac1c0002row12_col3,#T_e4e28e80_55be_11eb_abc6_0242ac1c0002row12_col4,#T_e4e28e80_55be_11eb_abc6_0242ac1c0002row12_col5,#T_e4e28e80_55be_11eb_abc6_0242ac1c0002row12_col6,#T_e4e28e80_55be_11eb_abc6_0242ac1c0002row12_col7,#T_e4e28e80_55be_11eb_abc6_0242ac1c0002row12_col8,#T_e4e28e80_55be_11eb_abc6_0242ac1c0002row12_col9,#T_e4e28e80_55be_11eb_abc6_0242ac1c0002row12_col21,#T_e4e28e80_55be_11eb_abc6_0242ac1c0002row12_col22,#T_e4e28e80_55be_11eb_abc6_0242ac1c0002row12_col23,#T_e4e28e80_55be_11eb_abc6_0242ac1c0002row12_col24,#T_e4e28e80_55be_11eb_abc6_0242ac1c0002row12_col25,#T_e4e28e80_55be_11eb_abc6_0242ac1c0002row12_col26,#T_e4e28e80_55be_11eb_abc6_0242ac1c0002row12_col27,#T_e4e28e80_55be_11eb_abc6_0242ac1c0002row13_col0,#T_e4e28e80_55be_11eb_abc6_0242ac1c0002row13_col1,#T_e4e28e80_55be_11eb_abc6_0242ac1c0002row13_col2,#T_e4e28e80_55be_11eb_abc6_0242ac1c0002row13_col3,#T_e4e28e80_55be_11eb_abc6_0242ac1c0002row13_col4,#T_e4e28e80_55be_11eb_abc6_0242ac1c0002row13_col5,#T_e4e28e80_55be_11eb_abc6_0242ac1c0002row13_col6,#T_e4e28e80_55be_11eb_abc6_0242ac1c0002row13_col7,#T_e4e28e80_55be_11eb_abc6_0242ac1c0002row13_col8,#T_e4e28e80_55be_11eb_abc6_0242ac1c0002row13_col21,#T_e4e28e80_55be_11eb_abc6_0242ac1c0002row13_col22,#T_e4e28e80_55be_11eb_abc6_0242ac1c0002row13_col23,#T_e4e28e80_55be_11eb_abc6_0242ac1c0002row13_col24,#T_e4e28e80_55be_11eb_abc6_0242ac1c0002row13_col25,#T_e4e28e80_55be_11eb_abc6_0242ac1c0002row13_col26,#T_e4e28e80_55be_11eb_abc6_0242ac1c0002row13_col27,#T_e4e28e80_55be_11eb_abc6_0242ac1c0002row14_col0,#T_e4e28e80_55be_11eb_abc6_0242ac1c0002row14_col1,#T_e4e28e80_55be_11eb_abc6_0242ac1c0002row14_col2,#T_e4e28e80_55be_11eb_abc6_0242ac1c0002row14_col3,#T_e4e28e80_55be_11eb_abc6_0242ac1c0002row14_col4,#T_e4e28e80_55be_11eb_abc6_0242ac1c0002row14_col5,#T_e4e28e80_55be_11eb_abc6_0242ac1c0002row14_col6,#T_e4e28e80_55be_11eb_abc6_0242ac1c0002row14_col7,#T_e4e28e80_55be_11eb_abc6_0242ac1c0002row14_col8,#T_e4e28e80_55be_11eb_abc6_0242ac1c0002row14_col22,#T_e4e28e80_55be_11eb_abc6_0242ac1c0002row14_col23,#T_e4e28e80_55be_11eb_abc6_0242ac1c0002row14_col24,#T_e4e28e80_55be_11eb_abc6_0242ac1c0002row14_col25,#T_e4e28e80_55be_11eb_abc6_0242ac1c0002row14_col26,#T_e4e28e80_55be_11eb_abc6_0242ac1c0002row14_col27,#T_e4e28e80_55be_11eb_abc6_0242ac1c0002row15_col0,#T_e4e28e80_55be_11eb_abc6_0242ac1c0002row15_col1,#T_e4e28e80_55be_11eb_abc6_0242ac1c0002row15_col2,#T_e4e28e80_55be_11eb_abc6_0242ac1c0002row15_col3,#T_e4e28e80_55be_11eb_abc6_0242ac1c0002row15_col4,#T_e4e28e80_55be_11eb_abc6_0242ac1c0002row15_col5,#T_e4e28e80_55be_11eb_abc6_0242ac1c0002row15_col6,#T_e4e28e80_55be_11eb_abc6_0242ac1c0002row15_col7,#T_e4e28e80_55be_11eb_abc6_0242ac1c0002row15_col8,#T_e4e28e80_55be_11eb_abc6_0242ac1c0002row15_col16,#T_e4e28e80_55be_11eb_abc6_0242ac1c0002row15_col17,#T_e4e28e80_55be_11eb_abc6_0242ac1c0002row15_col22,#T_e4e28e80_55be_11eb_abc6_0242ac1c0002row15_col23,#T_e4e28e80_55be_11eb_abc6_0242ac1c0002row15_col24,#T_e4e28e80_55be_11eb_abc6_0242ac1c0002row15_col25,#T_e4e28e80_55be_11eb_abc6_0242ac1c0002row15_col26,#T_e4e28e80_55be_11eb_abc6_0242ac1c0002row15_col27,#T_e4e28e80_55be_11eb_abc6_0242ac1c0002row16_col0,#T_e4e28e80_55be_11eb_abc6_0242ac1c0002row16_col1,#T_e4e28e80_55be_11eb_abc6_0242ac1c0002row16_col2,#T_e4e28e80_55be_11eb_abc6_0242ac1c0002row16_col3,#T_e4e28e80_55be_11eb_abc6_0242ac1c0002row16_col4,#T_e4e28e80_55be_11eb_abc6_0242ac1c0002row16_col5,#T_e4e28e80_55be_11eb_abc6_0242ac1c0002row16_col6,#T_e4e28e80_55be_11eb_abc6_0242ac1c0002row16_col7,#T_e4e28e80_55be_11eb_abc6_0242ac1c0002row16_col8,#T_e4e28e80_55be_11eb_abc6_0242ac1c0002row16_col14,#T_e4e28e80_55be_11eb_abc6_0242ac1c0002row16_col15,#T_e4e28e80_55be_11eb_abc6_0242ac1c0002row16_col16,#T_e4e28e80_55be_11eb_abc6_0242ac1c0002row16_col22,#T_e4e28e80_55be_11eb_abc6_0242ac1c0002row16_col23,#T_e4e28e80_55be_11eb_abc6_0242ac1c0002row16_col24,#T_e4e28e80_55be_11eb_abc6_0242ac1c0002row16_col25,#T_e4e28e80_55be_11eb_abc6_0242ac1c0002row16_col26,#T_e4e28e80_55be_11eb_abc6_0242ac1c0002row16_col27,#T_e4e28e80_55be_11eb_abc6_0242ac1c0002row17_col0,#T_e4e28e80_55be_11eb_abc6_0242ac1c0002row17_col1,#T_e4e28e80_55be_11eb_abc6_0242ac1c0002row17_col2,#T_e4e28e80_55be_11eb_abc6_0242ac1c0002row17_col3,#T_e4e28e80_55be_11eb_abc6_0242ac1c0002row17_col4,#T_e4e28e80_55be_11eb_abc6_0242ac1c0002row17_col5,#T_e4e28e80_55be_11eb_abc6_0242ac1c0002row17_col6,#T_e4e28e80_55be_11eb_abc6_0242ac1c0002row17_col7,#T_e4e28e80_55be_11eb_abc6_0242ac1c0002row17_col8,#T_e4e28e80_55be_11eb_abc6_0242ac1c0002row17_col9,#T_e4e28e80_55be_11eb_abc6_0242ac1c0002row17_col12,#T_e4e28e80_55be_11eb_abc6_0242ac1c0002row17_col13,#T_e4e28e80_55be_11eb_abc6_0242ac1c0002row17_col14,#T_e4e28e80_55be_11eb_abc6_0242ac1c0002row17_col15,#T_e4e28e80_55be_11eb_abc6_0242ac1c0002row17_col16,#T_e4e28e80_55be_11eb_abc6_0242ac1c0002row17_col22,#T_e4e28e80_55be_11eb_abc6_0242ac1c0002row17_col23,#T_e4e28e80_55be_11eb_abc6_0242ac1c0002row17_col24,#T_e4e28e80_55be_11eb_abc6_0242ac1c0002row17_col25,#T_e4e28e80_55be_11eb_abc6_0242ac1c0002row17_col26,#T_e4e28e80_55be_11eb_abc6_0242ac1c0002row17_col27,#T_e4e28e80_55be_11eb_abc6_0242ac1c0002row18_col0,#T_e4e28e80_55be_11eb_abc6_0242ac1c0002row18_col1,#T_e4e28e80_55be_11eb_abc6_0242ac1c0002row18_col2,#T_e4e28e80_55be_11eb_abc6_0242ac1c0002row18_col3,#T_e4e28e80_55be_11eb_abc6_0242ac1c0002row18_col4,#T_e4e28e80_55be_11eb_abc6_0242ac1c0002row18_col5,#T_e4e28e80_55be_11eb_abc6_0242ac1c0002row18_col6,#T_e4e28e80_55be_11eb_abc6_0242ac1c0002row18_col7,#T_e4e28e80_55be_11eb_abc6_0242ac1c0002row18_col8,#T_e4e28e80_55be_11eb_abc6_0242ac1c0002row18_col9,#T_e4e28e80_55be_11eb_abc6_0242ac1c0002row18_col10,#T_e4e28e80_55be_11eb_abc6_0242ac1c0002row18_col11,#T_e4e28e80_55be_11eb_abc6_0242ac1c0002row18_col12,#T_e4e28e80_55be_11eb_abc6_0242ac1c0002row18_col13,#T_e4e28e80_55be_11eb_abc6_0242ac1c0002row18_col14,#T_e4e28e80_55be_11eb_abc6_0242ac1c0002row18_col21,#T_e4e28e80_55be_11eb_abc6_0242ac1c0002row18_col22,#T_e4e28e80_55be_11eb_abc6_0242ac1c0002row18_col23,#T_e4e28e80_55be_11eb_abc6_0242ac1c0002row18_col24,#T_e4e28e80_55be_11eb_abc6_0242ac1c0002row18_col25,#T_e4e28e80_55be_11eb_abc6_0242ac1c0002row18_col26,#T_e4e28e80_55be_11eb_abc6_0242ac1c0002row18_col27,#T_e4e28e80_55be_11eb_abc6_0242ac1c0002row19_col0,#T_e4e28e80_55be_11eb_abc6_0242ac1c0002row19_col1,#T_e4e28e80_55be_11eb_abc6_0242ac1c0002row19_col2,#T_e4e28e80_55be_11eb_abc6_0242ac1c0002row19_col3,#T_e4e28e80_55be_11eb_abc6_0242ac1c0002row19_col4,#T_e4e28e80_55be_11eb_abc6_0242ac1c0002row19_col5,#T_e4e28e80_55be_11eb_abc6_0242ac1c0002row19_col6,#T_e4e28e80_55be_11eb_abc6_0242ac1c0002row19_col7,#T_e4e28e80_55be_11eb_abc6_0242ac1c0002row19_col8,#T_e4e28e80_55be_11eb_abc6_0242ac1c0002row19_col9,#T_e4e28e80_55be_11eb_abc6_0242ac1c0002row19_col10,#T_e4e28e80_55be_11eb_abc6_0242ac1c0002row19_col11,#T_e4e28e80_55be_11eb_abc6_0242ac1c0002row19_col12,#T_e4e28e80_55be_11eb_abc6_0242ac1c0002row19_col13,#T_e4e28e80_55be_11eb_abc6_0242ac1c0002row19_col14,#T_e4e28e80_55be_11eb_abc6_0242ac1c0002row19_col20,#T_e4e28e80_55be_11eb_abc6_0242ac1c0002row19_col21,#T_e4e28e80_55be_11eb_abc6_0242ac1c0002row19_col22,#T_e4e28e80_55be_11eb_abc6_0242ac1c0002row19_col23,#T_e4e28e80_55be_11eb_abc6_0242ac1c0002row19_col24,#T_e4e28e80_55be_11eb_abc6_0242ac1c0002row19_col25,#T_e4e28e80_55be_11eb_abc6_0242ac1c0002row19_col26,#T_e4e28e80_55be_11eb_abc6_0242ac1c0002row19_col27,#T_e4e28e80_55be_11eb_abc6_0242ac1c0002row20_col0,#T_e4e28e80_55be_11eb_abc6_0242ac1c0002row20_col1,#T_e4e28e80_55be_11eb_abc6_0242ac1c0002row20_col2,#T_e4e28e80_55be_11eb_abc6_0242ac1c0002row20_col3,#T_e4e28e80_55be_11eb_abc6_0242ac1c0002row20_col4,#T_e4e28e80_55be_11eb_abc6_0242ac1c0002row20_col5,#T_e4e28e80_55be_11eb_abc6_0242ac1c0002row20_col8,#T_e4e28e80_55be_11eb_abc6_0242ac1c0002row20_col9,#T_e4e28e80_55be_11eb_abc6_0242ac1c0002row20_col10,#T_e4e28e80_55be_11eb_abc6_0242ac1c0002row20_col11,#T_e4e28e80_55be_11eb_abc6_0242ac1c0002row20_col19,#T_e4e28e80_55be_11eb_abc6_0242ac1c0002row20_col20,#T_e4e28e80_55be_11eb_abc6_0242ac1c0002row20_col21,#T_e4e28e80_55be_11eb_abc6_0242ac1c0002row20_col22,#T_e4e28e80_55be_11eb_abc6_0242ac1c0002row20_col23,#T_e4e28e80_55be_11eb_abc6_0242ac1c0002row20_col24,#T_e4e28e80_55be_11eb_abc6_0242ac1c0002row20_col25,#T_e4e28e80_55be_11eb_abc6_0242ac1c0002row20_col26,#T_e4e28e80_55be_11eb_abc6_0242ac1c0002row20_col27,#T_e4e28e80_55be_11eb_abc6_0242ac1c0002row21_col0,#T_e4e28e80_55be_11eb_abc6_0242ac1c0002row21_col1,#T_e4e28e80_55be_11eb_abc6_0242ac1c0002row21_col2,#T_e4e28e80_55be_11eb_abc6_0242ac1c0002row21_col3,#T_e4e28e80_55be_11eb_abc6_0242ac1c0002row21_col4,#T_e4e28e80_55be_11eb_abc6_0242ac1c0002row21_col5,#T_e4e28e80_55be_11eb_abc6_0242ac1c0002row21_col18,#T_e4e28e80_55be_11eb_abc6_0242ac1c0002row21_col19,#T_e4e28e80_55be_11eb_abc6_0242ac1c0002row21_col20,#T_e4e28e80_55be_11eb_abc6_0242ac1c0002row21_col21,#T_e4e28e80_55be_11eb_abc6_0242ac1c0002row21_col22,#T_e4e28e80_55be_11eb_abc6_0242ac1c0002row21_col23,#T_e4e28e80_55be_11eb_abc6_0242ac1c0002row21_col24,#T_e4e28e80_55be_11eb_abc6_0242ac1c0002row21_col25,#T_e4e28e80_55be_11eb_abc6_0242ac1c0002row21_col26,#T_e4e28e80_55be_11eb_abc6_0242ac1c0002row21_col27,#T_e4e28e80_55be_11eb_abc6_0242ac1c0002row22_col0,#T_e4e28e80_55be_11eb_abc6_0242ac1c0002row22_col1,#T_e4e28e80_55be_11eb_abc6_0242ac1c0002row22_col2,#T_e4e28e80_55be_11eb_abc6_0242ac1c0002row22_col3,#T_e4e28e80_55be_11eb_abc6_0242ac1c0002row22_col4,#T_e4e28e80_55be_11eb_abc6_0242ac1c0002row22_col5,#T_e4e28e80_55be_11eb_abc6_0242ac1c0002row22_col17,#T_e4e28e80_55be_11eb_abc6_0242ac1c0002row22_col18,#T_e4e28e80_55be_11eb_abc6_0242ac1c0002row22_col19,#T_e4e28e80_55be_11eb_abc6_0242ac1c0002row22_col20,#T_e4e28e80_55be_11eb_abc6_0242ac1c0002row22_col21,#T_e4e28e80_55be_11eb_abc6_0242ac1c0002row22_col22,#T_e4e28e80_55be_11eb_abc6_0242ac1c0002row22_col23,#T_e4e28e80_55be_11eb_abc6_0242ac1c0002row22_col24,#T_e4e28e80_55be_11eb_abc6_0242ac1c0002row22_col25,#T_e4e28e80_55be_11eb_abc6_0242ac1c0002row22_col26,#T_e4e28e80_55be_11eb_abc6_0242ac1c0002row22_col27,#T_e4e28e80_55be_11eb_abc6_0242ac1c0002row23_col0,#T_e4e28e80_55be_11eb_abc6_0242ac1c0002row23_col1,#T_e4e28e80_55be_11eb_abc6_0242ac1c0002row23_col2,#T_e4e28e80_55be_11eb_abc6_0242ac1c0002row23_col3,#T_e4e28e80_55be_11eb_abc6_0242ac1c0002row23_col4,#T_e4e28e80_55be_11eb_abc6_0242ac1c0002row23_col5,#T_e4e28e80_55be_11eb_abc6_0242ac1c0002row23_col6,#T_e4e28e80_55be_11eb_abc6_0242ac1c0002row23_col16,#T_e4e28e80_55be_11eb_abc6_0242ac1c0002row23_col17,#T_e4e28e80_55be_11eb_abc6_0242ac1c0002row23_col18,#T_e4e28e80_55be_11eb_abc6_0242ac1c0002row23_col19,#T_e4e28e80_55be_11eb_abc6_0242ac1c0002row23_col20,#T_e4e28e80_55be_11eb_abc6_0242ac1c0002row23_col21,#T_e4e28e80_55be_11eb_abc6_0242ac1c0002row23_col22,#T_e4e28e80_55be_11eb_abc6_0242ac1c0002row23_col23,#T_e4e28e80_55be_11eb_abc6_0242ac1c0002row23_col24,#T_e4e28e80_55be_11eb_abc6_0242ac1c0002row23_col25,#T_e4e28e80_55be_11eb_abc6_0242ac1c0002row23_col26,#T_e4e28e80_55be_11eb_abc6_0242ac1c0002row23_col27,#T_e4e28e80_55be_11eb_abc6_0242ac1c0002row24_col0,#T_e4e28e80_55be_11eb_abc6_0242ac1c0002row24_col1,#T_e4e28e80_55be_11eb_abc6_0242ac1c0002row24_col2,#T_e4e28e80_55be_11eb_abc6_0242ac1c0002row24_col3,#T_e4e28e80_55be_11eb_abc6_0242ac1c0002row24_col4,#T_e4e28e80_55be_11eb_abc6_0242ac1c0002row24_col5,#T_e4e28e80_55be_11eb_abc6_0242ac1c0002row24_col6,#T_e4e28e80_55be_11eb_abc6_0242ac1c0002row24_col7,#T_e4e28e80_55be_11eb_abc6_0242ac1c0002row24_col13,#T_e4e28e80_55be_11eb_abc6_0242ac1c0002row24_col14,#T_e4e28e80_55be_11eb_abc6_0242ac1c0002row24_col15,#T_e4e28e80_55be_11eb_abc6_0242ac1c0002row24_col16,#T_e4e28e80_55be_11eb_abc6_0242ac1c0002row24_col17,#T_e4e28e80_55be_11eb_abc6_0242ac1c0002row24_col18,#T_e4e28e80_55be_11eb_abc6_0242ac1c0002row24_col19,#T_e4e28e80_55be_11eb_abc6_0242ac1c0002row24_col20,#T_e4e28e80_55be_11eb_abc6_0242ac1c0002row24_col21,#T_e4e28e80_55be_11eb_abc6_0242ac1c0002row24_col22,#T_e4e28e80_55be_11eb_abc6_0242ac1c0002row24_col23,#T_e4e28e80_55be_11eb_abc6_0242ac1c0002row24_col24,#T_e4e28e80_55be_11eb_abc6_0242ac1c0002row24_col25,#T_e4e28e80_55be_11eb_abc6_0242ac1c0002row24_col26,#T_e4e28e80_55be_11eb_abc6_0242ac1c0002row24_col27,#T_e4e28e80_55be_11eb_abc6_0242ac1c0002row25_col0,#T_e4e28e80_55be_11eb_abc6_0242ac1c0002row25_col1,#T_e4e28e80_55be_11eb_abc6_0242ac1c0002row25_col2,#T_e4e28e80_55be_11eb_abc6_0242ac1c0002row25_col3,#T_e4e28e80_55be_11eb_abc6_0242ac1c0002row25_col4,#T_e4e28e80_55be_11eb_abc6_0242ac1c0002row25_col5,#T_e4e28e80_55be_11eb_abc6_0242ac1c0002row25_col6,#T_e4e28e80_55be_11eb_abc6_0242ac1c0002row25_col7,#T_e4e28e80_55be_11eb_abc6_0242ac1c0002row25_col8,#T_e4e28e80_55be_11eb_abc6_0242ac1c0002row25_col9,#T_e4e28e80_55be_11eb_abc6_0242ac1c0002row25_col10,#T_e4e28e80_55be_11eb_abc6_0242ac1c0002row25_col11,#T_e4e28e80_55be_11eb_abc6_0242ac1c0002row25_col12,#T_e4e28e80_55be_11eb_abc6_0242ac1c0002row25_col13,#T_e4e28e80_55be_11eb_abc6_0242ac1c0002row25_col14,#T_e4e28e80_55be_11eb_abc6_0242ac1c0002row25_col15,#T_e4e28e80_55be_11eb_abc6_0242ac1c0002row25_col16,#T_e4e28e80_55be_11eb_abc6_0242ac1c0002row25_col17,#T_e4e28e80_55be_11eb_abc6_0242ac1c0002row25_col18,#T_e4e28e80_55be_11eb_abc6_0242ac1c0002row25_col19,#T_e4e28e80_55be_11eb_abc6_0242ac1c0002row25_col20,#T_e4e28e80_55be_11eb_abc6_0242ac1c0002row25_col21,#T_e4e28e80_55be_11eb_abc6_0242ac1c0002row25_col22,#T_e4e28e80_55be_11eb_abc6_0242ac1c0002row25_col23,#T_e4e28e80_55be_11eb_abc6_0242ac1c0002row25_col24,#T_e4e28e80_55be_11eb_abc6_0242ac1c0002row25_col25,#T_e4e28e80_55be_11eb_abc6_0242ac1c0002row25_col26,#T_e4e28e80_55be_11eb_abc6_0242ac1c0002row25_col27,#T_e4e28e80_55be_11eb_abc6_0242ac1c0002row26_col0,#T_e4e28e80_55be_11eb_abc6_0242ac1c0002row26_col1,#T_e4e28e80_55be_11eb_abc6_0242ac1c0002row26_col2,#T_e4e28e80_55be_11eb_abc6_0242ac1c0002row26_col3,#T_e4e28e80_55be_11eb_abc6_0242ac1c0002row26_col4,#T_e4e28e80_55be_11eb_abc6_0242ac1c0002row26_col5,#T_e4e28e80_55be_11eb_abc6_0242ac1c0002row26_col6,#T_e4e28e80_55be_11eb_abc6_0242ac1c0002row26_col7,#T_e4e28e80_55be_11eb_abc6_0242ac1c0002row26_col8,#T_e4e28e80_55be_11eb_abc6_0242ac1c0002row26_col9,#T_e4e28e80_55be_11eb_abc6_0242ac1c0002row26_col10,#T_e4e28e80_55be_11eb_abc6_0242ac1c0002row26_col11,#T_e4e28e80_55be_11eb_abc6_0242ac1c0002row26_col12,#T_e4e28e80_55be_11eb_abc6_0242ac1c0002row26_col13,#T_e4e28e80_55be_11eb_abc6_0242ac1c0002row26_col14,#T_e4e28e80_55be_11eb_abc6_0242ac1c0002row26_col15,#T_e4e28e80_55be_11eb_abc6_0242ac1c0002row26_col16,#T_e4e28e80_55be_11eb_abc6_0242ac1c0002row26_col17,#T_e4e28e80_55be_11eb_abc6_0242ac1c0002row26_col18,#T_e4e28e80_55be_11eb_abc6_0242ac1c0002row26_col19,#T_e4e28e80_55be_11eb_abc6_0242ac1c0002row26_col20,#T_e4e28e80_55be_11eb_abc6_0242ac1c0002row26_col21,#T_e4e28e80_55be_11eb_abc6_0242ac1c0002row26_col22,#T_e4e28e80_55be_11eb_abc6_0242ac1c0002row26_col23,#T_e4e28e80_55be_11eb_abc6_0242ac1c0002row26_col24,#T_e4e28e80_55be_11eb_abc6_0242ac1c0002row26_col25,#T_e4e28e80_55be_11eb_abc6_0242ac1c0002row26_col26,#T_e4e28e80_55be_11eb_abc6_0242ac1c0002row26_col27,#T_e4e28e80_55be_11eb_abc6_0242ac1c0002row27_col0,#T_e4e28e80_55be_11eb_abc6_0242ac1c0002row27_col1,#T_e4e28e80_55be_11eb_abc6_0242ac1c0002row27_col2,#T_e4e28e80_55be_11eb_abc6_0242ac1c0002row27_col3,#T_e4e28e80_55be_11eb_abc6_0242ac1c0002row27_col4,#T_e4e28e80_55be_11eb_abc6_0242ac1c0002row27_col5,#T_e4e28e80_55be_11eb_abc6_0242ac1c0002row27_col6,#T_e4e28e80_55be_11eb_abc6_0242ac1c0002row27_col7,#T_e4e28e80_55be_11eb_abc6_0242ac1c0002row27_col8,#T_e4e28e80_55be_11eb_abc6_0242ac1c0002row27_col9,#T_e4e28e80_55be_11eb_abc6_0242ac1c0002row27_col10,#T_e4e28e80_55be_11eb_abc6_0242ac1c0002row27_col11,#T_e4e28e80_55be_11eb_abc6_0242ac1c0002row27_col12,#T_e4e28e80_55be_11eb_abc6_0242ac1c0002row27_col13,#T_e4e28e80_55be_11eb_abc6_0242ac1c0002row27_col14,#T_e4e28e80_55be_11eb_abc6_0242ac1c0002row27_col15,#T_e4e28e80_55be_11eb_abc6_0242ac1c0002row27_col16,#T_e4e28e80_55be_11eb_abc6_0242ac1c0002row27_col17,#T_e4e28e80_55be_11eb_abc6_0242ac1c0002row27_col18,#T_e4e28e80_55be_11eb_abc6_0242ac1c0002row27_col19,#T_e4e28e80_55be_11eb_abc6_0242ac1c0002row27_col20,#T_e4e28e80_55be_11eb_abc6_0242ac1c0002row27_col21,#T_e4e28e80_55be_11eb_abc6_0242ac1c0002row27_col22,#T_e4e28e80_55be_11eb_abc6_0242ac1c0002row27_col23,#T_e4e28e80_55be_11eb_abc6_0242ac1c0002row27_col24,#T_e4e28e80_55be_11eb_abc6_0242ac1c0002row27_col25,#T_e4e28e80_55be_11eb_abc6_0242ac1c0002row27_col26,#T_e4e28e80_55be_11eb_abc6_0242ac1c0002row27_col27{\n",
              "            font-size:  6pt;\n",
              "            background-color:  #fff7fb;\n",
              "            color:  #000000;\n",
              "        }#T_e4e28e80_55be_11eb_abc6_0242ac1c0002row5_col10{\n",
              "            font-size:  6pt;\n",
              "            background-color:  #97b7d7;\n",
              "            color:  #000000;\n",
              "        }#T_e4e28e80_55be_11eb_abc6_0242ac1c0002row5_col11,#T_e4e28e80_55be_11eb_abc6_0242ac1c0002row5_col12,#T_e4e28e80_55be_11eb_abc6_0242ac1c0002row5_col13,#T_e4e28e80_55be_11eb_abc6_0242ac1c0002row5_col14,#T_e4e28e80_55be_11eb_abc6_0242ac1c0002row5_col15,#T_e4e28e80_55be_11eb_abc6_0242ac1c0002row5_col16,#T_e4e28e80_55be_11eb_abc6_0242ac1c0002row5_col17,#T_e4e28e80_55be_11eb_abc6_0242ac1c0002row6_col18,#T_e4e28e80_55be_11eb_abc6_0242ac1c0002row7_col18,#T_e4e28e80_55be_11eb_abc6_0242ac1c0002row8_col18,#T_e4e28e80_55be_11eb_abc6_0242ac1c0002row9_col18,#T_e4e28e80_55be_11eb_abc6_0242ac1c0002row10_col18,#T_e4e28e80_55be_11eb_abc6_0242ac1c0002row13_col18,#T_e4e28e80_55be_11eb_abc6_0242ac1c0002row15_col10,#T_e4e28e80_55be_11eb_abc6_0242ac1c0002row15_col11,#T_e4e28e80_55be_11eb_abc6_0242ac1c0002row15_col12,#T_e4e28e80_55be_11eb_abc6_0242ac1c0002row15_col13,#T_e4e28e80_55be_11eb_abc6_0242ac1c0002row15_col19,#T_e4e28e80_55be_11eb_abc6_0242ac1c0002row15_col20,#T_e4e28e80_55be_11eb_abc6_0242ac1c0002row15_col21,#T_e4e28e80_55be_11eb_abc6_0242ac1c0002row16_col21,#T_e4e28e80_55be_11eb_abc6_0242ac1c0002row17_col18,#T_e4e28e80_55be_11eb_abc6_0242ac1c0002row18_col18,#T_e4e28e80_55be_11eb_abc6_0242ac1c0002row21_col6,#T_e4e28e80_55be_11eb_abc6_0242ac1c0002row22_col7,#T_e4e28e80_55be_11eb_abc6_0242ac1c0002row22_col8,#T_e4e28e80_55be_11eb_abc6_0242ac1c0002row23_col9{\n",
              "            font-size:  6pt;\n",
              "            background-color:  #023858;\n",
              "            color:  #f1f1f1;\n",
              "        }#T_e4e28e80_55be_11eb_abc6_0242ac1c0002row5_col18,#T_e4e28e80_55be_11eb_abc6_0242ac1c0002row8_col17{\n",
              "            font-size:  6pt;\n",
              "            background-color:  #045b8f;\n",
              "            color:  #f1f1f1;\n",
              "        }#T_e4e28e80_55be_11eb_abc6_0242ac1c0002row5_col19{\n",
              "            font-size:  6pt;\n",
              "            background-color:  #ece7f2;\n",
              "            color:  #000000;\n",
              "        }#T_e4e28e80_55be_11eb_abc6_0242ac1c0002row6_col9{\n",
              "            font-size:  6pt;\n",
              "            background-color:  #167bb6;\n",
              "            color:  #000000;\n",
              "        }#T_e4e28e80_55be_11eb_abc6_0242ac1c0002row6_col10{\n",
              "            font-size:  6pt;\n",
              "            background-color:  #023d60;\n",
              "            color:  #f1f1f1;\n",
              "        }#T_e4e28e80_55be_11eb_abc6_0242ac1c0002row6_col11,#T_e4e28e80_55be_11eb_abc6_0242ac1c0002row6_col12,#T_e4e28e80_55be_11eb_abc6_0242ac1c0002row6_col13,#T_e4e28e80_55be_11eb_abc6_0242ac1c0002row6_col15,#T_e4e28e80_55be_11eb_abc6_0242ac1c0002row6_col16,#T_e4e28e80_55be_11eb_abc6_0242ac1c0002row6_col17,#T_e4e28e80_55be_11eb_abc6_0242ac1c0002row7_col10,#T_e4e28e80_55be_11eb_abc6_0242ac1c0002row7_col11,#T_e4e28e80_55be_11eb_abc6_0242ac1c0002row7_col12,#T_e4e28e80_55be_11eb_abc6_0242ac1c0002row7_col13,#T_e4e28e80_55be_11eb_abc6_0242ac1c0002row7_col15,#T_e4e28e80_55be_11eb_abc6_0242ac1c0002row7_col16,#T_e4e28e80_55be_11eb_abc6_0242ac1c0002row7_col17,#T_e4e28e80_55be_11eb_abc6_0242ac1c0002row7_col19,#T_e4e28e80_55be_11eb_abc6_0242ac1c0002row8_col10,#T_e4e28e80_55be_11eb_abc6_0242ac1c0002row8_col19,#T_e4e28e80_55be_11eb_abc6_0242ac1c0002row9_col19,#T_e4e28e80_55be_11eb_abc6_0242ac1c0002row10_col16,#T_e4e28e80_55be_11eb_abc6_0242ac1c0002row10_col17,#T_e4e28e80_55be_11eb_abc6_0242ac1c0002row11_col15,#T_e4e28e80_55be_11eb_abc6_0242ac1c0002row11_col16,#T_e4e28e80_55be_11eb_abc6_0242ac1c0002row11_col17,#T_e4e28e80_55be_11eb_abc6_0242ac1c0002row12_col13,#T_e4e28e80_55be_11eb_abc6_0242ac1c0002row12_col15,#T_e4e28e80_55be_11eb_abc6_0242ac1c0002row12_col16,#T_e4e28e80_55be_11eb_abc6_0242ac1c0002row12_col17,#T_e4e28e80_55be_11eb_abc6_0242ac1c0002row13_col11,#T_e4e28e80_55be_11eb_abc6_0242ac1c0002row13_col12,#T_e4e28e80_55be_11eb_abc6_0242ac1c0002row13_col13,#T_e4e28e80_55be_11eb_abc6_0242ac1c0002row13_col15,#T_e4e28e80_55be_11eb_abc6_0242ac1c0002row13_col16,#T_e4e28e80_55be_11eb_abc6_0242ac1c0002row13_col17,#T_e4e28e80_55be_11eb_abc6_0242ac1c0002row13_col19,#T_e4e28e80_55be_11eb_abc6_0242ac1c0002row14_col10,#T_e4e28e80_55be_11eb_abc6_0242ac1c0002row14_col11,#T_e4e28e80_55be_11eb_abc6_0242ac1c0002row14_col12,#T_e4e28e80_55be_11eb_abc6_0242ac1c0002row14_col13,#T_e4e28e80_55be_11eb_abc6_0242ac1c0002row14_col15,#T_e4e28e80_55be_11eb_abc6_0242ac1c0002row14_col16,#T_e4e28e80_55be_11eb_abc6_0242ac1c0002row14_col19,#T_e4e28e80_55be_11eb_abc6_0242ac1c0002row16_col19,#T_e4e28e80_55be_11eb_abc6_0242ac1c0002row16_col20,#T_e4e28e80_55be_11eb_abc6_0242ac1c0002row17_col19,#T_e4e28e80_55be_11eb_abc6_0242ac1c0002row19_col16,#T_e4e28e80_55be_11eb_abc6_0242ac1c0002row19_col17,#T_e4e28e80_55be_11eb_abc6_0242ac1c0002row20_col16,#T_e4e28e80_55be_11eb_abc6_0242ac1c0002row21_col13,#T_e4e28e80_55be_11eb_abc6_0242ac1c0002row21_col15,#T_e4e28e80_55be_11eb_abc6_0242ac1c0002row22_col11,#T_e4e28e80_55be_11eb_abc6_0242ac1c0002row22_col12,#T_e4e28e80_55be_11eb_abc6_0242ac1c0002row22_col13,#T_e4e28e80_55be_11eb_abc6_0242ac1c0002row23_col10,#T_e4e28e80_55be_11eb_abc6_0242ac1c0002row23_col11,#T_e4e28e80_55be_11eb_abc6_0242ac1c0002row24_col10{\n",
              "            font-size:  6pt;\n",
              "            background-color:  #02395a;\n",
              "            color:  #f1f1f1;\n",
              "        }#T_e4e28e80_55be_11eb_abc6_0242ac1c0002row6_col14,#T_e4e28e80_55be_11eb_abc6_0242ac1c0002row7_col14,#T_e4e28e80_55be_11eb_abc6_0242ac1c0002row11_col14,#T_e4e28e80_55be_11eb_abc6_0242ac1c0002row12_col14,#T_e4e28e80_55be_11eb_abc6_0242ac1c0002row13_col14,#T_e4e28e80_55be_11eb_abc6_0242ac1c0002row14_col14,#T_e4e28e80_55be_11eb_abc6_0242ac1c0002row21_col14,#T_e4e28e80_55be_11eb_abc6_0242ac1c0002row22_col14,#T_e4e28e80_55be_11eb_abc6_0242ac1c0002row23_col12{\n",
              "            font-size:  6pt;\n",
              "            background-color:  #023a5b;\n",
              "            color:  #f1f1f1;\n",
              "        }#T_e4e28e80_55be_11eb_abc6_0242ac1c0002row6_col19{\n",
              "            font-size:  6pt;\n",
              "            background-color:  #045e94;\n",
              "            color:  #f1f1f1;\n",
              "        }#T_e4e28e80_55be_11eb_abc6_0242ac1c0002row6_col20,#T_e4e28e80_55be_11eb_abc6_0242ac1c0002row16_col17,#T_e4e28e80_55be_11eb_abc6_0242ac1c0002row18_col15{\n",
              "            font-size:  6pt;\n",
              "            background-color:  #eae6f1;\n",
              "            color:  #000000;\n",
              "        }#T_e4e28e80_55be_11eb_abc6_0242ac1c0002row7_col9,#T_e4e28e80_55be_11eb_abc6_0242ac1c0002row8_col9,#T_e4e28e80_55be_11eb_abc6_0242ac1c0002row14_col9{\n",
              "            font-size:  6pt;\n",
              "            background-color:  #0a73b2;\n",
              "            color:  #f1f1f1;\n",
              "        }#T_e4e28e80_55be_11eb_abc6_0242ac1c0002row7_col20,#T_e4e28e80_55be_11eb_abc6_0242ac1c0002row8_col20,#T_e4e28e80_55be_11eb_abc6_0242ac1c0002row9_col20{\n",
              "            font-size:  6pt;\n",
              "            background-color:  #bcc7e1;\n",
              "            color:  #000000;\n",
              "        }#T_e4e28e80_55be_11eb_abc6_0242ac1c0002row8_col11{\n",
              "            font-size:  6pt;\n",
              "            background-color:  #034369;\n",
              "            color:  #f1f1f1;\n",
              "        }#T_e4e28e80_55be_11eb_abc6_0242ac1c0002row8_col12,#T_e4e28e80_55be_11eb_abc6_0242ac1c0002row8_col13{\n",
              "            font-size:  6pt;\n",
              "            background-color:  #2081b9;\n",
              "            color:  #000000;\n",
              "        }#T_e4e28e80_55be_11eb_abc6_0242ac1c0002row8_col14,#T_e4e28e80_55be_11eb_abc6_0242ac1c0002row8_col15,#T_e4e28e80_55be_11eb_abc6_0242ac1c0002row8_col16,#T_e4e28e80_55be_11eb_abc6_0242ac1c0002row9_col9{\n",
              "            font-size:  6pt;\n",
              "            background-color:  #e6e2ef;\n",
              "            color:  #000000;\n",
              "        }#T_e4e28e80_55be_11eb_abc6_0242ac1c0002row9_col10,#T_e4e28e80_55be_11eb_abc6_0242ac1c0002row10_col14,#T_e4e28e80_55be_11eb_abc6_0242ac1c0002row18_col20,#T_e4e28e80_55be_11eb_abc6_0242ac1c0002row20_col13{\n",
              "            font-size:  6pt;\n",
              "            background-color:  #d9d8ea;\n",
              "            color:  #000000;\n",
              "        }#T_e4e28e80_55be_11eb_abc6_0242ac1c0002row9_col11{\n",
              "            font-size:  6pt;\n",
              "            background-color:  #dfddec;\n",
              "            color:  #000000;\n",
              "        }#T_e4e28e80_55be_11eb_abc6_0242ac1c0002row9_col15{\n",
              "            font-size:  6pt;\n",
              "            background-color:  #eee8f3;\n",
              "            color:  #000000;\n",
              "        }#T_e4e28e80_55be_11eb_abc6_0242ac1c0002row9_col16{\n",
              "            font-size:  6pt;\n",
              "            background-color:  #83afd3;\n",
              "            color:  #000000;\n",
              "        }#T_e4e28e80_55be_11eb_abc6_0242ac1c0002row9_col17{\n",
              "            font-size:  6pt;\n",
              "            background-color:  #034267;\n",
              "            color:  #f1f1f1;\n",
              "        }#T_e4e28e80_55be_11eb_abc6_0242ac1c0002row10_col15{\n",
              "            font-size:  6pt;\n",
              "            background-color:  #04639b;\n",
              "            color:  #f1f1f1;\n",
              "        }#T_e4e28e80_55be_11eb_abc6_0242ac1c0002row10_col19,#T_e4e28e80_55be_11eb_abc6_0242ac1c0002row16_col11,#T_e4e28e80_55be_11eb_abc6_0242ac1c0002row22_col9{\n",
              "            font-size:  6pt;\n",
              "            background-color:  #0d75b3;\n",
              "            color:  #f1f1f1;\n",
              "        }#T_e4e28e80_55be_11eb_abc6_0242ac1c0002row10_col20,#T_e4e28e80_55be_11eb_abc6_0242ac1c0002row11_col19{\n",
              "            font-size:  6pt;\n",
              "            background-color:  #f2ecf5;\n",
              "            color:  #000000;\n",
              "        }#T_e4e28e80_55be_11eb_abc6_0242ac1c0002row11_col12,#T_e4e28e80_55be_11eb_abc6_0242ac1c0002row20_col12{\n",
              "            font-size:  6pt;\n",
              "            background-color:  #fdf5fa;\n",
              "            color:  #000000;\n",
              "        }#T_e4e28e80_55be_11eb_abc6_0242ac1c0002row11_col13,#T_e4e28e80_55be_11eb_abc6_0242ac1c0002row12_col11{\n",
              "            font-size:  6pt;\n",
              "            background-color:  #e4e1ef;\n",
              "            color:  #000000;\n",
              "        }#T_e4e28e80_55be_11eb_abc6_0242ac1c0002row11_col18{\n",
              "            font-size:  6pt;\n",
              "            background-color:  #04649d;\n",
              "            color:  #f1f1f1;\n",
              "        }#T_e4e28e80_55be_11eb_abc6_0242ac1c0002row12_col10,#T_e4e28e80_55be_11eb_abc6_0242ac1c0002row17_col10{\n",
              "            font-size:  6pt;\n",
              "            background-color:  #fcf4fa;\n",
              "            color:  #000000;\n",
              "        }#T_e4e28e80_55be_11eb_abc6_0242ac1c0002row12_col12{\n",
              "            font-size:  6pt;\n",
              "            background-color:  #2c89bd;\n",
              "            color:  #000000;\n",
              "        }#T_e4e28e80_55be_11eb_abc6_0242ac1c0002row12_col18{\n",
              "            font-size:  6pt;\n",
              "            background-color:  #045382;\n",
              "            color:  #f1f1f1;\n",
              "        }#T_e4e28e80_55be_11eb_abc6_0242ac1c0002row12_col19,#T_e4e28e80_55be_11eb_abc6_0242ac1c0002row15_col18,#T_e4e28e80_55be_11eb_abc6_0242ac1c0002row20_col7{\n",
              "            font-size:  6pt;\n",
              "            background-color:  #6ba5cd;\n",
              "            color:  #000000;\n",
              "        }#T_e4e28e80_55be_11eb_abc6_0242ac1c0002row12_col20{\n",
              "            font-size:  6pt;\n",
              "            background-color:  #faf2f8;\n",
              "            color:  #000000;\n",
              "        }#T_e4e28e80_55be_11eb_abc6_0242ac1c0002row13_col9{\n",
              "            font-size:  6pt;\n",
              "            background-color:  #8fb4d6;\n",
              "            color:  #000000;\n",
              "        }#T_e4e28e80_55be_11eb_abc6_0242ac1c0002row13_col10{\n",
              "            font-size:  6pt;\n",
              "            background-color:  #2f8bbe;\n",
              "            color:  #000000;\n",
              "        }#T_e4e28e80_55be_11eb_abc6_0242ac1c0002row13_col20{\n",
              "            font-size:  6pt;\n",
              "            background-color:  #3b92c1;\n",
              "            color:  #000000;\n",
              "        }#T_e4e28e80_55be_11eb_abc6_0242ac1c0002row14_col17,#T_e4e28e80_55be_11eb_abc6_0242ac1c0002row21_col8{\n",
              "            font-size:  6pt;\n",
              "            background-color:  #5c9fc9;\n",
              "            color:  #000000;\n",
              "        }#T_e4e28e80_55be_11eb_abc6_0242ac1c0002row14_col18{\n",
              "            font-size:  6pt;\n",
              "            background-color:  #045687;\n",
              "            color:  #f1f1f1;\n",
              "        }#T_e4e28e80_55be_11eb_abc6_0242ac1c0002row14_col20{\n",
              "            font-size:  6pt;\n",
              "            background-color:  #034d79;\n",
              "            color:  #f1f1f1;\n",
              "        }#T_e4e28e80_55be_11eb_abc6_0242ac1c0002row14_col21,#T_e4e28e80_55be_11eb_abc6_0242ac1c0002row15_col14{\n",
              "            font-size:  6pt;\n",
              "            background-color:  #67a4cc;\n",
              "            color:  #000000;\n",
              "        }#T_e4e28e80_55be_11eb_abc6_0242ac1c0002row15_col9{\n",
              "            font-size:  6pt;\n",
              "            background-color:  #0872b1;\n",
              "            color:  #f1f1f1;\n",
              "        }#T_e4e28e80_55be_11eb_abc6_0242ac1c0002row15_col15{\n",
              "            font-size:  6pt;\n",
              "            background-color:  #bfc9e1;\n",
              "            color:  #000000;\n",
              "        }#T_e4e28e80_55be_11eb_abc6_0242ac1c0002row16_col9{\n",
              "            font-size:  6pt;\n",
              "            background-color:  #91b5d6;\n",
              "            color:  #000000;\n",
              "        }#T_e4e28e80_55be_11eb_abc6_0242ac1c0002row16_col10{\n",
              "            font-size:  6pt;\n",
              "            background-color:  #308cbe;\n",
              "            color:  #000000;\n",
              "        }#T_e4e28e80_55be_11eb_abc6_0242ac1c0002row16_col12{\n",
              "            font-size:  6pt;\n",
              "            background-color:  #cacee5;\n",
              "            color:  #000000;\n",
              "        }#T_e4e28e80_55be_11eb_abc6_0242ac1c0002row16_col13{\n",
              "            font-size:  6pt;\n",
              "            background-color:  #f7f0f7;\n",
              "            color:  #000000;\n",
              "        }#T_e4e28e80_55be_11eb_abc6_0242ac1c0002row16_col18{\n",
              "            font-size:  6pt;\n",
              "            background-color:  #04588a;\n",
              "            color:  #f1f1f1;\n",
              "        }#T_e4e28e80_55be_11eb_abc6_0242ac1c0002row17_col11{\n",
              "            font-size:  6pt;\n",
              "            background-color:  #f9f2f8;\n",
              "            color:  #000000;\n",
              "        }#T_e4e28e80_55be_11eb_abc6_0242ac1c0002row17_col17,#T_e4e28e80_55be_11eb_abc6_0242ac1c0002row18_col16{\n",
              "            font-size:  6pt;\n",
              "            background-color:  #0569a4;\n",
              "            color:  #f1f1f1;\n",
              "        }#T_e4e28e80_55be_11eb_abc6_0242ac1c0002row17_col20{\n",
              "            font-size:  6pt;\n",
              "            background-color:  #2a88bc;\n",
              "            color:  #000000;\n",
              "        }#T_e4e28e80_55be_11eb_abc6_0242ac1c0002row17_col21{\n",
              "            font-size:  6pt;\n",
              "            background-color:  #efe9f3;\n",
              "            color:  #000000;\n",
              "        }#T_e4e28e80_55be_11eb_abc6_0242ac1c0002row18_col17{\n",
              "            font-size:  6pt;\n",
              "            background-color:  #023f64;\n",
              "            color:  #f1f1f1;\n",
              "        }#T_e4e28e80_55be_11eb_abc6_0242ac1c0002row18_col19,#T_e4e28e80_55be_11eb_abc6_0242ac1c0002row19_col18,#T_e4e28e80_55be_11eb_abc6_0242ac1c0002row20_col17{\n",
              "            font-size:  6pt;\n",
              "            background-color:  #034b76;\n",
              "            color:  #f1f1f1;\n",
              "        }#T_e4e28e80_55be_11eb_abc6_0242ac1c0002row19_col15{\n",
              "            font-size:  6pt;\n",
              "            background-color:  #569dc8;\n",
              "            color:  #000000;\n",
              "        }#T_e4e28e80_55be_11eb_abc6_0242ac1c0002row19_col19{\n",
              "            font-size:  6pt;\n",
              "            background-color:  #c0c9e2;\n",
              "            color:  #000000;\n",
              "        }#T_e4e28e80_55be_11eb_abc6_0242ac1c0002row20_col6{\n",
              "            font-size:  6pt;\n",
              "            background-color:  #0771b1;\n",
              "            color:  #f1f1f1;\n",
              "        }#T_e4e28e80_55be_11eb_abc6_0242ac1c0002row20_col14{\n",
              "            font-size:  6pt;\n",
              "            background-color:  #0c74b2;\n",
              "            color:  #f1f1f1;\n",
              "        }#T_e4e28e80_55be_11eb_abc6_0242ac1c0002row20_col15{\n",
              "            font-size:  6pt;\n",
              "            background-color:  #023c5f;\n",
              "            color:  #f1f1f1;\n",
              "        }#T_e4e28e80_55be_11eb_abc6_0242ac1c0002row20_col18{\n",
              "            font-size:  6pt;\n",
              "            background-color:  #4c99c5;\n",
              "            color:  #000000;\n",
              "        }#T_e4e28e80_55be_11eb_abc6_0242ac1c0002row21_col7{\n",
              "            font-size:  6pt;\n",
              "            background-color:  #034e7b;\n",
              "            color:  #f1f1f1;\n",
              "        }#T_e4e28e80_55be_11eb_abc6_0242ac1c0002row21_col9{\n",
              "            font-size:  6pt;\n",
              "            background-color:  #f8f1f8;\n",
              "            color:  #000000;\n",
              "        }#T_e4e28e80_55be_11eb_abc6_0242ac1c0002row21_col10{\n",
              "            font-size:  6pt;\n",
              "            background-color:  #fbf3f9;\n",
              "            color:  #000000;\n",
              "        }#T_e4e28e80_55be_11eb_abc6_0242ac1c0002row21_col11{\n",
              "            font-size:  6pt;\n",
              "            background-color:  #d8d7e9;\n",
              "            color:  #000000;\n",
              "        }#T_e4e28e80_55be_11eb_abc6_0242ac1c0002row21_col12{\n",
              "            font-size:  6pt;\n",
              "            background-color:  #187cb6;\n",
              "            color:  #000000;\n",
              "        }#T_e4e28e80_55be_11eb_abc6_0242ac1c0002row21_col16{\n",
              "            font-size:  6pt;\n",
              "            background-color:  #034973;\n",
              "            color:  #f1f1f1;\n",
              "        }#T_e4e28e80_55be_11eb_abc6_0242ac1c0002row21_col17{\n",
              "            font-size:  6pt;\n",
              "            background-color:  #c1cae2;\n",
              "            color:  #000000;\n",
              "        }#T_e4e28e80_55be_11eb_abc6_0242ac1c0002row22_col6{\n",
              "            font-size:  6pt;\n",
              "            background-color:  #045585;\n",
              "            color:  #f1f1f1;\n",
              "        }#T_e4e28e80_55be_11eb_abc6_0242ac1c0002row22_col10{\n",
              "            font-size:  6pt;\n",
              "            background-color:  #1c7fb8;\n",
              "            color:  #000000;\n",
              "        }#T_e4e28e80_55be_11eb_abc6_0242ac1c0002row22_col15{\n",
              "            font-size:  6pt;\n",
              "            background-color:  #2383ba;\n",
              "            color:  #000000;\n",
              "        }#T_e4e28e80_55be_11eb_abc6_0242ac1c0002row22_col16{\n",
              "            font-size:  6pt;\n",
              "            background-color:  #d4d4e8;\n",
              "            color:  #000000;\n",
              "        }#T_e4e28e80_55be_11eb_abc6_0242ac1c0002row23_col7{\n",
              "            font-size:  6pt;\n",
              "            background-color:  #65a3cb;\n",
              "            color:  #000000;\n",
              "        }#T_e4e28e80_55be_11eb_abc6_0242ac1c0002row23_col8{\n",
              "            font-size:  6pt;\n",
              "            background-color:  #023b5d;\n",
              "            color:  #f1f1f1;\n",
              "        }#T_e4e28e80_55be_11eb_abc6_0242ac1c0002row23_col13{\n",
              "            font-size:  6pt;\n",
              "            background-color:  #034871;\n",
              "            color:  #f1f1f1;\n",
              "        }#T_e4e28e80_55be_11eb_abc6_0242ac1c0002row23_col14{\n",
              "            font-size:  6pt;\n",
              "            background-color:  #94b6d7;\n",
              "            color:  #000000;\n",
              "        }#T_e4e28e80_55be_11eb_abc6_0242ac1c0002row23_col15{\n",
              "            font-size:  6pt;\n",
              "            background-color:  #fbf4f9;\n",
              "            color:  #000000;\n",
              "        }#T_e4e28e80_55be_11eb_abc6_0242ac1c0002row24_col8{\n",
              "            font-size:  6pt;\n",
              "            background-color:  #a5bddb;\n",
              "            color:  #000000;\n",
              "        }#T_e4e28e80_55be_11eb_abc6_0242ac1c0002row24_col9{\n",
              "            font-size:  6pt;\n",
              "            background-color:  #045c90;\n",
              "            color:  #f1f1f1;\n",
              "        }#T_e4e28e80_55be_11eb_abc6_0242ac1c0002row24_col11{\n",
              "            font-size:  6pt;\n",
              "            background-color:  #2987bc;\n",
              "            color:  #000000;\n",
              "        }#T_e4e28e80_55be_11eb_abc6_0242ac1c0002row24_col12{\n",
              "            font-size:  6pt;\n",
              "            background-color:  #89b1d4;\n",
              "            color:  #000000;\n",
              "        }</style><table id=\"T_e4e28e80_55be_11eb_abc6_0242ac1c0002\" ><thead>    <tr>        <th class=\"blank level0\" ></th>        <th class=\"col_heading level0 col0\" >0</th>        <th class=\"col_heading level0 col1\" >1</th>        <th class=\"col_heading level0 col2\" >2</th>        <th class=\"col_heading level0 col3\" >3</th>        <th class=\"col_heading level0 col4\" >4</th>        <th class=\"col_heading level0 col5\" >5</th>        <th class=\"col_heading level0 col6\" >6</th>        <th class=\"col_heading level0 col7\" >7</th>        <th class=\"col_heading level0 col8\" >8</th>        <th class=\"col_heading level0 col9\" >9</th>        <th class=\"col_heading level0 col10\" >10</th>        <th class=\"col_heading level0 col11\" >11</th>        <th class=\"col_heading level0 col12\" >12</th>        <th class=\"col_heading level0 col13\" >13</th>        <th class=\"col_heading level0 col14\" >14</th>        <th class=\"col_heading level0 col15\" >15</th>        <th class=\"col_heading level0 col16\" >16</th>        <th class=\"col_heading level0 col17\" >17</th>        <th class=\"col_heading level0 col18\" >18</th>        <th class=\"col_heading level0 col19\" >19</th>        <th class=\"col_heading level0 col20\" >20</th>        <th class=\"col_heading level0 col21\" >21</th>        <th class=\"col_heading level0 col22\" >22</th>        <th class=\"col_heading level0 col23\" >23</th>        <th class=\"col_heading level0 col24\" >24</th>        <th class=\"col_heading level0 col25\" >25</th>        <th class=\"col_heading level0 col26\" >26</th>        <th class=\"col_heading level0 col27\" >27</th>    </tr></thead><tbody>\n",
              "                <tr>\n",
              "                        <th id=\"T_e4e28e80_55be_11eb_abc6_0242ac1c0002level0_row0\" class=\"row_heading level0 row0\" >0</th>\n",
              "                        <td id=\"T_e4e28e80_55be_11eb_abc6_0242ac1c0002row0_col0\" class=\"data row0 col0\" >0</td>\n",
              "                        <td id=\"T_e4e28e80_55be_11eb_abc6_0242ac1c0002row0_col1\" class=\"data row0 col1\" >0</td>\n",
              "                        <td id=\"T_e4e28e80_55be_11eb_abc6_0242ac1c0002row0_col2\" class=\"data row0 col2\" >0</td>\n",
              "                        <td id=\"T_e4e28e80_55be_11eb_abc6_0242ac1c0002row0_col3\" class=\"data row0 col3\" >0</td>\n",
              "                        <td id=\"T_e4e28e80_55be_11eb_abc6_0242ac1c0002row0_col4\" class=\"data row0 col4\" >0</td>\n",
              "                        <td id=\"T_e4e28e80_55be_11eb_abc6_0242ac1c0002row0_col5\" class=\"data row0 col5\" >0</td>\n",
              "                        <td id=\"T_e4e28e80_55be_11eb_abc6_0242ac1c0002row0_col6\" class=\"data row0 col6\" >0</td>\n",
              "                        <td id=\"T_e4e28e80_55be_11eb_abc6_0242ac1c0002row0_col7\" class=\"data row0 col7\" >0</td>\n",
              "                        <td id=\"T_e4e28e80_55be_11eb_abc6_0242ac1c0002row0_col8\" class=\"data row0 col8\" >0</td>\n",
              "                        <td id=\"T_e4e28e80_55be_11eb_abc6_0242ac1c0002row0_col9\" class=\"data row0 col9\" >0</td>\n",
              "                        <td id=\"T_e4e28e80_55be_11eb_abc6_0242ac1c0002row0_col10\" class=\"data row0 col10\" >0</td>\n",
              "                        <td id=\"T_e4e28e80_55be_11eb_abc6_0242ac1c0002row0_col11\" class=\"data row0 col11\" >0</td>\n",
              "                        <td id=\"T_e4e28e80_55be_11eb_abc6_0242ac1c0002row0_col12\" class=\"data row0 col12\" >0</td>\n",
              "                        <td id=\"T_e4e28e80_55be_11eb_abc6_0242ac1c0002row0_col13\" class=\"data row0 col13\" >0</td>\n",
              "                        <td id=\"T_e4e28e80_55be_11eb_abc6_0242ac1c0002row0_col14\" class=\"data row0 col14\" >0</td>\n",
              "                        <td id=\"T_e4e28e80_55be_11eb_abc6_0242ac1c0002row0_col15\" class=\"data row0 col15\" >0</td>\n",
              "                        <td id=\"T_e4e28e80_55be_11eb_abc6_0242ac1c0002row0_col16\" class=\"data row0 col16\" >0</td>\n",
              "                        <td id=\"T_e4e28e80_55be_11eb_abc6_0242ac1c0002row0_col17\" class=\"data row0 col17\" >0</td>\n",
              "                        <td id=\"T_e4e28e80_55be_11eb_abc6_0242ac1c0002row0_col18\" class=\"data row0 col18\" >0</td>\n",
              "                        <td id=\"T_e4e28e80_55be_11eb_abc6_0242ac1c0002row0_col19\" class=\"data row0 col19\" >0</td>\n",
              "                        <td id=\"T_e4e28e80_55be_11eb_abc6_0242ac1c0002row0_col20\" class=\"data row0 col20\" >0</td>\n",
              "                        <td id=\"T_e4e28e80_55be_11eb_abc6_0242ac1c0002row0_col21\" class=\"data row0 col21\" >0</td>\n",
              "                        <td id=\"T_e4e28e80_55be_11eb_abc6_0242ac1c0002row0_col22\" class=\"data row0 col22\" >0</td>\n",
              "                        <td id=\"T_e4e28e80_55be_11eb_abc6_0242ac1c0002row0_col23\" class=\"data row0 col23\" >0</td>\n",
              "                        <td id=\"T_e4e28e80_55be_11eb_abc6_0242ac1c0002row0_col24\" class=\"data row0 col24\" >0</td>\n",
              "                        <td id=\"T_e4e28e80_55be_11eb_abc6_0242ac1c0002row0_col25\" class=\"data row0 col25\" >0</td>\n",
              "                        <td id=\"T_e4e28e80_55be_11eb_abc6_0242ac1c0002row0_col26\" class=\"data row0 col26\" >0</td>\n",
              "                        <td id=\"T_e4e28e80_55be_11eb_abc6_0242ac1c0002row0_col27\" class=\"data row0 col27\" >0</td>\n",
              "            </tr>\n",
              "            <tr>\n",
              "                        <th id=\"T_e4e28e80_55be_11eb_abc6_0242ac1c0002level0_row1\" class=\"row_heading level0 row1\" >1</th>\n",
              "                        <td id=\"T_e4e28e80_55be_11eb_abc6_0242ac1c0002row1_col0\" class=\"data row1 col0\" >0</td>\n",
              "                        <td id=\"T_e4e28e80_55be_11eb_abc6_0242ac1c0002row1_col1\" class=\"data row1 col1\" >0</td>\n",
              "                        <td id=\"T_e4e28e80_55be_11eb_abc6_0242ac1c0002row1_col2\" class=\"data row1 col2\" >0</td>\n",
              "                        <td id=\"T_e4e28e80_55be_11eb_abc6_0242ac1c0002row1_col3\" class=\"data row1 col3\" >0</td>\n",
              "                        <td id=\"T_e4e28e80_55be_11eb_abc6_0242ac1c0002row1_col4\" class=\"data row1 col4\" >0</td>\n",
              "                        <td id=\"T_e4e28e80_55be_11eb_abc6_0242ac1c0002row1_col5\" class=\"data row1 col5\" >0</td>\n",
              "                        <td id=\"T_e4e28e80_55be_11eb_abc6_0242ac1c0002row1_col6\" class=\"data row1 col6\" >0</td>\n",
              "                        <td id=\"T_e4e28e80_55be_11eb_abc6_0242ac1c0002row1_col7\" class=\"data row1 col7\" >0</td>\n",
              "                        <td id=\"T_e4e28e80_55be_11eb_abc6_0242ac1c0002row1_col8\" class=\"data row1 col8\" >0</td>\n",
              "                        <td id=\"T_e4e28e80_55be_11eb_abc6_0242ac1c0002row1_col9\" class=\"data row1 col9\" >0</td>\n",
              "                        <td id=\"T_e4e28e80_55be_11eb_abc6_0242ac1c0002row1_col10\" class=\"data row1 col10\" >0</td>\n",
              "                        <td id=\"T_e4e28e80_55be_11eb_abc6_0242ac1c0002row1_col11\" class=\"data row1 col11\" >0</td>\n",
              "                        <td id=\"T_e4e28e80_55be_11eb_abc6_0242ac1c0002row1_col12\" class=\"data row1 col12\" >0</td>\n",
              "                        <td id=\"T_e4e28e80_55be_11eb_abc6_0242ac1c0002row1_col13\" class=\"data row1 col13\" >0</td>\n",
              "                        <td id=\"T_e4e28e80_55be_11eb_abc6_0242ac1c0002row1_col14\" class=\"data row1 col14\" >0</td>\n",
              "                        <td id=\"T_e4e28e80_55be_11eb_abc6_0242ac1c0002row1_col15\" class=\"data row1 col15\" >0</td>\n",
              "                        <td id=\"T_e4e28e80_55be_11eb_abc6_0242ac1c0002row1_col16\" class=\"data row1 col16\" >0</td>\n",
              "                        <td id=\"T_e4e28e80_55be_11eb_abc6_0242ac1c0002row1_col17\" class=\"data row1 col17\" >0</td>\n",
              "                        <td id=\"T_e4e28e80_55be_11eb_abc6_0242ac1c0002row1_col18\" class=\"data row1 col18\" >0</td>\n",
              "                        <td id=\"T_e4e28e80_55be_11eb_abc6_0242ac1c0002row1_col19\" class=\"data row1 col19\" >0</td>\n",
              "                        <td id=\"T_e4e28e80_55be_11eb_abc6_0242ac1c0002row1_col20\" class=\"data row1 col20\" >0</td>\n",
              "                        <td id=\"T_e4e28e80_55be_11eb_abc6_0242ac1c0002row1_col21\" class=\"data row1 col21\" >0</td>\n",
              "                        <td id=\"T_e4e28e80_55be_11eb_abc6_0242ac1c0002row1_col22\" class=\"data row1 col22\" >0</td>\n",
              "                        <td id=\"T_e4e28e80_55be_11eb_abc6_0242ac1c0002row1_col23\" class=\"data row1 col23\" >0</td>\n",
              "                        <td id=\"T_e4e28e80_55be_11eb_abc6_0242ac1c0002row1_col24\" class=\"data row1 col24\" >0</td>\n",
              "                        <td id=\"T_e4e28e80_55be_11eb_abc6_0242ac1c0002row1_col25\" class=\"data row1 col25\" >0</td>\n",
              "                        <td id=\"T_e4e28e80_55be_11eb_abc6_0242ac1c0002row1_col26\" class=\"data row1 col26\" >0</td>\n",
              "                        <td id=\"T_e4e28e80_55be_11eb_abc6_0242ac1c0002row1_col27\" class=\"data row1 col27\" >0</td>\n",
              "            </tr>\n",
              "            <tr>\n",
              "                        <th id=\"T_e4e28e80_55be_11eb_abc6_0242ac1c0002level0_row2\" class=\"row_heading level0 row2\" >2</th>\n",
              "                        <td id=\"T_e4e28e80_55be_11eb_abc6_0242ac1c0002row2_col0\" class=\"data row2 col0\" >0</td>\n",
              "                        <td id=\"T_e4e28e80_55be_11eb_abc6_0242ac1c0002row2_col1\" class=\"data row2 col1\" >0</td>\n",
              "                        <td id=\"T_e4e28e80_55be_11eb_abc6_0242ac1c0002row2_col2\" class=\"data row2 col2\" >0</td>\n",
              "                        <td id=\"T_e4e28e80_55be_11eb_abc6_0242ac1c0002row2_col3\" class=\"data row2 col3\" >0</td>\n",
              "                        <td id=\"T_e4e28e80_55be_11eb_abc6_0242ac1c0002row2_col4\" class=\"data row2 col4\" >0</td>\n",
              "                        <td id=\"T_e4e28e80_55be_11eb_abc6_0242ac1c0002row2_col5\" class=\"data row2 col5\" >0</td>\n",
              "                        <td id=\"T_e4e28e80_55be_11eb_abc6_0242ac1c0002row2_col6\" class=\"data row2 col6\" >0</td>\n",
              "                        <td id=\"T_e4e28e80_55be_11eb_abc6_0242ac1c0002row2_col7\" class=\"data row2 col7\" >0</td>\n",
              "                        <td id=\"T_e4e28e80_55be_11eb_abc6_0242ac1c0002row2_col8\" class=\"data row2 col8\" >0</td>\n",
              "                        <td id=\"T_e4e28e80_55be_11eb_abc6_0242ac1c0002row2_col9\" class=\"data row2 col9\" >0</td>\n",
              "                        <td id=\"T_e4e28e80_55be_11eb_abc6_0242ac1c0002row2_col10\" class=\"data row2 col10\" >0</td>\n",
              "                        <td id=\"T_e4e28e80_55be_11eb_abc6_0242ac1c0002row2_col11\" class=\"data row2 col11\" >0</td>\n",
              "                        <td id=\"T_e4e28e80_55be_11eb_abc6_0242ac1c0002row2_col12\" class=\"data row2 col12\" >0</td>\n",
              "                        <td id=\"T_e4e28e80_55be_11eb_abc6_0242ac1c0002row2_col13\" class=\"data row2 col13\" >0</td>\n",
              "                        <td id=\"T_e4e28e80_55be_11eb_abc6_0242ac1c0002row2_col14\" class=\"data row2 col14\" >0</td>\n",
              "                        <td id=\"T_e4e28e80_55be_11eb_abc6_0242ac1c0002row2_col15\" class=\"data row2 col15\" >0</td>\n",
              "                        <td id=\"T_e4e28e80_55be_11eb_abc6_0242ac1c0002row2_col16\" class=\"data row2 col16\" >0</td>\n",
              "                        <td id=\"T_e4e28e80_55be_11eb_abc6_0242ac1c0002row2_col17\" class=\"data row2 col17\" >0</td>\n",
              "                        <td id=\"T_e4e28e80_55be_11eb_abc6_0242ac1c0002row2_col18\" class=\"data row2 col18\" >0</td>\n",
              "                        <td id=\"T_e4e28e80_55be_11eb_abc6_0242ac1c0002row2_col19\" class=\"data row2 col19\" >0</td>\n",
              "                        <td id=\"T_e4e28e80_55be_11eb_abc6_0242ac1c0002row2_col20\" class=\"data row2 col20\" >0</td>\n",
              "                        <td id=\"T_e4e28e80_55be_11eb_abc6_0242ac1c0002row2_col21\" class=\"data row2 col21\" >0</td>\n",
              "                        <td id=\"T_e4e28e80_55be_11eb_abc6_0242ac1c0002row2_col22\" class=\"data row2 col22\" >0</td>\n",
              "                        <td id=\"T_e4e28e80_55be_11eb_abc6_0242ac1c0002row2_col23\" class=\"data row2 col23\" >0</td>\n",
              "                        <td id=\"T_e4e28e80_55be_11eb_abc6_0242ac1c0002row2_col24\" class=\"data row2 col24\" >0</td>\n",
              "                        <td id=\"T_e4e28e80_55be_11eb_abc6_0242ac1c0002row2_col25\" class=\"data row2 col25\" >0</td>\n",
              "                        <td id=\"T_e4e28e80_55be_11eb_abc6_0242ac1c0002row2_col26\" class=\"data row2 col26\" >0</td>\n",
              "                        <td id=\"T_e4e28e80_55be_11eb_abc6_0242ac1c0002row2_col27\" class=\"data row2 col27\" >0</td>\n",
              "            </tr>\n",
              "            <tr>\n",
              "                        <th id=\"T_e4e28e80_55be_11eb_abc6_0242ac1c0002level0_row3\" class=\"row_heading level0 row3\" >3</th>\n",
              "                        <td id=\"T_e4e28e80_55be_11eb_abc6_0242ac1c0002row3_col0\" class=\"data row3 col0\" >0</td>\n",
              "                        <td id=\"T_e4e28e80_55be_11eb_abc6_0242ac1c0002row3_col1\" class=\"data row3 col1\" >0</td>\n",
              "                        <td id=\"T_e4e28e80_55be_11eb_abc6_0242ac1c0002row3_col2\" class=\"data row3 col2\" >0</td>\n",
              "                        <td id=\"T_e4e28e80_55be_11eb_abc6_0242ac1c0002row3_col3\" class=\"data row3 col3\" >0</td>\n",
              "                        <td id=\"T_e4e28e80_55be_11eb_abc6_0242ac1c0002row3_col4\" class=\"data row3 col4\" >0</td>\n",
              "                        <td id=\"T_e4e28e80_55be_11eb_abc6_0242ac1c0002row3_col5\" class=\"data row3 col5\" >0</td>\n",
              "                        <td id=\"T_e4e28e80_55be_11eb_abc6_0242ac1c0002row3_col6\" class=\"data row3 col6\" >0</td>\n",
              "                        <td id=\"T_e4e28e80_55be_11eb_abc6_0242ac1c0002row3_col7\" class=\"data row3 col7\" >0</td>\n",
              "                        <td id=\"T_e4e28e80_55be_11eb_abc6_0242ac1c0002row3_col8\" class=\"data row3 col8\" >0</td>\n",
              "                        <td id=\"T_e4e28e80_55be_11eb_abc6_0242ac1c0002row3_col9\" class=\"data row3 col9\" >0</td>\n",
              "                        <td id=\"T_e4e28e80_55be_11eb_abc6_0242ac1c0002row3_col10\" class=\"data row3 col10\" >0</td>\n",
              "                        <td id=\"T_e4e28e80_55be_11eb_abc6_0242ac1c0002row3_col11\" class=\"data row3 col11\" >0</td>\n",
              "                        <td id=\"T_e4e28e80_55be_11eb_abc6_0242ac1c0002row3_col12\" class=\"data row3 col12\" >0</td>\n",
              "                        <td id=\"T_e4e28e80_55be_11eb_abc6_0242ac1c0002row3_col13\" class=\"data row3 col13\" >0</td>\n",
              "                        <td id=\"T_e4e28e80_55be_11eb_abc6_0242ac1c0002row3_col14\" class=\"data row3 col14\" >0</td>\n",
              "                        <td id=\"T_e4e28e80_55be_11eb_abc6_0242ac1c0002row3_col15\" class=\"data row3 col15\" >0</td>\n",
              "                        <td id=\"T_e4e28e80_55be_11eb_abc6_0242ac1c0002row3_col16\" class=\"data row3 col16\" >0</td>\n",
              "                        <td id=\"T_e4e28e80_55be_11eb_abc6_0242ac1c0002row3_col17\" class=\"data row3 col17\" >0</td>\n",
              "                        <td id=\"T_e4e28e80_55be_11eb_abc6_0242ac1c0002row3_col18\" class=\"data row3 col18\" >0</td>\n",
              "                        <td id=\"T_e4e28e80_55be_11eb_abc6_0242ac1c0002row3_col19\" class=\"data row3 col19\" >0</td>\n",
              "                        <td id=\"T_e4e28e80_55be_11eb_abc6_0242ac1c0002row3_col20\" class=\"data row3 col20\" >0</td>\n",
              "                        <td id=\"T_e4e28e80_55be_11eb_abc6_0242ac1c0002row3_col21\" class=\"data row3 col21\" >0</td>\n",
              "                        <td id=\"T_e4e28e80_55be_11eb_abc6_0242ac1c0002row3_col22\" class=\"data row3 col22\" >0</td>\n",
              "                        <td id=\"T_e4e28e80_55be_11eb_abc6_0242ac1c0002row3_col23\" class=\"data row3 col23\" >0</td>\n",
              "                        <td id=\"T_e4e28e80_55be_11eb_abc6_0242ac1c0002row3_col24\" class=\"data row3 col24\" >0</td>\n",
              "                        <td id=\"T_e4e28e80_55be_11eb_abc6_0242ac1c0002row3_col25\" class=\"data row3 col25\" >0</td>\n",
              "                        <td id=\"T_e4e28e80_55be_11eb_abc6_0242ac1c0002row3_col26\" class=\"data row3 col26\" >0</td>\n",
              "                        <td id=\"T_e4e28e80_55be_11eb_abc6_0242ac1c0002row3_col27\" class=\"data row3 col27\" >0</td>\n",
              "            </tr>\n",
              "            <tr>\n",
              "                        <th id=\"T_e4e28e80_55be_11eb_abc6_0242ac1c0002level0_row4\" class=\"row_heading level0 row4\" >4</th>\n",
              "                        <td id=\"T_e4e28e80_55be_11eb_abc6_0242ac1c0002row4_col0\" class=\"data row4 col0\" >0</td>\n",
              "                        <td id=\"T_e4e28e80_55be_11eb_abc6_0242ac1c0002row4_col1\" class=\"data row4 col1\" >0</td>\n",
              "                        <td id=\"T_e4e28e80_55be_11eb_abc6_0242ac1c0002row4_col2\" class=\"data row4 col2\" >0</td>\n",
              "                        <td id=\"T_e4e28e80_55be_11eb_abc6_0242ac1c0002row4_col3\" class=\"data row4 col3\" >0</td>\n",
              "                        <td id=\"T_e4e28e80_55be_11eb_abc6_0242ac1c0002row4_col4\" class=\"data row4 col4\" >0</td>\n",
              "                        <td id=\"T_e4e28e80_55be_11eb_abc6_0242ac1c0002row4_col5\" class=\"data row4 col5\" >0</td>\n",
              "                        <td id=\"T_e4e28e80_55be_11eb_abc6_0242ac1c0002row4_col6\" class=\"data row4 col6\" >0</td>\n",
              "                        <td id=\"T_e4e28e80_55be_11eb_abc6_0242ac1c0002row4_col7\" class=\"data row4 col7\" >0</td>\n",
              "                        <td id=\"T_e4e28e80_55be_11eb_abc6_0242ac1c0002row4_col8\" class=\"data row4 col8\" >0</td>\n",
              "                        <td id=\"T_e4e28e80_55be_11eb_abc6_0242ac1c0002row4_col9\" class=\"data row4 col9\" >0</td>\n",
              "                        <td id=\"T_e4e28e80_55be_11eb_abc6_0242ac1c0002row4_col10\" class=\"data row4 col10\" >0</td>\n",
              "                        <td id=\"T_e4e28e80_55be_11eb_abc6_0242ac1c0002row4_col11\" class=\"data row4 col11\" >0</td>\n",
              "                        <td id=\"T_e4e28e80_55be_11eb_abc6_0242ac1c0002row4_col12\" class=\"data row4 col12\" >0</td>\n",
              "                        <td id=\"T_e4e28e80_55be_11eb_abc6_0242ac1c0002row4_col13\" class=\"data row4 col13\" >0</td>\n",
              "                        <td id=\"T_e4e28e80_55be_11eb_abc6_0242ac1c0002row4_col14\" class=\"data row4 col14\" >0</td>\n",
              "                        <td id=\"T_e4e28e80_55be_11eb_abc6_0242ac1c0002row4_col15\" class=\"data row4 col15\" >0</td>\n",
              "                        <td id=\"T_e4e28e80_55be_11eb_abc6_0242ac1c0002row4_col16\" class=\"data row4 col16\" >0</td>\n",
              "                        <td id=\"T_e4e28e80_55be_11eb_abc6_0242ac1c0002row4_col17\" class=\"data row4 col17\" >0</td>\n",
              "                        <td id=\"T_e4e28e80_55be_11eb_abc6_0242ac1c0002row4_col18\" class=\"data row4 col18\" >0</td>\n",
              "                        <td id=\"T_e4e28e80_55be_11eb_abc6_0242ac1c0002row4_col19\" class=\"data row4 col19\" >0</td>\n",
              "                        <td id=\"T_e4e28e80_55be_11eb_abc6_0242ac1c0002row4_col20\" class=\"data row4 col20\" >0</td>\n",
              "                        <td id=\"T_e4e28e80_55be_11eb_abc6_0242ac1c0002row4_col21\" class=\"data row4 col21\" >0</td>\n",
              "                        <td id=\"T_e4e28e80_55be_11eb_abc6_0242ac1c0002row4_col22\" class=\"data row4 col22\" >0</td>\n",
              "                        <td id=\"T_e4e28e80_55be_11eb_abc6_0242ac1c0002row4_col23\" class=\"data row4 col23\" >0</td>\n",
              "                        <td id=\"T_e4e28e80_55be_11eb_abc6_0242ac1c0002row4_col24\" class=\"data row4 col24\" >0</td>\n",
              "                        <td id=\"T_e4e28e80_55be_11eb_abc6_0242ac1c0002row4_col25\" class=\"data row4 col25\" >0</td>\n",
              "                        <td id=\"T_e4e28e80_55be_11eb_abc6_0242ac1c0002row4_col26\" class=\"data row4 col26\" >0</td>\n",
              "                        <td id=\"T_e4e28e80_55be_11eb_abc6_0242ac1c0002row4_col27\" class=\"data row4 col27\" >0</td>\n",
              "            </tr>\n",
              "            <tr>\n",
              "                        <th id=\"T_e4e28e80_55be_11eb_abc6_0242ac1c0002level0_row5\" class=\"row_heading level0 row5\" >5</th>\n",
              "                        <td id=\"T_e4e28e80_55be_11eb_abc6_0242ac1c0002row5_col0\" class=\"data row5 col0\" >0</td>\n",
              "                        <td id=\"T_e4e28e80_55be_11eb_abc6_0242ac1c0002row5_col1\" class=\"data row5 col1\" >0</td>\n",
              "                        <td id=\"T_e4e28e80_55be_11eb_abc6_0242ac1c0002row5_col2\" class=\"data row5 col2\" >0</td>\n",
              "                        <td id=\"T_e4e28e80_55be_11eb_abc6_0242ac1c0002row5_col3\" class=\"data row5 col3\" >0</td>\n",
              "                        <td id=\"T_e4e28e80_55be_11eb_abc6_0242ac1c0002row5_col4\" class=\"data row5 col4\" >0</td>\n",
              "                        <td id=\"T_e4e28e80_55be_11eb_abc6_0242ac1c0002row5_col5\" class=\"data row5 col5\" >0</td>\n",
              "                        <td id=\"T_e4e28e80_55be_11eb_abc6_0242ac1c0002row5_col6\" class=\"data row5 col6\" >0</td>\n",
              "                        <td id=\"T_e4e28e80_55be_11eb_abc6_0242ac1c0002row5_col7\" class=\"data row5 col7\" >0</td>\n",
              "                        <td id=\"T_e4e28e80_55be_11eb_abc6_0242ac1c0002row5_col8\" class=\"data row5 col8\" >0</td>\n",
              "                        <td id=\"T_e4e28e80_55be_11eb_abc6_0242ac1c0002row5_col9\" class=\"data row5 col9\" >0</td>\n",
              "                        <td id=\"T_e4e28e80_55be_11eb_abc6_0242ac1c0002row5_col10\" class=\"data row5 col10\" >104</td>\n",
              "                        <td id=\"T_e4e28e80_55be_11eb_abc6_0242ac1c0002row5_col11\" class=\"data row5 col11\" >253</td>\n",
              "                        <td id=\"T_e4e28e80_55be_11eb_abc6_0242ac1c0002row5_col12\" class=\"data row5 col12\" >253</td>\n",
              "                        <td id=\"T_e4e28e80_55be_11eb_abc6_0242ac1c0002row5_col13\" class=\"data row5 col13\" >253</td>\n",
              "                        <td id=\"T_e4e28e80_55be_11eb_abc6_0242ac1c0002row5_col14\" class=\"data row5 col14\" >255</td>\n",
              "                        <td id=\"T_e4e28e80_55be_11eb_abc6_0242ac1c0002row5_col15\" class=\"data row5 col15\" >253</td>\n",
              "                        <td id=\"T_e4e28e80_55be_11eb_abc6_0242ac1c0002row5_col16\" class=\"data row5 col16\" >253</td>\n",
              "                        <td id=\"T_e4e28e80_55be_11eb_abc6_0242ac1c0002row5_col17\" class=\"data row5 col17\" >253</td>\n",
              "                        <td id=\"T_e4e28e80_55be_11eb_abc6_0242ac1c0002row5_col18\" class=\"data row5 col18\" >218</td>\n",
              "                        <td id=\"T_e4e28e80_55be_11eb_abc6_0242ac1c0002row5_col19\" class=\"data row5 col19\" >32</td>\n",
              "                        <td id=\"T_e4e28e80_55be_11eb_abc6_0242ac1c0002row5_col20\" class=\"data row5 col20\" >0</td>\n",
              "                        <td id=\"T_e4e28e80_55be_11eb_abc6_0242ac1c0002row5_col21\" class=\"data row5 col21\" >0</td>\n",
              "                        <td id=\"T_e4e28e80_55be_11eb_abc6_0242ac1c0002row5_col22\" class=\"data row5 col22\" >0</td>\n",
              "                        <td id=\"T_e4e28e80_55be_11eb_abc6_0242ac1c0002row5_col23\" class=\"data row5 col23\" >0</td>\n",
              "                        <td id=\"T_e4e28e80_55be_11eb_abc6_0242ac1c0002row5_col24\" class=\"data row5 col24\" >0</td>\n",
              "                        <td id=\"T_e4e28e80_55be_11eb_abc6_0242ac1c0002row5_col25\" class=\"data row5 col25\" >0</td>\n",
              "                        <td id=\"T_e4e28e80_55be_11eb_abc6_0242ac1c0002row5_col26\" class=\"data row5 col26\" >0</td>\n",
              "                        <td id=\"T_e4e28e80_55be_11eb_abc6_0242ac1c0002row5_col27\" class=\"data row5 col27\" >0</td>\n",
              "            </tr>\n",
              "            <tr>\n",
              "                        <th id=\"T_e4e28e80_55be_11eb_abc6_0242ac1c0002level0_row6\" class=\"row_heading level0 row6\" >6</th>\n",
              "                        <td id=\"T_e4e28e80_55be_11eb_abc6_0242ac1c0002row6_col0\" class=\"data row6 col0\" >0</td>\n",
              "                        <td id=\"T_e4e28e80_55be_11eb_abc6_0242ac1c0002row6_col1\" class=\"data row6 col1\" >0</td>\n",
              "                        <td id=\"T_e4e28e80_55be_11eb_abc6_0242ac1c0002row6_col2\" class=\"data row6 col2\" >0</td>\n",
              "                        <td id=\"T_e4e28e80_55be_11eb_abc6_0242ac1c0002row6_col3\" class=\"data row6 col3\" >0</td>\n",
              "                        <td id=\"T_e4e28e80_55be_11eb_abc6_0242ac1c0002row6_col4\" class=\"data row6 col4\" >0</td>\n",
              "                        <td id=\"T_e4e28e80_55be_11eb_abc6_0242ac1c0002row6_col5\" class=\"data row6 col5\" >0</td>\n",
              "                        <td id=\"T_e4e28e80_55be_11eb_abc6_0242ac1c0002row6_col6\" class=\"data row6 col6\" >0</td>\n",
              "                        <td id=\"T_e4e28e80_55be_11eb_abc6_0242ac1c0002row6_col7\" class=\"data row6 col7\" >0</td>\n",
              "                        <td id=\"T_e4e28e80_55be_11eb_abc6_0242ac1c0002row6_col8\" class=\"data row6 col8\" >0</td>\n",
              "                        <td id=\"T_e4e28e80_55be_11eb_abc6_0242ac1c0002row6_col9\" class=\"data row6 col9\" >178</td>\n",
              "                        <td id=\"T_e4e28e80_55be_11eb_abc6_0242ac1c0002row6_col10\" class=\"data row6 col10\" >248</td>\n",
              "                        <td id=\"T_e4e28e80_55be_11eb_abc6_0242ac1c0002row6_col11\" class=\"data row6 col11\" >252</td>\n",
              "                        <td id=\"T_e4e28e80_55be_11eb_abc6_0242ac1c0002row6_col12\" class=\"data row6 col12\" >252</td>\n",
              "                        <td id=\"T_e4e28e80_55be_11eb_abc6_0242ac1c0002row6_col13\" class=\"data row6 col13\" >252</td>\n",
              "                        <td id=\"T_e4e28e80_55be_11eb_abc6_0242ac1c0002row6_col14\" class=\"data row6 col14\" >253</td>\n",
              "                        <td id=\"T_e4e28e80_55be_11eb_abc6_0242ac1c0002row6_col15\" class=\"data row6 col15\" >252</td>\n",
              "                        <td id=\"T_e4e28e80_55be_11eb_abc6_0242ac1c0002row6_col16\" class=\"data row6 col16\" >252</td>\n",
              "                        <td id=\"T_e4e28e80_55be_11eb_abc6_0242ac1c0002row6_col17\" class=\"data row6 col17\" >252</td>\n",
              "                        <td id=\"T_e4e28e80_55be_11eb_abc6_0242ac1c0002row6_col18\" class=\"data row6 col18\" >252</td>\n",
              "                        <td id=\"T_e4e28e80_55be_11eb_abc6_0242ac1c0002row6_col19\" class=\"data row6 col19\" >215</td>\n",
              "                        <td id=\"T_e4e28e80_55be_11eb_abc6_0242ac1c0002row6_col20\" class=\"data row6 col20\" >34</td>\n",
              "                        <td id=\"T_e4e28e80_55be_11eb_abc6_0242ac1c0002row6_col21\" class=\"data row6 col21\" >0</td>\n",
              "                        <td id=\"T_e4e28e80_55be_11eb_abc6_0242ac1c0002row6_col22\" class=\"data row6 col22\" >0</td>\n",
              "                        <td id=\"T_e4e28e80_55be_11eb_abc6_0242ac1c0002row6_col23\" class=\"data row6 col23\" >0</td>\n",
              "                        <td id=\"T_e4e28e80_55be_11eb_abc6_0242ac1c0002row6_col24\" class=\"data row6 col24\" >0</td>\n",
              "                        <td id=\"T_e4e28e80_55be_11eb_abc6_0242ac1c0002row6_col25\" class=\"data row6 col25\" >0</td>\n",
              "                        <td id=\"T_e4e28e80_55be_11eb_abc6_0242ac1c0002row6_col26\" class=\"data row6 col26\" >0</td>\n",
              "                        <td id=\"T_e4e28e80_55be_11eb_abc6_0242ac1c0002row6_col27\" class=\"data row6 col27\" >0</td>\n",
              "            </tr>\n",
              "            <tr>\n",
              "                        <th id=\"T_e4e28e80_55be_11eb_abc6_0242ac1c0002level0_row7\" class=\"row_heading level0 row7\" >7</th>\n",
              "                        <td id=\"T_e4e28e80_55be_11eb_abc6_0242ac1c0002row7_col0\" class=\"data row7 col0\" >0</td>\n",
              "                        <td id=\"T_e4e28e80_55be_11eb_abc6_0242ac1c0002row7_col1\" class=\"data row7 col1\" >0</td>\n",
              "                        <td id=\"T_e4e28e80_55be_11eb_abc6_0242ac1c0002row7_col2\" class=\"data row7 col2\" >0</td>\n",
              "                        <td id=\"T_e4e28e80_55be_11eb_abc6_0242ac1c0002row7_col3\" class=\"data row7 col3\" >0</td>\n",
              "                        <td id=\"T_e4e28e80_55be_11eb_abc6_0242ac1c0002row7_col4\" class=\"data row7 col4\" >0</td>\n",
              "                        <td id=\"T_e4e28e80_55be_11eb_abc6_0242ac1c0002row7_col5\" class=\"data row7 col5\" >0</td>\n",
              "                        <td id=\"T_e4e28e80_55be_11eb_abc6_0242ac1c0002row7_col6\" class=\"data row7 col6\" >0</td>\n",
              "                        <td id=\"T_e4e28e80_55be_11eb_abc6_0242ac1c0002row7_col7\" class=\"data row7 col7\" >0</td>\n",
              "                        <td id=\"T_e4e28e80_55be_11eb_abc6_0242ac1c0002row7_col8\" class=\"data row7 col8\" >0</td>\n",
              "                        <td id=\"T_e4e28e80_55be_11eb_abc6_0242ac1c0002row7_col9\" class=\"data row7 col9\" >186</td>\n",
              "                        <td id=\"T_e4e28e80_55be_11eb_abc6_0242ac1c0002row7_col10\" class=\"data row7 col10\" >252</td>\n",
              "                        <td id=\"T_e4e28e80_55be_11eb_abc6_0242ac1c0002row7_col11\" class=\"data row7 col11\" >252</td>\n",
              "                        <td id=\"T_e4e28e80_55be_11eb_abc6_0242ac1c0002row7_col12\" class=\"data row7 col12\" >252</td>\n",
              "                        <td id=\"T_e4e28e80_55be_11eb_abc6_0242ac1c0002row7_col13\" class=\"data row7 col13\" >252</td>\n",
              "                        <td id=\"T_e4e28e80_55be_11eb_abc6_0242ac1c0002row7_col14\" class=\"data row7 col14\" >253</td>\n",
              "                        <td id=\"T_e4e28e80_55be_11eb_abc6_0242ac1c0002row7_col15\" class=\"data row7 col15\" >252</td>\n",
              "                        <td id=\"T_e4e28e80_55be_11eb_abc6_0242ac1c0002row7_col16\" class=\"data row7 col16\" >252</td>\n",
              "                        <td id=\"T_e4e28e80_55be_11eb_abc6_0242ac1c0002row7_col17\" class=\"data row7 col17\" >252</td>\n",
              "                        <td id=\"T_e4e28e80_55be_11eb_abc6_0242ac1c0002row7_col18\" class=\"data row7 col18\" >252</td>\n",
              "                        <td id=\"T_e4e28e80_55be_11eb_abc6_0242ac1c0002row7_col19\" class=\"data row7 col19\" >252</td>\n",
              "                        <td id=\"T_e4e28e80_55be_11eb_abc6_0242ac1c0002row7_col20\" class=\"data row7 col20\" >79</td>\n",
              "                        <td id=\"T_e4e28e80_55be_11eb_abc6_0242ac1c0002row7_col21\" class=\"data row7 col21\" >0</td>\n",
              "                        <td id=\"T_e4e28e80_55be_11eb_abc6_0242ac1c0002row7_col22\" class=\"data row7 col22\" >0</td>\n",
              "                        <td id=\"T_e4e28e80_55be_11eb_abc6_0242ac1c0002row7_col23\" class=\"data row7 col23\" >0</td>\n",
              "                        <td id=\"T_e4e28e80_55be_11eb_abc6_0242ac1c0002row7_col24\" class=\"data row7 col24\" >0</td>\n",
              "                        <td id=\"T_e4e28e80_55be_11eb_abc6_0242ac1c0002row7_col25\" class=\"data row7 col25\" >0</td>\n",
              "                        <td id=\"T_e4e28e80_55be_11eb_abc6_0242ac1c0002row7_col26\" class=\"data row7 col26\" >0</td>\n",
              "                        <td id=\"T_e4e28e80_55be_11eb_abc6_0242ac1c0002row7_col27\" class=\"data row7 col27\" >0</td>\n",
              "            </tr>\n",
              "            <tr>\n",
              "                        <th id=\"T_e4e28e80_55be_11eb_abc6_0242ac1c0002level0_row8\" class=\"row_heading level0 row8\" >8</th>\n",
              "                        <td id=\"T_e4e28e80_55be_11eb_abc6_0242ac1c0002row8_col0\" class=\"data row8 col0\" >0</td>\n",
              "                        <td id=\"T_e4e28e80_55be_11eb_abc6_0242ac1c0002row8_col1\" class=\"data row8 col1\" >0</td>\n",
              "                        <td id=\"T_e4e28e80_55be_11eb_abc6_0242ac1c0002row8_col2\" class=\"data row8 col2\" >0</td>\n",
              "                        <td id=\"T_e4e28e80_55be_11eb_abc6_0242ac1c0002row8_col3\" class=\"data row8 col3\" >0</td>\n",
              "                        <td id=\"T_e4e28e80_55be_11eb_abc6_0242ac1c0002row8_col4\" class=\"data row8 col4\" >0</td>\n",
              "                        <td id=\"T_e4e28e80_55be_11eb_abc6_0242ac1c0002row8_col5\" class=\"data row8 col5\" >0</td>\n",
              "                        <td id=\"T_e4e28e80_55be_11eb_abc6_0242ac1c0002row8_col6\" class=\"data row8 col6\" >0</td>\n",
              "                        <td id=\"T_e4e28e80_55be_11eb_abc6_0242ac1c0002row8_col7\" class=\"data row8 col7\" >0</td>\n",
              "                        <td id=\"T_e4e28e80_55be_11eb_abc6_0242ac1c0002row8_col8\" class=\"data row8 col8\" >0</td>\n",
              "                        <td id=\"T_e4e28e80_55be_11eb_abc6_0242ac1c0002row8_col9\" class=\"data row8 col9\" >186</td>\n",
              "                        <td id=\"T_e4e28e80_55be_11eb_abc6_0242ac1c0002row8_col10\" class=\"data row8 col10\" >252</td>\n",
              "                        <td id=\"T_e4e28e80_55be_11eb_abc6_0242ac1c0002row8_col11\" class=\"data row8 col11\" >243</td>\n",
              "                        <td id=\"T_e4e28e80_55be_11eb_abc6_0242ac1c0002row8_col12\" class=\"data row8 col12\" >172</td>\n",
              "                        <td id=\"T_e4e28e80_55be_11eb_abc6_0242ac1c0002row8_col13\" class=\"data row8 col13\" >172</td>\n",
              "                        <td id=\"T_e4e28e80_55be_11eb_abc6_0242ac1c0002row8_col14\" class=\"data row8 col14\" >39</td>\n",
              "                        <td id=\"T_e4e28e80_55be_11eb_abc6_0242ac1c0002row8_col15\" class=\"data row8 col15\" >39</td>\n",
              "                        <td id=\"T_e4e28e80_55be_11eb_abc6_0242ac1c0002row8_col16\" class=\"data row8 col16\" >39</td>\n",
              "                        <td id=\"T_e4e28e80_55be_11eb_abc6_0242ac1c0002row8_col17\" class=\"data row8 col17\" >219</td>\n",
              "                        <td id=\"T_e4e28e80_55be_11eb_abc6_0242ac1c0002row8_col18\" class=\"data row8 col18\" >252</td>\n",
              "                        <td id=\"T_e4e28e80_55be_11eb_abc6_0242ac1c0002row8_col19\" class=\"data row8 col19\" >252</td>\n",
              "                        <td id=\"T_e4e28e80_55be_11eb_abc6_0242ac1c0002row8_col20\" class=\"data row8 col20\" >79</td>\n",
              "                        <td id=\"T_e4e28e80_55be_11eb_abc6_0242ac1c0002row8_col21\" class=\"data row8 col21\" >0</td>\n",
              "                        <td id=\"T_e4e28e80_55be_11eb_abc6_0242ac1c0002row8_col22\" class=\"data row8 col22\" >0</td>\n",
              "                        <td id=\"T_e4e28e80_55be_11eb_abc6_0242ac1c0002row8_col23\" class=\"data row8 col23\" >0</td>\n",
              "                        <td id=\"T_e4e28e80_55be_11eb_abc6_0242ac1c0002row8_col24\" class=\"data row8 col24\" >0</td>\n",
              "                        <td id=\"T_e4e28e80_55be_11eb_abc6_0242ac1c0002row8_col25\" class=\"data row8 col25\" >0</td>\n",
              "                        <td id=\"T_e4e28e80_55be_11eb_abc6_0242ac1c0002row8_col26\" class=\"data row8 col26\" >0</td>\n",
              "                        <td id=\"T_e4e28e80_55be_11eb_abc6_0242ac1c0002row8_col27\" class=\"data row8 col27\" >0</td>\n",
              "            </tr>\n",
              "            <tr>\n",
              "                        <th id=\"T_e4e28e80_55be_11eb_abc6_0242ac1c0002level0_row9\" class=\"row_heading level0 row9\" >9</th>\n",
              "                        <td id=\"T_e4e28e80_55be_11eb_abc6_0242ac1c0002row9_col0\" class=\"data row9 col0\" >0</td>\n",
              "                        <td id=\"T_e4e28e80_55be_11eb_abc6_0242ac1c0002row9_col1\" class=\"data row9 col1\" >0</td>\n",
              "                        <td id=\"T_e4e28e80_55be_11eb_abc6_0242ac1c0002row9_col2\" class=\"data row9 col2\" >0</td>\n",
              "                        <td id=\"T_e4e28e80_55be_11eb_abc6_0242ac1c0002row9_col3\" class=\"data row9 col3\" >0</td>\n",
              "                        <td id=\"T_e4e28e80_55be_11eb_abc6_0242ac1c0002row9_col4\" class=\"data row9 col4\" >0</td>\n",
              "                        <td id=\"T_e4e28e80_55be_11eb_abc6_0242ac1c0002row9_col5\" class=\"data row9 col5\" >0</td>\n",
              "                        <td id=\"T_e4e28e80_55be_11eb_abc6_0242ac1c0002row9_col6\" class=\"data row9 col6\" >0</td>\n",
              "                        <td id=\"T_e4e28e80_55be_11eb_abc6_0242ac1c0002row9_col7\" class=\"data row9 col7\" >0</td>\n",
              "                        <td id=\"T_e4e28e80_55be_11eb_abc6_0242ac1c0002row9_col8\" class=\"data row9 col8\" >0</td>\n",
              "                        <td id=\"T_e4e28e80_55be_11eb_abc6_0242ac1c0002row9_col9\" class=\"data row9 col9\" >39</td>\n",
              "                        <td id=\"T_e4e28e80_55be_11eb_abc6_0242ac1c0002row9_col10\" class=\"data row9 col10\" >53</td>\n",
              "                        <td id=\"T_e4e28e80_55be_11eb_abc6_0242ac1c0002row9_col11\" class=\"data row9 col11\" >47</td>\n",
              "                        <td id=\"T_e4e28e80_55be_11eb_abc6_0242ac1c0002row9_col12\" class=\"data row9 col12\" >0</td>\n",
              "                        <td id=\"T_e4e28e80_55be_11eb_abc6_0242ac1c0002row9_col13\" class=\"data row9 col13\" >0</td>\n",
              "                        <td id=\"T_e4e28e80_55be_11eb_abc6_0242ac1c0002row9_col14\" class=\"data row9 col14\" >0</td>\n",
              "                        <td id=\"T_e4e28e80_55be_11eb_abc6_0242ac1c0002row9_col15\" class=\"data row9 col15\" >29</td>\n",
              "                        <td id=\"T_e4e28e80_55be_11eb_abc6_0242ac1c0002row9_col16\" class=\"data row9 col16\" >117</td>\n",
              "                        <td id=\"T_e4e28e80_55be_11eb_abc6_0242ac1c0002row9_col17\" class=\"data row9 col17\" >244</td>\n",
              "                        <td id=\"T_e4e28e80_55be_11eb_abc6_0242ac1c0002row9_col18\" class=\"data row9 col18\" >252</td>\n",
              "                        <td id=\"T_e4e28e80_55be_11eb_abc6_0242ac1c0002row9_col19\" class=\"data row9 col19\" >252</td>\n",
              "                        <td id=\"T_e4e28e80_55be_11eb_abc6_0242ac1c0002row9_col20\" class=\"data row9 col20\" >79</td>\n",
              "                        <td id=\"T_e4e28e80_55be_11eb_abc6_0242ac1c0002row9_col21\" class=\"data row9 col21\" >0</td>\n",
              "                        <td id=\"T_e4e28e80_55be_11eb_abc6_0242ac1c0002row9_col22\" class=\"data row9 col22\" >0</td>\n",
              "                        <td id=\"T_e4e28e80_55be_11eb_abc6_0242ac1c0002row9_col23\" class=\"data row9 col23\" >0</td>\n",
              "                        <td id=\"T_e4e28e80_55be_11eb_abc6_0242ac1c0002row9_col24\" class=\"data row9 col24\" >0</td>\n",
              "                        <td id=\"T_e4e28e80_55be_11eb_abc6_0242ac1c0002row9_col25\" class=\"data row9 col25\" >0</td>\n",
              "                        <td id=\"T_e4e28e80_55be_11eb_abc6_0242ac1c0002row9_col26\" class=\"data row9 col26\" >0</td>\n",
              "                        <td id=\"T_e4e28e80_55be_11eb_abc6_0242ac1c0002row9_col27\" class=\"data row9 col27\" >0</td>\n",
              "            </tr>\n",
              "            <tr>\n",
              "                        <th id=\"T_e4e28e80_55be_11eb_abc6_0242ac1c0002level0_row10\" class=\"row_heading level0 row10\" >10</th>\n",
              "                        <td id=\"T_e4e28e80_55be_11eb_abc6_0242ac1c0002row10_col0\" class=\"data row10 col0\" >0</td>\n",
              "                        <td id=\"T_e4e28e80_55be_11eb_abc6_0242ac1c0002row10_col1\" class=\"data row10 col1\" >0</td>\n",
              "                        <td id=\"T_e4e28e80_55be_11eb_abc6_0242ac1c0002row10_col2\" class=\"data row10 col2\" >0</td>\n",
              "                        <td id=\"T_e4e28e80_55be_11eb_abc6_0242ac1c0002row10_col3\" class=\"data row10 col3\" >0</td>\n",
              "                        <td id=\"T_e4e28e80_55be_11eb_abc6_0242ac1c0002row10_col4\" class=\"data row10 col4\" >0</td>\n",
              "                        <td id=\"T_e4e28e80_55be_11eb_abc6_0242ac1c0002row10_col5\" class=\"data row10 col5\" >0</td>\n",
              "                        <td id=\"T_e4e28e80_55be_11eb_abc6_0242ac1c0002row10_col6\" class=\"data row10 col6\" >0</td>\n",
              "                        <td id=\"T_e4e28e80_55be_11eb_abc6_0242ac1c0002row10_col7\" class=\"data row10 col7\" >0</td>\n",
              "                        <td id=\"T_e4e28e80_55be_11eb_abc6_0242ac1c0002row10_col8\" class=\"data row10 col8\" >0</td>\n",
              "                        <td id=\"T_e4e28e80_55be_11eb_abc6_0242ac1c0002row10_col9\" class=\"data row10 col9\" >0</td>\n",
              "                        <td id=\"T_e4e28e80_55be_11eb_abc6_0242ac1c0002row10_col10\" class=\"data row10 col10\" >0</td>\n",
              "                        <td id=\"T_e4e28e80_55be_11eb_abc6_0242ac1c0002row10_col11\" class=\"data row10 col11\" >0</td>\n",
              "                        <td id=\"T_e4e28e80_55be_11eb_abc6_0242ac1c0002row10_col12\" class=\"data row10 col12\" >0</td>\n",
              "                        <td id=\"T_e4e28e80_55be_11eb_abc6_0242ac1c0002row10_col13\" class=\"data row10 col13\" >0</td>\n",
              "                        <td id=\"T_e4e28e80_55be_11eb_abc6_0242ac1c0002row10_col14\" class=\"data row10 col14\" >54</td>\n",
              "                        <td id=\"T_e4e28e80_55be_11eb_abc6_0242ac1c0002row10_col15\" class=\"data row10 col15\" >208</td>\n",
              "                        <td id=\"T_e4e28e80_55be_11eb_abc6_0242ac1c0002row10_col16\" class=\"data row10 col16\" >252</td>\n",
              "                        <td id=\"T_e4e28e80_55be_11eb_abc6_0242ac1c0002row10_col17\" class=\"data row10 col17\" >252</td>\n",
              "                        <td id=\"T_e4e28e80_55be_11eb_abc6_0242ac1c0002row10_col18\" class=\"data row10 col18\" >252</td>\n",
              "                        <td id=\"T_e4e28e80_55be_11eb_abc6_0242ac1c0002row10_col19\" class=\"data row10 col19\" >184</td>\n",
              "                        <td id=\"T_e4e28e80_55be_11eb_abc6_0242ac1c0002row10_col20\" class=\"data row10 col20\" >21</td>\n",
              "                        <td id=\"T_e4e28e80_55be_11eb_abc6_0242ac1c0002row10_col21\" class=\"data row10 col21\" >0</td>\n",
              "                        <td id=\"T_e4e28e80_55be_11eb_abc6_0242ac1c0002row10_col22\" class=\"data row10 col22\" >0</td>\n",
              "                        <td id=\"T_e4e28e80_55be_11eb_abc6_0242ac1c0002row10_col23\" class=\"data row10 col23\" >0</td>\n",
              "                        <td id=\"T_e4e28e80_55be_11eb_abc6_0242ac1c0002row10_col24\" class=\"data row10 col24\" >0</td>\n",
              "                        <td id=\"T_e4e28e80_55be_11eb_abc6_0242ac1c0002row10_col25\" class=\"data row10 col25\" >0</td>\n",
              "                        <td id=\"T_e4e28e80_55be_11eb_abc6_0242ac1c0002row10_col26\" class=\"data row10 col26\" >0</td>\n",
              "                        <td id=\"T_e4e28e80_55be_11eb_abc6_0242ac1c0002row10_col27\" class=\"data row10 col27\" >0</td>\n",
              "            </tr>\n",
              "            <tr>\n",
              "                        <th id=\"T_e4e28e80_55be_11eb_abc6_0242ac1c0002level0_row11\" class=\"row_heading level0 row11\" >11</th>\n",
              "                        <td id=\"T_e4e28e80_55be_11eb_abc6_0242ac1c0002row11_col0\" class=\"data row11 col0\" >0</td>\n",
              "                        <td id=\"T_e4e28e80_55be_11eb_abc6_0242ac1c0002row11_col1\" class=\"data row11 col1\" >0</td>\n",
              "                        <td id=\"T_e4e28e80_55be_11eb_abc6_0242ac1c0002row11_col2\" class=\"data row11 col2\" >0</td>\n",
              "                        <td id=\"T_e4e28e80_55be_11eb_abc6_0242ac1c0002row11_col3\" class=\"data row11 col3\" >0</td>\n",
              "                        <td id=\"T_e4e28e80_55be_11eb_abc6_0242ac1c0002row11_col4\" class=\"data row11 col4\" >0</td>\n",
              "                        <td id=\"T_e4e28e80_55be_11eb_abc6_0242ac1c0002row11_col5\" class=\"data row11 col5\" >0</td>\n",
              "                        <td id=\"T_e4e28e80_55be_11eb_abc6_0242ac1c0002row11_col6\" class=\"data row11 col6\" >0</td>\n",
              "                        <td id=\"T_e4e28e80_55be_11eb_abc6_0242ac1c0002row11_col7\" class=\"data row11 col7\" >0</td>\n",
              "                        <td id=\"T_e4e28e80_55be_11eb_abc6_0242ac1c0002row11_col8\" class=\"data row11 col8\" >0</td>\n",
              "                        <td id=\"T_e4e28e80_55be_11eb_abc6_0242ac1c0002row11_col9\" class=\"data row11 col9\" >0</td>\n",
              "                        <td id=\"T_e4e28e80_55be_11eb_abc6_0242ac1c0002row11_col10\" class=\"data row11 col10\" >0</td>\n",
              "                        <td id=\"T_e4e28e80_55be_11eb_abc6_0242ac1c0002row11_col11\" class=\"data row11 col11\" >0</td>\n",
              "                        <td id=\"T_e4e28e80_55be_11eb_abc6_0242ac1c0002row11_col12\" class=\"data row11 col12\" >3</td>\n",
              "                        <td id=\"T_e4e28e80_55be_11eb_abc6_0242ac1c0002row11_col13\" class=\"data row11 col13\" >41</td>\n",
              "                        <td id=\"T_e4e28e80_55be_11eb_abc6_0242ac1c0002row11_col14\" class=\"data row11 col14\" >253</td>\n",
              "                        <td id=\"T_e4e28e80_55be_11eb_abc6_0242ac1c0002row11_col15\" class=\"data row11 col15\" >252</td>\n",
              "                        <td id=\"T_e4e28e80_55be_11eb_abc6_0242ac1c0002row11_col16\" class=\"data row11 col16\" >252</td>\n",
              "                        <td id=\"T_e4e28e80_55be_11eb_abc6_0242ac1c0002row11_col17\" class=\"data row11 col17\" >252</td>\n",
              "                        <td id=\"T_e4e28e80_55be_11eb_abc6_0242ac1c0002row11_col18\" class=\"data row11 col18\" >206</td>\n",
              "                        <td id=\"T_e4e28e80_55be_11eb_abc6_0242ac1c0002row11_col19\" class=\"data row11 col19\" >21</td>\n",
              "                        <td id=\"T_e4e28e80_55be_11eb_abc6_0242ac1c0002row11_col20\" class=\"data row11 col20\" >0</td>\n",
              "                        <td id=\"T_e4e28e80_55be_11eb_abc6_0242ac1c0002row11_col21\" class=\"data row11 col21\" >0</td>\n",
              "                        <td id=\"T_e4e28e80_55be_11eb_abc6_0242ac1c0002row11_col22\" class=\"data row11 col22\" >0</td>\n",
              "                        <td id=\"T_e4e28e80_55be_11eb_abc6_0242ac1c0002row11_col23\" class=\"data row11 col23\" >0</td>\n",
              "                        <td id=\"T_e4e28e80_55be_11eb_abc6_0242ac1c0002row11_col24\" class=\"data row11 col24\" >0</td>\n",
              "                        <td id=\"T_e4e28e80_55be_11eb_abc6_0242ac1c0002row11_col25\" class=\"data row11 col25\" >0</td>\n",
              "                        <td id=\"T_e4e28e80_55be_11eb_abc6_0242ac1c0002row11_col26\" class=\"data row11 col26\" >0</td>\n",
              "                        <td id=\"T_e4e28e80_55be_11eb_abc6_0242ac1c0002row11_col27\" class=\"data row11 col27\" >0</td>\n",
              "            </tr>\n",
              "            <tr>\n",
              "                        <th id=\"T_e4e28e80_55be_11eb_abc6_0242ac1c0002level0_row12\" class=\"row_heading level0 row12\" >12</th>\n",
              "                        <td id=\"T_e4e28e80_55be_11eb_abc6_0242ac1c0002row12_col0\" class=\"data row12 col0\" >0</td>\n",
              "                        <td id=\"T_e4e28e80_55be_11eb_abc6_0242ac1c0002row12_col1\" class=\"data row12 col1\" >0</td>\n",
              "                        <td id=\"T_e4e28e80_55be_11eb_abc6_0242ac1c0002row12_col2\" class=\"data row12 col2\" >0</td>\n",
              "                        <td id=\"T_e4e28e80_55be_11eb_abc6_0242ac1c0002row12_col3\" class=\"data row12 col3\" >0</td>\n",
              "                        <td id=\"T_e4e28e80_55be_11eb_abc6_0242ac1c0002row12_col4\" class=\"data row12 col4\" >0</td>\n",
              "                        <td id=\"T_e4e28e80_55be_11eb_abc6_0242ac1c0002row12_col5\" class=\"data row12 col5\" >0</td>\n",
              "                        <td id=\"T_e4e28e80_55be_11eb_abc6_0242ac1c0002row12_col6\" class=\"data row12 col6\" >0</td>\n",
              "                        <td id=\"T_e4e28e80_55be_11eb_abc6_0242ac1c0002row12_col7\" class=\"data row12 col7\" >0</td>\n",
              "                        <td id=\"T_e4e28e80_55be_11eb_abc6_0242ac1c0002row12_col8\" class=\"data row12 col8\" >0</td>\n",
              "                        <td id=\"T_e4e28e80_55be_11eb_abc6_0242ac1c0002row12_col9\" class=\"data row12 col9\" >0</td>\n",
              "                        <td id=\"T_e4e28e80_55be_11eb_abc6_0242ac1c0002row12_col10\" class=\"data row12 col10\" >5</td>\n",
              "                        <td id=\"T_e4e28e80_55be_11eb_abc6_0242ac1c0002row12_col11\" class=\"data row12 col11\" >41</td>\n",
              "                        <td id=\"T_e4e28e80_55be_11eb_abc6_0242ac1c0002row12_col12\" class=\"data row12 col12\" >165</td>\n",
              "                        <td id=\"T_e4e28e80_55be_11eb_abc6_0242ac1c0002row12_col13\" class=\"data row12 col13\" >252</td>\n",
              "                        <td id=\"T_e4e28e80_55be_11eb_abc6_0242ac1c0002row12_col14\" class=\"data row12 col14\" >253</td>\n",
              "                        <td id=\"T_e4e28e80_55be_11eb_abc6_0242ac1c0002row12_col15\" class=\"data row12 col15\" >252</td>\n",
              "                        <td id=\"T_e4e28e80_55be_11eb_abc6_0242ac1c0002row12_col16\" class=\"data row12 col16\" >252</td>\n",
              "                        <td id=\"T_e4e28e80_55be_11eb_abc6_0242ac1c0002row12_col17\" class=\"data row12 col17\" >252</td>\n",
              "                        <td id=\"T_e4e28e80_55be_11eb_abc6_0242ac1c0002row12_col18\" class=\"data row12 col18\" >227</td>\n",
              "                        <td id=\"T_e4e28e80_55be_11eb_abc6_0242ac1c0002row12_col19\" class=\"data row12 col19\" >131</td>\n",
              "                        <td id=\"T_e4e28e80_55be_11eb_abc6_0242ac1c0002row12_col20\" class=\"data row12 col20\" >9</td>\n",
              "                        <td id=\"T_e4e28e80_55be_11eb_abc6_0242ac1c0002row12_col21\" class=\"data row12 col21\" >0</td>\n",
              "                        <td id=\"T_e4e28e80_55be_11eb_abc6_0242ac1c0002row12_col22\" class=\"data row12 col22\" >0</td>\n",
              "                        <td id=\"T_e4e28e80_55be_11eb_abc6_0242ac1c0002row12_col23\" class=\"data row12 col23\" >0</td>\n",
              "                        <td id=\"T_e4e28e80_55be_11eb_abc6_0242ac1c0002row12_col24\" class=\"data row12 col24\" >0</td>\n",
              "                        <td id=\"T_e4e28e80_55be_11eb_abc6_0242ac1c0002row12_col25\" class=\"data row12 col25\" >0</td>\n",
              "                        <td id=\"T_e4e28e80_55be_11eb_abc6_0242ac1c0002row12_col26\" class=\"data row12 col26\" >0</td>\n",
              "                        <td id=\"T_e4e28e80_55be_11eb_abc6_0242ac1c0002row12_col27\" class=\"data row12 col27\" >0</td>\n",
              "            </tr>\n",
              "            <tr>\n",
              "                        <th id=\"T_e4e28e80_55be_11eb_abc6_0242ac1c0002level0_row13\" class=\"row_heading level0 row13\" >13</th>\n",
              "                        <td id=\"T_e4e28e80_55be_11eb_abc6_0242ac1c0002row13_col0\" class=\"data row13 col0\" >0</td>\n",
              "                        <td id=\"T_e4e28e80_55be_11eb_abc6_0242ac1c0002row13_col1\" class=\"data row13 col1\" >0</td>\n",
              "                        <td id=\"T_e4e28e80_55be_11eb_abc6_0242ac1c0002row13_col2\" class=\"data row13 col2\" >0</td>\n",
              "                        <td id=\"T_e4e28e80_55be_11eb_abc6_0242ac1c0002row13_col3\" class=\"data row13 col3\" >0</td>\n",
              "                        <td id=\"T_e4e28e80_55be_11eb_abc6_0242ac1c0002row13_col4\" class=\"data row13 col4\" >0</td>\n",
              "                        <td id=\"T_e4e28e80_55be_11eb_abc6_0242ac1c0002row13_col5\" class=\"data row13 col5\" >0</td>\n",
              "                        <td id=\"T_e4e28e80_55be_11eb_abc6_0242ac1c0002row13_col6\" class=\"data row13 col6\" >0</td>\n",
              "                        <td id=\"T_e4e28e80_55be_11eb_abc6_0242ac1c0002row13_col7\" class=\"data row13 col7\" >0</td>\n",
              "                        <td id=\"T_e4e28e80_55be_11eb_abc6_0242ac1c0002row13_col8\" class=\"data row13 col8\" >0</td>\n",
              "                        <td id=\"T_e4e28e80_55be_11eb_abc6_0242ac1c0002row13_col9\" class=\"data row13 col9\" >109</td>\n",
              "                        <td id=\"T_e4e28e80_55be_11eb_abc6_0242ac1c0002row13_col10\" class=\"data row13 col10\" >163</td>\n",
              "                        <td id=\"T_e4e28e80_55be_11eb_abc6_0242ac1c0002row13_col11\" class=\"data row13 col11\" >252</td>\n",
              "                        <td id=\"T_e4e28e80_55be_11eb_abc6_0242ac1c0002row13_col12\" class=\"data row13 col12\" >252</td>\n",
              "                        <td id=\"T_e4e28e80_55be_11eb_abc6_0242ac1c0002row13_col13\" class=\"data row13 col13\" >252</td>\n",
              "                        <td id=\"T_e4e28e80_55be_11eb_abc6_0242ac1c0002row13_col14\" class=\"data row13 col14\" >253</td>\n",
              "                        <td id=\"T_e4e28e80_55be_11eb_abc6_0242ac1c0002row13_col15\" class=\"data row13 col15\" >252</td>\n",
              "                        <td id=\"T_e4e28e80_55be_11eb_abc6_0242ac1c0002row13_col16\" class=\"data row13 col16\" >252</td>\n",
              "                        <td id=\"T_e4e28e80_55be_11eb_abc6_0242ac1c0002row13_col17\" class=\"data row13 col17\" >252</td>\n",
              "                        <td id=\"T_e4e28e80_55be_11eb_abc6_0242ac1c0002row13_col18\" class=\"data row13 col18\" >252</td>\n",
              "                        <td id=\"T_e4e28e80_55be_11eb_abc6_0242ac1c0002row13_col19\" class=\"data row13 col19\" >252</td>\n",
              "                        <td id=\"T_e4e28e80_55be_11eb_abc6_0242ac1c0002row13_col20\" class=\"data row13 col20\" >156</td>\n",
              "                        <td id=\"T_e4e28e80_55be_11eb_abc6_0242ac1c0002row13_col21\" class=\"data row13 col21\" >0</td>\n",
              "                        <td id=\"T_e4e28e80_55be_11eb_abc6_0242ac1c0002row13_col22\" class=\"data row13 col22\" >0</td>\n",
              "                        <td id=\"T_e4e28e80_55be_11eb_abc6_0242ac1c0002row13_col23\" class=\"data row13 col23\" >0</td>\n",
              "                        <td id=\"T_e4e28e80_55be_11eb_abc6_0242ac1c0002row13_col24\" class=\"data row13 col24\" >0</td>\n",
              "                        <td id=\"T_e4e28e80_55be_11eb_abc6_0242ac1c0002row13_col25\" class=\"data row13 col25\" >0</td>\n",
              "                        <td id=\"T_e4e28e80_55be_11eb_abc6_0242ac1c0002row13_col26\" class=\"data row13 col26\" >0</td>\n",
              "                        <td id=\"T_e4e28e80_55be_11eb_abc6_0242ac1c0002row13_col27\" class=\"data row13 col27\" >0</td>\n",
              "            </tr>\n",
              "            <tr>\n",
              "                        <th id=\"T_e4e28e80_55be_11eb_abc6_0242ac1c0002level0_row14\" class=\"row_heading level0 row14\" >14</th>\n",
              "                        <td id=\"T_e4e28e80_55be_11eb_abc6_0242ac1c0002row14_col0\" class=\"data row14 col0\" >0</td>\n",
              "                        <td id=\"T_e4e28e80_55be_11eb_abc6_0242ac1c0002row14_col1\" class=\"data row14 col1\" >0</td>\n",
              "                        <td id=\"T_e4e28e80_55be_11eb_abc6_0242ac1c0002row14_col2\" class=\"data row14 col2\" >0</td>\n",
              "                        <td id=\"T_e4e28e80_55be_11eb_abc6_0242ac1c0002row14_col3\" class=\"data row14 col3\" >0</td>\n",
              "                        <td id=\"T_e4e28e80_55be_11eb_abc6_0242ac1c0002row14_col4\" class=\"data row14 col4\" >0</td>\n",
              "                        <td id=\"T_e4e28e80_55be_11eb_abc6_0242ac1c0002row14_col5\" class=\"data row14 col5\" >0</td>\n",
              "                        <td id=\"T_e4e28e80_55be_11eb_abc6_0242ac1c0002row14_col6\" class=\"data row14 col6\" >0</td>\n",
              "                        <td id=\"T_e4e28e80_55be_11eb_abc6_0242ac1c0002row14_col7\" class=\"data row14 col7\" >0</td>\n",
              "                        <td id=\"T_e4e28e80_55be_11eb_abc6_0242ac1c0002row14_col8\" class=\"data row14 col8\" >0</td>\n",
              "                        <td id=\"T_e4e28e80_55be_11eb_abc6_0242ac1c0002row14_col9\" class=\"data row14 col9\" >186</td>\n",
              "                        <td id=\"T_e4e28e80_55be_11eb_abc6_0242ac1c0002row14_col10\" class=\"data row14 col10\" >252</td>\n",
              "                        <td id=\"T_e4e28e80_55be_11eb_abc6_0242ac1c0002row14_col11\" class=\"data row14 col11\" >252</td>\n",
              "                        <td id=\"T_e4e28e80_55be_11eb_abc6_0242ac1c0002row14_col12\" class=\"data row14 col12\" >252</td>\n",
              "                        <td id=\"T_e4e28e80_55be_11eb_abc6_0242ac1c0002row14_col13\" class=\"data row14 col13\" >252</td>\n",
              "                        <td id=\"T_e4e28e80_55be_11eb_abc6_0242ac1c0002row14_col14\" class=\"data row14 col14\" >253</td>\n",
              "                        <td id=\"T_e4e28e80_55be_11eb_abc6_0242ac1c0002row14_col15\" class=\"data row14 col15\" >252</td>\n",
              "                        <td id=\"T_e4e28e80_55be_11eb_abc6_0242ac1c0002row14_col16\" class=\"data row14 col16\" >252</td>\n",
              "                        <td id=\"T_e4e28e80_55be_11eb_abc6_0242ac1c0002row14_col17\" class=\"data row14 col17\" >139</td>\n",
              "                        <td id=\"T_e4e28e80_55be_11eb_abc6_0242ac1c0002row14_col18\" class=\"data row14 col18\" >224</td>\n",
              "                        <td id=\"T_e4e28e80_55be_11eb_abc6_0242ac1c0002row14_col19\" class=\"data row14 col19\" >252</td>\n",
              "                        <td id=\"T_e4e28e80_55be_11eb_abc6_0242ac1c0002row14_col20\" class=\"data row14 col20\" >233</td>\n",
              "                        <td id=\"T_e4e28e80_55be_11eb_abc6_0242ac1c0002row14_col21\" class=\"data row14 col21\" >49</td>\n",
              "                        <td id=\"T_e4e28e80_55be_11eb_abc6_0242ac1c0002row14_col22\" class=\"data row14 col22\" >0</td>\n",
              "                        <td id=\"T_e4e28e80_55be_11eb_abc6_0242ac1c0002row14_col23\" class=\"data row14 col23\" >0</td>\n",
              "                        <td id=\"T_e4e28e80_55be_11eb_abc6_0242ac1c0002row14_col24\" class=\"data row14 col24\" >0</td>\n",
              "                        <td id=\"T_e4e28e80_55be_11eb_abc6_0242ac1c0002row14_col25\" class=\"data row14 col25\" >0</td>\n",
              "                        <td id=\"T_e4e28e80_55be_11eb_abc6_0242ac1c0002row14_col26\" class=\"data row14 col26\" >0</td>\n",
              "                        <td id=\"T_e4e28e80_55be_11eb_abc6_0242ac1c0002row14_col27\" class=\"data row14 col27\" >0</td>\n",
              "            </tr>\n",
              "            <tr>\n",
              "                        <th id=\"T_e4e28e80_55be_11eb_abc6_0242ac1c0002level0_row15\" class=\"row_heading level0 row15\" >15</th>\n",
              "                        <td id=\"T_e4e28e80_55be_11eb_abc6_0242ac1c0002row15_col0\" class=\"data row15 col0\" >0</td>\n",
              "                        <td id=\"T_e4e28e80_55be_11eb_abc6_0242ac1c0002row15_col1\" class=\"data row15 col1\" >0</td>\n",
              "                        <td id=\"T_e4e28e80_55be_11eb_abc6_0242ac1c0002row15_col2\" class=\"data row15 col2\" >0</td>\n",
              "                        <td id=\"T_e4e28e80_55be_11eb_abc6_0242ac1c0002row15_col3\" class=\"data row15 col3\" >0</td>\n",
              "                        <td id=\"T_e4e28e80_55be_11eb_abc6_0242ac1c0002row15_col4\" class=\"data row15 col4\" >0</td>\n",
              "                        <td id=\"T_e4e28e80_55be_11eb_abc6_0242ac1c0002row15_col5\" class=\"data row15 col5\" >0</td>\n",
              "                        <td id=\"T_e4e28e80_55be_11eb_abc6_0242ac1c0002row15_col6\" class=\"data row15 col6\" >0</td>\n",
              "                        <td id=\"T_e4e28e80_55be_11eb_abc6_0242ac1c0002row15_col7\" class=\"data row15 col7\" >0</td>\n",
              "                        <td id=\"T_e4e28e80_55be_11eb_abc6_0242ac1c0002row15_col8\" class=\"data row15 col8\" >0</td>\n",
              "                        <td id=\"T_e4e28e80_55be_11eb_abc6_0242ac1c0002row15_col9\" class=\"data row15 col9\" >187</td>\n",
              "                        <td id=\"T_e4e28e80_55be_11eb_abc6_0242ac1c0002row15_col10\" class=\"data row15 col10\" >253</td>\n",
              "                        <td id=\"T_e4e28e80_55be_11eb_abc6_0242ac1c0002row15_col11\" class=\"data row15 col11\" >253</td>\n",
              "                        <td id=\"T_e4e28e80_55be_11eb_abc6_0242ac1c0002row15_col12\" class=\"data row15 col12\" >253</td>\n",
              "                        <td id=\"T_e4e28e80_55be_11eb_abc6_0242ac1c0002row15_col13\" class=\"data row15 col13\" >253</td>\n",
              "                        <td id=\"T_e4e28e80_55be_11eb_abc6_0242ac1c0002row15_col14\" class=\"data row15 col14\" >134</td>\n",
              "                        <td id=\"T_e4e28e80_55be_11eb_abc6_0242ac1c0002row15_col15\" class=\"data row15 col15\" >77</td>\n",
              "                        <td id=\"T_e4e28e80_55be_11eb_abc6_0242ac1c0002row15_col16\" class=\"data row15 col16\" >0</td>\n",
              "                        <td id=\"T_e4e28e80_55be_11eb_abc6_0242ac1c0002row15_col17\" class=\"data row15 col17\" >0</td>\n",
              "                        <td id=\"T_e4e28e80_55be_11eb_abc6_0242ac1c0002row15_col18\" class=\"data row15 col18\" >130</td>\n",
              "                        <td id=\"T_e4e28e80_55be_11eb_abc6_0242ac1c0002row15_col19\" class=\"data row15 col19\" >253</td>\n",
              "                        <td id=\"T_e4e28e80_55be_11eb_abc6_0242ac1c0002row15_col20\" class=\"data row15 col20\" >253</td>\n",
              "                        <td id=\"T_e4e28e80_55be_11eb_abc6_0242ac1c0002row15_col21\" class=\"data row15 col21\" >93</td>\n",
              "                        <td id=\"T_e4e28e80_55be_11eb_abc6_0242ac1c0002row15_col22\" class=\"data row15 col22\" >0</td>\n",
              "                        <td id=\"T_e4e28e80_55be_11eb_abc6_0242ac1c0002row15_col23\" class=\"data row15 col23\" >0</td>\n",
              "                        <td id=\"T_e4e28e80_55be_11eb_abc6_0242ac1c0002row15_col24\" class=\"data row15 col24\" >0</td>\n",
              "                        <td id=\"T_e4e28e80_55be_11eb_abc6_0242ac1c0002row15_col25\" class=\"data row15 col25\" >0</td>\n",
              "                        <td id=\"T_e4e28e80_55be_11eb_abc6_0242ac1c0002row15_col26\" class=\"data row15 col26\" >0</td>\n",
              "                        <td id=\"T_e4e28e80_55be_11eb_abc6_0242ac1c0002row15_col27\" class=\"data row15 col27\" >0</td>\n",
              "            </tr>\n",
              "            <tr>\n",
              "                        <th id=\"T_e4e28e80_55be_11eb_abc6_0242ac1c0002level0_row16\" class=\"row_heading level0 row16\" >16</th>\n",
              "                        <td id=\"T_e4e28e80_55be_11eb_abc6_0242ac1c0002row16_col0\" class=\"data row16 col0\" >0</td>\n",
              "                        <td id=\"T_e4e28e80_55be_11eb_abc6_0242ac1c0002row16_col1\" class=\"data row16 col1\" >0</td>\n",
              "                        <td id=\"T_e4e28e80_55be_11eb_abc6_0242ac1c0002row16_col2\" class=\"data row16 col2\" >0</td>\n",
              "                        <td id=\"T_e4e28e80_55be_11eb_abc6_0242ac1c0002row16_col3\" class=\"data row16 col3\" >0</td>\n",
              "                        <td id=\"T_e4e28e80_55be_11eb_abc6_0242ac1c0002row16_col4\" class=\"data row16 col4\" >0</td>\n",
              "                        <td id=\"T_e4e28e80_55be_11eb_abc6_0242ac1c0002row16_col5\" class=\"data row16 col5\" >0</td>\n",
              "                        <td id=\"T_e4e28e80_55be_11eb_abc6_0242ac1c0002row16_col6\" class=\"data row16 col6\" >0</td>\n",
              "                        <td id=\"T_e4e28e80_55be_11eb_abc6_0242ac1c0002row16_col7\" class=\"data row16 col7\" >0</td>\n",
              "                        <td id=\"T_e4e28e80_55be_11eb_abc6_0242ac1c0002row16_col8\" class=\"data row16 col8\" >0</td>\n",
              "                        <td id=\"T_e4e28e80_55be_11eb_abc6_0242ac1c0002row16_col9\" class=\"data row16 col9\" >108</td>\n",
              "                        <td id=\"T_e4e28e80_55be_11eb_abc6_0242ac1c0002row16_col10\" class=\"data row16 col10\" >162</td>\n",
              "                        <td id=\"T_e4e28e80_55be_11eb_abc6_0242ac1c0002row16_col11\" class=\"data row16 col11\" >184</td>\n",
              "                        <td id=\"T_e4e28e80_55be_11eb_abc6_0242ac1c0002row16_col12\" class=\"data row16 col12\" >68</td>\n",
              "                        <td id=\"T_e4e28e80_55be_11eb_abc6_0242ac1c0002row16_col13\" class=\"data row16 col13\" >13</td>\n",
              "                        <td id=\"T_e4e28e80_55be_11eb_abc6_0242ac1c0002row16_col14\" class=\"data row16 col14\" >0</td>\n",
              "                        <td id=\"T_e4e28e80_55be_11eb_abc6_0242ac1c0002row16_col15\" class=\"data row16 col15\" >0</td>\n",
              "                        <td id=\"T_e4e28e80_55be_11eb_abc6_0242ac1c0002row16_col16\" class=\"data row16 col16\" >0</td>\n",
              "                        <td id=\"T_e4e28e80_55be_11eb_abc6_0242ac1c0002row16_col17\" class=\"data row16 col17\" >34</td>\n",
              "                        <td id=\"T_e4e28e80_55be_11eb_abc6_0242ac1c0002row16_col18\" class=\"data row16 col18\" >222</td>\n",
              "                        <td id=\"T_e4e28e80_55be_11eb_abc6_0242ac1c0002row16_col19\" class=\"data row16 col19\" >252</td>\n",
              "                        <td id=\"T_e4e28e80_55be_11eb_abc6_0242ac1c0002row16_col20\" class=\"data row16 col20\" >252</td>\n",
              "                        <td id=\"T_e4e28e80_55be_11eb_abc6_0242ac1c0002row16_col21\" class=\"data row16 col21\" >93</td>\n",
              "                        <td id=\"T_e4e28e80_55be_11eb_abc6_0242ac1c0002row16_col22\" class=\"data row16 col22\" >0</td>\n",
              "                        <td id=\"T_e4e28e80_55be_11eb_abc6_0242ac1c0002row16_col23\" class=\"data row16 col23\" >0</td>\n",
              "                        <td id=\"T_e4e28e80_55be_11eb_abc6_0242ac1c0002row16_col24\" class=\"data row16 col24\" >0</td>\n",
              "                        <td id=\"T_e4e28e80_55be_11eb_abc6_0242ac1c0002row16_col25\" class=\"data row16 col25\" >0</td>\n",
              "                        <td id=\"T_e4e28e80_55be_11eb_abc6_0242ac1c0002row16_col26\" class=\"data row16 col26\" >0</td>\n",
              "                        <td id=\"T_e4e28e80_55be_11eb_abc6_0242ac1c0002row16_col27\" class=\"data row16 col27\" >0</td>\n",
              "            </tr>\n",
              "            <tr>\n",
              "                        <th id=\"T_e4e28e80_55be_11eb_abc6_0242ac1c0002level0_row17\" class=\"row_heading level0 row17\" >17</th>\n",
              "                        <td id=\"T_e4e28e80_55be_11eb_abc6_0242ac1c0002row17_col0\" class=\"data row17 col0\" >0</td>\n",
              "                        <td id=\"T_e4e28e80_55be_11eb_abc6_0242ac1c0002row17_col1\" class=\"data row17 col1\" >0</td>\n",
              "                        <td id=\"T_e4e28e80_55be_11eb_abc6_0242ac1c0002row17_col2\" class=\"data row17 col2\" >0</td>\n",
              "                        <td id=\"T_e4e28e80_55be_11eb_abc6_0242ac1c0002row17_col3\" class=\"data row17 col3\" >0</td>\n",
              "                        <td id=\"T_e4e28e80_55be_11eb_abc6_0242ac1c0002row17_col4\" class=\"data row17 col4\" >0</td>\n",
              "                        <td id=\"T_e4e28e80_55be_11eb_abc6_0242ac1c0002row17_col5\" class=\"data row17 col5\" >0</td>\n",
              "                        <td id=\"T_e4e28e80_55be_11eb_abc6_0242ac1c0002row17_col6\" class=\"data row17 col6\" >0</td>\n",
              "                        <td id=\"T_e4e28e80_55be_11eb_abc6_0242ac1c0002row17_col7\" class=\"data row17 col7\" >0</td>\n",
              "                        <td id=\"T_e4e28e80_55be_11eb_abc6_0242ac1c0002row17_col8\" class=\"data row17 col8\" >0</td>\n",
              "                        <td id=\"T_e4e28e80_55be_11eb_abc6_0242ac1c0002row17_col9\" class=\"data row17 col9\" >0</td>\n",
              "                        <td id=\"T_e4e28e80_55be_11eb_abc6_0242ac1c0002row17_col10\" class=\"data row17 col10\" >5</td>\n",
              "                        <td id=\"T_e4e28e80_55be_11eb_abc6_0242ac1c0002row17_col11\" class=\"data row17 col11\" >10</td>\n",
              "                        <td id=\"T_e4e28e80_55be_11eb_abc6_0242ac1c0002row17_col12\" class=\"data row17 col12\" >0</td>\n",
              "                        <td id=\"T_e4e28e80_55be_11eb_abc6_0242ac1c0002row17_col13\" class=\"data row17 col13\" >0</td>\n",
              "                        <td id=\"T_e4e28e80_55be_11eb_abc6_0242ac1c0002row17_col14\" class=\"data row17 col14\" >0</td>\n",
              "                        <td id=\"T_e4e28e80_55be_11eb_abc6_0242ac1c0002row17_col15\" class=\"data row17 col15\" >0</td>\n",
              "                        <td id=\"T_e4e28e80_55be_11eb_abc6_0242ac1c0002row17_col16\" class=\"data row17 col16\" >0</td>\n",
              "                        <td id=\"T_e4e28e80_55be_11eb_abc6_0242ac1c0002row17_col17\" class=\"data row17 col17\" >200</td>\n",
              "                        <td id=\"T_e4e28e80_55be_11eb_abc6_0242ac1c0002row17_col18\" class=\"data row17 col18\" >252</td>\n",
              "                        <td id=\"T_e4e28e80_55be_11eb_abc6_0242ac1c0002row17_col19\" class=\"data row17 col19\" >252</td>\n",
              "                        <td id=\"T_e4e28e80_55be_11eb_abc6_0242ac1c0002row17_col20\" class=\"data row17 col20\" >166</td>\n",
              "                        <td id=\"T_e4e28e80_55be_11eb_abc6_0242ac1c0002row17_col21\" class=\"data row17 col21\" >10</td>\n",
              "                        <td id=\"T_e4e28e80_55be_11eb_abc6_0242ac1c0002row17_col22\" class=\"data row17 col22\" >0</td>\n",
              "                        <td id=\"T_e4e28e80_55be_11eb_abc6_0242ac1c0002row17_col23\" class=\"data row17 col23\" >0</td>\n",
              "                        <td id=\"T_e4e28e80_55be_11eb_abc6_0242ac1c0002row17_col24\" class=\"data row17 col24\" >0</td>\n",
              "                        <td id=\"T_e4e28e80_55be_11eb_abc6_0242ac1c0002row17_col25\" class=\"data row17 col25\" >0</td>\n",
              "                        <td id=\"T_e4e28e80_55be_11eb_abc6_0242ac1c0002row17_col26\" class=\"data row17 col26\" >0</td>\n",
              "                        <td id=\"T_e4e28e80_55be_11eb_abc6_0242ac1c0002row17_col27\" class=\"data row17 col27\" >0</td>\n",
              "            </tr>\n",
              "            <tr>\n",
              "                        <th id=\"T_e4e28e80_55be_11eb_abc6_0242ac1c0002level0_row18\" class=\"row_heading level0 row18\" >18</th>\n",
              "                        <td id=\"T_e4e28e80_55be_11eb_abc6_0242ac1c0002row18_col0\" class=\"data row18 col0\" >0</td>\n",
              "                        <td id=\"T_e4e28e80_55be_11eb_abc6_0242ac1c0002row18_col1\" class=\"data row18 col1\" >0</td>\n",
              "                        <td id=\"T_e4e28e80_55be_11eb_abc6_0242ac1c0002row18_col2\" class=\"data row18 col2\" >0</td>\n",
              "                        <td id=\"T_e4e28e80_55be_11eb_abc6_0242ac1c0002row18_col3\" class=\"data row18 col3\" >0</td>\n",
              "                        <td id=\"T_e4e28e80_55be_11eb_abc6_0242ac1c0002row18_col4\" class=\"data row18 col4\" >0</td>\n",
              "                        <td id=\"T_e4e28e80_55be_11eb_abc6_0242ac1c0002row18_col5\" class=\"data row18 col5\" >0</td>\n",
              "                        <td id=\"T_e4e28e80_55be_11eb_abc6_0242ac1c0002row18_col6\" class=\"data row18 col6\" >0</td>\n",
              "                        <td id=\"T_e4e28e80_55be_11eb_abc6_0242ac1c0002row18_col7\" class=\"data row18 col7\" >0</td>\n",
              "                        <td id=\"T_e4e28e80_55be_11eb_abc6_0242ac1c0002row18_col8\" class=\"data row18 col8\" >0</td>\n",
              "                        <td id=\"T_e4e28e80_55be_11eb_abc6_0242ac1c0002row18_col9\" class=\"data row18 col9\" >0</td>\n",
              "                        <td id=\"T_e4e28e80_55be_11eb_abc6_0242ac1c0002row18_col10\" class=\"data row18 col10\" >0</td>\n",
              "                        <td id=\"T_e4e28e80_55be_11eb_abc6_0242ac1c0002row18_col11\" class=\"data row18 col11\" >0</td>\n",
              "                        <td id=\"T_e4e28e80_55be_11eb_abc6_0242ac1c0002row18_col12\" class=\"data row18 col12\" >0</td>\n",
              "                        <td id=\"T_e4e28e80_55be_11eb_abc6_0242ac1c0002row18_col13\" class=\"data row18 col13\" >0</td>\n",
              "                        <td id=\"T_e4e28e80_55be_11eb_abc6_0242ac1c0002row18_col14\" class=\"data row18 col14\" >0</td>\n",
              "                        <td id=\"T_e4e28e80_55be_11eb_abc6_0242ac1c0002row18_col15\" class=\"data row18 col15\" >34</td>\n",
              "                        <td id=\"T_e4e28e80_55be_11eb_abc6_0242ac1c0002row18_col16\" class=\"data row18 col16\" >200</td>\n",
              "                        <td id=\"T_e4e28e80_55be_11eb_abc6_0242ac1c0002row18_col17\" class=\"data row18 col17\" >246</td>\n",
              "                        <td id=\"T_e4e28e80_55be_11eb_abc6_0242ac1c0002row18_col18\" class=\"data row18 col18\" >252</td>\n",
              "                        <td id=\"T_e4e28e80_55be_11eb_abc6_0242ac1c0002row18_col19\" class=\"data row18 col19\" >235</td>\n",
              "                        <td id=\"T_e4e28e80_55be_11eb_abc6_0242ac1c0002row18_col20\" class=\"data row18 col20\" >54</td>\n",
              "                        <td id=\"T_e4e28e80_55be_11eb_abc6_0242ac1c0002row18_col21\" class=\"data row18 col21\" >0</td>\n",
              "                        <td id=\"T_e4e28e80_55be_11eb_abc6_0242ac1c0002row18_col22\" class=\"data row18 col22\" >0</td>\n",
              "                        <td id=\"T_e4e28e80_55be_11eb_abc6_0242ac1c0002row18_col23\" class=\"data row18 col23\" >0</td>\n",
              "                        <td id=\"T_e4e28e80_55be_11eb_abc6_0242ac1c0002row18_col24\" class=\"data row18 col24\" >0</td>\n",
              "                        <td id=\"T_e4e28e80_55be_11eb_abc6_0242ac1c0002row18_col25\" class=\"data row18 col25\" >0</td>\n",
              "                        <td id=\"T_e4e28e80_55be_11eb_abc6_0242ac1c0002row18_col26\" class=\"data row18 col26\" >0</td>\n",
              "                        <td id=\"T_e4e28e80_55be_11eb_abc6_0242ac1c0002row18_col27\" class=\"data row18 col27\" >0</td>\n",
              "            </tr>\n",
              "            <tr>\n",
              "                        <th id=\"T_e4e28e80_55be_11eb_abc6_0242ac1c0002level0_row19\" class=\"row_heading level0 row19\" >19</th>\n",
              "                        <td id=\"T_e4e28e80_55be_11eb_abc6_0242ac1c0002row19_col0\" class=\"data row19 col0\" >0</td>\n",
              "                        <td id=\"T_e4e28e80_55be_11eb_abc6_0242ac1c0002row19_col1\" class=\"data row19 col1\" >0</td>\n",
              "                        <td id=\"T_e4e28e80_55be_11eb_abc6_0242ac1c0002row19_col2\" class=\"data row19 col2\" >0</td>\n",
              "                        <td id=\"T_e4e28e80_55be_11eb_abc6_0242ac1c0002row19_col3\" class=\"data row19 col3\" >0</td>\n",
              "                        <td id=\"T_e4e28e80_55be_11eb_abc6_0242ac1c0002row19_col4\" class=\"data row19 col4\" >0</td>\n",
              "                        <td id=\"T_e4e28e80_55be_11eb_abc6_0242ac1c0002row19_col5\" class=\"data row19 col5\" >0</td>\n",
              "                        <td id=\"T_e4e28e80_55be_11eb_abc6_0242ac1c0002row19_col6\" class=\"data row19 col6\" >0</td>\n",
              "                        <td id=\"T_e4e28e80_55be_11eb_abc6_0242ac1c0002row19_col7\" class=\"data row19 col7\" >0</td>\n",
              "                        <td id=\"T_e4e28e80_55be_11eb_abc6_0242ac1c0002row19_col8\" class=\"data row19 col8\" >0</td>\n",
              "                        <td id=\"T_e4e28e80_55be_11eb_abc6_0242ac1c0002row19_col9\" class=\"data row19 col9\" >0</td>\n",
              "                        <td id=\"T_e4e28e80_55be_11eb_abc6_0242ac1c0002row19_col10\" class=\"data row19 col10\" >0</td>\n",
              "                        <td id=\"T_e4e28e80_55be_11eb_abc6_0242ac1c0002row19_col11\" class=\"data row19 col11\" >0</td>\n",
              "                        <td id=\"T_e4e28e80_55be_11eb_abc6_0242ac1c0002row19_col12\" class=\"data row19 col12\" >0</td>\n",
              "                        <td id=\"T_e4e28e80_55be_11eb_abc6_0242ac1c0002row19_col13\" class=\"data row19 col13\" >0</td>\n",
              "                        <td id=\"T_e4e28e80_55be_11eb_abc6_0242ac1c0002row19_col14\" class=\"data row19 col14\" >0</td>\n",
              "                        <td id=\"T_e4e28e80_55be_11eb_abc6_0242ac1c0002row19_col15\" class=\"data row19 col15\" >142</td>\n",
              "                        <td id=\"T_e4e28e80_55be_11eb_abc6_0242ac1c0002row19_col16\" class=\"data row19 col16\" >252</td>\n",
              "                        <td id=\"T_e4e28e80_55be_11eb_abc6_0242ac1c0002row19_col17\" class=\"data row19 col17\" >252</td>\n",
              "                        <td id=\"T_e4e28e80_55be_11eb_abc6_0242ac1c0002row19_col18\" class=\"data row19 col18\" >234</td>\n",
              "                        <td id=\"T_e4e28e80_55be_11eb_abc6_0242ac1c0002row19_col19\" class=\"data row19 col19\" >76</td>\n",
              "                        <td id=\"T_e4e28e80_55be_11eb_abc6_0242ac1c0002row19_col20\" class=\"data row19 col20\" >0</td>\n",
              "                        <td id=\"T_e4e28e80_55be_11eb_abc6_0242ac1c0002row19_col21\" class=\"data row19 col21\" >0</td>\n",
              "                        <td id=\"T_e4e28e80_55be_11eb_abc6_0242ac1c0002row19_col22\" class=\"data row19 col22\" >0</td>\n",
              "                        <td id=\"T_e4e28e80_55be_11eb_abc6_0242ac1c0002row19_col23\" class=\"data row19 col23\" >0</td>\n",
              "                        <td id=\"T_e4e28e80_55be_11eb_abc6_0242ac1c0002row19_col24\" class=\"data row19 col24\" >0</td>\n",
              "                        <td id=\"T_e4e28e80_55be_11eb_abc6_0242ac1c0002row19_col25\" class=\"data row19 col25\" >0</td>\n",
              "                        <td id=\"T_e4e28e80_55be_11eb_abc6_0242ac1c0002row19_col26\" class=\"data row19 col26\" >0</td>\n",
              "                        <td id=\"T_e4e28e80_55be_11eb_abc6_0242ac1c0002row19_col27\" class=\"data row19 col27\" >0</td>\n",
              "            </tr>\n",
              "            <tr>\n",
              "                        <th id=\"T_e4e28e80_55be_11eb_abc6_0242ac1c0002level0_row20\" class=\"row_heading level0 row20\" >20</th>\n",
              "                        <td id=\"T_e4e28e80_55be_11eb_abc6_0242ac1c0002row20_col0\" class=\"data row20 col0\" >0</td>\n",
              "                        <td id=\"T_e4e28e80_55be_11eb_abc6_0242ac1c0002row20_col1\" class=\"data row20 col1\" >0</td>\n",
              "                        <td id=\"T_e4e28e80_55be_11eb_abc6_0242ac1c0002row20_col2\" class=\"data row20 col2\" >0</td>\n",
              "                        <td id=\"T_e4e28e80_55be_11eb_abc6_0242ac1c0002row20_col3\" class=\"data row20 col3\" >0</td>\n",
              "                        <td id=\"T_e4e28e80_55be_11eb_abc6_0242ac1c0002row20_col4\" class=\"data row20 col4\" >0</td>\n",
              "                        <td id=\"T_e4e28e80_55be_11eb_abc6_0242ac1c0002row20_col5\" class=\"data row20 col5\" >0</td>\n",
              "                        <td id=\"T_e4e28e80_55be_11eb_abc6_0242ac1c0002row20_col6\" class=\"data row20 col6\" >168</td>\n",
              "                        <td id=\"T_e4e28e80_55be_11eb_abc6_0242ac1c0002row20_col7\" class=\"data row20 col7\" >128</td>\n",
              "                        <td id=\"T_e4e28e80_55be_11eb_abc6_0242ac1c0002row20_col8\" class=\"data row20 col8\" >0</td>\n",
              "                        <td id=\"T_e4e28e80_55be_11eb_abc6_0242ac1c0002row20_col9\" class=\"data row20 col9\" >0</td>\n",
              "                        <td id=\"T_e4e28e80_55be_11eb_abc6_0242ac1c0002row20_col10\" class=\"data row20 col10\" >0</td>\n",
              "                        <td id=\"T_e4e28e80_55be_11eb_abc6_0242ac1c0002row20_col11\" class=\"data row20 col11\" >0</td>\n",
              "                        <td id=\"T_e4e28e80_55be_11eb_abc6_0242ac1c0002row20_col12\" class=\"data row20 col12\" >3</td>\n",
              "                        <td id=\"T_e4e28e80_55be_11eb_abc6_0242ac1c0002row20_col13\" class=\"data row20 col13\" >54</td>\n",
              "                        <td id=\"T_e4e28e80_55be_11eb_abc6_0242ac1c0002row20_col14\" class=\"data row20 col14\" >187</td>\n",
              "                        <td id=\"T_e4e28e80_55be_11eb_abc6_0242ac1c0002row20_col15\" class=\"data row20 col15\" >249</td>\n",
              "                        <td id=\"T_e4e28e80_55be_11eb_abc6_0242ac1c0002row20_col16\" class=\"data row20 col16\" >252</td>\n",
              "                        <td id=\"T_e4e28e80_55be_11eb_abc6_0242ac1c0002row20_col17\" class=\"data row20 col17\" >235</td>\n",
              "                        <td id=\"T_e4e28e80_55be_11eb_abc6_0242ac1c0002row20_col18\" class=\"data row20 col18\" >146</td>\n",
              "                        <td id=\"T_e4e28e80_55be_11eb_abc6_0242ac1c0002row20_col19\" class=\"data row20 col19\" >0</td>\n",
              "                        <td id=\"T_e4e28e80_55be_11eb_abc6_0242ac1c0002row20_col20\" class=\"data row20 col20\" >0</td>\n",
              "                        <td id=\"T_e4e28e80_55be_11eb_abc6_0242ac1c0002row20_col21\" class=\"data row20 col21\" >0</td>\n",
              "                        <td id=\"T_e4e28e80_55be_11eb_abc6_0242ac1c0002row20_col22\" class=\"data row20 col22\" >0</td>\n",
              "                        <td id=\"T_e4e28e80_55be_11eb_abc6_0242ac1c0002row20_col23\" class=\"data row20 col23\" >0</td>\n",
              "                        <td id=\"T_e4e28e80_55be_11eb_abc6_0242ac1c0002row20_col24\" class=\"data row20 col24\" >0</td>\n",
              "                        <td id=\"T_e4e28e80_55be_11eb_abc6_0242ac1c0002row20_col25\" class=\"data row20 col25\" >0</td>\n",
              "                        <td id=\"T_e4e28e80_55be_11eb_abc6_0242ac1c0002row20_col26\" class=\"data row20 col26\" >0</td>\n",
              "                        <td id=\"T_e4e28e80_55be_11eb_abc6_0242ac1c0002row20_col27\" class=\"data row20 col27\" >0</td>\n",
              "            </tr>\n",
              "            <tr>\n",
              "                        <th id=\"T_e4e28e80_55be_11eb_abc6_0242ac1c0002level0_row21\" class=\"row_heading level0 row21\" >21</th>\n",
              "                        <td id=\"T_e4e28e80_55be_11eb_abc6_0242ac1c0002row21_col0\" class=\"data row21 col0\" >0</td>\n",
              "                        <td id=\"T_e4e28e80_55be_11eb_abc6_0242ac1c0002row21_col1\" class=\"data row21 col1\" >0</td>\n",
              "                        <td id=\"T_e4e28e80_55be_11eb_abc6_0242ac1c0002row21_col2\" class=\"data row21 col2\" >0</td>\n",
              "                        <td id=\"T_e4e28e80_55be_11eb_abc6_0242ac1c0002row21_col3\" class=\"data row21 col3\" >0</td>\n",
              "                        <td id=\"T_e4e28e80_55be_11eb_abc6_0242ac1c0002row21_col4\" class=\"data row21 col4\" >0</td>\n",
              "                        <td id=\"T_e4e28e80_55be_11eb_abc6_0242ac1c0002row21_col5\" class=\"data row21 col5\" >0</td>\n",
              "                        <td id=\"T_e4e28e80_55be_11eb_abc6_0242ac1c0002row21_col6\" class=\"data row21 col6\" >226</td>\n",
              "                        <td id=\"T_e4e28e80_55be_11eb_abc6_0242ac1c0002row21_col7\" class=\"data row21 col7\" >227</td>\n",
              "                        <td id=\"T_e4e28e80_55be_11eb_abc6_0242ac1c0002row21_col8\" class=\"data row21 col8\" >138</td>\n",
              "                        <td id=\"T_e4e28e80_55be_11eb_abc6_0242ac1c0002row21_col9\" class=\"data row21 col9\" >11</td>\n",
              "                        <td id=\"T_e4e28e80_55be_11eb_abc6_0242ac1c0002row21_col10\" class=\"data row21 col10\" >7</td>\n",
              "                        <td id=\"T_e4e28e80_55be_11eb_abc6_0242ac1c0002row21_col11\" class=\"data row21 col11\" >55</td>\n",
              "                        <td id=\"T_e4e28e80_55be_11eb_abc6_0242ac1c0002row21_col12\" class=\"data row21 col12\" >177</td>\n",
              "                        <td id=\"T_e4e28e80_55be_11eb_abc6_0242ac1c0002row21_col13\" class=\"data row21 col13\" >252</td>\n",
              "                        <td id=\"T_e4e28e80_55be_11eb_abc6_0242ac1c0002row21_col14\" class=\"data row21 col14\" >253</td>\n",
              "                        <td id=\"T_e4e28e80_55be_11eb_abc6_0242ac1c0002row21_col15\" class=\"data row21 col15\" >252</td>\n",
              "                        <td id=\"T_e4e28e80_55be_11eb_abc6_0242ac1c0002row21_col16\" class=\"data row21 col16\" >237</td>\n",
              "                        <td id=\"T_e4e28e80_55be_11eb_abc6_0242ac1c0002row21_col17\" class=\"data row21 col17\" >75</td>\n",
              "                        <td id=\"T_e4e28e80_55be_11eb_abc6_0242ac1c0002row21_col18\" class=\"data row21 col18\" >0</td>\n",
              "                        <td id=\"T_e4e28e80_55be_11eb_abc6_0242ac1c0002row21_col19\" class=\"data row21 col19\" >0</td>\n",
              "                        <td id=\"T_e4e28e80_55be_11eb_abc6_0242ac1c0002row21_col20\" class=\"data row21 col20\" >0</td>\n",
              "                        <td id=\"T_e4e28e80_55be_11eb_abc6_0242ac1c0002row21_col21\" class=\"data row21 col21\" >0</td>\n",
              "                        <td id=\"T_e4e28e80_55be_11eb_abc6_0242ac1c0002row21_col22\" class=\"data row21 col22\" >0</td>\n",
              "                        <td id=\"T_e4e28e80_55be_11eb_abc6_0242ac1c0002row21_col23\" class=\"data row21 col23\" >0</td>\n",
              "                        <td id=\"T_e4e28e80_55be_11eb_abc6_0242ac1c0002row21_col24\" class=\"data row21 col24\" >0</td>\n",
              "                        <td id=\"T_e4e28e80_55be_11eb_abc6_0242ac1c0002row21_col25\" class=\"data row21 col25\" >0</td>\n",
              "                        <td id=\"T_e4e28e80_55be_11eb_abc6_0242ac1c0002row21_col26\" class=\"data row21 col26\" >0</td>\n",
              "                        <td id=\"T_e4e28e80_55be_11eb_abc6_0242ac1c0002row21_col27\" class=\"data row21 col27\" >0</td>\n",
              "            </tr>\n",
              "            <tr>\n",
              "                        <th id=\"T_e4e28e80_55be_11eb_abc6_0242ac1c0002level0_row22\" class=\"row_heading level0 row22\" >22</th>\n",
              "                        <td id=\"T_e4e28e80_55be_11eb_abc6_0242ac1c0002row22_col0\" class=\"data row22 col0\" >0</td>\n",
              "                        <td id=\"T_e4e28e80_55be_11eb_abc6_0242ac1c0002row22_col1\" class=\"data row22 col1\" >0</td>\n",
              "                        <td id=\"T_e4e28e80_55be_11eb_abc6_0242ac1c0002row22_col2\" class=\"data row22 col2\" >0</td>\n",
              "                        <td id=\"T_e4e28e80_55be_11eb_abc6_0242ac1c0002row22_col3\" class=\"data row22 col3\" >0</td>\n",
              "                        <td id=\"T_e4e28e80_55be_11eb_abc6_0242ac1c0002row22_col4\" class=\"data row22 col4\" >0</td>\n",
              "                        <td id=\"T_e4e28e80_55be_11eb_abc6_0242ac1c0002row22_col5\" class=\"data row22 col5\" >0</td>\n",
              "                        <td id=\"T_e4e28e80_55be_11eb_abc6_0242ac1c0002row22_col6\" class=\"data row22 col6\" >202</td>\n",
              "                        <td id=\"T_e4e28e80_55be_11eb_abc6_0242ac1c0002row22_col7\" class=\"data row22 col7\" >248</td>\n",
              "                        <td id=\"T_e4e28e80_55be_11eb_abc6_0242ac1c0002row22_col8\" class=\"data row22 col8\" >252</td>\n",
              "                        <td id=\"T_e4e28e80_55be_11eb_abc6_0242ac1c0002row22_col9\" class=\"data row22 col9\" >184</td>\n",
              "                        <td id=\"T_e4e28e80_55be_11eb_abc6_0242ac1c0002row22_col10\" class=\"data row22 col10\" >174</td>\n",
              "                        <td id=\"T_e4e28e80_55be_11eb_abc6_0242ac1c0002row22_col11\" class=\"data row22 col11\" >252</td>\n",
              "                        <td id=\"T_e4e28e80_55be_11eb_abc6_0242ac1c0002row22_col12\" class=\"data row22 col12\" >252</td>\n",
              "                        <td id=\"T_e4e28e80_55be_11eb_abc6_0242ac1c0002row22_col13\" class=\"data row22 col13\" >252</td>\n",
              "                        <td id=\"T_e4e28e80_55be_11eb_abc6_0242ac1c0002row22_col14\" class=\"data row22 col14\" >253</td>\n",
              "                        <td id=\"T_e4e28e80_55be_11eb_abc6_0242ac1c0002row22_col15\" class=\"data row22 col15\" >170</td>\n",
              "                        <td id=\"T_e4e28e80_55be_11eb_abc6_0242ac1c0002row22_col16\" class=\"data row22 col16\" >59</td>\n",
              "                        <td id=\"T_e4e28e80_55be_11eb_abc6_0242ac1c0002row22_col17\" class=\"data row22 col17\" >0</td>\n",
              "                        <td id=\"T_e4e28e80_55be_11eb_abc6_0242ac1c0002row22_col18\" class=\"data row22 col18\" >0</td>\n",
              "                        <td id=\"T_e4e28e80_55be_11eb_abc6_0242ac1c0002row22_col19\" class=\"data row22 col19\" >0</td>\n",
              "                        <td id=\"T_e4e28e80_55be_11eb_abc6_0242ac1c0002row22_col20\" class=\"data row22 col20\" >0</td>\n",
              "                        <td id=\"T_e4e28e80_55be_11eb_abc6_0242ac1c0002row22_col21\" class=\"data row22 col21\" >0</td>\n",
              "                        <td id=\"T_e4e28e80_55be_11eb_abc6_0242ac1c0002row22_col22\" class=\"data row22 col22\" >0</td>\n",
              "                        <td id=\"T_e4e28e80_55be_11eb_abc6_0242ac1c0002row22_col23\" class=\"data row22 col23\" >0</td>\n",
              "                        <td id=\"T_e4e28e80_55be_11eb_abc6_0242ac1c0002row22_col24\" class=\"data row22 col24\" >0</td>\n",
              "                        <td id=\"T_e4e28e80_55be_11eb_abc6_0242ac1c0002row22_col25\" class=\"data row22 col25\" >0</td>\n",
              "                        <td id=\"T_e4e28e80_55be_11eb_abc6_0242ac1c0002row22_col26\" class=\"data row22 col26\" >0</td>\n",
              "                        <td id=\"T_e4e28e80_55be_11eb_abc6_0242ac1c0002row22_col27\" class=\"data row22 col27\" >0</td>\n",
              "            </tr>\n",
              "            <tr>\n",
              "                        <th id=\"T_e4e28e80_55be_11eb_abc6_0242ac1c0002level0_row23\" class=\"row_heading level0 row23\" >23</th>\n",
              "                        <td id=\"T_e4e28e80_55be_11eb_abc6_0242ac1c0002row23_col0\" class=\"data row23 col0\" >0</td>\n",
              "                        <td id=\"T_e4e28e80_55be_11eb_abc6_0242ac1c0002row23_col1\" class=\"data row23 col1\" >0</td>\n",
              "                        <td id=\"T_e4e28e80_55be_11eb_abc6_0242ac1c0002row23_col2\" class=\"data row23 col2\" >0</td>\n",
              "                        <td id=\"T_e4e28e80_55be_11eb_abc6_0242ac1c0002row23_col3\" class=\"data row23 col3\" >0</td>\n",
              "                        <td id=\"T_e4e28e80_55be_11eb_abc6_0242ac1c0002row23_col4\" class=\"data row23 col4\" >0</td>\n",
              "                        <td id=\"T_e4e28e80_55be_11eb_abc6_0242ac1c0002row23_col5\" class=\"data row23 col5\" >0</td>\n",
              "                        <td id=\"T_e4e28e80_55be_11eb_abc6_0242ac1c0002row23_col6\" class=\"data row23 col6\" >0</td>\n",
              "                        <td id=\"T_e4e28e80_55be_11eb_abc6_0242ac1c0002row23_col7\" class=\"data row23 col7\" >131</td>\n",
              "                        <td id=\"T_e4e28e80_55be_11eb_abc6_0242ac1c0002row23_col8\" class=\"data row23 col8\" >249</td>\n",
              "                        <td id=\"T_e4e28e80_55be_11eb_abc6_0242ac1c0002row23_col9\" class=\"data row23 col9\" >252</td>\n",
              "                        <td id=\"T_e4e28e80_55be_11eb_abc6_0242ac1c0002row23_col10\" class=\"data row23 col10\" >252</td>\n",
              "                        <td id=\"T_e4e28e80_55be_11eb_abc6_0242ac1c0002row23_col11\" class=\"data row23 col11\" >252</td>\n",
              "                        <td id=\"T_e4e28e80_55be_11eb_abc6_0242ac1c0002row23_col12\" class=\"data row23 col12\" >251</td>\n",
              "                        <td id=\"T_e4e28e80_55be_11eb_abc6_0242ac1c0002row23_col13\" class=\"data row23 col13\" >238</td>\n",
              "                        <td id=\"T_e4e28e80_55be_11eb_abc6_0242ac1c0002row23_col14\" class=\"data row23 col14\" >107</td>\n",
              "                        <td id=\"T_e4e28e80_55be_11eb_abc6_0242ac1c0002row23_col15\" class=\"data row23 col15\" >6</td>\n",
              "                        <td id=\"T_e4e28e80_55be_11eb_abc6_0242ac1c0002row23_col16\" class=\"data row23 col16\" >0</td>\n",
              "                        <td id=\"T_e4e28e80_55be_11eb_abc6_0242ac1c0002row23_col17\" class=\"data row23 col17\" >0</td>\n",
              "                        <td id=\"T_e4e28e80_55be_11eb_abc6_0242ac1c0002row23_col18\" class=\"data row23 col18\" >0</td>\n",
              "                        <td id=\"T_e4e28e80_55be_11eb_abc6_0242ac1c0002row23_col19\" class=\"data row23 col19\" >0</td>\n",
              "                        <td id=\"T_e4e28e80_55be_11eb_abc6_0242ac1c0002row23_col20\" class=\"data row23 col20\" >0</td>\n",
              "                        <td id=\"T_e4e28e80_55be_11eb_abc6_0242ac1c0002row23_col21\" class=\"data row23 col21\" >0</td>\n",
              "                        <td id=\"T_e4e28e80_55be_11eb_abc6_0242ac1c0002row23_col22\" class=\"data row23 col22\" >0</td>\n",
              "                        <td id=\"T_e4e28e80_55be_11eb_abc6_0242ac1c0002row23_col23\" class=\"data row23 col23\" >0</td>\n",
              "                        <td id=\"T_e4e28e80_55be_11eb_abc6_0242ac1c0002row23_col24\" class=\"data row23 col24\" >0</td>\n",
              "                        <td id=\"T_e4e28e80_55be_11eb_abc6_0242ac1c0002row23_col25\" class=\"data row23 col25\" >0</td>\n",
              "                        <td id=\"T_e4e28e80_55be_11eb_abc6_0242ac1c0002row23_col26\" class=\"data row23 col26\" >0</td>\n",
              "                        <td id=\"T_e4e28e80_55be_11eb_abc6_0242ac1c0002row23_col27\" class=\"data row23 col27\" >0</td>\n",
              "            </tr>\n",
              "            <tr>\n",
              "                        <th id=\"T_e4e28e80_55be_11eb_abc6_0242ac1c0002level0_row24\" class=\"row_heading level0 row24\" >24</th>\n",
              "                        <td id=\"T_e4e28e80_55be_11eb_abc6_0242ac1c0002row24_col0\" class=\"data row24 col0\" >0</td>\n",
              "                        <td id=\"T_e4e28e80_55be_11eb_abc6_0242ac1c0002row24_col1\" class=\"data row24 col1\" >0</td>\n",
              "                        <td id=\"T_e4e28e80_55be_11eb_abc6_0242ac1c0002row24_col2\" class=\"data row24 col2\" >0</td>\n",
              "                        <td id=\"T_e4e28e80_55be_11eb_abc6_0242ac1c0002row24_col3\" class=\"data row24 col3\" >0</td>\n",
              "                        <td id=\"T_e4e28e80_55be_11eb_abc6_0242ac1c0002row24_col4\" class=\"data row24 col4\" >0</td>\n",
              "                        <td id=\"T_e4e28e80_55be_11eb_abc6_0242ac1c0002row24_col5\" class=\"data row24 col5\" >0</td>\n",
              "                        <td id=\"T_e4e28e80_55be_11eb_abc6_0242ac1c0002row24_col6\" class=\"data row24 col6\" >0</td>\n",
              "                        <td id=\"T_e4e28e80_55be_11eb_abc6_0242ac1c0002row24_col7\" class=\"data row24 col7\" >0</td>\n",
              "                        <td id=\"T_e4e28e80_55be_11eb_abc6_0242ac1c0002row24_col8\" class=\"data row24 col8\" >95</td>\n",
              "                        <td id=\"T_e4e28e80_55be_11eb_abc6_0242ac1c0002row24_col9\" class=\"data row24 col9\" >217</td>\n",
              "                        <td id=\"T_e4e28e80_55be_11eb_abc6_0242ac1c0002row24_col10\" class=\"data row24 col10\" >252</td>\n",
              "                        <td id=\"T_e4e28e80_55be_11eb_abc6_0242ac1c0002row24_col11\" class=\"data row24 col11\" >167</td>\n",
              "                        <td id=\"T_e4e28e80_55be_11eb_abc6_0242ac1c0002row24_col12\" class=\"data row24 col12\" >113</td>\n",
              "                        <td id=\"T_e4e28e80_55be_11eb_abc6_0242ac1c0002row24_col13\" class=\"data row24 col13\" >0</td>\n",
              "                        <td id=\"T_e4e28e80_55be_11eb_abc6_0242ac1c0002row24_col14\" class=\"data row24 col14\" >0</td>\n",
              "                        <td id=\"T_e4e28e80_55be_11eb_abc6_0242ac1c0002row24_col15\" class=\"data row24 col15\" >0</td>\n",
              "                        <td id=\"T_e4e28e80_55be_11eb_abc6_0242ac1c0002row24_col16\" class=\"data row24 col16\" >0</td>\n",
              "                        <td id=\"T_e4e28e80_55be_11eb_abc6_0242ac1c0002row24_col17\" class=\"data row24 col17\" >0</td>\n",
              "                        <td id=\"T_e4e28e80_55be_11eb_abc6_0242ac1c0002row24_col18\" class=\"data row24 col18\" >0</td>\n",
              "                        <td id=\"T_e4e28e80_55be_11eb_abc6_0242ac1c0002row24_col19\" class=\"data row24 col19\" >0</td>\n",
              "                        <td id=\"T_e4e28e80_55be_11eb_abc6_0242ac1c0002row24_col20\" class=\"data row24 col20\" >0</td>\n",
              "                        <td id=\"T_e4e28e80_55be_11eb_abc6_0242ac1c0002row24_col21\" class=\"data row24 col21\" >0</td>\n",
              "                        <td id=\"T_e4e28e80_55be_11eb_abc6_0242ac1c0002row24_col22\" class=\"data row24 col22\" >0</td>\n",
              "                        <td id=\"T_e4e28e80_55be_11eb_abc6_0242ac1c0002row24_col23\" class=\"data row24 col23\" >0</td>\n",
              "                        <td id=\"T_e4e28e80_55be_11eb_abc6_0242ac1c0002row24_col24\" class=\"data row24 col24\" >0</td>\n",
              "                        <td id=\"T_e4e28e80_55be_11eb_abc6_0242ac1c0002row24_col25\" class=\"data row24 col25\" >0</td>\n",
              "                        <td id=\"T_e4e28e80_55be_11eb_abc6_0242ac1c0002row24_col26\" class=\"data row24 col26\" >0</td>\n",
              "                        <td id=\"T_e4e28e80_55be_11eb_abc6_0242ac1c0002row24_col27\" class=\"data row24 col27\" >0</td>\n",
              "            </tr>\n",
              "            <tr>\n",
              "                        <th id=\"T_e4e28e80_55be_11eb_abc6_0242ac1c0002level0_row25\" class=\"row_heading level0 row25\" >25</th>\n",
              "                        <td id=\"T_e4e28e80_55be_11eb_abc6_0242ac1c0002row25_col0\" class=\"data row25 col0\" >0</td>\n",
              "                        <td id=\"T_e4e28e80_55be_11eb_abc6_0242ac1c0002row25_col1\" class=\"data row25 col1\" >0</td>\n",
              "                        <td id=\"T_e4e28e80_55be_11eb_abc6_0242ac1c0002row25_col2\" class=\"data row25 col2\" >0</td>\n",
              "                        <td id=\"T_e4e28e80_55be_11eb_abc6_0242ac1c0002row25_col3\" class=\"data row25 col3\" >0</td>\n",
              "                        <td id=\"T_e4e28e80_55be_11eb_abc6_0242ac1c0002row25_col4\" class=\"data row25 col4\" >0</td>\n",
              "                        <td id=\"T_e4e28e80_55be_11eb_abc6_0242ac1c0002row25_col5\" class=\"data row25 col5\" >0</td>\n",
              "                        <td id=\"T_e4e28e80_55be_11eb_abc6_0242ac1c0002row25_col6\" class=\"data row25 col6\" >0</td>\n",
              "                        <td id=\"T_e4e28e80_55be_11eb_abc6_0242ac1c0002row25_col7\" class=\"data row25 col7\" >0</td>\n",
              "                        <td id=\"T_e4e28e80_55be_11eb_abc6_0242ac1c0002row25_col8\" class=\"data row25 col8\" >0</td>\n",
              "                        <td id=\"T_e4e28e80_55be_11eb_abc6_0242ac1c0002row25_col9\" class=\"data row25 col9\" >0</td>\n",
              "                        <td id=\"T_e4e28e80_55be_11eb_abc6_0242ac1c0002row25_col10\" class=\"data row25 col10\" >0</td>\n",
              "                        <td id=\"T_e4e28e80_55be_11eb_abc6_0242ac1c0002row25_col11\" class=\"data row25 col11\" >0</td>\n",
              "                        <td id=\"T_e4e28e80_55be_11eb_abc6_0242ac1c0002row25_col12\" class=\"data row25 col12\" >0</td>\n",
              "                        <td id=\"T_e4e28e80_55be_11eb_abc6_0242ac1c0002row25_col13\" class=\"data row25 col13\" >0</td>\n",
              "                        <td id=\"T_e4e28e80_55be_11eb_abc6_0242ac1c0002row25_col14\" class=\"data row25 col14\" >0</td>\n",
              "                        <td id=\"T_e4e28e80_55be_11eb_abc6_0242ac1c0002row25_col15\" class=\"data row25 col15\" >0</td>\n",
              "                        <td id=\"T_e4e28e80_55be_11eb_abc6_0242ac1c0002row25_col16\" class=\"data row25 col16\" >0</td>\n",
              "                        <td id=\"T_e4e28e80_55be_11eb_abc6_0242ac1c0002row25_col17\" class=\"data row25 col17\" >0</td>\n",
              "                        <td id=\"T_e4e28e80_55be_11eb_abc6_0242ac1c0002row25_col18\" class=\"data row25 col18\" >0</td>\n",
              "                        <td id=\"T_e4e28e80_55be_11eb_abc6_0242ac1c0002row25_col19\" class=\"data row25 col19\" >0</td>\n",
              "                        <td id=\"T_e4e28e80_55be_11eb_abc6_0242ac1c0002row25_col20\" class=\"data row25 col20\" >0</td>\n",
              "                        <td id=\"T_e4e28e80_55be_11eb_abc6_0242ac1c0002row25_col21\" class=\"data row25 col21\" >0</td>\n",
              "                        <td id=\"T_e4e28e80_55be_11eb_abc6_0242ac1c0002row25_col22\" class=\"data row25 col22\" >0</td>\n",
              "                        <td id=\"T_e4e28e80_55be_11eb_abc6_0242ac1c0002row25_col23\" class=\"data row25 col23\" >0</td>\n",
              "                        <td id=\"T_e4e28e80_55be_11eb_abc6_0242ac1c0002row25_col24\" class=\"data row25 col24\" >0</td>\n",
              "                        <td id=\"T_e4e28e80_55be_11eb_abc6_0242ac1c0002row25_col25\" class=\"data row25 col25\" >0</td>\n",
              "                        <td id=\"T_e4e28e80_55be_11eb_abc6_0242ac1c0002row25_col26\" class=\"data row25 col26\" >0</td>\n",
              "                        <td id=\"T_e4e28e80_55be_11eb_abc6_0242ac1c0002row25_col27\" class=\"data row25 col27\" >0</td>\n",
              "            </tr>\n",
              "            <tr>\n",
              "                        <th id=\"T_e4e28e80_55be_11eb_abc6_0242ac1c0002level0_row26\" class=\"row_heading level0 row26\" >26</th>\n",
              "                        <td id=\"T_e4e28e80_55be_11eb_abc6_0242ac1c0002row26_col0\" class=\"data row26 col0\" >0</td>\n",
              "                        <td id=\"T_e4e28e80_55be_11eb_abc6_0242ac1c0002row26_col1\" class=\"data row26 col1\" >0</td>\n",
              "                        <td id=\"T_e4e28e80_55be_11eb_abc6_0242ac1c0002row26_col2\" class=\"data row26 col2\" >0</td>\n",
              "                        <td id=\"T_e4e28e80_55be_11eb_abc6_0242ac1c0002row26_col3\" class=\"data row26 col3\" >0</td>\n",
              "                        <td id=\"T_e4e28e80_55be_11eb_abc6_0242ac1c0002row26_col4\" class=\"data row26 col4\" >0</td>\n",
              "                        <td id=\"T_e4e28e80_55be_11eb_abc6_0242ac1c0002row26_col5\" class=\"data row26 col5\" >0</td>\n",
              "                        <td id=\"T_e4e28e80_55be_11eb_abc6_0242ac1c0002row26_col6\" class=\"data row26 col6\" >0</td>\n",
              "                        <td id=\"T_e4e28e80_55be_11eb_abc6_0242ac1c0002row26_col7\" class=\"data row26 col7\" >0</td>\n",
              "                        <td id=\"T_e4e28e80_55be_11eb_abc6_0242ac1c0002row26_col8\" class=\"data row26 col8\" >0</td>\n",
              "                        <td id=\"T_e4e28e80_55be_11eb_abc6_0242ac1c0002row26_col9\" class=\"data row26 col9\" >0</td>\n",
              "                        <td id=\"T_e4e28e80_55be_11eb_abc6_0242ac1c0002row26_col10\" class=\"data row26 col10\" >0</td>\n",
              "                        <td id=\"T_e4e28e80_55be_11eb_abc6_0242ac1c0002row26_col11\" class=\"data row26 col11\" >0</td>\n",
              "                        <td id=\"T_e4e28e80_55be_11eb_abc6_0242ac1c0002row26_col12\" class=\"data row26 col12\" >0</td>\n",
              "                        <td id=\"T_e4e28e80_55be_11eb_abc6_0242ac1c0002row26_col13\" class=\"data row26 col13\" >0</td>\n",
              "                        <td id=\"T_e4e28e80_55be_11eb_abc6_0242ac1c0002row26_col14\" class=\"data row26 col14\" >0</td>\n",
              "                        <td id=\"T_e4e28e80_55be_11eb_abc6_0242ac1c0002row26_col15\" class=\"data row26 col15\" >0</td>\n",
              "                        <td id=\"T_e4e28e80_55be_11eb_abc6_0242ac1c0002row26_col16\" class=\"data row26 col16\" >0</td>\n",
              "                        <td id=\"T_e4e28e80_55be_11eb_abc6_0242ac1c0002row26_col17\" class=\"data row26 col17\" >0</td>\n",
              "                        <td id=\"T_e4e28e80_55be_11eb_abc6_0242ac1c0002row26_col18\" class=\"data row26 col18\" >0</td>\n",
              "                        <td id=\"T_e4e28e80_55be_11eb_abc6_0242ac1c0002row26_col19\" class=\"data row26 col19\" >0</td>\n",
              "                        <td id=\"T_e4e28e80_55be_11eb_abc6_0242ac1c0002row26_col20\" class=\"data row26 col20\" >0</td>\n",
              "                        <td id=\"T_e4e28e80_55be_11eb_abc6_0242ac1c0002row26_col21\" class=\"data row26 col21\" >0</td>\n",
              "                        <td id=\"T_e4e28e80_55be_11eb_abc6_0242ac1c0002row26_col22\" class=\"data row26 col22\" >0</td>\n",
              "                        <td id=\"T_e4e28e80_55be_11eb_abc6_0242ac1c0002row26_col23\" class=\"data row26 col23\" >0</td>\n",
              "                        <td id=\"T_e4e28e80_55be_11eb_abc6_0242ac1c0002row26_col24\" class=\"data row26 col24\" >0</td>\n",
              "                        <td id=\"T_e4e28e80_55be_11eb_abc6_0242ac1c0002row26_col25\" class=\"data row26 col25\" >0</td>\n",
              "                        <td id=\"T_e4e28e80_55be_11eb_abc6_0242ac1c0002row26_col26\" class=\"data row26 col26\" >0</td>\n",
              "                        <td id=\"T_e4e28e80_55be_11eb_abc6_0242ac1c0002row26_col27\" class=\"data row26 col27\" >0</td>\n",
              "            </tr>\n",
              "            <tr>\n",
              "                        <th id=\"T_e4e28e80_55be_11eb_abc6_0242ac1c0002level0_row27\" class=\"row_heading level0 row27\" >27</th>\n",
              "                        <td id=\"T_e4e28e80_55be_11eb_abc6_0242ac1c0002row27_col0\" class=\"data row27 col0\" >0</td>\n",
              "                        <td id=\"T_e4e28e80_55be_11eb_abc6_0242ac1c0002row27_col1\" class=\"data row27 col1\" >0</td>\n",
              "                        <td id=\"T_e4e28e80_55be_11eb_abc6_0242ac1c0002row27_col2\" class=\"data row27 col2\" >0</td>\n",
              "                        <td id=\"T_e4e28e80_55be_11eb_abc6_0242ac1c0002row27_col3\" class=\"data row27 col3\" >0</td>\n",
              "                        <td id=\"T_e4e28e80_55be_11eb_abc6_0242ac1c0002row27_col4\" class=\"data row27 col4\" >0</td>\n",
              "                        <td id=\"T_e4e28e80_55be_11eb_abc6_0242ac1c0002row27_col5\" class=\"data row27 col5\" >0</td>\n",
              "                        <td id=\"T_e4e28e80_55be_11eb_abc6_0242ac1c0002row27_col6\" class=\"data row27 col6\" >0</td>\n",
              "                        <td id=\"T_e4e28e80_55be_11eb_abc6_0242ac1c0002row27_col7\" class=\"data row27 col7\" >0</td>\n",
              "                        <td id=\"T_e4e28e80_55be_11eb_abc6_0242ac1c0002row27_col8\" class=\"data row27 col8\" >0</td>\n",
              "                        <td id=\"T_e4e28e80_55be_11eb_abc6_0242ac1c0002row27_col9\" class=\"data row27 col9\" >0</td>\n",
              "                        <td id=\"T_e4e28e80_55be_11eb_abc6_0242ac1c0002row27_col10\" class=\"data row27 col10\" >0</td>\n",
              "                        <td id=\"T_e4e28e80_55be_11eb_abc6_0242ac1c0002row27_col11\" class=\"data row27 col11\" >0</td>\n",
              "                        <td id=\"T_e4e28e80_55be_11eb_abc6_0242ac1c0002row27_col12\" class=\"data row27 col12\" >0</td>\n",
              "                        <td id=\"T_e4e28e80_55be_11eb_abc6_0242ac1c0002row27_col13\" class=\"data row27 col13\" >0</td>\n",
              "                        <td id=\"T_e4e28e80_55be_11eb_abc6_0242ac1c0002row27_col14\" class=\"data row27 col14\" >0</td>\n",
              "                        <td id=\"T_e4e28e80_55be_11eb_abc6_0242ac1c0002row27_col15\" class=\"data row27 col15\" >0</td>\n",
              "                        <td id=\"T_e4e28e80_55be_11eb_abc6_0242ac1c0002row27_col16\" class=\"data row27 col16\" >0</td>\n",
              "                        <td id=\"T_e4e28e80_55be_11eb_abc6_0242ac1c0002row27_col17\" class=\"data row27 col17\" >0</td>\n",
              "                        <td id=\"T_e4e28e80_55be_11eb_abc6_0242ac1c0002row27_col18\" class=\"data row27 col18\" >0</td>\n",
              "                        <td id=\"T_e4e28e80_55be_11eb_abc6_0242ac1c0002row27_col19\" class=\"data row27 col19\" >0</td>\n",
              "                        <td id=\"T_e4e28e80_55be_11eb_abc6_0242ac1c0002row27_col20\" class=\"data row27 col20\" >0</td>\n",
              "                        <td id=\"T_e4e28e80_55be_11eb_abc6_0242ac1c0002row27_col21\" class=\"data row27 col21\" >0</td>\n",
              "                        <td id=\"T_e4e28e80_55be_11eb_abc6_0242ac1c0002row27_col22\" class=\"data row27 col22\" >0</td>\n",
              "                        <td id=\"T_e4e28e80_55be_11eb_abc6_0242ac1c0002row27_col23\" class=\"data row27 col23\" >0</td>\n",
              "                        <td id=\"T_e4e28e80_55be_11eb_abc6_0242ac1c0002row27_col24\" class=\"data row27 col24\" >0</td>\n",
              "                        <td id=\"T_e4e28e80_55be_11eb_abc6_0242ac1c0002row27_col25\" class=\"data row27 col25\" >0</td>\n",
              "                        <td id=\"T_e4e28e80_55be_11eb_abc6_0242ac1c0002row27_col26\" class=\"data row27 col26\" >0</td>\n",
              "                        <td id=\"T_e4e28e80_55be_11eb_abc6_0242ac1c0002row27_col27\" class=\"data row27 col27\" >0</td>\n",
              "            </tr>\n",
              "    </tbody></table>"
            ],
            "text/plain": [
              "<pandas.io.formats.style.Styler at 0x7f829ccba978>"
            ]
          },
          "metadata": {
            "tags": []
          },
          "execution_count": 21
        }
      ]
    },
    {
      "cell_type": "code",
      "metadata": {
        "colab": {
          "base_uri": "https://localhost:8080/",
          "height": 719
        },
        "id": "ej0kEic7AVzb",
        "outputId": "268e630f-3026-4164-acb9-0c4cfe5615f3"
      },
      "source": [
        "doc(df.style.set_properties(**{'font-size':'6pt'}).background_gradient) # Remove the parameter for background_gradient to check its functionality"
      ],
      "execution_count": 22,
      "outputs": [
        {
          "output_type": "display_data",
          "data": {
            "text/html": [
              "<h4 id=\"Styler.background_gradient\" class=\"doc_header\"><code>Styler.background_gradient</code><a href=\"pandas/io/formats/style.py#L1024\" class=\"source_link\" style=\"float:right\">[source]</a></h4><blockquote><p><code>Styler.background_gradient</code>(<strong><code>cmap</code></strong>=<em><code>'PuBu'</code></em>, <strong><code>low</code></strong>:<code>float</code>=<em><code>0</code></em>, <strong><code>high</code></strong>:<code>float</code>=<em><code>0</code></em>, <strong><code>axis</code></strong>:<code>Union</code>[<code>str</code>, <code>int</code>, <code>NoneType</code>]=<em><code>0</code></em>, <strong><code>subset</code></strong>=<em><code>None</code></em>, <strong><code>text_color_threshold</code></strong>:<code>float</code>=<em><code>0.408</code></em>, <strong><code>vmin</code></strong>:<code>Optional</code>[<code>float</code>]=<em><code>None</code></em>, <strong><code>vmax</code></strong>:<code>Optional</code>[<code>float</code>]=<em><code>None</code></em>)</p>\n",
              "</blockquote>\n",
              "<p>Color the background in a gradient style.</p>\n",
              "<p>The background color is determined according\n",
              "to the data in each column (optionally row). Requires matplotlib.</p>\n",
              "<h2 id=\"Parameters\">Parameters<a class=\"anchor-link\" href=\"#Parameters\">&#182;</a></h2><p>cmap : str or colormap\n",
              "    Matplotlib colormap.\n",
              "low : float\n",
              "    Compress the range by the low.\n",
              "high : float\n",
              "    Compress the range by the high.\n",
              "axis : {0 or 'index', 1 or 'columns', None}, default 0\n",
              "    Apply to each column (<code>axis=0</code> or <code>'index'</code>), to each row\n",
              "    (<code>axis=1</code> or <code>'columns'</code>), or to the entire DataFrame at once\n",
              "    with <code>axis=None</code>.\n",
              "subset : IndexSlice\n",
              "    A valid slice for <code>data</code> to limit the style application to.\n",
              "text_color_threshold : float or int\n",
              "    Luminance threshold for determining text color. Facilitates text\n",
              "    visibility across varying background colors. From 0 to 1.\n",
              "    0 = all text is dark colored, 1 = all text is light colored.</p>\n",
              "\n",
              "<pre><code>.. versionadded:: 0.24.0\n",
              "\n",
              "</code></pre>\n",
              "<p>vmin : float, optional\n",
              "    Minimum data value that corresponds to colormap minimum value.\n",
              "    When None (default): the minimum value of the data will be used.</p>\n",
              "\n",
              "<pre><code>.. versionadded:: 1.0.0\n",
              "\n",
              "</code></pre>\n",
              "<p>vmax : float, optional\n",
              "    Maximum data value that corresponds to colormap maximum value.\n",
              "    When None (default): the maximum value of the data will be used.</p>\n",
              "\n",
              "<pre><code>.. versionadded:: 1.0.0\n",
              "\n",
              "</code></pre>\n",
              "<h2 id=\"Returns\">Returns<a class=\"anchor-link\" href=\"#Returns\">&#182;</a></h2><p>self : Styler</p>\n",
              "<h2 id=\"Raises\">Raises<a class=\"anchor-link\" href=\"#Raises\">&#182;</a></h2><p>ValueError\n",
              "    If <code>text_color_threshold</code> is not a value from 0 to 1.</p>\n",
              "<h2 id=\"Notes\">Notes<a class=\"anchor-link\" href=\"#Notes\">&#182;</a></h2><p>Set <code>text_color_threshold</code> or tune <code>low</code> and <code>high</code> to keep the\n",
              "text legible by not using the entire range of the color map. The range\n",
              "of the data is extended by <code>low * (x.max() - x.min())</code> and <code>high *\n",
              "(x.max() - x.min())</code> before normalizing.</p>\n"
            ],
            "text/plain": [
              "<IPython.core.display.HTML object>"
            ]
          },
          "metadata": {
            "tags": []
          }
        }
      ]
    },
    {
      "cell_type": "markdown",
      "metadata": {
        "id": "lh2hoUtj34fk"
      },
      "source": [
        "<img width=\"453\" id=\"output_pd_pixels\" src=\"https://github.com/flyforward2016/fastbook/blob/master/images/att_00058.png?raw=1\">"
      ]
    },
    {
      "cell_type": "markdown",
      "metadata": {
        "id": "9x7dCV3234fk"
      },
      "source": [
        "You can see that the background white pixels are stored as the number 0, black is the number 255, and shades of gray are between the two. The entire image contains 28 pixels across and 28 pixels down, for a total of 784 pixels. (This is much smaller than an image that you would get from a phone camera, which has millions of pixels, but is a convenient size for our initial learning and experiments. We will build up to bigger, full-color images soon.)\n",
        "\n",
        "So, now you've seen what an image looks like to a computer, let's recall our goal: create a model that can recognize 3s and 7s. How might you go about getting a computer to do that?\n",
        "\n",
        "> Warning: Stop and Think!: Before you read on, take a moment to think about how a computer might be able to recognize these two different digits. What kinds of features might it be able to look at? How might it be able to identify these features? How could it combine them together? Learning works best when you try to solve problems yourself, rather than just reading somebody else's answers; so step away from this book for a few minutes, grab a piece of paper and pen, and jot some ideas down…"
      ]
    },
    {
      "cell_type": "markdown",
      "metadata": {
        "id": "1hTp6z4I34fl"
      },
      "source": [
        "## First Try: Pixel Similarity"
      ]
    },
    {
      "cell_type": "markdown",
      "metadata": {
        "id": "5tW1OqB734fl"
      },
      "source": [
        "So, here is a first idea: how about we find the average pixel value for every pixel of the 3s, then do the same for the 7s. This will give us two group averages, defining what we might call the \"ideal\" 3 and 7. Then, to classify an image as one digit or the other, we see which of these two ideal digits the image is most similar to. This certainly seems like it should be better than nothing, so it will make a good baseline."
      ]
    },
    {
      "cell_type": "markdown",
      "metadata": {
        "id": "0_NV8R9F34fl"
      },
      "source": [
        "> jargon: Baseline: A simple model which you are confident should perform reasonably well. It should be very simple to implement, and very easy to test, so that you can then test each of your improved ideas, and make sure they are always better than your baseline. Without starting with a sensible baseline, it is very difficult to know whether your super-fancy models are actually any good. One good approach to creating a baseline is doing what we have done here: think of a simple, easy-to-implement model. Another good approach is to search around to find other people that have solved similar problems to yours, and download and run their code on your dataset. Ideally, try both of these!"
      ]
    },
    {
      "cell_type": "markdown",
      "metadata": {
        "id": "u3rtdwMd34fl"
      },
      "source": [
        "Step one for our simple model is to get the average of pixel values for each of our two groups. In the process of doing this, we will learn a lot of neat Python numeric programming tricks!\n",
        "\n",
        "Let's create a tensor containing all of our 3s stacked together. We already know how to create a tensor containing a single image. To create a tensor containing all the images in a directory, we will first use a Python list comprehension to create a plain list of the single image tensors.\n",
        "\n",
        "We will use Jupyter to do some little checks of our work along the way—in this case, making sure that the number of returned items seems reasonable:"
      ]
    },
    {
      "cell_type": "code",
      "metadata": {
        "colab": {
          "base_uri": "https://localhost:8080/"
        },
        "id": "YWB-YkP934fm",
        "outputId": "8f8e14fa-5f49-4f74-c3a9-363fa87e7994"
      },
      "source": [
        "seven_tensors = [tensor(Image.open(o)) for o in sevens] # this is called list comprehension\n",
        "three_tensors = [tensor(Image.open(o)) for o in threes]\n",
        "len(three_tensors),len(seven_tensors)"
      ],
      "execution_count": 23,
      "outputs": [
        {
          "output_type": "execute_result",
          "data": {
            "text/plain": [
              "(6131, 6265)"
            ]
          },
          "metadata": {
            "tags": []
          },
          "execution_count": 23
        }
      ]
    },
    {
      "cell_type": "markdown",
      "metadata": {
        "id": "IhrM0bBO34fn"
      },
      "source": [
        "> note: List Comprehensions: List and dictionary comprehensions are a wonderful feature of Python. Many Python programmers use them every day, including the authors of this book—they are part of \"idiomatic Python.\" But programmers coming from other languages may have never seen them before. There are a lot of great tutorials just a web search away, so we won't spend a long time discussing them now. Here is a quick explanation and example to get you started. A list comprehension looks like this: `new_list = [f(o) for o in a_list if o>0]`. This will return every element of `a_list` that is greater than 0, after passing it to the function `f`. There are three parts here: the collection you are iterating over (`a_list`), an optional filter (`if o>0`), and something to do to each element (`f(o)`). It's not only shorter to write but way faster than the alternative ways of creating the same list with a loop."
      ]
    },
    {
      "cell_type": "markdown",
      "metadata": {
        "id": "6-Pf2tMh34fo"
      },
      "source": [
        "We'll also check that one of the images looks okay. Since we now have tensors (which Jupyter by default will print as values), rather than PIL images (which Jupyter by default will display as images), we need to use fastai's `show_image` function to display it:"
      ]
    },
    {
      "cell_type": "code",
      "metadata": {
        "colab": {
          "base_uri": "https://localhost:8080/",
          "height": 0
        },
        "id": "Hx3yyZN_34fp",
        "outputId": "a20c9bdb-c59f-4e1d-a4e6-7b944dbbe7fb"
      },
      "source": [
        "show_image(three_tensors[1]);"
      ],
      "execution_count": 24,
      "outputs": [
        {
          "output_type": "display_data",
          "data": {
            "image/png": "[encoded data removed]",
            "text/plain": [
              "<Figure size 72x72 with 1 Axes>"
            ]
          },
          "metadata": {
            "tags": [],
            "needs_background": "light"
          }
        }
      ]
    },
    {
      "cell_type": "code",
      "metadata": {
        "colab": {
          "base_uri": "https://localhost:8080/"
        },
        "id": "uf8ESdRyRUWo",
        "outputId": "c6d09020-bf3d-4394-91ec-53cf9253afde"
      },
      "source": [
        "three_tensors[1:3]"
      ],
      "execution_count": 25,
      "outputs": [
        {
          "output_type": "execute_result",
          "data": {
            "text/plain": [
              "[tensor([[  0,   0,   0,   0,   0,   0,   0,   0,   0,   0,   0,   0,   0,   0,   0,   0,   0,   0,   0,   0,   0,   0,   0,   0,   0,   0,   0,   0],\n",
              "         [  0,   0,   0,   0,   0,   0,   0,   0,   0,   0,   0,   0,   0,   0,   0,   0,   0,   0,   0,   0,   0,   0,   0,   0,   0,   0,   0,   0],\n",
              "         [  0,   0,   0,   0,   0,   0,   0,   0,   0,   0,   0,   0,   0,   0,   0,   0,   0,   0,   0,   0,   0,   0,   0,   0,   0,   0,   0,   0],\n",
              "         [  0,   0,   0,   0,   0,   0,   0,   0,   0,   0,   0,   0,   0,   0,   0,   0,   0,   0,   0,   0,   0,   0,   0,   0,   0,   0,   0,   0],\n",
              "         [  0,   0,   0,   0,   0,   0,   0,   0,   0,   0,   0,   0,   0,   0,   0,   0,   0,   0,   0,   0,   0,   0,   0,   0,   0,   0,   0,   0],\n",
              "         [  0,   0,   0,   0,   0,   0,   0,   0,   0,  29, 150, 195, 254, 255, 254, 176, 193, 150,  96,   0,   0,   0,   0,   0,   0,   0,   0,   0],\n",
              "         [  0,   0,   0,   0,   0,   0,   0,  48, 166, 224, 253, 253, 234, 196, 253, 253, 253, 253, 233,   0,   0,   0,   0,   0,   0,   0,   0,   0],\n",
              "         [  0,   0,   0,   0,   0,  93, 244, 249, 253, 187,  46,  10,   8,   4,  10, 194, 253, 253, 233,   0,   0,   0,   0,   0,   0,   0,   0,   0],\n",
              "         [  0,   0,   0,   0,   0, 107, 253, 253, 230,  48,   0,   0,   0,   0,   0, 192, 253, 253, 156,   0,   0,   0,   0,   0,   0,   0,   0,   0],\n",
              "         [  0,   0,   0,   0,   0,   3,  20,  20,  15,   0,   0,   0,   0,   0,  43, 224, 253, 245,  74,   0,   0,   0,   0,   0,   0,   0,   0,   0],\n",
              "         [  0,   0,   0,   0,   0,   0,   0,   0,   0,   0,   0,   0,   0,   0, 249, 253, 245, 126,   0,   0,   0,   0,   0,   0,   0,   0,   0,   0],\n",
              "         [  0,   0,   0,   0,   0,   0,   0,   0,   0,   0,   0,  14, 101, 223, 253, 248, 124,   0,   0,   0,   0,   0,   0,   0,   0,   0,   0,   0],\n",
              "         [  0,   0,   0,   0,   0,   0,   0,   0,   0,  11, 166, 239, 253, 253, 253, 187,  30,   0,   0,   0,   0,   0,   0,   0,   0,   0,   0,   0],\n",
              "         [  0,   0,   0,   0,   0,   0,   0,   0,   0,  16, 248, 250, 253, 253, 253, 253, 232, 213, 111,   2,   0,   0,   0,   0,   0,   0,   0,   0],\n",
              "         [  0,   0,   0,   0,   0,   0,   0,   0,   0,   0,   0,  43,  98,  98, 208, 253, 253, 253, 253, 187,  22,   0,   0,   0,   0,   0,   0,   0],\n",
              "         [  0,   0,   0,   0,   0,   0,   0,   0,   0,   0,   0,   0,   0,   0,   9,  51, 119, 253, 253, 253,  76,   0,   0,   0,   0,   0,   0,   0],\n",
              "         [  0,   0,   0,   0,   0,   0,   0,   0,   0,   0,   0,   0,   0,   0,   0,   0,   1, 183, 253, 253, 139,   0,   0,   0,   0,   0,   0,   0],\n",
              "         [  0,   0,   0,   0,   0,   0,   0,   0,   0,   0,   0,   0,   0,   0,   0,   0,   0, 182, 253, 253, 104,   0,   0,   0,   0,   0,   0,   0],\n",
              "         [  0,   0,   0,   0,   0,   0,   0,   0,   0,   0,   0,   0,   0,   0,   0,   0,  85, 249, 253, 253,  36,   0,   0,   0,   0,   0,   0,   0],\n",
              "         [  0,   0,   0,   0,   0,   0,   0,   0,   0,   0,   0,   0,   0,   0,   0,  60, 214, 253, 253, 173,  11,   0,   0,   0,   0,   0,   0,   0],\n",
              "         [  0,   0,   0,   0,   0,   0,   0,   0,   0,   0,   0,   0,   0,   0,  98, 247, 253, 253, 226,   9,   0,   0,   0,   0,   0,   0,   0,   0],\n",
              "         [  0,   0,   0,   0,   0,   0,   0,   0,   0,   0,   0,   0,  42, 150, 252, 253, 253, 233,  53,   0,   0,   0,   0,   0,   0,   0,   0,   0],\n",
              "         [  0,   0,   0,   0,   0,   0,  42, 115,  42,  60, 115, 159, 240, 253, 253, 250, 175,  25,   0,   0,   0,   0,   0,   0,   0,   0,   0,   0],\n",
              "         [  0,   0,   0,   0,   0,   0, 187, 253, 253, 253, 253, 253, 253, 253, 197,  86,   0,   0,   0,   0,   0,   0,   0,   0,   0,   0,   0,   0],\n",
              "         [  0,   0,   0,   0,   0,   0, 103, 253, 253, 253, 253, 253, 232,  67,   1,   0,   0,   0,   0,   0,   0,   0,   0,   0,   0,   0,   0,   0],\n",
              "         [  0,   0,   0,   0,   0,   0,   0,   0,   0,   0,   0,   0,   0,   0,   0,   0,   0,   0,   0,   0,   0,   0,   0,   0,   0,   0,   0,   0],\n",
              "         [  0,   0,   0,   0,   0,   0,   0,   0,   0,   0,   0,   0,   0,   0,   0,   0,   0,   0,   0,   0,   0,   0,   0,   0,   0,   0,   0,   0],\n",
              "         [  0,   0,   0,   0,   0,   0,   0,   0,   0,   0,   0,   0,   0,   0,   0,   0,   0,   0,   0,   0,   0,   0,   0,   0,   0,   0,   0,   0]], dtype=torch.uint8),\n",
              " tensor([[  0,   0,   0,   0,   0,   0,   0,   0,   0,   0,   0,   0,   0,   0,   0,   0,   0,   0,   0,   0,   0,   0,   0,   0,   0,   0,   0,   0],\n",
              "         [  0,   0,   0,   0,   0,   0,   0,   0,   0,   0,   0,   0,   0,   0,   0,   0,   0,   0,   0,   0,   0,   0,   0,   0,   0,   0,   0,   0],\n",
              "         [  0,   0,   0,   0,   0,   0,   0,   0,   0,   0,   0,   0,   0,   0,   0,   0,   0,   0,   0,   0,   0,   0,   0,   0,   0,   0,   0,   0],\n",
              "         [  0,   0,   0,   0,   0,   0,   0,   0,   0,   0,   0,   0,   0,   0,   0,   0,   0,   0,   0,   0,   0,   0,   0,   0,   0,   0,   0,   0],\n",
              "         [  0,   0,   0,   0,   0,   0,   0,   0,   0,   0,   0,   0,   0,   0,   0,   0,   0,   0,   0,   0,   0,   0,   0,   0,   0,   0,   0,   0],\n",
              "         [  0,   0,   0,   0,   0,   0,   0,   0,   0,   0,   1,  18,  93, 164, 254, 255, 254, 254, 254, 151,   0,   0,   0,   0,   0,   0,   0,   0],\n",
              "         [  0,   0,   0,   0,   0,   0,   0,   0,  13,  36, 151, 253, 253, 253, 253, 253, 253, 218, 239, 213,  10,   0,   0,   0,   0,   0,   0,   0],\n",
              "         [  0,   0,   0,   0,   0,   0,   0,   0,  89, 253, 253, 253, 245, 172,  82,  82,  82,   2, 148, 253, 150,   0,   0,   0,   0,   0,   0,   0],\n",
              "         [  0,   0,   0,   0,   0,   0,   0,   0,  89, 253, 252, 171,  54,   0,   0,   0,   0,  37, 177, 253, 188,   0,   0,   0,   0,   0,   0,   0],\n",
              "         [  0,   0,   0,   0,   0,   0,   0,   0,  17, 151,  51,   0,   0,   0,   0,   0,  40, 229, 253, 253, 147,   0,   0,   0,   0,   0,   0,   0],\n",
              "         [  0,   0,   0,   0,   0,   0,   0,   0,   0,   0,   0,   0,   0,   0,  83, 206, 237, 253, 253, 211,   8,   0,   0,   0,   0,   0,   0,   0],\n",
              "         [  0,   0,   0,   0,   0,   0,   0,   0,   0,   0,   0,  70, 143, 243, 251, 253, 253, 253, 181,  50,   0,   0,   0,   0,   0,   0,   0,   0],\n",
              "         [  0,   0,   0,   0,   0,   0,   0,   0,   0,   0,   4, 204, 253, 253, 253, 253, 253, 253, 106,   0,   0,   0,   0,   0,   0,   0,   0,   0],\n",
              "         [  0,   0,   0,   0,   0,   0,   0,   0,   0,   0,   5, 235, 253, 253, 221, 167,  94, 250, 125,   0,   0,   0,   0,   0,   0,   0,   0,   0],\n",
              "         [  0,   0,   0,   0,   0,   0,   0,   0,   0,   0,   0, 110, 175,  76,  18,   0,   0, 249, 244,  62,   0,   0,   0,   0,   0,   0,   0,   0],\n",
              "         [  0,   0,   0,   0,   0,   0,   0,   0,   0,   0,   0,   0,   0,   0,   0,   0,   0, 213, 253, 124,   0,   0,   0,   0,   0,   0,   0,   0],\n",
              "         [  0,   0,   0,   0,   0,   0,   0,   0,   0,   0,   0,   0,   0,   0,   0,   0,   0, 130, 253, 206,   0,   0,   0,   0,   0,   0,   0,   0],\n",
              "         [  0,   0,   0,   0,   0,   0,   0,   0,   0,   0,   0,   0,   0,   0,   0,   0,   0, 238, 253, 206,   0,   0,   0,   0,   0,   0,   0,   0],\n",
              "         [  0,   0,   0,   0,   0,   0,   3, 189, 207,  21,   0,   0,   0,   0,   0,   0,   0, 249, 253, 145,   0,   0,   0,   0,   0,   0,   0,   0],\n",
              "         [  0,   0,   0,   0,   0,   0,  23, 216, 253, 159,   2,   0,   0,   0,   0,   0,  80, 251, 253,  88,   0,   0,   0,   0,   0,   0,   0,   0],\n",
              "         [  0,   0,   0,   0,   0,   0,   0, 167, 253, 253,  33,   0,   0,   0,   0,  63, 246, 253, 212,  31,   0,   0,   0,   0,   0,   0,   0,   0],\n",
              "         [  0,   0,   0,   0,   0,   0,   0,  20, 189, 253, 219, 112,   0,   0,  87, 209, 253, 253, 106,   0,   0,   0,   0,   0,   0,   0,   0,   0],\n",
              "         [  0,   0,   0,   0,   0,   0,   0,   0,  60, 244, 253, 248, 201, 201, 241, 253, 253, 211,  72,   0,   0,   0,   0,   0,   0,   0,   0,   0],\n",
              "         [  0,   0,   0,   0,   0,   0,   0,   0,   0,  81, 249, 253, 253, 253, 253, 253, 209,  19,   0,   0,   0,   0,   0,   0,   0,   0,   0,   0],\n",
              "         [  0,   0,   0,   0,   0,   0,   0,   0,   0,   0,  19, 201, 253, 253, 217,  91,  10,   0,   0,   0,   0,   0,   0,   0,   0,   0,   0,   0],\n",
              "         [  0,   0,   0,   0,   0,   0,   0,   0,   0,   0,   0,   0,   0,   0,   0,   0,   0,   0,   0,   0,   0,   0,   0,   0,   0,   0,   0,   0],\n",
              "         [  0,   0,   0,   0,   0,   0,   0,   0,   0,   0,   0,   0,   0,   0,   0,   0,   0,   0,   0,   0,   0,   0,   0,   0,   0,   0,   0,   0],\n",
              "         [  0,   0,   0,   0,   0,   0,   0,   0,   0,   0,   0,   0,   0,   0,   0,   0,   0,   0,   0,   0,   0,   0,   0,   0,   0,   0,   0,   0]], dtype=torch.uint8)]"
            ]
          },
          "metadata": {
            "tags": []
          },
          "execution_count": 25
        }
      ]
    },
    {
      "cell_type": "markdown",
      "metadata": {
        "id": "ow1AXmKM34fr"
      },
      "source": [
        "For every pixel position, we want to compute the average over all the images of the intensity of that pixel. To do this we first combine all the images in this list into a single three-dimensional tensor. The most common way to describe such a tensor is to call it a *rank-3 tensor*. We often need to stack up individual tensors in a collection into a single tensor. Unsurprisingly, PyTorch comes with a function called `stack` that we can use for this purpose.\n",
        "\n",
        "Some operations in PyTorch, such as taking a mean, require us to *cast* our integer types to float types. Since we'll be needing this later, we'll also cast our stacked tensor to `float` now. Casting in PyTorch is as simple as typing the name of the type you wish to cast to, and treating it as a method.\n",
        "\n",
        "Generally when images are floats, the pixel values are expected to be between 0 and 1, so we will also divide by 255 here:"
      ]
    },
    {
      "cell_type": "code",
      "metadata": {
        "colab": {
          "base_uri": "https://localhost:8080/"
        },
        "id": "V3hzLZck34fs",
        "outputId": "64511a85-2976-4f26-add1-1e4eeedc290d"
      },
      "source": [
        "stacked_sevens = torch.stack(seven_tensors).float()/255\n",
        "stacked_threes = torch.stack(three_tensors).float()/255\n",
        "stacked_threes.shape"
      ],
      "execution_count": 26,
      "outputs": [
        {
          "output_type": "execute_result",
          "data": {
            "text/plain": [
              "torch.Size([6131, 28, 28])"
            ]
          },
          "metadata": {
            "tags": []
          },
          "execution_count": 26
        }
      ]
    },
    {
      "cell_type": "code",
      "metadata": {
        "colab": {
          "base_uri": "https://localhost:8080/"
        },
        "id": "NCtFFiwrSgpt",
        "outputId": "87ff1fea-dd1f-4375-81df-fff52b989310"
      },
      "source": [
        "stacked_sevens[1,:,:] # the first image. "
      ],
      "execution_count": 27,
      "outputs": [
        {
          "output_type": "execute_result",
          "data": {
            "text/plain": [
              "tensor([[0.0000, 0.0000, 0.0000, 0.0000, 0.0000, 0.0000, 0.0000, 0.0000, 0.0000, 0.0000, 0.0000, 0.0000, 0.0000, 0.0000, 0.0000, 0.0000, 0.0000, 0.0000, 0.0000, 0.0000, 0.0000, 0.0000, 0.0000, 0.0000,\n",
              "         0.0000, 0.0000, 0.0000, 0.0000],\n",
              "        [0.0000, 0.0000, 0.0000, 0.0000, 0.0000, 0.0000, 0.0000, 0.0000, 0.0000, 0.0000, 0.0000, 0.0000, 0.0000, 0.0000, 0.0000, 0.0000, 0.0000, 0.0000, 0.0000, 0.0000, 0.0000, 0.0000, 0.0000, 0.0000,\n",
              "         0.0000, 0.0000, 0.0000, 0.0000],\n",
              "        [0.0000, 0.0000, 0.0000, 0.0000, 0.0000, 0.0000, 0.0000, 0.0000, 0.0000, 0.0000, 0.0000, 0.0000, 0.0000, 0.0000, 0.0000, 0.0000, 0.0000, 0.0000, 0.0000, 0.0000, 0.0000, 0.0000, 0.0000, 0.0000,\n",
              "         0.0000, 0.0000, 0.0000, 0.0000],\n",
              "        [0.0000, 0.0000, 0.0000, 0.0000, 0.0000, 0.0000, 0.0000, 0.0000, 0.0000, 0.0000, 0.0000, 0.0000, 0.0000, 0.0000, 0.0000, 0.0000, 0.0000, 0.0000, 0.0000, 0.0000, 0.0000, 0.0000, 0.0000, 0.0000,\n",
              "         0.0000, 0.0000, 0.0000, 0.0000],\n",
              "        [0.0000, 0.0000, 0.0000, 0.0000, 0.0000, 0.0000, 0.0000, 0.0000, 0.0000, 0.0000, 0.0000, 0.0000, 0.0000, 0.0000, 0.0000, 0.0000, 0.0000, 0.0000, 0.0000, 0.0000, 0.0000, 0.0000, 0.0000, 0.0000,\n",
              "         0.0000, 0.0000, 0.0000, 0.0000],\n",
              "        [0.0000, 0.0000, 0.0000, 0.0000, 0.0000, 0.0000, 0.0000, 0.0000, 0.0000, 0.0000, 0.0000, 0.0000, 0.0000, 0.0000, 0.0000, 0.0000, 0.0000, 0.0000, 0.0000, 0.0000, 0.0000, 0.0000, 0.0000, 0.0000,\n",
              "         0.0000, 0.0000, 0.0000, 0.0000],\n",
              "        [0.0000, 0.0000, 0.0000, 0.0000, 0.0000, 0.0000, 0.0000, 0.0000, 0.0000, 0.0000, 0.0000, 0.0039, 0.0510, 0.0275, 0.0000, 0.0000, 0.0000, 0.0000, 0.0000, 0.0000, 0.0078, 0.3647, 0.9569, 0.8118,\n",
              "         0.0314, 0.0000, 0.0000, 0.0000],\n",
              "        [0.0000, 0.0000, 0.0000, 0.0000, 0.0000, 0.0000, 0.0000, 0.0000, 0.0000, 0.0000, 0.0588, 0.6157, 0.9961, 0.7725, 0.0000, 0.0000, 0.0000, 0.0000, 0.0000, 0.0706, 0.5137, 0.9961, 0.9961, 0.9725,\n",
              "         0.0431, 0.0000, 0.0000, 0.0000],\n",
              "        [0.0000, 0.0000, 0.0000, 0.0000, 0.0000, 0.0000, 0.0000, 0.0000, 0.0000, 0.0353, 0.8627, 0.9961, 0.9961, 0.9020, 0.4078, 0.0000, 0.0000, 0.0000, 0.2549, 0.8471, 0.9961, 0.9961, 0.9961, 0.8549,\n",
              "         0.0314, 0.0000, 0.0000, 0.0000],\n",
              "        [0.0000, 0.0000, 0.0000, 0.0000, 0.0000, 0.0000, 0.0000, 0.0000, 0.0000, 0.6627, 0.9961, 0.9961, 0.9059, 0.4941, 0.1569, 0.0431, 0.2745, 0.7059, 0.9961, 0.9961, 0.9961, 0.9961, 0.9961, 0.3529,\n",
              "         0.0000, 0.0000, 0.0000, 0.0000],\n",
              "        [0.0000, 0.0000, 0.0000, 0.0000, 0.0000, 0.0000, 0.0000, 0.1569, 0.7176, 0.9843, 0.9961, 0.8863, 0.3176, 0.2745, 0.7059, 0.8980, 0.9961, 0.9961, 0.9961, 0.9961, 0.9961, 0.9961, 0.4510, 0.0118,\n",
              "         0.0000, 0.0000, 0.0000, 0.0000],\n",
              "        [0.0000, 0.0000, 0.0000, 0.0000, 0.0000, 0.0000, 0.0275, 0.8157, 0.9961, 0.9961, 1.0000, 0.9961, 0.9961, 0.9961, 1.0000, 0.9961, 0.9961, 0.9961, 0.9961, 0.9961, 0.9961, 0.7451, 0.0118, 0.0000,\n",
              "         0.0000, 0.0000, 0.0000, 0.0000],\n",
              "        [0.0000, 0.0000, 0.0000, 0.0000, 0.0000, 0.0000, 0.2078, 0.9961, 0.9961, 0.9961, 0.9961, 0.9961, 0.9922, 0.9804, 0.8314, 0.6627, 0.4902, 0.6549, 0.9961, 0.9961, 0.9451, 0.1373, 0.0000, 0.0000,\n",
              "         0.0000, 0.0000, 0.0000, 0.0000],\n",
              "        [0.0000, 0.0000, 0.0000, 0.0000, 0.0000, 0.0000, 0.5882, 0.9961, 0.9961, 0.7098, 0.3020, 0.3020, 0.1882, 0.0000, 0.0000, 0.0000, 0.5020, 0.9961, 0.9961, 0.9922, 0.2235, 0.0000, 0.0000, 0.0000,\n",
              "         0.0000, 0.0000, 0.0000, 0.0000],\n",
              "        [0.0000, 0.0000, 0.0000, 0.0000, 0.0000, 0.0000, 0.0549, 0.6157, 0.7647, 0.1137, 0.0000, 0.0000, 0.0000, 0.0000, 0.0000, 0.2941, 0.9725, 0.9961, 0.9961, 0.5451, 0.0000, 0.0000, 0.0000, 0.0000,\n",
              "         0.0000, 0.0000, 0.0000, 0.0000],\n",
              "        [0.0000, 0.0000, 0.0000, 0.0000, 0.0000, 0.0000, 0.0000, 0.0000, 0.0000, 0.0000, 0.0000, 0.0000, 0.0000, 0.0000, 0.2314, 0.8510, 0.9961, 0.9961, 0.6667, 0.0588, 0.0000, 0.0000, 0.0000, 0.0000,\n",
              "         0.0000, 0.0000, 0.0000, 0.0000],\n",
              "        [0.0000, 0.0000, 0.0000, 0.0000, 0.0000, 0.0000, 0.0000, 0.0000, 0.0000, 0.0000, 0.0000, 0.0000, 0.0000, 0.0588, 0.8510, 0.9961, 0.9961, 0.8392, 0.0588, 0.0000, 0.0000, 0.0000, 0.0000, 0.0000,\n",
              "         0.0000, 0.0000, 0.0000, 0.0000],\n",
              "        [0.0000, 0.0000, 0.0000, 0.0000, 0.0000, 0.0000, 0.0000, 0.0000, 0.0000, 0.0000, 0.0000, 0.0000, 0.0196, 0.4431, 0.9961, 0.9961, 0.9333, 0.2157, 0.0000, 0.0000, 0.0000, 0.0000, 0.0000, 0.0000,\n",
              "         0.0000, 0.0000, 0.0000, 0.0000],\n",
              "        [0.0000, 0.0000, 0.0000, 0.0000, 0.0000, 0.0000, 0.0000, 0.0000, 0.0000, 0.0000, 0.0000, 0.0078, 0.3490, 0.9961, 0.9961, 0.9373, 0.3176, 0.0000, 0.0000, 0.0000, 0.0000, 0.0000, 0.0000, 0.0000,\n",
              "         0.0000, 0.0000, 0.0000, 0.0000],\n",
              "        [0.0000, 0.0000, 0.0000, 0.0000, 0.0000, 0.0000, 0.0000, 0.0000, 0.0000, 0.0000, 0.0000, 0.5529, 0.9961, 0.9961, 0.9412, 0.4157, 0.0000, 0.0000, 0.0000, 0.0000, 0.0000, 0.0000, 0.0000, 0.0000,\n",
              "         0.0000, 0.0000, 0.0000, 0.0000],\n",
              "        [0.0000, 0.0000, 0.0000, 0.0000, 0.0000, 0.0000, 0.0000, 0.0000, 0.0000, 0.0000, 0.2588, 0.9882, 0.9961, 0.9882, 0.5686, 0.0000, 0.0000, 0.0000, 0.0000, 0.0000, 0.0000, 0.0000, 0.0000, 0.0000,\n",
              "         0.0000, 0.0000, 0.0000, 0.0000],\n",
              "        [0.0000, 0.0000, 0.0000, 0.0000, 0.0000, 0.0000, 0.0000, 0.0000, 0.0000, 0.2667, 0.9804, 0.9961, 0.9882, 0.6706, 0.0000, 0.0000, 0.0000, 0.0000, 0.0000, 0.0000, 0.0000, 0.0000, 0.0000, 0.0000,\n",
              "         0.0000, 0.0000, 0.0000, 0.0000],\n",
              "        [0.0000, 0.0000, 0.0000, 0.0000, 0.0000, 0.0000, 0.0000, 0.0000, 0.2118, 0.9765, 0.9961, 0.9961, 0.8235, 0.0000, 0.0000, 0.0000, 0.0000, 0.0000, 0.0000, 0.0000, 0.0000, 0.0000, 0.0000, 0.0000,\n",
              "         0.0000, 0.0000, 0.0000, 0.0000],\n",
              "        [0.0000, 0.0000, 0.0000, 0.0000, 0.0000, 0.0000, 0.0000, 0.2196, 0.8745, 0.9961, 0.9961, 0.7412, 0.0431, 0.0000, 0.0000, 0.0000, 0.0000, 0.0000, 0.0000, 0.0000, 0.0000, 0.0000, 0.0000, 0.0000,\n",
              "         0.0000, 0.0000, 0.0000, 0.0000],\n",
              "        [0.0000, 0.0000, 0.0000, 0.0000, 0.0000, 0.0000, 0.2471, 0.9059, 0.9961, 0.9961, 0.8275, 0.0431, 0.0000, 0.0000, 0.0000, 0.0000, 0.0000, 0.0000, 0.0000, 0.0000, 0.0000, 0.0000, 0.0000, 0.0000,\n",
              "         0.0000, 0.0000, 0.0000, 0.0000],\n",
              "        [0.0000, 0.0000, 0.0000, 0.0000, 0.0000, 0.1333, 0.8863, 0.9961, 0.9961, 0.8196, 0.0824, 0.0000, 0.0000, 0.0000, 0.0000, 0.0000, 0.0000, 0.0000, 0.0000, 0.0000, 0.0000, 0.0000, 0.0000, 0.0000,\n",
              "         0.0000, 0.0000, 0.0000, 0.0000],\n",
              "        [0.0000, 0.0000, 0.0000, 0.0000, 0.0000, 0.0000, 0.0000, 0.0000, 0.0000, 0.0000, 0.0000, 0.0000, 0.0000, 0.0000, 0.0000, 0.0000, 0.0000, 0.0000, 0.0000, 0.0000, 0.0000, 0.0000, 0.0000, 0.0000,\n",
              "         0.0000, 0.0000, 0.0000, 0.0000],\n",
              "        [0.0000, 0.0000, 0.0000, 0.0000, 0.0000, 0.0000, 0.0000, 0.0000, 0.0000, 0.0000, 0.0000, 0.0000, 0.0000, 0.0000, 0.0000, 0.0000, 0.0000, 0.0000, 0.0000, 0.0000, 0.0000, 0.0000, 0.0000, 0.0000,\n",
              "         0.0000, 0.0000, 0.0000, 0.0000]])"
            ]
          },
          "metadata": {
            "tags": []
          },
          "execution_count": 27
        }
      ]
    },
    {
      "cell_type": "code",
      "metadata": {
        "colab": {
          "base_uri": "https://localhost:8080/"
        },
        "id": "Q8Ku6Z26TKtU",
        "outputId": "61c1b738-8578-40dd-f7a2-6a401e40d0dc"
      },
      "source": [
        "stacked_sevens # all the image stacked togther, there are 6131 pictures."
      ],
      "execution_count": 28,
      "outputs": [
        {
          "output_type": "execute_result",
          "data": {
            "text/plain": [
              "tensor([[[0., 0., 0.,  ..., 0., 0., 0.],\n",
              "         [0., 0., 0.,  ..., 0., 0., 0.],\n",
              "         [0., 0., 0.,  ..., 0., 0., 0.],\n",
              "         ...,\n",
              "         [0., 0., 0.,  ..., 0., 0., 0.],\n",
              "         [0., 0., 0.,  ..., 0., 0., 0.],\n",
              "         [0., 0., 0.,  ..., 0., 0., 0.]],\n",
              "\n",
              "        [[0., 0., 0.,  ..., 0., 0., 0.],\n",
              "         [0., 0., 0.,  ..., 0., 0., 0.],\n",
              "         [0., 0., 0.,  ..., 0., 0., 0.],\n",
              "         ...,\n",
              "         [0., 0., 0.,  ..., 0., 0., 0.],\n",
              "         [0., 0., 0.,  ..., 0., 0., 0.],\n",
              "         [0., 0., 0.,  ..., 0., 0., 0.]],\n",
              "\n",
              "        [[0., 0., 0.,  ..., 0., 0., 0.],\n",
              "         [0., 0., 0.,  ..., 0., 0., 0.],\n",
              "         [0., 0., 0.,  ..., 0., 0., 0.],\n",
              "         ...,\n",
              "         [0., 0., 0.,  ..., 0., 0., 0.],\n",
              "         [0., 0., 0.,  ..., 0., 0., 0.],\n",
              "         [0., 0., 0.,  ..., 0., 0., 0.]],\n",
              "\n",
              "        ...,\n",
              "\n",
              "        [[0., 0., 0.,  ..., 0., 0., 0.],\n",
              "         [0., 0., 0.,  ..., 0., 0., 0.],\n",
              "         [0., 0., 0.,  ..., 0., 0., 0.],\n",
              "         ...,\n",
              "         [0., 0., 0.,  ..., 0., 0., 0.],\n",
              "         [0., 0., 0.,  ..., 0., 0., 0.],\n",
              "         [0., 0., 0.,  ..., 0., 0., 0.]],\n",
              "\n",
              "        [[0., 0., 0.,  ..., 0., 0., 0.],\n",
              "         [0., 0., 0.,  ..., 0., 0., 0.],\n",
              "         [0., 0., 0.,  ..., 0., 0., 0.],\n",
              "         ...,\n",
              "         [0., 0., 0.,  ..., 0., 0., 0.],\n",
              "         [0., 0., 0.,  ..., 0., 0., 0.],\n",
              "         [0., 0., 0.,  ..., 0., 0., 0.]],\n",
              "\n",
              "        [[0., 0., 0.,  ..., 0., 0., 0.],\n",
              "         [0., 0., 0.,  ..., 0., 0., 0.],\n",
              "         [0., 0., 0.,  ..., 0., 0., 0.],\n",
              "         ...,\n",
              "         [0., 0., 0.,  ..., 0., 0., 0.],\n",
              "         [0., 0., 0.,  ..., 0., 0., 0.],\n",
              "         [0., 0., 0.,  ..., 0., 0., 0.]]])"
            ]
          },
          "metadata": {
            "tags": []
          },
          "execution_count": 28
        }
      ]
    },
    {
      "cell_type": "markdown",
      "metadata": {
        "id": "XrrpxzIh34ft"
      },
      "source": [
        "Perhaps the most important attribute of a tensor is its *shape*. This tells you the length of each axis. In this case, we can see that we have 6,131 images, each of size 28×28 pixels. There is nothing specifically about this tensor that says that the first axis is the number of images, the second is the height, and the third is the width—the semantics of a tensor are entirely up to us, and how we construct it. As far as PyTorch is concerned, it is just a bunch of numbers in memory.\n",
        "\n",
        "The *length* of a tensor's shape is its rank:"
      ]
    },
    {
      "cell_type": "code",
      "metadata": {
        "colab": {
          "base_uri": "https://localhost:8080/"
        },
        "id": "jc9kAyZl34ft",
        "outputId": "a20d4e86-b20a-4625-d237-58f4dc4f1925"
      },
      "source": [
        "len(stacked_threes.shape)"
      ],
      "execution_count": 29,
      "outputs": [
        {
          "output_type": "execute_result",
          "data": {
            "text/plain": [
              "3"
            ]
          },
          "metadata": {
            "tags": []
          },
          "execution_count": 29
        }
      ]
    },
    {
      "cell_type": "markdown",
      "metadata": {
        "id": "uSezXwM934ft"
      },
      "source": [
        "It is really important for you to commit to memory and practice these bits of tensor jargon: _rank_ is the number of axes or dimensions in a tensor; _shape_ is the size of each axis of a tensor.\n",
        "\n",
        "> A: Watch out because the term \"dimension\" is sometimes used in two ways. Consider that we live in \"three-dimensonal space\" where a physical position can be described by a 3-vector `v`. But according to PyTorch, the attribute `v.ndim` (which sure looks like the \"number of dimensions\" of `v`) equals one, not three! Why? Because `v` is a vector, which is a tensor of rank one, meaning that it has only one _axis_ (even if that axis has a length of three). In other words, sometimes dimension is used for the size of an axis (\"space is three-dimensional\"); other times, it is used for the rank, or the number of axes (\"a matrix has two dimensions\"). When confused, I find it helpful to translate all statements into terms of rank, axis, and length, which are unambiguous terms."
      ]
    },
    {
      "cell_type": "markdown",
      "metadata": {
        "id": "Fo-CC-hg34ft"
      },
      "source": [
        "We can also get a tensor's rank directly with `ndim`:"
      ]
    },
    {
      "cell_type": "code",
      "metadata": {
        "colab": {
          "base_uri": "https://localhost:8080/"
        },
        "id": "plbyUEcM34fu",
        "outputId": "cb489dc5-833c-4e8f-a6a1-7f56fe60831f"
      },
      "source": [
        "stacked_threes.ndim"
      ],
      "execution_count": 30,
      "outputs": [
        {
          "output_type": "execute_result",
          "data": {
            "text/plain": [
              "3"
            ]
          },
          "metadata": {
            "tags": []
          },
          "execution_count": 30
        }
      ]
    },
    {
      "cell_type": "markdown",
      "metadata": {
        "id": "EInNGi_i34fu"
      },
      "source": [
        "Finally, we can compute what the ideal 3 looks like. We calculate the mean of all the image tensors by taking the mean along dimension 0 of our stacked, rank-3 tensor. This is the dimension that indexes over all the images.\n",
        "\n",
        "In other words, for every pixel position, this will compute the average of that pixel over all images. The result will be one value for every pixel position, or a single image. Here it is:"
      ]
    },
    {
      "cell_type": "code",
      "metadata": {
        "id": "DOW99eGZuUJb",
        "colab": {
          "base_uri": "https://localhost:8080/"
        },
        "outputId": "e2046824-2354-4783-8c30-dfdd9f679a13"
      },
      "source": [
        "stacked_threes"
      ],
      "execution_count": 31,
      "outputs": [
        {
          "output_type": "execute_result",
          "data": {
            "text/plain": [
              "tensor([[[0., 0., 0.,  ..., 0., 0., 0.],\n",
              "         [0., 0., 0.,  ..., 0., 0., 0.],\n",
              "         [0., 0., 0.,  ..., 0., 0., 0.],\n",
              "         ...,\n",
              "         [0., 0., 0.,  ..., 0., 0., 0.],\n",
              "         [0., 0., 0.,  ..., 0., 0., 0.],\n",
              "         [0., 0., 0.,  ..., 0., 0., 0.]],\n",
              "\n",
              "        [[0., 0., 0.,  ..., 0., 0., 0.],\n",
              "         [0., 0., 0.,  ..., 0., 0., 0.],\n",
              "         [0., 0., 0.,  ..., 0., 0., 0.],\n",
              "         ...,\n",
              "         [0., 0., 0.,  ..., 0., 0., 0.],\n",
              "         [0., 0., 0.,  ..., 0., 0., 0.],\n",
              "         [0., 0., 0.,  ..., 0., 0., 0.]],\n",
              "\n",
              "        [[0., 0., 0.,  ..., 0., 0., 0.],\n",
              "         [0., 0., 0.,  ..., 0., 0., 0.],\n",
              "         [0., 0., 0.,  ..., 0., 0., 0.],\n",
              "         ...,\n",
              "         [0., 0., 0.,  ..., 0., 0., 0.],\n",
              "         [0., 0., 0.,  ..., 0., 0., 0.],\n",
              "         [0., 0., 0.,  ..., 0., 0., 0.]],\n",
              "\n",
              "        ...,\n",
              "\n",
              "        [[0., 0., 0.,  ..., 0., 0., 0.],\n",
              "         [0., 0., 0.,  ..., 0., 0., 0.],\n",
              "         [0., 0., 0.,  ..., 0., 0., 0.],\n",
              "         ...,\n",
              "         [0., 0., 0.,  ..., 0., 0., 0.],\n",
              "         [0., 0., 0.,  ..., 0., 0., 0.],\n",
              "         [0., 0., 0.,  ..., 0., 0., 0.]],\n",
              "\n",
              "        [[0., 0., 0.,  ..., 0., 0., 0.],\n",
              "         [0., 0., 0.,  ..., 0., 0., 0.],\n",
              "         [0., 0., 0.,  ..., 0., 0., 0.],\n",
              "         ...,\n",
              "         [0., 0., 0.,  ..., 0., 0., 0.],\n",
              "         [0., 0., 0.,  ..., 0., 0., 0.],\n",
              "         [0., 0., 0.,  ..., 0., 0., 0.]],\n",
              "\n",
              "        [[0., 0., 0.,  ..., 0., 0., 0.],\n",
              "         [0., 0., 0.,  ..., 0., 0., 0.],\n",
              "         [0., 0., 0.,  ..., 0., 0., 0.],\n",
              "         ...,\n",
              "         [0., 0., 0.,  ..., 0., 0., 0.],\n",
              "         [0., 0., 0.,  ..., 0., 0., 0.],\n",
              "         [0., 0., 0.,  ..., 0., 0., 0.]]])"
            ]
          },
          "metadata": {
            "tags": []
          },
          "execution_count": 31
        }
      ]
    },
    {
      "cell_type": "code",
      "metadata": {
        "colab": {
          "base_uri": "https://localhost:8080/"
        },
        "id": "2HID8FjgYG-M",
        "outputId": "c8655ce0-5ad9-4874-e5cf-52d236318fc4"
      },
      "source": [
        "stacked_threes.mean()"
      ],
      "execution_count": 32,
      "outputs": [
        {
          "output_type": "execute_result",
          "data": {
            "text/plain": [
              "tensor(0.1415)"
            ]
          },
          "metadata": {
            "tags": []
          },
          "execution_count": 32
        }
      ]
    },
    {
      "cell_type": "code",
      "metadata": {
        "colab": {
          "base_uri": "https://localhost:8080/",
          "height": 0
        },
        "id": "10OJFJtnZG95",
        "outputId": "e2c8f0df-1be2-4016-9a08-278c0450f5f8"
      },
      "source": [
        "mean3 = stacked_threes.mean(0) # mean(0) means to take the mean every image along 0. after taking th mean,the mean3 changed from 3D to 2D.\r\n",
        "show_image(mean3);"
      ],
      "execution_count": 33,
      "outputs": [
        {
          "output_type": "display_data",
          "data": {
            "image/png": "[encoded data removed]",
            "text/plain": [
              "<Figure size 72x72 with 1 Axes>"
            ]
          },
          "metadata": {
            "tags": [],
            "needs_background": "light"
          }
        }
      ]
    },
    {
      "cell_type": "code",
      "metadata": {
        "id": "iwXeB_cEuFzv",
        "colab": {
          "base_uri": "https://localhost:8080/"
        },
        "outputId": "24f07464-71e1-42df-c603-8dfb758fb6e1"
      },
      "source": [
        "mean3"
      ],
      "execution_count": 34,
      "outputs": [
        {
          "output_type": "execute_result",
          "data": {
            "text/plain": [
              "tensor([[0.0000e+00, 0.0000e+00, 0.0000e+00, 0.0000e+00, 0.0000e+00, 0.0000e+00, 0.0000e+00, 0.0000e+00, 0.0000e+00, 0.0000e+00, 0.0000e+00, 0.0000e+00, 0.0000e+00, 0.0000e+00, 0.0000e+00, 0.0000e+00,\n",
              "         0.0000e+00, 0.0000e+00, 0.0000e+00, 0.0000e+00, 0.0000e+00, 0.0000e+00, 0.0000e+00, 0.0000e+00, 0.0000e+00, 0.0000e+00, 0.0000e+00, 0.0000e+00],\n",
              "        [0.0000e+00, 0.0000e+00, 0.0000e+00, 0.0000e+00, 0.0000e+00, 0.0000e+00, 0.0000e+00, 0.0000e+00, 0.0000e+00, 0.0000e+00, 0.0000e+00, 0.0000e+00, 0.0000e+00, 0.0000e+00, 0.0000e+00, 0.0000e+00,\n",
              "         0.0000e+00, 0.0000e+00, 0.0000e+00, 0.0000e+00, 0.0000e+00, 0.0000e+00, 0.0000e+00, 0.0000e+00, 0.0000e+00, 0.0000e+00, 0.0000e+00, 0.0000e+00],\n",
              "        [0.0000e+00, 0.0000e+00, 0.0000e+00, 0.0000e+00, 0.0000e+00, 0.0000e+00, 0.0000e+00, 0.0000e+00, 0.0000e+00, 0.0000e+00, 7.2918e-05, 1.9637e-04, 2.3410e-04, 1.9253e-04, 2.7568e-04, 2.6161e-04,\n",
              "         2.9423e-04, 2.8400e-04, 1.5671e-04, 4.8612e-05, 5.7567e-06, 0.0000e+00, 0.0000e+00, 0.0000e+00, 0.0000e+00, 0.0000e+00, 0.0000e+00, 0.0000e+00],\n",
              "        [0.0000e+00, 0.0000e+00, 0.0000e+00, 0.0000e+00, 1.5991e-05, 4.8676e-04, 7.7331e-04, 1.4468e-03, 2.9788e-03, 5.6486e-03, 9.5177e-03, 1.5693e-02, 2.1113e-02, 2.4280e-02, 2.5964e-02, 2.4268e-02,\n",
              "         2.0875e-02, 1.7108e-02, 1.1642e-02, 7.0436e-03, 3.9945e-03, 1.4955e-03, 3.2941e-04, 0.0000e+00, 0.0000e+00, 0.0000e+00, 0.0000e+00, 0.0000e+00],\n",
              "        [0.0000e+00, 2.4306e-05, 3.2621e-05, 1.5607e-04, 1.3995e-03, 5.7854e-03, 1.3664e-02, 3.0111e-02, 5.5401e-02, 9.0316e-02, 1.3725e-01, 1.8357e-01, 2.2128e-01, 2.4655e-01, 2.4972e-01, 2.3536e-01,\n",
              "         1.9872e-01, 1.5084e-01, 1.0543e-01, 6.4754e-02, 3.2829e-02, 1.3352e-02, 4.5970e-03, 3.9273e-04, 1.9189e-06, 0.0000e+00, 0.0000e+00, 0.0000e+00],\n",
              "        [0.0000e+00, 0.0000e+00, 5.7567e-05, 1.5204e-03, 8.8909e-03, 2.7837e-02, 6.1064e-02, 1.1271e-01, 1.8688e-01, 2.8024e-01, 3.8297e-01, 4.8024e-01, 5.5877e-01, 6.1324e-01, 6.2329e-01, 5.9771e-01,\n",
              "         5.2835e-01, 4.2100e-01, 3.0576e-01, 2.0347e-01, 1.1742e-01, 5.3793e-02, 1.6992e-02, 3.4617e-03, 2.5905e-04, 0.0000e+00, 0.0000e+00, 0.0000e+00],\n",
              "        [0.0000e+00, 7.0359e-06, 3.0063e-04, 5.8174e-03, 2.4498e-02, 5.9899e-02, 1.2038e-01, 2.0755e-01, 3.1939e-01, 4.3547e-01, 5.4447e-01, 6.2764e-01, 6.8504e-01, 7.2395e-01, 7.4489e-01, 7.4463e-01,\n",
              "         7.0500e-01, 6.0875e-01, 4.7916e-01, 3.3949e-01, 2.1322e-01, 1.0868e-01, 3.7335e-02, 7.9084e-03, 8.2320e-04, 0.0000e+00, 0.0000e+00, 0.0000e+00],\n",
              "        [0.0000e+00, 3.2429e-04, 4.5414e-04, 9.7409e-03, 3.7895e-02, 8.2921e-02, 1.5382e-01, 2.4157e-01, 3.3767e-01, 4.2682e-01, 4.9161e-01, 5.2841e-01, 5.4475e-01, 5.5883e-01, 5.8641e-01, 6.2750e-01,\n",
              "         6.5125e-01, 6.2112e-01, 5.2849e-01, 4.0753e-01, 2.7025e-01, 1.4412e-01, 5.3465e-02, 1.1405e-02, 1.0490e-03, 0.0000e+00, 0.0000e+00, 0.0000e+00],\n",
              "        [0.0000e+00, 1.2601e-04, 5.3985e-04, 1.1943e-02, 4.0899e-02, 7.8775e-02, 1.3442e-01, 1.9457e-01, 2.5074e-01, 2.9489e-01, 3.1693e-01, 3.1747e-01, 3.1133e-01, 3.2182e-01, 3.6634e-01, 4.5206e-01,\n",
              "         5.3760e-01, 5.7068e-01, 5.2600e-01, 4.1737e-01, 2.7770e-01, 1.4791e-01, 5.6850e-02, 1.1186e-02, 5.6543e-04, 0.0000e+00, 0.0000e+00, 0.0000e+00],\n",
              "        [0.0000e+00, 1.3496e-04, 6.4603e-04, 9.1461e-03, 2.9371e-02, 5.4969e-02, 8.9482e-02, 1.1955e-01, 1.4173e-01, 1.5585e-01, 1.6174e-01, 1.6148e-01, 1.6958e-01, 2.0584e-01, 2.9212e-01, 4.1871e-01,\n",
              "         5.3047e-01, 5.7446e-01, 5.1699e-01, 3.8845e-01, 2.4350e-01, 1.1984e-01, 4.4328e-02, 8.7073e-03, 1.1641e-04, 3.9657e-05, 0.0000e+00, 0.0000e+00],\n",
              "        [0.0000e+00, 6.7161e-05, 4.3047e-04, 6.7775e-03, 1.6751e-02, 2.9374e-02, 4.5093e-02, 5.7854e-02, 6.8061e-02, 7.8151e-02, 9.5189e-02, 1.2533e-01, 1.8025e-01, 2.7419e-01, 4.0268e-01, 5.3354e-01,\n",
              "         6.1373e-01, 5.9656e-01, 4.7979e-01, 3.2004e-01, 1.7885e-01, 7.7661e-02, 2.4957e-02, 4.6878e-03, 3.9657e-05, 1.1833e-04, 0.0000e+00, 0.0000e+00],\n",
              "        [0.0000e+00, 4.9251e-05, 3.7035e-04, 3.8589e-03, 8.8301e-03, 1.4541e-02, 2.0740e-02, 2.9064e-02, 4.4311e-02, 7.7774e-02, 1.3957e-01, 2.3310e-01, 3.5509e-01, 4.8872e-01, 6.0988e-01, 6.8693e-01,\n",
              "         6.8276e-01, 5.8363e-01, 4.1155e-01, 2.4346e-01, 1.1769e-01, 4.1552e-02, 1.0649e-02, 1.8121e-03, 9.5944e-06, 1.2857e-04, 0.0000e+00, 0.0000e+00],\n",
              "        [0.0000e+00, 8.3152e-06, 4.9891e-05, 1.5166e-03, 4.1403e-03, 8.1841e-03, 1.3161e-02, 2.7825e-02, 6.6674e-02, 1.4858e-01, 2.7763e-01, 4.3485e-01, 5.8360e-01, 7.0284e-01, 7.7150e-01, 7.7661e-01,\n",
              "         7.1162e-01, 5.6779e-01, 3.7920e-01, 2.1411e-01, 9.4611e-02, 3.1342e-02, 7.7146e-03, 1.0701e-03, 9.9782e-05, 1.3560e-04, 0.0000e+00, 0.0000e+00],\n",
              "        [0.0000e+00, 0.0000e+00, 0.0000e+00, 6.3963e-04, 2.5783e-03, 5.4042e-03, 1.4138e-02, 3.9151e-02, 1.0502e-01, 2.2640e-01, 3.9440e-01, 5.6574e-01, 6.9847e-01, 7.6719e-01, 7.7950e-01, 7.5081e-01,\n",
              "         6.9238e-01, 5.8267e-01, 4.3279e-01, 2.6549e-01, 1.2995e-01, 5.0904e-02, 1.3723e-02, 2.6148e-03, 3.2749e-04, 6.7161e-05, 0.0000e+00, 0.0000e+00],\n",
              "        [0.0000e+00, 1.0234e-04, 5.8206e-05, 6.9975e-04, 2.5758e-03, 6.5549e-03, 1.5612e-02, 4.5825e-02, 1.1788e-01, 2.4133e-01, 3.9015e-01, 5.2159e-01, 6.0265e-01, 6.2869e-01, 6.2758e-01, 6.1725e-01,\n",
              "         6.1311e-01, 5.9272e-01, 5.1544e-01, 3.7066e-01, 2.1080e-01, 9.5741e-02, 3.1867e-02, 7.1351e-03, 7.5860e-04, 2.6225e-05, 0.0000e+00, 0.0000e+00],\n",
              "        [0.0000e+00, 1.4456e-04, 7.1702e-04, 2.3385e-03, 6.0221e-03, 1.1625e-02, 1.9489e-02, 4.1298e-02, 9.1916e-02, 1.7655e-01, 2.7350e-01, 3.4554e-01, 3.7789e-01, 3.8353e-01, 3.8828e-01, 4.1357e-01,\n",
              "         4.7273e-01, 5.4692e-01, 5.5695e-01, 4.6004e-01, 2.9679e-01, 1.4911e-01, 6.0777e-02, 1.5610e-02, 1.8025e-03, 3.1981e-06, 1.3368e-04, 0.0000e+00],\n",
              "        [0.0000e+00, 1.2729e-04, 2.1869e-03, 7.0538e-03, 1.4894e-02, 2.2301e-02, 2.7903e-02, 3.9338e-02, 6.2386e-02, 9.9441e-02, 1.3370e-01, 1.5925e-01, 1.6655e-01, 1.7223e-01, 1.9161e-01, 2.4334e-01,\n",
              "         3.4454e-01, 4.8216e-01, 5.6101e-01, 5.0364e-01, 3.5205e-01, 1.9422e-01, 8.5188e-02, 2.6331e-02, 3.5276e-03, 1.2793e-06, 2.2387e-05, 0.0000e+00],\n",
              "        [0.0000e+00, 1.5735e-04, 3.3331e-03, 1.5257e-02, 3.1764e-02, 4.3270e-02, 4.9365e-02, 5.5510e-02, 5.9109e-02, 5.8848e-02, 6.1369e-02, 6.3137e-02, 6.5532e-02, 7.3339e-02, 9.8233e-02, 1.6722e-01,\n",
              "         2.9171e-01, 4.5252e-01, 5.5033e-01, 5.1463e-01, 3.6876e-01, 2.1820e-01, 1.0305e-01, 3.3861e-02, 3.8557e-03, 0.0000e+00, 0.0000e+00, 0.0000e+00],\n",
              "        [0.0000e+00, 1.6183e-04, 5.7592e-03, 2.7754e-02, 5.8420e-02, 8.2884e-02, 9.7888e-02, 1.0189e-01, 9.3467e-02, 7.5450e-02, 6.1778e-02, 5.2316e-02, 4.8228e-02, 5.6958e-02, 9.1961e-02, 1.8154e-01,\n",
              "         3.2670e-01, 4.7789e-01, 5.5600e-01, 5.0929e-01, 3.6437e-01, 2.2059e-01, 1.0743e-01, 3.3211e-02, 3.2410e-03, 0.0000e+00, 0.0000e+00, 0.0000e+00],\n",
              "        [0.0000e+00, 2.5521e-04, 9.1678e-03, 4.0289e-02, 8.8192e-02, 1.3721e-01, 1.6905e-01, 1.8232e-01, 1.7508e-01, 1.5029e-01, 1.2213e-01, 9.8687e-02, 9.3244e-02, 1.1323e-01, 1.7340e-01, 2.8420e-01,\n",
              "         4.3076e-01, 5.4810e-01, 5.7053e-01, 4.8661e-01, 3.3786e-01, 2.0005e-01, 9.1660e-02, 2.4017e-02, 2.2828e-03, 1.3432e-05, 0.0000e+00, 0.0000e+00],\n",
              "        [0.0000e+00, 4.6565e-04, 1.0415e-02, 4.8182e-02, 1.0872e-01, 1.8070e-01, 2.4184e-01, 2.8666e-01, 3.0795e-01, 2.9331e-01, 2.6096e-01, 2.3568e-01, 2.3487e-01, 2.7473e-01, 3.5662e-01, 4.6657e-01,\n",
              "         5.7225e-01, 6.1136e-01, 5.6052e-01, 4.2788e-01, 2.7981e-01, 1.5136e-01, 6.0435e-02, 1.3841e-02, 1.2274e-03, 1.3432e-05, 4.9891e-05, 0.0000e+00],\n",
              "        [0.0000e+00, 3.6267e-04, 8.7373e-03, 4.1436e-02, 1.0026e-01, 1.8489e-01, 2.8464e-01, 3.7627e-01, 4.4899e-01, 4.7922e-01, 4.8200e-01, 4.7516e-01, 4.8842e-01, 5.3127e-01, 5.9328e-01, 6.4996e-01,\n",
              "         6.6266e-01, 6.0082e-01, 4.7449e-01, 3.2416e-01, 1.8824e-01, 8.8396e-02, 2.8767e-02, 5.4074e-03, 3.2621e-04, 0.0000e+00, 2.1108e-05, 0.0000e+00],\n",
              "        [0.0000e+00, 3.1342e-05, 6.0810e-03, 2.7270e-02, 7.3331e-02, 1.4404e-01, 2.5190e-01, 3.7506e-01, 4.9620e-01, 5.9483e-01, 6.5782e-01, 6.9493e-01, 7.1683e-01, 7.2840e-01, 7.2238e-01, 6.8208e-01,\n",
              "         5.9055e-01, 4.5946e-01, 3.1460e-01, 1.8711e-01, 9.4876e-02, 3.7261e-02, 1.0511e-02, 1.6490e-03, 3.5180e-05, 0.0000e+00, 3.1981e-06, 0.0000e+00],\n",
              "        [0.0000e+00, 0.0000e+00, 2.3519e-03, 1.2594e-02, 3.9571e-02, 8.3350e-02, 1.5672e-01, 2.5775e-01, 3.7410e-01, 4.8738e-01, 5.8281e-01, 6.4514e-01, 6.6356e-01, 6.4247e-01, 5.7364e-01, 4.7332e-01,\n",
              "         3.5329e-01, 2.3856e-01, 1.4426e-01, 7.5467e-02, 3.0740e-02, 9.7691e-03, 2.4229e-03, 3.6651e-04, 1.4839e-04, 7.6756e-06, 5.1810e-05, 0.0000e+00],\n",
              "        [0.0000e+00, 0.0000e+00, 5.4113e-04, 3.9555e-03, 1.3458e-02, 3.0013e-02, 5.8374e-02, 9.7864e-02, 1.4818e-01, 2.0402e-01, 2.5312e-01, 2.8803e-01, 2.9355e-01, 2.7630e-01, 2.3039e-01, 1.7364e-01,\n",
              "         1.1796e-01, 7.1760e-02, 3.6760e-02, 1.6373e-02, 5.7541e-03, 2.0769e-03, 6.1021e-04, 1.2153e-04, 0.0000e+00, 0.0000e+00, 0.0000e+00, 0.0000e+00],\n",
              "        [0.0000e+00, 0.0000e+00, 3.7099e-05, 1.2473e-04, 1.2447e-03, 3.0402e-03, 6.6873e-03, 1.1371e-02, 1.8533e-02, 2.5284e-02, 3.1993e-02, 3.5295e-02, 3.6504e-02, 3.4298e-02, 2.8593e-02, 2.1875e-02,\n",
              "         1.5417e-02, 9.1748e-03, 5.0454e-03, 2.8687e-03, 1.1430e-03, 4.5350e-04, 2.1683e-04, 0.0000e+00, 0.0000e+00, 0.0000e+00, 0.0000e+00, 0.0000e+00],\n",
              "        [0.0000e+00, 0.0000e+00, 0.0000e+00, 0.0000e+00, 1.0234e-05, 8.0593e-05, 1.6630e-04, 3.6459e-04, 4.0041e-04, 5.1362e-04, 7.4325e-04, 9.5497e-04, 1.0643e-03, 1.3560e-03, 1.0484e-03, 8.3855e-04,\n",
              "         1.0260e-03, 9.5497e-04, 7.4645e-04, 5.3793e-04, 3.6523e-04, 1.9637e-04, 2.8783e-05, 0.0000e+00, 0.0000e+00, 0.0000e+00, 0.0000e+00, 0.0000e+00],\n",
              "        [0.0000e+00, 0.0000e+00, 0.0000e+00, 0.0000e+00, 0.0000e+00, 0.0000e+00, 0.0000e+00, 0.0000e+00, 0.0000e+00, 0.0000e+00, 0.0000e+00, 0.0000e+00, 0.0000e+00, 0.0000e+00, 0.0000e+00, 0.0000e+00,\n",
              "         0.0000e+00, 0.0000e+00, 0.0000e+00, 0.0000e+00, 0.0000e+00, 0.0000e+00, 0.0000e+00, 0.0000e+00, 0.0000e+00, 0.0000e+00, 0.0000e+00, 0.0000e+00]])"
            ]
          },
          "metadata": {
            "tags": []
          },
          "execution_count": 34
        }
      ]
    },
    {
      "cell_type": "markdown",
      "metadata": {
        "id": "pjTPGfNNc6Ez"
      },
      "source": [
        "#### study what is mean(0)"
      ]
    },
    {
      "cell_type": "code",
      "metadata": {
        "id": "95vqwOI934fu"
      },
      "source": [
        "# mean3 = stacked_threes[0:1,15:20,15:20]\n",
        "# #show_image(mean3);\n",
        "# mean3"
      ],
      "execution_count": 35,
      "outputs": []
    },
    {
      "cell_type": "code",
      "metadata": {
        "id": "roVps-7TZYM5"
      },
      "source": [
        "#  mean3.mean(0)"
      ],
      "execution_count": 36,
      "outputs": []
    },
    {
      "cell_type": "code",
      "metadata": {
        "id": "0EX-ZqvwZbaM"
      },
      "source": [
        "# mean3.mean(1) #(0.3647+0.0039+0.0275+0.5412+0.9412)/5 = 0.3757 - take the average of each colume."
      ],
      "execution_count": 37,
      "outputs": []
    },
    {
      "cell_type": "code",
      "metadata": {
        "id": "8n72QtlxZeMD"
      },
      "source": [
        "# mean3.mean(2) # (0.3647+0.9412+0.9961+0.6706+0)/5 = 0.5945 - take the average of each row"
      ],
      "execution_count": 38,
      "outputs": []
    },
    {
      "cell_type": "markdown",
      "metadata": {
        "id": "ZZa5QVRpdpGv"
      },
      "source": [
        "#### continuous with the course"
      ]
    },
    {
      "cell_type": "code",
      "metadata": {
        "colab": {
          "base_uri": "https://localhost:8080/"
        },
        "id": "HByRUu5lYKdE",
        "outputId": "85ec6bc5-c60c-4b71-c492-a132b5b0460c"
      },
      "source": [
        "mean3.shape"
      ],
      "execution_count": 39,
      "outputs": [
        {
          "output_type": "execute_result",
          "data": {
            "text/plain": [
              "torch.Size([28, 28])"
            ]
          },
          "metadata": {
            "tags": []
          },
          "execution_count": 39
        }
      ]
    },
    {
      "cell_type": "markdown",
      "metadata": {
        "id": "xqqKWMCf34fu"
      },
      "source": [
        "According to this dataset, this is the ideal number 3! (You may not like it, but this is what peak number 3 performance looks like.) You can see how it's very dark where all the images agree it should be dark, but it becomes wispy and blurry where the images disagree. \n",
        "\n",
        "Let's do the same thing for the 7s, but put all the steps together at once to save some time:"
      ]
    },
    {
      "cell_type": "code",
      "metadata": {
        "colab": {
          "base_uri": "https://localhost:8080/",
          "height": 0
        },
        "id": "0S3elwqa34fu",
        "outputId": "ff32edc7-c0a7-4948-d3f0-aa6b204396e3"
      },
      "source": [
        "mean7 = stacked_sevens.mean(0)\n",
        "show_image(mean7);"
      ],
      "execution_count": 40,
      "outputs": [
        {
          "output_type": "display_data",
          "data": {
            "image/png": "[encoded data removed]",
            "text/plain": [
              "<Figure size 72x72 with 1 Axes>"
            ]
          },
          "metadata": {
            "tags": [],
            "needs_background": "light"
          }
        }
      ]
    },
    {
      "cell_type": "markdown",
      "metadata": {
        "id": "m_ShMk2T34fv"
      },
      "source": [
        "Let's now pick an arbitrary 3 and measure its *distance* from our \"ideal digits.\"\n",
        "\n",
        "> stop: Stop and Think!: How would you calculate how similar a particular image is to each of our ideal digits? Remember to step away from this book and jot down some ideas before you move on! Research shows that recall and understanding improves dramatically when you are engaged with the learning process by solving problems, experimenting, and trying new ideas yourself\n",
        "\n",
        "Here's a sample 3:"
      ]
    },
    {
      "cell_type": "code",
      "metadata": {
        "colab": {
          "base_uri": "https://localhost:8080/",
          "height": 0
        },
        "id": "ZTFqvN2134fv",
        "outputId": "a4599c45-b557-4783-fa68-88bfff4de227"
      },
      "source": [
        "a_3 = stacked_threes[1]\n",
        "show_image(a_3);"
      ],
      "execution_count": 41,
      "outputs": [
        {
          "output_type": "display_data",
          "data": {
            "image/png": "[encoded data removed]",
            "text/plain": [
              "<Figure size 72x72 with 1 Axes>"
            ]
          },
          "metadata": {
            "tags": [],
            "needs_background": "light"
          }
        }
      ]
    },
    {
      "cell_type": "markdown",
      "metadata": {
        "id": "hrmswkU134fv"
      },
      "source": [
        "How can we determine its distance from our ideal 3? We can't just add up the differences between the pixels of this image and the ideal digit. Some differences will be positive while others will be negative, and these differences will cancel out, resulting in a situation where an image that is too dark in some places and too light in others might be shown as having zero total differences from the ideal. That would be misleading!\n",
        "\n",
        "To avoid this, there are two main ways data scientists measure distance in this context:\n",
        "\n",
        "- Take the mean of the *absolute value* of differences (absolute value is the function that replaces negative values with positive values). This is called the *mean absolute difference* or *L1 norm*\n",
        "- Take the mean of the *square* of differences (which makes everything positive) and then take the *square root* (which undoes the squaring). This is called the *root mean squared error* (RMSE) or *L2 norm*.\n",
        "\n",
        "> important: It's Okay to Have Forgotten Your Math: In this book we generally assume that you have completed high school math, and remember at least some of it... But everybody forgets some things! It all depends on what you happen to have had reason to practice in the meantime. Perhaps you have forgotten what a _square root_ is, or exactly how they work. No problem! Any time you come across a maths concept that is not explained fully in this book, don't just keep moving on; instead, stop and look it up. Make sure you understand the basic idea, how it works, and why we might be using it. One of the best places to refresh your understanding is Khan Academy. For instance, Khan Academy has a great [introduction to square roots](https://www.khanacademy.org/math/algebra/x2f8bb11595b61c86:rational-exponents-radicals/x2f8bb11595b61c86:radicals/v/understanding-square-roots)."
      ]
    },
    {
      "cell_type": "markdown",
      "metadata": {
        "id": "xH-YgUXU34fv"
      },
      "source": [
        "Let's try both of these now:"
      ]
    },
    {
      "cell_type": "code",
      "metadata": {
        "colab": {
          "base_uri": "https://localhost:8080/"
        },
        "id": "lhPVo2mN34fv",
        "outputId": "64f5f46f-0861-4257-a27a-781457cedc4b"
      },
      "source": [
        "dist_3_abs = (a_3 - mean3).abs().mean()\n",
        "dist_3_sqr = ((a_3 - mean3)**2).mean().sqrt()\n",
        "dist_3_abs,dist_3_sqr"
      ],
      "execution_count": 42,
      "outputs": [
        {
          "output_type": "execute_result",
          "data": {
            "text/plain": [
              "(tensor(0.1114), tensor(0.2021))"
            ]
          },
          "metadata": {
            "tags": []
          },
          "execution_count": 42
        }
      ]
    },
    {
      "cell_type": "code",
      "metadata": {
        "colab": {
          "base_uri": "https://localhost:8080/"
        },
        "id": "OpYxWxvJ34fw",
        "outputId": "3118f1ef-ff36-4079-ef98-09a8fd4b36e0"
      },
      "source": [
        "dist_7_abs = (a_3 - mean7).abs().mean()\n",
        "dist_7_sqr = ((a_3 - mean7)**2).mean().sqrt()\n",
        "dist_7_abs,dist_7_sqr"
      ],
      "execution_count": 43,
      "outputs": [
        {
          "output_type": "execute_result",
          "data": {
            "text/plain": [
              "(tensor(0.1586), tensor(0.3021))"
            ]
          },
          "metadata": {
            "tags": []
          },
          "execution_count": 43
        }
      ]
    },
    {
      "cell_type": "markdown",
      "metadata": {
        "id": "4Siq_jZU34fw"
      },
      "source": [
        "In both cases, the distance between our 3 and the \"ideal\" 3 is less than the distance to the ideal 7. So our simple model will give the right prediction in this case."
      ]
    },
    {
      "cell_type": "markdown",
      "metadata": {
        "id": "hYoA5iNZ34fw"
      },
      "source": [
        "PyTorch already provides both of these as *loss functions*. You'll find these inside `torch.nn.functional`, which the PyTorch team recommends importing as `F` (and is available by default under that name in fastai):"
      ]
    },
    {
      "cell_type": "code",
      "metadata": {
        "colab": {
          "base_uri": "https://localhost:8080/"
        },
        "id": "9YTZWPei34fw",
        "outputId": "f73f5679-482d-4114-a17e-8fc205b4475f"
      },
      "source": [
        "F.l1_loss(a_3.float(),mean7), F.mse_loss(a_3,mean7).sqrt()"
      ],
      "execution_count": 44,
      "outputs": [
        {
          "output_type": "execute_result",
          "data": {
            "text/plain": [
              "(tensor(0.1586), tensor(0.3021))"
            ]
          },
          "metadata": {
            "tags": []
          },
          "execution_count": 44
        }
      ]
    },
    {
      "cell_type": "markdown",
      "metadata": {
        "id": "27X9YU-S34fx"
      },
      "source": [
        "Here `mse` stands for *mean squared error*, and `l1` refers to the standard mathematical jargon for *mean absolute value* (in math it's called the *L1 norm*)."
      ]
    },
    {
      "cell_type": "markdown",
      "metadata": {
        "id": "iyeHbzyw34fx"
      },
      "source": [
        "> S: Intuitively, the difference between L1 norm and mean squared error (MSE) is that the latter will penalize bigger mistakes more heavily than the former (and be more lenient with small mistakes)."
      ]
    },
    {
      "cell_type": "markdown",
      "metadata": {
        "id": "aK4iUN7O34fx"
      },
      "source": [
        "> J: When I first came across this \"L1\" thingie, I looked it up to see what on earth it meant. I found on Google that it is a _vector norm_ using _absolute value_, so looked up _vector norm_ and started reading: _Given a vector space V over a field F of the real or complex numbers, a norm on V is a nonnegative-valued any function p: V → \\[0,+∞) with the following properties: For all a ∈ F and all u, v ∈ V, p(u + v) ≤ p(u) + p(v)..._ Then I stopped reading. \"Ugh, I'll never understand math!\" I thought, for the thousandth time. Since then I've learned that every time these complex mathy bits of jargon come up in practice, it turns out I can replace them with a tiny bit of code! Like, the _L1 loss_ is just equal to `(a-b).abs().mean()`, where `a` and `b` are tensors. I guess mathy folks just think differently than me... I'll make sure in this book that every time some mathy jargon comes up, I'll give you the little bit of code it's equal to as well, and explain in common-sense terms what's going on."
      ]
    },
    {
      "cell_type": "markdown",
      "metadata": {
        "id": "pXX9J_X734fx"
      },
      "source": [
        "We just completed various mathematical operations on PyTorch tensors. If you've done some numeric programming in PyTorch before, you may recognize these as being similar to NumPy arrays. Let's have a look at those two very important data structures."
      ]
    },
    {
      "cell_type": "markdown",
      "metadata": {
        "id": "E5n1gbl434fy"
      },
      "source": [
        "### NumPy Arrays and PyTorch Tensors"
      ]
    },
    {
      "cell_type": "markdown",
      "metadata": {
        "id": "Gu0_6h1O34fy"
      },
      "source": [
        "[NumPy](https://numpy.org/) is the most widely used library for scientific and numeric programming in Python. It provides very similar functionality and a very similar API to that provided by PyTorch; however, it does not support using the GPU or calculating gradients, which are both critical for deep learning. Therefore, in this book we will generally use PyTorch tensors instead of NumPy arrays, where possible.\n",
        "\n",
        "(Note that fastai adds some features to NumPy and PyTorch to make them a bit more similar to each other. If any code in this book doesn't work on your computer, it's possible that you forgot to include a line like this at the start of your notebook: `from fastai.vision.all import *`.)\n",
        "\n",
        "But what are arrays and tensors, and why should you care?"
      ]
    },
    {
      "cell_type": "markdown",
      "metadata": {
        "id": "4GXw032B34fy"
      },
      "source": [
        "Python is slow compared to many languages. Anything fast in Python, NumPy, or PyTorch is likely to be a wrapper for a compiled object written (and optimized) in another language—specifically C. In fact, **NumPy arrays and PyTorch tensors can finish computations many thousands of times faster than using pure Python.**\n",
        "\n",
        "A NumPy array is a multidimensional table of data, with all items of the same type. Since that can be any type at all, they can even be arrays of arrays, with the innermost arrays potentially being different sizes—this is called a \"jagged array.\" By \"multidimensional table\" we mean, for instance, a list (dimension of one), a table or matrix (dimension of two), a \"table of tables\" or \"cube\" (dimension of three), and so forth. If the items are all of some simple type such as integer or float, then NumPy will store them as a compact C data structure in memory. This is where NumPy shines. NumPy has a wide variety of operators and methods that can run computations on these compact structures at the same speed as optimized C, because they are written in optimized C.\n",
        "\n",
        "A PyTorch tensor is nearly the same thing as a NumPy array, but with an additional restriction that unlocks some additional capabilities. It's the same in that it, too, is a multidimensional table of data, with all items of the same type. However, the restriction is that a tensor cannot use just any old type—it has to use a single basic numeric type for all components. For example, a PyTorch tensor cannot be jagged. It is always a regularly shaped multidimensional rectangular structure.\n",
        "\n",
        "The vast majority of methods and operators supported by NumPy on these structures are also supported by PyTorch, but PyTorch tensors have additional capabilities. One major capability is that these structures can live on the GPU, in which case their computation will be optimized for the GPU and can run much faster (given lots of values to work on). In addition, PyTorch can automatically calculate derivatives of these operations, including combinations of operations. As you'll see, it would be impossible to do deep learning in practice without this capability.\n",
        "\n",
        "> S: If you don't know what C is, don't worry as you won't need it at all. In a nutshell, it's a low-level  (low-level means more similar to the language that computers use internally) language that is very fast compared to Python. To take advantage of its speed while programming in Python, try to avoid as much as possible writing loops, and replace them by commands that work directly on arrays or tensors.\n",
        "\n",
        "Perhaps the most important new coding skill for a Python programmer to learn is how to effectively use the array/tensor APIs. We will be showing lots more tricks later in this book, but here's a summary of the key things you need to know for now."
      ]
    },
    {
      "cell_type": "markdown",
      "metadata": {
        "id": "Tnuhpgqs34fy"
      },
      "source": [
        "To create an array or tensor, pass a list (or list of lists, or list of lists of lists, etc.) to `array()` or `tensor()`:"
      ]
    },
    {
      "cell_type": "code",
      "metadata": {
        "id": "7gRxywl_34fz"
      },
      "source": [
        "data = [[1,2,3],[4,5,6]]\n",
        "arr = array (data)\n",
        "tns = tensor(data)"
      ],
      "execution_count": 45,
      "outputs": []
    },
    {
      "cell_type": "code",
      "metadata": {
        "id": "OvRDVAH-34fz",
        "colab": {
          "base_uri": "https://localhost:8080/"
        },
        "outputId": "e5bac9c8-e816-40f0-efae-e28cc96a92da"
      },
      "source": [
        "arr  # numpy"
      ],
      "execution_count": 46,
      "outputs": [
        {
          "output_type": "execute_result",
          "data": {
            "text/plain": [
              "array([[1, 2, 3],\n",
              "       [4, 5, 6]])"
            ]
          },
          "metadata": {
            "tags": []
          },
          "execution_count": 46
        }
      ]
    },
    {
      "cell_type": "code",
      "metadata": {
        "id": "d9l_Wufe34fz",
        "colab": {
          "base_uri": "https://localhost:8080/"
        },
        "outputId": "fdec3882-417f-499d-db4e-522442a00c35"
      },
      "source": [
        "tns  # pytorch"
      ],
      "execution_count": 47,
      "outputs": [
        {
          "output_type": "execute_result",
          "data": {
            "text/plain": [
              "tensor([[1, 2, 3],\n",
              "        [4, 5, 6]])"
            ]
          },
          "metadata": {
            "tags": []
          },
          "execution_count": 47
        }
      ]
    },
    {
      "cell_type": "markdown",
      "metadata": {
        "id": "9SiQCKhW34fz"
      },
      "source": [
        "All the operations that follow are shown on tensors, but the syntax and results for NumPy arrays is identical.\n",
        "\n",
        "You can select a row (note that, like lists in Python, tensors are 0-indexed so 1 refers to the second row/column):"
      ]
    },
    {
      "cell_type": "code",
      "metadata": {
        "id": "ZuZWu6KO34fz",
        "colab": {
          "base_uri": "https://localhost:8080/"
        },
        "outputId": "fd3ae681-e4a6-47db-db55-f96aeb712269"
      },
      "source": [
        "tns[1]"
      ],
      "execution_count": 48,
      "outputs": [
        {
          "output_type": "execute_result",
          "data": {
            "text/plain": [
              "tensor([4, 5, 6])"
            ]
          },
          "metadata": {
            "tags": []
          },
          "execution_count": 48
        }
      ]
    },
    {
      "cell_type": "markdown",
      "metadata": {
        "id": "a0TnqyOJ34f0"
      },
      "source": [
        "or a column, by using `:` to indicate *all of the first axis* (we sometimes refer to the dimensions of tensors/arrays as *axes*):"
      ]
    },
    {
      "cell_type": "code",
      "metadata": {
        "id": "PzIipce434f1",
        "colab": {
          "base_uri": "https://localhost:8080/"
        },
        "outputId": "ab790f87-272b-443a-85b7-ae9ceeb26e5b"
      },
      "source": [
        "tns[:,1]"
      ],
      "execution_count": 49,
      "outputs": [
        {
          "output_type": "execute_result",
          "data": {
            "text/plain": [
              "tensor([2, 5])"
            ]
          },
          "metadata": {
            "tags": []
          },
          "execution_count": 49
        }
      ]
    },
    {
      "cell_type": "markdown",
      "metadata": {
        "id": "F21qys1s34f1"
      },
      "source": [
        "You can combine these with Python slice syntax (`[start:end]` with `end` being excluded) to select part of a row or column:"
      ]
    },
    {
      "cell_type": "code",
      "metadata": {
        "id": "LhnoN9wA34f1",
        "colab": {
          "base_uri": "https://localhost:8080/"
        },
        "outputId": "653eee35-e348-4f18-d46b-17a5e472cc00"
      },
      "source": [
        "tns[1,1:3]"
      ],
      "execution_count": 50,
      "outputs": [
        {
          "output_type": "execute_result",
          "data": {
            "text/plain": [
              "tensor([5, 6])"
            ]
          },
          "metadata": {
            "tags": []
          },
          "execution_count": 50
        }
      ]
    },
    {
      "cell_type": "markdown",
      "metadata": {
        "id": "f-lZfIkC34f2"
      },
      "source": [
        "And you can use the standard operators such as `+`, `-`, `*`, `/`:"
      ]
    },
    {
      "cell_type": "code",
      "metadata": {
        "id": "IPEj7p3b34f2",
        "colab": {
          "base_uri": "https://localhost:8080/"
        },
        "outputId": "87f77da4-1a91-4f20-9abe-902f33d7734d"
      },
      "source": [
        "tns+1"
      ],
      "execution_count": 51,
      "outputs": [
        {
          "output_type": "execute_result",
          "data": {
            "text/plain": [
              "tensor([[2, 3, 4],\n",
              "        [5, 6, 7]])"
            ]
          },
          "metadata": {
            "tags": []
          },
          "execution_count": 51
        }
      ]
    },
    {
      "cell_type": "markdown",
      "metadata": {
        "id": "7HEBxEed34f3"
      },
      "source": [
        "Tensors have a type:"
      ]
    },
    {
      "cell_type": "code",
      "metadata": {
        "id": "i4_1ZvHo34f4",
        "colab": {
          "base_uri": "https://localhost:8080/",
          "height": 0
        },
        "outputId": "132bbcf5-2edc-478e-d445-40de4c9d2066"
      },
      "source": [
        "tns.type()"
      ],
      "execution_count": 52,
      "outputs": [
        {
          "output_type": "execute_result",
          "data": {
            "application/vnd.google.colaboratory.intrinsic+json": {
              "type": "string"
            },
            "text/plain": [
              "'torch.LongTensor'"
            ]
          },
          "metadata": {
            "tags": []
          },
          "execution_count": 52
        }
      ]
    },
    {
      "cell_type": "markdown",
      "metadata": {
        "id": "D58c9X8G34f5"
      },
      "source": [
        "And will automatically change type as needed, for example from `int` to `float`:"
      ]
    },
    {
      "cell_type": "code",
      "metadata": {
        "id": "VxfyFOJg34f6",
        "colab": {
          "base_uri": "https://localhost:8080/"
        },
        "outputId": "e4fdc735-38a2-4528-e260-f4261b87c5cf"
      },
      "source": [
        "tns*1.5"
      ],
      "execution_count": 53,
      "outputs": [
        {
          "output_type": "execute_result",
          "data": {
            "text/plain": [
              "tensor([[1.5000, 3.0000, 4.5000],\n",
              "        [6.0000, 7.5000, 9.0000]])"
            ]
          },
          "metadata": {
            "tags": []
          },
          "execution_count": 53
        }
      ]
    },
    {
      "cell_type": "markdown",
      "metadata": {
        "id": "S6dVHX2s34f6"
      },
      "source": [
        "So, is our baseline model any good? To quantify this, we must define a metric."
      ]
    },
    {
      "cell_type": "markdown",
      "metadata": {
        "id": "U5r4_5BG34f7"
      },
      "source": [
        "## Computing Metrics Using Broadcasting"
      ]
    },
    {
      "cell_type": "markdown",
      "metadata": {
        "id": "vahoYGuE34f7"
      },
      "source": [
        "Recall that a metric is a number that is calculated based on the predictions of our model, and the correct labels in our dataset, in order to tell us how good our model is. For instance, we could use either of the functions we saw in the previous section, mean squared error, or mean absolute error, and take the average of them over the whole dataset. However, neither of these are numbers that are very understandable to most people; in practice, we normally use *accuracy* as the metric for classification models.\n",
        "\n",
        "As we've discussed, we want to calculate our metric over a *validation set*. This is so that we don't inadvertently overfit—that is, train a model to work well only on our training data. This is not really a risk with the pixel similarity model we're using here as a first try, since it has no trained components, but we'll use a validation set anyway to follow normal practices and to be ready for our second try later.\n",
        "\n",
        "To get a validation set we need to remove some of the data from training entirely, so it is not seen by the model at all. As it turns out, the creators of the MNIST dataset have already done this for us. Do you remember how there was a whole separate directory called *valid*? That's what this directory is for!\n",
        "\n",
        "So to start with, let's create tensors for our 3s and 7s from that directory. These are the tensors we will use to calculate a metric measuring the quality of our first-try model, which measures distance from an ideal image:"
      ]
    },
    {
      "cell_type": "code",
      "metadata": {
        "colab": {
          "base_uri": "https://localhost:8080/"
        },
        "id": "3UYsaPTU34f8",
        "outputId": "efc18941-ba20-47e0-d905-b575296e1355"
      },
      "source": [
        "valid_3_tens = torch.stack([tensor(Image.open(o)) \n",
        "                            for o in (path/'valid'/'3').ls()])\n",
        "valid_3_tens = valid_3_tens.float()/255\n",
        "valid_7_tens = torch.stack([tensor(Image.open(o)) \n",
        "                            for o in (path/'valid'/'7').ls()])\n",
        "valid_7_tens = valid_7_tens.float()/255\n",
        "valid_3_tens.shape,valid_7_tens.shape"
      ],
      "execution_count": 54,
      "outputs": [
        {
          "output_type": "execute_result",
          "data": {
            "text/plain": [
              "(torch.Size([1010, 28, 28]), torch.Size([1028, 28, 28]))"
            ]
          },
          "metadata": {
            "tags": []
          },
          "execution_count": 54
        }
      ]
    },
    {
      "cell_type": "markdown",
      "metadata": {
        "id": "PUjVvWq034f8"
      },
      "source": [
        "It's good to get in the habit of checking shapes as you go. Here we see two tensors, one representing the 3s validation set of 1,010 images of size 28×28, and one representing the 7s validation set of 1,028 images of size 28×28.\n",
        "\n",
        "We ultimately want to write a function, `is_3`, that will decide if an arbitrary image is a 3 or a 7. It will do this by deciding which of our two \"ideal digits\" this arbitrary image is closer to. For that we need to define a notion of distance—that is, a function that calculates the distance between two images.\n",
        "\n",
        "We can write a simple function that calculates the mean absolute error using an expression very similar to the one we wrote in the last section:"
      ]
    },
    {
      "cell_type": "code",
      "metadata": {
        "colab": {
          "base_uri": "https://localhost:8080/"
        },
        "id": "x7iGKcCr34f8",
        "outputId": "a1d08966-1193-481e-eb24-1f85148b2e4c"
      },
      "source": [
        "def mnist_distance(a,b): return (a-b).abs().mean((-1,-2)) # Take the mean over the last two dimensions\n",
        "mnist_distance(a_3, mean3)"
      ],
      "execution_count": 55,
      "outputs": [
        {
          "output_type": "execute_result",
          "data": {
            "text/plain": [
              "tensor(0.1114)"
            ]
          },
          "metadata": {
            "tags": []
          },
          "execution_count": 55
        }
      ]
    },
    {
      "cell_type": "code",
      "metadata": {
        "id": "Ds0g3KBrwONk"
      },
      "source": [
        "# def mnist_distance(a,b): # this is more understandable.\r\n",
        "#   return (a-b).abs().mean((-1,-2))"
      ],
      "execution_count": 56,
      "outputs": []
    },
    {
      "cell_type": "markdown",
      "metadata": {
        "id": "V4YC-U0u34f8"
      },
      "source": [
        "This is the same value we previously calculated for the distance between these two images, the ideal 3 `mean_3` and the arbitrary sample 3 `a_3`, which are both single-image tensors with a shape of `[28,28]`.\n",
        "\n",
        "But in order to calculate a metric for overall accuracy, we will need to calculate the distance to the ideal 3 for _every_ image in the validation set. How do we do that calculation? We could write a loop over all of the single-image tensors that are stacked within our validation set tensor, `valid_3_tens`, which has a shape of `[1010,28,28]` representing 1,010 images. But there is a better way.\n",
        "\n",
        "Something very interesting happens when we take this exact same distance function, designed for comparing two single images, but pass in as an argument `valid_3_tens`, the tensor that represents the 3s validation set:"
      ]
    },
    {
      "cell_type": "code",
      "metadata": {
        "id": "hCFJTtNJ34f8",
        "colab": {
          "base_uri": "https://localhost:8080/"
        },
        "outputId": "8844c209-92f1-44dc-f354-d292bb332a56"
      },
      "source": [
        "valid_3_dist = mnist_distance(valid_3_tens, mean3)\n",
        "valid_3_dist, valid_3_dist.shape"
      ],
      "execution_count": 57,
      "outputs": [
        {
          "output_type": "execute_result",
          "data": {
            "text/plain": [
              "(tensor([0.1197, 0.1111, 0.1295,  ..., 0.1200, 0.1138, 0.1082]),\n",
              " torch.Size([1010]))"
            ]
          },
          "metadata": {
            "tags": []
          },
          "execution_count": 57
        }
      ]
    },
    {
      "cell_type": "code",
      "metadata": {
        "id": "jd_iFJsNw60u",
        "colab": {
          "base_uri": "https://localhost:8080/"
        },
        "outputId": "12ca2f8f-aaf3-4778-cb94-07687b97046f"
      },
      "source": [
        "valid_3_tens.shape"
      ],
      "execution_count": 58,
      "outputs": [
        {
          "output_type": "execute_result",
          "data": {
            "text/plain": [
              "torch.Size([1010, 28, 28])"
            ]
          },
          "metadata": {
            "tags": []
          },
          "execution_count": 58
        }
      ]
    },
    {
      "cell_type": "code",
      "metadata": {
        "id": "kWR-w_qmw97y",
        "colab": {
          "base_uri": "https://localhost:8080/"
        },
        "outputId": "3b1d7fa8-519d-44a4-8c88-03ae27e359aa"
      },
      "source": [
        "mean3.shape"
      ],
      "execution_count": 59,
      "outputs": [
        {
          "output_type": "execute_result",
          "data": {
            "text/plain": [
              "torch.Size([28, 28])"
            ]
          },
          "metadata": {
            "tags": []
          },
          "execution_count": 59
        }
      ]
    },
    {
      "cell_type": "code",
      "metadata": {
        "id": "rSg1QzwRxgVu",
        "colab": {
          "base_uri": "https://localhost:8080/"
        },
        "outputId": "e5cfe00d-33ac-4d0d-acb0-5453c84bd5da"
      },
      "source": [
        "torch.empty(2,2)"
      ],
      "execution_count": 60,
      "outputs": [
        {
          "output_type": "execute_result",
          "data": {
            "text/plain": [
              "tensor([[4.2652e-35, 0.0000e+00],\n",
              "        [3.3631e-44, 0.0000e+00]])"
            ]
          },
          "metadata": {
            "tags": []
          },
          "execution_count": 60
        }
      ]
    },
    {
      "cell_type": "markdown",
      "metadata": {
        "id": "YZCyPt9D34f9"
      },
      "source": [
        "Instead of complaining about shapes not matching, it returned the distance for every single image as a vector (i.e., a rank-1 tensor) of length 1,010 (the number of 3s in our validation set). How did that happen?\n",
        "\n",
        "Take another look at our function `mnist_distance`, and you'll see we have there the subtraction `(a-b)`. The magic trick is that `PyTorch, when it tries to perform a simple subtraction operation between two tensors of different ranks, will use *broadcasting*. That is, it will automatically expand the tensor with the smaller rank to have the same size as the one with the larger rank.`Broadcasting is an important capability that makes tensor code much easier to write.\n",
        "\n",
        "After broadcasting so the two argument tensors have the same rank, PyTorch applies its usual logic for two tensors of the same rank: it performs the operation on each corresponding element of the two tensors, and returns the tensor result. For instance:"
      ]
    },
    {
      "cell_type": "markdown",
      "metadata": {
        "id": "yGgbUyE8zB5_"
      },
      "source": [
        "\r\n",
        "[pytorch broadcasting](https://stackoverflow.com/questions/51371070/how-does-pytorch-broadcasting-work)\r\n"
      ]
    },
    {
      "cell_type": "code",
      "metadata": {
        "id": "8OtxpEsu34f9",
        "colab": {
          "base_uri": "https://localhost:8080/"
        },
        "outputId": "dc30804c-1e80-4391-e924-6f603656227f"
      },
      "source": [
        "tensor([1,2,3]) + tensor([1,1,1])"
      ],
      "execution_count": 61,
      "outputs": [
        {
          "output_type": "execute_result",
          "data": {
            "text/plain": [
              "tensor([2, 3, 4])"
            ]
          },
          "metadata": {
            "tags": []
          },
          "execution_count": 61
        }
      ]
    },
    {
      "cell_type": "markdown",
      "metadata": {
        "id": "ZzNeXm6z34f9"
      },
      "source": [
        "So in this case, PyTorch treats `mean3`, a rank-2 tensor representing a single image, as if it were 1,010 copies of the same image, and then subtracts each of those copies from each 3 in our validation set. What shape would you expect this tensor to have? Try to figure it out yourself before you look at the answer below:"
      ]
    },
    {
      "cell_type": "code",
      "metadata": {
        "id": "nomjd_P434f9",
        "colab": {
          "base_uri": "https://localhost:8080/"
        },
        "outputId": "856c38ad-621d-4e33-f2e4-fcf0d983fc5a"
      },
      "source": [
        "(valid_3_tens-mean3).shape"
      ],
      "execution_count": 62,
      "outputs": [
        {
          "output_type": "execute_result",
          "data": {
            "text/plain": [
              "torch.Size([1010, 28, 28])"
            ]
          },
          "metadata": {
            "tags": []
          },
          "execution_count": 62
        }
      ]
    },
    {
      "cell_type": "markdown",
      "metadata": {
        "id": "M6kHU1a134f-"
      },
      "source": [
        "We are calculating the difference between our \"ideal 3\" and each of the 1,010 3s in the validation set, for each of 28×28 images, resulting in the shape `[1010,28,28]`.\n",
        "\n",
        "There are a couple of important points about how broadcasting is implemented, which make it valuable not just for expressivity but also for performance:\n",
        "\n",
        "- PyTorch doesn't *actually* copy `mean3` 1,010 times. It *pretends* it were a tensor of that shape, but doesn't actually allocate any additional memory\n",
        "- It does the whole calculation in C (or, if you're using a GPU, in CUDA, the equivalent of C on the GPU), tens of thousands of times faster than pure Python (up to millions of times faster on a GPU!).\n",
        "\n",
        "This is true of all broadcasting and elementwise operations and functions done in PyTorch. *It's the most important technique for you to know to create efficient PyTorch code.*\n",
        "\n",
        "Next in `mnist_distance` we see `abs`. You might be able to guess now what this does when applied to a tensor. It applies the method to each individual element in the tensor, and returns a tensor of the results (that is, it applies the method \"elementwise\"). So in this case, we'll get back 1,010 matrices of absolute values.\n",
        "\n",
        "Finally, our function calls `mean((-1,-2))`. The tuple `(-1,-2)` represents a range of axes. In Python, `-1` refers to the last element, and `-2` refers to the second-to-last. So in this case, this tells PyTorch that we want to take the mean ranging over the values indexed by the last two axes of the tensor. The last two axes are the horizontal and vertical dimensions of an image. `After taking the mean over the last two axes, we are left with just the first tensor axis, which indexes over our images, which is why our final size was (1010)`. In other words, for every image, we averaged the intensity of all the pixels in that image.\n",
        "\n",
        "We'll be learning lots more about broadcasting throughout this book, especially in <<chapter_foundations>>, and will be practicing it regularly too.\n",
        "\n",
        "We can use `mnist_distance` to figure out whether an image is a 3 or not by using the following logic: if the distance between the digit in question and the ideal 3 is less than the distance to the ideal 7, then it's a 3. This function will automatically do broadcasting and be applied elementwise, just like all PyTorch functions and operators:"
      ]
    },
    {
      "cell_type": "code",
      "metadata": {
        "id": "9AF1uvYo34f-"
      },
      "source": [
        "def is_3(x): return mnist_distance(x,mean3) < mnist_distance(x,mean7)"
      ],
      "execution_count": 63,
      "outputs": []
    },
    {
      "cell_type": "markdown",
      "metadata": {
        "id": "Pw9rDB_Q34f-"
      },
      "source": [
        "Let's test it on our example case:"
      ]
    },
    {
      "cell_type": "code",
      "metadata": {
        "id": "os1gRlJj34f-",
        "colab": {
          "base_uri": "https://localhost:8080/"
        },
        "outputId": "5f7b56ae-5793-4118-e5d2-b3d504d49a50"
      },
      "source": [
        "is_3(a_3), is_3(a_3).float()"
      ],
      "execution_count": 64,
      "outputs": [
        {
          "output_type": "execute_result",
          "data": {
            "text/plain": [
              "(tensor(True), tensor(1.))"
            ]
          },
          "metadata": {
            "tags": []
          },
          "execution_count": 64
        }
      ]
    },
    {
      "cell_type": "markdown",
      "metadata": {
        "id": "SpzdNOFE34f-"
      },
      "source": [
        "Note that when we convert the Boolean response to a float, we get `1.0` for `True` and `0.0` for `False`. Thanks to broadcasting, we can also test it on the full validation set of 3s:"
      ]
    },
    {
      "cell_type": "code",
      "metadata": {
        "id": "l_Q1mhQ-34f_",
        "colab": {
          "base_uri": "https://localhost:8080/"
        },
        "outputId": "45c10189-5d7f-4b76-8530-380ebc58502f"
      },
      "source": [
        "is_3(valid_3_tens)"
      ],
      "execution_count": 65,
      "outputs": [
        {
          "output_type": "execute_result",
          "data": {
            "text/plain": [
              "tensor([True, True, True,  ..., True, True, True])"
            ]
          },
          "metadata": {
            "tags": []
          },
          "execution_count": 65
        }
      ]
    },
    {
      "cell_type": "markdown",
      "metadata": {
        "id": "tlUtmYen34f_"
      },
      "source": [
        "Now we can calculate the accuracy for each of the 3s and 7s by taking the average of that function for all 3s and its inverse for all 7s:"
      ]
    },
    {
      "cell_type": "code",
      "metadata": {
        "id": "iL43VSLc34f_",
        "colab": {
          "base_uri": "https://localhost:8080/"
        },
        "outputId": "d41483bc-8ef1-492f-8767-fa6423b5478e"
      },
      "source": [
        "accuracy_3s =      is_3(valid_3_tens).float() .mean()\n",
        "accuracy_7s = (1 - is_3(valid_7_tens).float()).mean()\n",
        "\n",
        "accuracy_3s,accuracy_7s,(accuracy_3s+accuracy_7s)/2"
      ],
      "execution_count": 66,
      "outputs": [
        {
          "output_type": "execute_result",
          "data": {
            "text/plain": [
              "(tensor(0.9168), tensor(0.9854), tensor(0.9511))"
            ]
          },
          "metadata": {
            "tags": []
          },
          "execution_count": 66
        }
      ]
    },
    {
      "cell_type": "markdown",
      "metadata": {
        "id": "PAsFoxJH34f_"
      },
      "source": [
        "This looks like a pretty good start! We're getting over 90% accuracy on both 3s and 7s, and we've seen how to define a metric conveniently using broadcasting.\n",
        "\n",
        "But let's be honest: 3s and 7s are very different-looking digits. And we're only classifying 2 out of the 10 possible digits so far. So we're going to need to do better!\n",
        "\n",
        "To do better, perhaps it is time to try a system that does some real learning—that is, that can automatically modify itself to improve its performance. In other words, it's time to talk about the training process, and SGD."
      ]
    },
    {
      "cell_type": "markdown",
      "metadata": {
        "id": "D0k5R9Mt34f_"
      },
      "source": [
        "## Stochastic Gradient Descent (SGD)"
      ]
    },
    {
      "cell_type": "markdown",
      "metadata": {
        "id": "vkMVKII834gA"
      },
      "source": [
        "Do you remember the way that Arthur Samuel described machine learning, which we quoted in <<chapter_intro>>?\n",
        "\n",
        "> : Suppose we arrange for some automatic means of testing the effectiveness of any current weight assignment in terms of actual performance and provide a mechanism for altering the weight assignment so as to maximize the performance. We need not go into the details of such a procedure to see that it could be made entirely automatic and to see that a machine so programmed would \"learn\" from its experience.\n",
        "\n",
        "As we discussed, this is the key to allowing us to have a model that can get better and better—that can learn. But our pixel similarity approach does not really do this. We do not have any kind of weight assignment, or any way of improving based on testing the effectiveness of a weight assignment. In other words, we can't really improve our pixel similarity approach by modifying a set of parameters. In order to take advantage of the power of deep learning, we will first have to represent our task in the way that Arthur Samuel described it.\n",
        "\n",
        "Instead of trying to find the similarity between an image and an \"ideal image,\" we could instead look at each individual pixel and come up with a set of weights for each one, such that the highest weights are associated with those pixels most likely to be black for a particular category. For instance, pixels toward the bottom right are not very likely to be activated for a 7, so they should have a low weight for a 7, but they are likely to be activated for an 8, so they should have a high weight for an 8. This can be represented as a function and set of weight values for each possible category—for instance the probability of being the number 8:\n",
        "\n",
        "```\n",
        "def pr_eight(x,w): return (x*w).sum()\n",
        "```"
      ]
    },
    {
      "cell_type": "markdown",
      "metadata": {
        "id": "ubVkVkna34gA"
      },
      "source": [
        "Here we are assuming that `x` is the image, represented as a vector—in other words, with all of the rows stacked up end to end into a single long line. And we are assuming that the weights are a vector `w`. If we have this function, then we just need some way to update the weights to make them a little bit better. With such an approach, we can repeat that step a number of times, making the weights better and better, until they are as good as we can make them.\n",
        "\n",
        "We want to find the specific values for the vector `w` that causes the result of our function to be high for those images that are actually 8s, and low for those images that are not. Searching for the best vector `w` is a way to search for the best function for recognising 8s. (Because we are not yet using a deep neural network, we are limited by what our function can actually do—we are going to fix that constraint later in this chapter.) \n",
        "\n",
        "To be more specific, here are the steps that we are going to require, to turn this function into a machine learning classifier:\n",
        "\n",
        "1. *Initialize* the weights.\n",
        "1. For each image, use these weights to *predict* whether it appears to be a 3 or a 7.\n",
        "1. Based on these predictions, calculate how good the model is (its *loss*).\n",
        "1. Calculate the *gradient*, which measures for each weight, how changing that weight would change the loss\n",
        "1. *Step* (that is, change) all the weights based on that calculation.\n",
        "1. Go back to the step 2, and *repeat* the process.\n",
        "1. Iterate until you decide to *stop* the training process (for instance, because the model is good enough or you don't want to wait any longer)."
      ]
    },
    {
      "cell_type": "markdown",
      "metadata": {
        "id": "mxXh4p3c34gA"
      },
      "source": [
        "These seven steps, illustrated in <<gradient_descent>>, are the key to the training of all deep learning models. That deep learning turns out to rely entirely on these steps is extremely surprising and counterintuitive. It's amazing that this process can solve such complex problems. But, as you'll see, it really does!"
      ]
    },
    {
      "cell_type": "code",
      "metadata": {
        "hide_input": true,
        "id": "8dHZVDtd34gA",
        "colab": {
          "base_uri": "https://localhost:8080/",
          "height": 125
        },
        "outputId": "909252b0-283a-4888-ef79-1a9403fda96a"
      },
      "source": [
        "#id gradient_descent\n",
        "#caption The gradient descent process\n",
        "#alt Graph showing the steps for Gradient Descent\n",
        "gv('''\n",
        "init->predict->loss->gradient->step->stop\n",
        "step->predict[label=repeat]\n",
        "''')"
      ],
      "execution_count": 67,
      "outputs": [
        {
          "output_type": "execute_result",
          "data": {
            "text/plain": [
              "<graphviz.files.Source at 0x7f829c6f2cc0>"
            ],
            "image/svg+xml": "<?xml version=\"1.0\" encoding=\"UTF-8\" standalone=\"no\"?>\n<!DOCTYPE svg PUBLIC \"-//W3C//DTD SVG 1.1//EN\"\n \"http://www.w3.org/Graphics/SVG/1.1/DTD/svg11.dtd\">\n<!-- Generated by graphviz version 2.40.1 (20161225.0304)\n -->\n<!-- Title: G Pages: 1 -->\n<svg width=\"597pt\" height=\"78pt\"\n viewBox=\"0.00 0.00 596.69 78.00\" xmlns=\"http://www.w3.org/2000/svg\" xmlns:xlink=\"http://www.w3.org/1999/xlink\">\n<g id=\"graph0\" class=\"graph\" transform=\"scale(1 1) rotate(0) translate(4 74)\">\n<title>G</title>\n<polygon fill=\"#ffffff\" stroke=\"transparent\" points=\"-4,4 -4,-74 592.6863,-74 592.6863,4 -4,4\"/>\n<!-- init -->\n<g id=\"node1\" class=\"node\">\n<title>init</title>\n<ellipse fill=\"none\" stroke=\"#000000\" cx=\"27\" cy=\"-18\" rx=\"27\" ry=\"18\"/>\n<text text-anchor=\"middle\" x=\"27\" y=\"-14.3\" font-family=\"Times,serif\" font-size=\"14.00\" fill=\"#000000\">init</text>\n</g>\n<!-- predict -->\n<g id=\"node2\" class=\"node\">\n<title>predict</title>\n<ellipse fill=\"none\" stroke=\"#000000\" cx=\"127.3968\" cy=\"-18\" rx=\"36.2938\" ry=\"18\"/>\n<text text-anchor=\"middle\" x=\"127.3968\" y=\"-14.3\" font-family=\"Times,serif\" font-size=\"14.00\" fill=\"#000000\">predict</text>\n</g>\n<!-- init&#45;&gt;predict -->\n<g id=\"edge1\" class=\"edge\">\n<title>init&#45;&gt;predict</title>\n<path fill=\"none\" stroke=\"#000000\" d=\"M54.1688,-18C62.3543,-18 71.5827,-18 80.6596,-18\"/>\n<polygon fill=\"#000000\" stroke=\"#000000\" points=\"80.7795,-21.5001 90.7795,-18 80.7795,-14.5001 80.7795,-21.5001\"/>\n</g>\n<!-- loss -->\n<g id=\"node3\" class=\"node\">\n<title>loss</title>\n<ellipse fill=\"none\" stroke=\"#000000\" cx=\"227.7935\" cy=\"-52\" rx=\"27\" ry=\"18\"/>\n<text text-anchor=\"middle\" x=\"227.7935\" y=\"-48.3\" font-family=\"Times,serif\" font-size=\"14.00\" fill=\"#000000\">loss</text>\n</g>\n<!-- predict&#45;&gt;loss -->\n<g id=\"edge2\" class=\"edge\">\n<title>predict&#45;&gt;loss</title>\n<path fill=\"none\" stroke=\"#000000\" d=\"M157.5191,-28.2011C168.9806,-32.0826 182.1139,-36.5303 193.9014,-40.5222\"/>\n<polygon fill=\"#000000\" stroke=\"#000000\" points=\"192.8259,-43.8532 203.4202,-43.7458 195.0713,-37.2231 192.8259,-43.8532\"/>\n</g>\n<!-- gradient -->\n<g id=\"node4\" class=\"node\">\n<title>gradient</title>\n<ellipse fill=\"none\" stroke=\"#000000\" cx=\"365.7399\" cy=\"-52\" rx=\"40.8928\" ry=\"18\"/>\n<text text-anchor=\"middle\" x=\"365.7399\" y=\"-48.3\" font-family=\"Times,serif\" font-size=\"14.00\" fill=\"#000000\">gradient</text>\n</g>\n<!-- loss&#45;&gt;gradient -->\n<g id=\"edge3\" class=\"edge\">\n<title>loss&#45;&gt;gradient</title>\n<path fill=\"none\" stroke=\"#000000\" d=\"M255.0473,-52C272.0415,-52 294.4481,-52 314.6545,-52\"/>\n<polygon fill=\"#000000\" stroke=\"#000000\" points=\"314.671,-55.5001 324.671,-52 314.671,-48.5001 314.671,-55.5001\"/>\n</g>\n<!-- step -->\n<g id=\"node5\" class=\"node\">\n<title>step</title>\n<ellipse fill=\"none\" stroke=\"#000000\" cx=\"470.6863\" cy=\"-18\" rx=\"27\" ry=\"18\"/>\n<text text-anchor=\"middle\" x=\"470.6863\" y=\"-14.3\" font-family=\"Times,serif\" font-size=\"14.00\" fill=\"#000000\">step</text>\n</g>\n<!-- gradient&#45;&gt;step -->\n<g id=\"edge4\" class=\"edge\">\n<title>gradient&#45;&gt;step</title>\n<path fill=\"none\" stroke=\"#000000\" d=\"M398.9456,-41.2422C410.9558,-37.3512 424.5297,-32.9536 436.6132,-29.0388\"/>\n<polygon fill=\"#000000\" stroke=\"#000000\" points=\"437.9112,-32.2975 446.3457,-25.8857 435.7537,-25.6382 437.9112,-32.2975\"/>\n</g>\n<!-- step&#45;&gt;predict -->\n<g id=\"edge6\" class=\"edge\">\n<title>step&#45;&gt;predict</title>\n<path fill=\"none\" stroke=\"#000000\" d=\"M443.4266,-18C384.9297,-18 246.7861,-18 174.0495,-18\"/>\n<polygon fill=\"#000000\" stroke=\"#000000\" points=\"173.8098,-14.5001 163.8098,-18 173.8097,-21.5001 173.8098,-14.5001\"/>\n<text text-anchor=\"middle\" x=\"289.7935\" y=\"-21.8\" font-family=\"Times,serif\" font-size=\"14.00\" fill=\"#000000\">repeat</text>\n</g>\n<!-- stop -->\n<g id=\"node6\" class=\"node\">\n<title>stop</title>\n<ellipse fill=\"none\" stroke=\"#000000\" cx=\"561.6863\" cy=\"-18\" rx=\"27\" ry=\"18\"/>\n<text text-anchor=\"middle\" x=\"561.6863\" y=\"-14.3\" font-family=\"Times,serif\" font-size=\"14.00\" fill=\"#000000\">stop</text>\n</g>\n<!-- step&#45;&gt;stop -->\n<g id=\"edge5\" class=\"edge\">\n<title>step&#45;&gt;stop</title>\n<path fill=\"none\" stroke=\"#000000\" d=\"M497.9893,-18C506.2676,-18 515.508,-18 524.3268,-18\"/>\n<polygon fill=\"#000000\" stroke=\"#000000\" points=\"524.4026,-21.5001 534.4025,-18 524.4025,-14.5001 524.4026,-21.5001\"/>\n</g>\n</g>\n</svg>\n"
          },
          "metadata": {
            "tags": []
          },
          "execution_count": 67
        }
      ]
    },
    {
      "cell_type": "markdown",
      "metadata": {
        "id": "nIOPZ8Il34gA"
      },
      "source": [
        "There are many different ways to do each of these seven steps, and we will be learning about them throughout the rest of this book. These are the details that make a big difference for deep learning practitioners, but it turns out that the general approach to each one generally follows some basic principles. Here are a few guidelines:\n",
        "\n",
        "- Initialize:: We initialize the parameters to random values. This may sound surprising. There are certainly other choices we could make, such as initializing them to the percentage of times that pixel is activated for that category—but since we already know that we have a routine to improve these weights, it turns out that just starting with random weights works perfectly well.\n",
        "- Loss:: This is what Samuel referred to when he spoke of *testing the effectiveness of any current weight assignment in terms of actual performance*. We need some function that will return a number that is small if the performance of the model is good (the standard approach is to treat a small loss as good, and a large loss as bad, although this is just a convention).\n",
        "- Step:: A simple way to figure out whether a weight should be increased a bit, or decreased a bit, would be just to try it: increase the weight by a small amount, and see if the loss goes up or down. Once you find the correct direction, you could then change that amount by a bit more, and a bit less, until you find an amount that works well. However, this is slow! As we will see, the magic of calculus allows us to directly figure out in which direction, and by roughly how much, to change each weight, without having to try all these small changes. The way to do this is by calculating *gradients*. This is just a performance optimization, we would get exactly the same results by using the slower manual process as well.\n",
        "- Stop:: Once we've decided how many epochs to train the model for (a few suggestions for this were given in the earlier list), we apply that decision. This is where that decision is applied. For our digit classifier, we would keep training until the accuracy of the model started getting worse, or we ran out of time."
      ]
    },
    {
      "cell_type": "markdown",
      "metadata": {
        "id": "3m8Sp9OD34gB"
      },
      "source": [
        "Before applying these steps to our image classification problem, let's illustrate what they look like in a simpler case. First we will define a very simple function, the quadratic—let's pretend that this is our loss function, and `x` is a weight parameter of the function:"
      ]
    },
    {
      "cell_type": "code",
      "metadata": {
        "id": "86zK55s834gB"
      },
      "source": [
        "def f(x): return x**2"
      ],
      "execution_count": 68,
      "outputs": []
    },
    {
      "cell_type": "markdown",
      "metadata": {
        "id": "RnCmpkfS34gB"
      },
      "source": [
        "Here is a graph of that function:"
      ]
    },
    {
      "cell_type": "code",
      "metadata": {
        "id": "o4OHuZOs34gC",
        "colab": {
          "base_uri": "https://localhost:8080/",
          "height": 334
        },
        "outputId": "019c31fc-70d4-46b4-e436-7d5149db7452"
      },
      "source": [
        "plot_function(f, 'x', 'x**2')"
      ],
      "execution_count": 69,
      "outputs": [
        {
          "output_type": "stream",
          "text": [
            "/usr/local/lib/python3.6/dist-packages/fastbook/__init__.py:73: UserWarning: Not providing a value for linspace's steps is deprecated and will throw a runtime error in a future release. This warning will appear only once per process. (Triggered internally at  /pytorch/aten/src/ATen/native/RangeFactories.cpp:23.)\n",
            "  x = torch.linspace(min,max)\n"
          ],
          "name": "stderr"
        },
        {
          "output_type": "display_data",
          "data": {
            "image/png": "[encoded data removed]",
            "text/plain": [
              "<Figure size 432x288 with 1 Axes>"
            ]
          },
          "metadata": {
            "tags": [],
            "needs_background": "light"
          }
        }
      ]
    },
    {
      "cell_type": "markdown",
      "metadata": {
        "id": "Auce--Mq34gC"
      },
      "source": [
        "The sequence of steps we described earlier starts by picking some random value for a parameter, and calculating the value of the loss:"
      ]
    },
    {
      "cell_type": "code",
      "metadata": {
        "id": "PQQYa0eG34gC",
        "colab": {
          "base_uri": "https://localhost:8080/",
          "height": 279
        },
        "outputId": "3cc6b319-d1aa-4fd4-e77b-b49c86f963fb"
      },
      "source": [
        "plot_function(f, 'x', 'x**2')\n",
        "plt.scatter(-1.5, f(-1.5), color='red');"
      ],
      "execution_count": 70,
      "outputs": [
        {
          "output_type": "display_data",
          "data": {
            "image/png": "[encoded data removed]",
            "text/plain": [
              "<Figure size 432x288 with 1 Axes>"
            ]
          },
          "metadata": {
            "tags": [],
            "needs_background": "light"
          }
        }
      ]
    },
    {
      "cell_type": "markdown",
      "metadata": {
        "id": "LDu_Z36x34gC"
      },
      "source": [
        "Now we look to see what would happen if we increased or decreased our parameter by a little bit—the *adjustment*. This is simply the slope at a particular point:"
      ]
    },
    {
      "cell_type": "markdown",
      "metadata": {
        "id": "wlgaL0A234gD"
      },
      "source": [
        "<img alt=\"A graph showing the squared function with the slope at one point\" width=\"400\" src=\"https://github.com/flyforward2016/fastbook/blob/master/images/grad_illustration.svg?raw=1\"/>"
      ]
    },
    {
      "cell_type": "markdown",
      "metadata": {
        "id": "ldVkWGEZ34gD"
      },
      "source": [
        "We can change our weight by a little in the direction of the slope, calculate our loss and adjustment again, and repeat this a few times. Eventually, we will get to the lowest point on our curve:"
      ]
    },
    {
      "cell_type": "markdown",
      "metadata": {
        "id": "phirn8uP34gD"
      },
      "source": [
        "<img alt=\"An illustration of gradient descent\" width=\"400\" src=\"https://github.com/flyforward2016/fastbook/blob/master/images/chapter2_perfect.svg?raw=1\"/>"
      ]
    },
    {
      "cell_type": "markdown",
      "metadata": {
        "id": "_4L8WAz-34gD"
      },
      "source": [
        "This basic idea goes all the way back to Isaac Newton, who pointed out that we can optimize arbitrary functions in this way. Regardless of how complicated our functions become, this basic approach of gradient descent will not significantly change. The only minor changes we will see later in this book are some handy ways we can make it faster, by finding better steps."
      ]
    },
    {
      "cell_type": "markdown",
      "metadata": {
        "id": "8aWV-PqU34gD"
      },
      "source": [
        "### Calculating Gradients"
      ]
    },
    {
      "cell_type": "markdown",
      "metadata": {
        "id": "MG28w37f34gD"
      },
      "source": [
        "The one magic step is the bit where we calculate the gradients. As we mentioned, we use calculus as a performance optimization; it allows us to more quickly calculate whether our loss will go up or down when we adjust our parameters up or down. In other words, the gradients will tell us how much we have to change each weight to make our model better.\n",
        "\n",
        "You may remember from your high school calculus class that the *derivative* of a function tells you how much a change in its parameters will change its result. If not, don't worry, lots of us forget calculus once high school is behind us! But you will have to have some intuitive understanding of what a derivative is before you continue, so if this is all very fuzzy in your head, head over to Khan Academy and complete the [lessons on basic derivatives](https://www.khanacademy.org/math/differential-calculus/dc-diff-intro). You won't have to know how to calculate them yourselves, you just have to know what a derivative is.\n",
        "\n",
        "The key point about a derivative is this: for any function, such as the quadratic function we saw in the previous section, we can calculate its derivative. The derivative is another function. It calculates the change, rather than the value. For instance, the derivative of the quadratic function at the value 3 tells us how rapidly the function changes at the value 3. More specifically, you may recall that gradient is defined as *rise/run*, that is, the change in the value of the function, divided by the change in the value of the parameter. When we know how our function will change, then we know what we need to do to make it smaller. This is the key to machine learning: having a way to change the parameters of a function to make it smaller. Calculus provides us with a computational shortcut, the derivative, which lets us directly calculate the gradients of our functions."
      ]
    },
    {
      "cell_type": "markdown",
      "metadata": {
        "id": "yeDnsjEz34gE"
      },
      "source": [
        "One important thing to be aware of is that our function has lots of weights that we need to adjust, so when we calculate the derivative we won't get back one number, but lots of them—a gradient for every weight. But there is nothing mathematically tricky here; you can calculate the derivative with respect to one weight, and treat all the other ones as constant, then repeat that for each other weight. This is how all of the gradients are calculated, for every weight.\n",
        "\n",
        "We mentioned just now that you won't have to calculate any gradients yourself. How can that be? Amazingly enough, PyTorch is able to automatically compute the derivative of nearly any function! What's more, it does it very fast. Most of the time, it will be at least as fast as any derivative function that you can create by hand. Let's see an example.\n",
        "\n",
        "First, let's pick a tensor value which we want gradients at:"
      ]
    },
    {
      "cell_type": "code",
      "metadata": {
        "id": "wHByWM_g34gE"
      },
      "source": [
        "xt = tensor(3.).requires_grad_() # tensor(3.) is an object, requires_grad_() is a method that will turn on a bool to make requires_grad = True"
      ],
      "execution_count": 71,
      "outputs": []
    },
    {
      "cell_type": "code",
      "metadata": {
        "id": "OkWWyhSpA37f",
        "colab": {
          "base_uri": "https://localhost:8080/"
        },
        "outputId": "03858ec4-ab4c-4bde-a636-7f0837818774"
      },
      "source": [
        "xt"
      ],
      "execution_count": 72,
      "outputs": [
        {
          "output_type": "execute_result",
          "data": {
            "text/plain": [
              "tensor(3., requires_grad=True)"
            ]
          },
          "metadata": {
            "tags": []
          },
          "execution_count": 72
        }
      ]
    },
    {
      "cell_type": "code",
      "metadata": {
        "id": "VB94jmWx91Bf",
        "colab": {
          "base_uri": "https://localhost:8080/",
          "height": 0
        },
        "outputId": "29431e3a-5fc2-480a-b684-46b9b68926a2"
      },
      "source": [
        "doc(tensor)"
      ],
      "execution_count": 73,
      "outputs": [
        {
          "output_type": "display_data",
          "data": {
            "text/html": [
              "<h4 id=\"tensor\" class=\"doc_header\"><code>tensor</code><a href=\"https://github.com/fastai/fastai/tree/master/fastai/torch_core.py#L120\" class=\"source_link\" style=\"float:right\">[source]</a></h4><blockquote><p><code>tensor</code>(<strong><code>x</code></strong>, <strong>*<code>rest</code></strong>, <strong><code>dtype</code></strong>=<em><code>None</code></em>, <strong><code>device</code></strong>=<em><code>None</code></em>, <strong><code>requires_grad</code></strong>=<em><code>False</code></em>, <strong><code>pin_memory</code></strong>=<em><code>False</code></em>)</p>\n",
              "</blockquote>\n",
              "<p>Like <code>torch.as_tensor</code>, but handle lists too, and can pass multiple vector elements directly.</p>\n",
              "<p><a href=\"https://docs.fast.ai/torch_core#tensor\" target=\"_blank\" rel=\"noreferrer noopener\">Show in docs</a></p>\n"
            ],
            "text/plain": [
              "<IPython.core.display.HTML object>"
            ]
          },
          "metadata": {
            "tags": []
          }
        }
      ]
    },
    {
      "cell_type": "markdown",
      "metadata": {
        "id": "Mm8Rn-U4-iPO"
      },
      "source": [
        "the shod in docs is broken. Use this one: [tensor doc](https://docs.fast.ai/torch_core.html#tensor)"
      ]
    },
    {
      "cell_type": "markdown",
      "metadata": {
        "id": "UiP-eCw734gE"
      },
      "source": [
        "Notice the special method `requires_grad_`? That's the magical incantation we use to tell PyTorch that we want to calculate gradients with respect to that variable at that value. It is essentially tagging the variable, so PyTorch will remember to keep track of how to compute gradients of the other, direct calculations on it that you will ask for.\n",
        "\n",
        "> a: This API might throw you off if you're coming from math or physics. In those contexts the \"gradient\" of a function is just another function (i.e., its derivative), so you might expect gradient-related APIs to give you a new function. But in deep learning, \"gradients\" usually means the _value_ of a function's derivative at a particular argument value. The PyTorch API also puts the focus on the argument, not the function you're actually computing the gradients of. It may feel backwards at first, but it's just a different perspective.\n",
        "\n",
        "Now we calculate our function with that value. Notice how PyTorch prints not just the value calculated, but also a note that it has a gradient function it'll be using to calculate our gradients when needed:"
      ]
    },
    {
      "cell_type": "code",
      "metadata": {
        "id": "-WdXWSvN34gE",
        "colab": {
          "base_uri": "https://localhost:8080/"
        },
        "outputId": "71c01a5d-3d20-4218-e323-3345704990e7"
      },
      "source": [
        "yt = f(xt)\n",
        "yt"
      ],
      "execution_count": 74,
      "outputs": [
        {
          "output_type": "execute_result",
          "data": {
            "text/plain": [
              "tensor(9., grad_fn=<PowBackward0>)"
            ]
          },
          "metadata": {
            "tags": []
          },
          "execution_count": 74
        }
      ]
    },
    {
      "cell_type": "markdown",
      "metadata": {
        "id": "ZbQRaDIC34gE"
      },
      "source": [
        "Finally, we tell PyTorch to calculate the gradients for us:"
      ]
    },
    {
      "cell_type": "code",
      "metadata": {
        "id": "cPKFaecc34gF"
      },
      "source": [
        "yt.backward()"
      ],
      "execution_count": 75,
      "outputs": []
    },
    {
      "cell_type": "markdown",
      "metadata": {
        "id": "EsHAzmsX34gF"
      },
      "source": [
        "The \"backward\" here refers to *backpropagation*, which is the name given to the process of calculating the derivative of each layer. We'll see how this is done exactly in chapter <<chapter_foundations>>, when we calculate the gradients of a deep neural net from scratch. This is called the \"backward pass\" of the network, as opposed to the \"forward pass,\" which is where the activations are calculated. Life would probably be easier if `backward` was just called `calculate_grad`, but deep learning folks really do like to add jargon everywhere they can!"
      ]
    },
    {
      "cell_type": "markdown",
      "metadata": {
        "id": "xSSsmrQO34gF"
      },
      "source": [
        "We can now view the gradients by checking the `grad` attribute of our tensor:"
      ]
    },
    {
      "cell_type": "code",
      "metadata": {
        "id": "ZBjB7IE434gF",
        "colab": {
          "base_uri": "https://localhost:8080/"
        },
        "outputId": "04436321-1aee-46c9-81a0-7724809088f1"
      },
      "source": [
        "xt.grad"
      ],
      "execution_count": 76,
      "outputs": [
        {
          "output_type": "execute_result",
          "data": {
            "text/plain": [
              "tensor(6.)"
            ]
          },
          "metadata": {
            "tags": []
          },
          "execution_count": 76
        }
      ]
    },
    {
      "cell_type": "markdown",
      "metadata": {
        "id": "1K48dACx34gF"
      },
      "source": [
        "If you remember your high school calculus rules, the derivative of `x**2` is `2*x`, and we have `x=3`, so the gradients should be `2*3=6`, which is what PyTorch calculated for us!\n",
        "\n",
        "Now we'll repeat the preceding steps, but with a vector argument for our function:"
      ]
    },
    {
      "cell_type": "code",
      "metadata": {
        "id": "C6Lp8v-i34gG",
        "colab": {
          "base_uri": "https://localhost:8080/"
        },
        "outputId": "b7408dd6-f1a9-4268-8aa6-82367223dfeb"
      },
      "source": [
        "xt = tensor([3.,4.,10.]).requires_grad_()\n",
        "xt"
      ],
      "execution_count": 77,
      "outputs": [
        {
          "output_type": "execute_result",
          "data": {
            "text/plain": [
              "tensor([ 3.,  4., 10.], requires_grad=True)"
            ]
          },
          "metadata": {
            "tags": []
          },
          "execution_count": 77
        }
      ]
    },
    {
      "cell_type": "markdown",
      "metadata": {
        "id": "56QG6FMi34gG"
      },
      "source": [
        "And we'll add `sum` to our function so it can take a vector (i.e., a rank-1 tensor), and return a scalar (i.e., a rank-0 tensor):"
      ]
    },
    {
      "cell_type": "code",
      "metadata": {
        "id": "FZYoEZuD34gG",
        "colab": {
          "base_uri": "https://localhost:8080/"
        },
        "outputId": "3bbdb8f1-b513-4af3-e345-9fb8170ea427"
      },
      "source": [
        "def f(x): return (x**2).sum() # 3^2+4^2+10^2 = 125\n",
        "\n",
        "yt = f(xt)\n",
        "yt"
      ],
      "execution_count": 78,
      "outputs": [
        {
          "output_type": "execute_result",
          "data": {
            "text/plain": [
              "tensor(125., grad_fn=<SumBackward0>)"
            ]
          },
          "metadata": {
            "tags": []
          },
          "execution_count": 78
        }
      ]
    },
    {
      "cell_type": "markdown",
      "metadata": {
        "id": "ygTD_GZq34gG"
      },
      "source": [
        "Our gradients are `2*xt`, as we'd expect!"
      ]
    },
    {
      "cell_type": "code",
      "metadata": {
        "id": "bcjzQ1Js34gG",
        "colab": {
          "base_uri": "https://localhost:8080/"
        },
        "outputId": "c60eb1aa-90a6-4173-ef7c-d6b6ec02a597"
      },
      "source": [
        "yt.backward()\n",
        "xt.grad"
      ],
      "execution_count": 79,
      "outputs": [
        {
          "output_type": "execute_result",
          "data": {
            "text/plain": [
              "tensor([ 6.,  8., 20.])"
            ]
          },
          "metadata": {
            "tags": []
          },
          "execution_count": 79
        }
      ]
    },
    {
      "cell_type": "markdown",
      "metadata": {
        "id": "pqnJEGU-34gH"
      },
      "source": [
        "The gradients only tell us the slope of our function, they don't actually tell us exactly how far to adjust the parameters. But it gives us some idea of how far; if the slope is very large, then that may suggest that we have more adjustments to do, whereas if the slope is very small, that may suggest that we are close to the optimal value."
      ]
    },
    {
      "cell_type": "markdown",
      "metadata": {
        "id": "n5ePDfIC34gH"
      },
      "source": [
        "### Stepping With a Learning Rate"
      ]
    },
    {
      "cell_type": "markdown",
      "metadata": {
        "id": "HeL7T7o634gH"
      },
      "source": [
        "Deciding how to change our parameters based on the values of the gradients is an important part of the deep learning process. Nearly all approaches start with the basic idea of multiplying the gradient by some small number, called the *learning rate* (LR). The learning rate is often a number between 0.001 and 0.1, although it could be anything. Often, people select a learning rate just by trying a few, and finding which results in the best model after training (we'll show you a better approach later in this book, called the *learning rate finder*). Once you've picked a learning rate, you can adjust your parameters using this simple function:\n",
        "\n",
        "```\n",
        "w -= gradient(w) * lr\n",
        "```\n",
        "\n",
        "This is known as *stepping* your parameters, using an *optimizer step*.\n",
        "\n",
        "If you pick a learning rate that's too low, it can mean having to do a lot of steps. <<descent_small>> illustrates that."
      ]
    },
    {
      "cell_type": "markdown",
      "metadata": {
        "id": "7RMwE2YM34gH"
      },
      "source": [
        "<img alt=\"An illustration of gradient descent with a LR too low\" width=\"400\" caption=\"Gradient descent with low LR\" src=\"https://github.com/flyforward2016/fastbook/blob/master/images/chapter2_small.svg?raw=1\" id=\"descent_small\"/>"
      ]
    },
    {
      "cell_type": "markdown",
      "metadata": {
        "id": "8kOs_ZVl34gH"
      },
      "source": [
        "But picking a learning rate that's too high is even worse—it can actually result in the loss getting *worse*, as we see in <<descent_div>>!"
      ]
    },
    {
      "cell_type": "markdown",
      "metadata": {
        "id": "nt3nEa0I34gI"
      },
      "source": [
        "<img alt=\"An illustration of gradient descent with a LR too high\" width=\"400\" caption=\"Gradient descent with high LR\" src=\"https://github.com/flyforward2016/fastbook/blob/master/images/chapter2_div.svg?raw=1\" id=\"descent_div\"/>"
      ]
    },
    {
      "cell_type": "markdown",
      "metadata": {
        "id": "Zgpw6EN934gI"
      },
      "source": [
        "If the learning rate is too high, it may also \"bounce\" around, rather than actually diverging; <<descent_bouncy>> shows how this has the result of taking many steps to train successfully."
      ]
    },
    {
      "cell_type": "markdown",
      "metadata": {
        "id": "s5eZ6WeT34gI"
      },
      "source": [
        "<img alt=\"An illustation of gradient descent with a bouncy LR\" width=\"400\" caption=\"Gradient descent with bouncy LR\" src=\"https://github.com/flyforward2016/fastbook/blob/master/images/chapter2_bouncy.svg?raw=1\" id=\"descent_bouncy\"/>"
      ]
    },
    {
      "cell_type": "markdown",
      "metadata": {
        "id": "r2CVpJnk34gI"
      },
      "source": [
        "Now let's apply all of this in an end-to-end example."
      ]
    },
    {
      "cell_type": "markdown",
      "metadata": {
        "id": "hnd2H6_H34gI"
      },
      "source": [
        "### An End-to-End SGD Example"
      ]
    },
    {
      "cell_type": "markdown",
      "metadata": {
        "id": "VhR5vq2n34gI"
      },
      "source": [
        "We've seen how to use gradients to find a minimum. Now it's time to look at an SGD example and see how finding a minimum can be used to train a model to fit data better.\n",
        "\n",
        "Let's start with a simple, synthetic, example model. Imagine you were measuring the speed of a roller coaster as it went over the top of a hump. It would start fast, and then get slower as it went up the hill; it would be slowest at the top, and it would then speed up again as it went downhill. You want to build a model of how the speed changes over time. If you were measuring the speed manually every second for 20 seconds, it might look something like this:"
      ]
    },
    {
      "cell_type": "code",
      "metadata": {
        "id": "J_vrGs7j34gJ",
        "colab": {
          "base_uri": "https://localhost:8080/"
        },
        "outputId": "a39c504f-3311-4c58-e3e3-8ad8b75af3f1"
      },
      "source": [
        "time = torch.arange(0,20).float(); time"
      ],
      "execution_count": 80,
      "outputs": [
        {
          "output_type": "execute_result",
          "data": {
            "text/plain": [
              "tensor([ 0.,  1.,  2.,  3.,  4.,  5.,  6.,  7.,  8.,  9., 10., 11., 12., 13., 14., 15., 16., 17., 18., 19.])"
            ]
          },
          "metadata": {
            "tags": []
          },
          "execution_count": 80
        }
      ]
    },
    {
      "cell_type": "code",
      "metadata": {
        "id": "vv4XoaUZ34gJ",
        "colab": {
          "base_uri": "https://localhost:8080/",
          "height": 265
        },
        "outputId": "8ac81663-a615-4f20-f68d-9200df859a64"
      },
      "source": [
        "speed = torch.randn(20)*3 + 0.75*(time-9.5)**2 + 1\n",
        "plt.scatter(time,speed);"
      ],
      "execution_count": 81,
      "outputs": [
        {
          "output_type": "display_data",
          "data": {
            "image/png": "[encoded data removed]",
            "text/plain": [
              "<Figure size 432x288 with 1 Axes>"
            ]
          },
          "metadata": {
            "tags": [],
            "needs_background": "light"
          }
        }
      ]
    },
    {
      "cell_type": "markdown",
      "metadata": {
        "id": "R-54HdYu34gK"
      },
      "source": [
        "We've added a bit of random noise, since measuring things manually isn't precise. This means it's not that easy to answer the question: what was the roller coaster's speed? Using SGD we can try to find a function that matches our observations. We can't consider every possible function, so let's use a guess that it will be quadratic; i.e., a function of the form `a*(time**2)+(b*time)+c`.\n",
        "\n",
        "We want to distinguish clearly between the function's input (the time when we are measuring the coaster's speed) and its parameters (the values that define *which* quadratic we're trying). So, let's collect the parameters in one argument and thus separate the input, `t`, and the parameters, `params`, in the function's signature: "
      ]
    },
    {
      "cell_type": "code",
      "metadata": {
        "id": "eohPq6si34gK"
      },
      "source": [
        "def f(t, params):\n",
        "    a,b,c = params\n",
        "    return a*(t**2) + (b*t) + c"
      ],
      "execution_count": 82,
      "outputs": []
    },
    {
      "cell_type": "markdown",
      "metadata": {
        "id": "2PepZzEJ34gM"
      },
      "source": [
        "In other words, we've restricted the problem of finding the best imaginable function that fits the data, to finding the best *quadratic* function. This greatly simplifies the problem, since every quadratic function is fully defined by the three parameters `a`, `b`, and `c`. Thus, to find the best quadratic function, we only need to find the best values for `a`, `b`, and `c`.\n",
        "\n",
        "If we can solve this problem for the three parameters of a quadratic function, we'll be able to apply the same approach for other, more complex functions with more parameters—such as a neural net. Let's find the parameters for `f` first, and then we'll come back and do the same thing for the MNIST dataset with a neural net.\n",
        "\n",
        "We need to define first what we mean by \"best.\" We define this precisely by choosing a *loss function*, which will return a value based on a prediction and a target, where lower values of the function correspond to \"better\" predictions. For continuous data, it's common to use *mean squared error*:"
      ]
    },
    {
      "cell_type": "code",
      "metadata": {
        "id": "PGgO9ZzN34gN"
      },
      "source": [
        "def mse(preds, targets): return ((preds-targets)**2).mean().sqrt()"
      ],
      "execution_count": 83,
      "outputs": []
    },
    {
      "cell_type": "markdown",
      "metadata": {
        "id": "mkOKdEzB34gN"
      },
      "source": [
        "Now, let's work through our 7 step process."
      ]
    },
    {
      "cell_type": "markdown",
      "metadata": {
        "id": "W3QI6D9634gO"
      },
      "source": [
        "#### Step 1: Initialize the parameters"
      ]
    },
    {
      "cell_type": "markdown",
      "metadata": {
        "id": "xK7U7i5v34gO"
      },
      "source": [
        "First, we initialize the parameters to random values, and tell PyTorch that we want to track their gradients, using `requires_grad_`:"
      ]
    },
    {
      "cell_type": "code",
      "metadata": {
        "id": "Q-H3dPaE34gO"
      },
      "source": [
        "params = torch.randn(3).requires_grad_()"
      ],
      "execution_count": 84,
      "outputs": []
    },
    {
      "cell_type": "code",
      "metadata": {
        "id": "OXelgbFe34gO"
      },
      "source": [
        "#hide\n",
        "orig_params = params.clone()"
      ],
      "execution_count": 85,
      "outputs": []
    },
    {
      "cell_type": "markdown",
      "metadata": {
        "id": "NXtP0ZnN34gO"
      },
      "source": [
        "#### Step 2: Calculate the predictions"
      ]
    },
    {
      "cell_type": "markdown",
      "metadata": {
        "id": "LCarh3h534gP"
      },
      "source": [
        "Next, we calculate the predictions:"
      ]
    },
    {
      "cell_type": "code",
      "metadata": {
        "id": "Gahg-E9034gP"
      },
      "source": [
        "preds = f(time, params)"
      ],
      "execution_count": 86,
      "outputs": []
    },
    {
      "cell_type": "markdown",
      "metadata": {
        "id": "2WdjTdQN34gP"
      },
      "source": [
        "Let's create a little function to see how close our predictions are to our targets, and take a look:"
      ]
    },
    {
      "cell_type": "code",
      "metadata": {
        "id": "lcLheNhK34gP"
      },
      "source": [
        "def show_preds(preds, ax=None):\n",
        "    if ax is None: ax=plt.subplots()[1]\n",
        "    ax.scatter(time, speed)\n",
        "    ax.scatter(time, to_np(preds), color='red')\n",
        "    ax.set_ylim(-300,100)"
      ],
      "execution_count": 87,
      "outputs": []
    },
    {
      "cell_type": "code",
      "metadata": {
        "id": "kdcttBsP34gP",
        "colab": {
          "base_uri": "https://localhost:8080/",
          "height": 269
        },
        "outputId": "8ee9043f-a097-49b6-894e-ba8d7f3aeefe"
      },
      "source": [
        "show_preds(preds)"
      ],
      "execution_count": 88,
      "outputs": [
        {
          "output_type": "display_data",
          "data": {
            "image/png": "[encoded data removed]",
            "text/plain": [
              "<Figure size 432x288 with 1 Axes>"
            ]
          },
          "metadata": {
            "tags": [],
            "needs_background": "light"
          }
        }
      ]
    },
    {
      "cell_type": "markdown",
      "metadata": {
        "id": "1nSUS5j034gQ"
      },
      "source": [
        "This doesn't look very close—our random parameters suggest that the roller coaster will end up going backwards, since we have negative speeds!"
      ]
    },
    {
      "cell_type": "markdown",
      "metadata": {
        "id": "Kancya5F34gQ"
      },
      "source": [
        "#### Step 3: Calculate the loss"
      ]
    },
    {
      "cell_type": "markdown",
      "metadata": {
        "id": "PblPZDK634gQ"
      },
      "source": [
        "We calculate the loss as follows:"
      ]
    },
    {
      "cell_type": "code",
      "metadata": {
        "id": "wh2wSCBq34gQ",
        "colab": {
          "base_uri": "https://localhost:8080/"
        },
        "outputId": "80cbe52b-a6a0-4681-c243-5c45677c56d5"
      },
      "source": [
        "loss = mse(preds, speed)\n",
        "loss"
      ],
      "execution_count": 89,
      "outputs": [
        {
          "output_type": "execute_result",
          "data": {
            "text/plain": [
              "tensor(160.6979, grad_fn=<SqrtBackward>)"
            ]
          },
          "metadata": {
            "tags": []
          },
          "execution_count": 89
        }
      ]
    },
    {
      "cell_type": "markdown",
      "metadata": {
        "id": "DiGqE_0F34gQ"
      },
      "source": [
        "Our goal is now to improve this. To do that, we'll need to know the gradients."
      ]
    },
    {
      "cell_type": "markdown",
      "metadata": {
        "id": "ff9O7hdb34gR"
      },
      "source": [
        "#### Step 4: Calculate the gradients"
      ]
    },
    {
      "cell_type": "markdown",
      "metadata": {
        "id": "oBuB5z6y34gR"
      },
      "source": [
        "The next step is to calculate the gradients. In other words, calculate an approximation of how the parameters need to change:"
      ]
    },
    {
      "cell_type": "code",
      "metadata": {
        "id": "EbEeR-3e34gR",
        "colab": {
          "base_uri": "https://localhost:8080/"
        },
        "outputId": "2f648163-9c6b-4faa-a1eb-779222130058"
      },
      "source": [
        "loss.backward()\n",
        "params.grad"
      ],
      "execution_count": 90,
      "outputs": [
        {
          "output_type": "execute_result",
          "data": {
            "text/plain": [
              "tensor([-165.5151,  -10.6402,   -0.7900])"
            ]
          },
          "metadata": {
            "tags": []
          },
          "execution_count": 90
        }
      ]
    },
    {
      "cell_type": "code",
      "metadata": {
        "id": "miWIE-t834gS",
        "colab": {
          "base_uri": "https://localhost:8080/"
        },
        "outputId": "6cfa378f-001f-40b6-bc71-5b8c9cfe76b4"
      },
      "source": [
        "params.grad * 1e-5"
      ],
      "execution_count": 91,
      "outputs": [
        {
          "output_type": "execute_result",
          "data": {
            "text/plain": [
              "tensor([-1.6552e-03, -1.0640e-04, -7.8996e-06])"
            ]
          },
          "metadata": {
            "tags": []
          },
          "execution_count": 91
        }
      ]
    },
    {
      "cell_type": "markdown",
      "metadata": {
        "id": "T1HrQ-nS34gS"
      },
      "source": [
        "We can use these gradients to improve our parameters. We'll need to pick a learning rate (we'll discuss how to do that in practice in the next chapter; for now we'll just use 1e-5, or 0.00001):"
      ]
    },
    {
      "cell_type": "code",
      "metadata": {
        "id": "2nhAJPWJ34gS",
        "colab": {
          "base_uri": "https://localhost:8080/"
        },
        "outputId": "b55130d3-328f-484b-e65e-0d83fa479c4e"
      },
      "source": [
        "params"
      ],
      "execution_count": 92,
      "outputs": [
        {
          "output_type": "execute_result",
          "data": {
            "text/plain": [
              "tensor([-0.7658, -0.7506,  1.3525], requires_grad=True)"
            ]
          },
          "metadata": {
            "tags": []
          },
          "execution_count": 92
        }
      ]
    },
    {
      "cell_type": "markdown",
      "metadata": {
        "id": "iskpSeeY34gS"
      },
      "source": [
        "#### Step 5: Step the weights. "
      ]
    },
    {
      "cell_type": "markdown",
      "metadata": {
        "id": "_-NUKPDL34gT"
      },
      "source": [
        "Now we need to update the parameters based on the gradients we just calculated:"
      ]
    },
    {
      "cell_type": "code",
      "metadata": {
        "id": "0mft21TR34gT"
      },
      "source": [
        "lr = 1e-5\n",
        "params.data -= lr * params.grad.data\n",
        "params.grad = None"
      ],
      "execution_count": 93,
      "outputs": []
    },
    {
      "cell_type": "markdown",
      "metadata": {
        "id": "GHgMtUIM34gT"
      },
      "source": [
        "> a: Understanding this bit depends on remembering recent history. To calculate the gradients we call `backward` on the `loss`. But this `loss` was itself calculated by `mse`, which in turn took `preds` as an input, which was calculated using `f` taking as an input `params`, which was the object on which we originally called `required_grads_`—which is the original call that now allows us to call `backward` on `loss`. This chain of function calls represents the mathematical composition of functions, which enables PyTorch to use calculus's chain rule under the hood to calculate these gradients."
      ]
    },
    {
      "cell_type": "markdown",
      "metadata": {
        "id": "YBRrmhvq34gT"
      },
      "source": [
        "Let's see if the loss has improved:"
      ]
    },
    {
      "cell_type": "code",
      "metadata": {
        "id": "KIuwi12t34gT",
        "colab": {
          "base_uri": "https://localhost:8080/"
        },
        "outputId": "c5851e92-8a87-4031-8bb6-c630e96f1144"
      },
      "source": [
        "preds = f(time,params)\n",
        "mse(preds, speed)"
      ],
      "execution_count": 94,
      "outputs": [
        {
          "output_type": "execute_result",
          "data": {
            "text/plain": [
              "tensor(160.4228, grad_fn=<SqrtBackward>)"
            ]
          },
          "metadata": {
            "tags": []
          },
          "execution_count": 94
        }
      ]
    },
    {
      "cell_type": "markdown",
      "metadata": {
        "id": "WjYn1my934gU"
      },
      "source": [
        "And take a look at the plot:"
      ]
    },
    {
      "cell_type": "code",
      "metadata": {
        "id": "J7kLQnr034gU",
        "colab": {
          "base_uri": "https://localhost:8080/",
          "height": 269
        },
        "outputId": "4b3da656-187c-42d6-d965-1ec0aa3b7002"
      },
      "source": [
        "show_preds(preds)"
      ],
      "execution_count": 95,
      "outputs": [
        {
          "output_type": "display_data",
          "data": {
            "image/png": "[encoded data removed]",
            "text/plain": [
              "<Figure size 432x288 with 1 Axes>"
            ]
          },
          "metadata": {
            "tags": [],
            "needs_background": "light"
          }
        }
      ]
    },
    {
      "cell_type": "markdown",
      "metadata": {
        "id": "gS4iuqXl34gU"
      },
      "source": [
        "We need to repeat this a few times, so we'll create a function to apply one step:"
      ]
    },
    {
      "cell_type": "code",
      "metadata": {
        "id": "djEqR8mA34gU"
      },
      "source": [
        "def apply_step(params, prn=True):\n",
        "    preds = f(time, params)\n",
        "    loss = mse(preds, speed)\n",
        "    loss.backward()\n",
        "    params.data -= lr * params.grad.data\n",
        "    params.grad = None\n",
        "    if prn: print(loss.item())\n",
        "    return preds"
      ],
      "execution_count": 96,
      "outputs": []
    },
    {
      "cell_type": "markdown",
      "metadata": {
        "id": "5oDcxtYK34gU"
      },
      "source": [
        "#### Step 6: Repeat the process "
      ]
    },
    {
      "cell_type": "markdown",
      "metadata": {
        "id": "NQT7xyPq34gV"
      },
      "source": [
        "Now we iterate. By looping and performing many improvements, we hope to reach a good result:"
      ]
    },
    {
      "cell_type": "code",
      "metadata": {
        "id": "uxu-vARB34gV",
        "colab": {
          "base_uri": "https://localhost:8080/"
        },
        "outputId": "c621cbf3-e6a2-4741-dc14-c2f5f4bd70f9"
      },
      "source": [
        "for i in range(10): apply_step(params)"
      ],
      "execution_count": 97,
      "outputs": [
        {
          "output_type": "stream",
          "text": [
            "160.42279052734375\n",
            "160.14772033691406\n",
            "159.87269592285156\n",
            "159.59768676757812\n",
            "159.3227081298828\n",
            "159.04774475097656\n",
            "158.7728271484375\n",
            "158.4979248046875\n",
            "158.22305297851562\n",
            "157.9481964111328\n"
          ],
          "name": "stdout"
        }
      ]
    },
    {
      "cell_type": "code",
      "metadata": {
        "id": "eMTJE2Iw34gV"
      },
      "source": [
        "#hide\n",
        "params = orig_params.detach().requires_grad_()"
      ],
      "execution_count": 98,
      "outputs": []
    },
    {
      "cell_type": "markdown",
      "metadata": {
        "id": "dQgSvzLc34gX"
      },
      "source": [
        "The loss is going down, just as we hoped! But looking only at these loss numbers disguises the fact that each iteration represents an entirely different quadratic function being tried, on the way to finding the best possible quadratic function. We can see this process visually if, instead of printing out the loss function, we plot the function at every step. Then we can see how the shape is approaching the best possible quadratic function for our data:"
      ]
    },
    {
      "cell_type": "code",
      "metadata": {
        "id": "MNSkvG8C34gX",
        "colab": {
          "base_uri": "https://localhost:8080/",
          "height": 225
        },
        "outputId": "d3be8657-d764-4b18-dbdc-83d03b214a49"
      },
      "source": [
        "_,axs = plt.subplots(1,4,figsize=(12,3)) # subplots returns figure and axs.\n",
        "for ax in axs: show_preds(apply_step(params, False), ax)\n",
        "plt.tight_layout()"
      ],
      "execution_count": 99,
      "outputs": [
        {
          "output_type": "display_data",
          "data": {
            "image/png": "[encoded data removed]",
            "text/plain": [
              "<Figure size 864x216 with 4 Axes>"
            ]
          },
          "metadata": {
            "tags": [],
            "needs_background": "light"
          }
        }
      ]
    },
    {
      "cell_type": "markdown",
      "metadata": {
        "id": "BuYfFrKZ34gY"
      },
      "source": [
        "#### Step 7: stop"
      ]
    },
    {
      "cell_type": "markdown",
      "metadata": {
        "id": "qejlWaQP34gY"
      },
      "source": [
        "We just decided to stop after 10 epochs arbitrarily. In practice, we would watch the training and validation losses and our metrics to decide when to stop, as we've discussed."
      ]
    },
    {
      "cell_type": "markdown",
      "metadata": {
        "id": "DQ-q_iQJ34gb"
      },
      "source": [
        "### Summarizing Gradient Descent"
      ]
    },
    {
      "cell_type": "code",
      "metadata": {
        "hide_input": false,
        "id": "86QZWzkP34gc",
        "colab": {
          "base_uri": "https://localhost:8080/",
          "height": 125
        },
        "outputId": "5dcc32ab-fc66-4a3c-fa45-0481c9696a7c"
      },
      "source": [
        "#hide_input\n",
        "#id gradient_descent\n",
        "#caption The gradient descent process\n",
        "#alt Graph showing the steps for Gradient Descent\n",
        "gv('''\n",
        "init->predict->loss->gradient->step->stop\n",
        "step->predict[label=repeat]\n",
        "''')"
      ],
      "execution_count": 100,
      "outputs": [
        {
          "output_type": "execute_result",
          "data": {
            "text/plain": [
              "<graphviz.files.Source at 0x7f8299f78c18>"
            ],
            "image/svg+xml": "<?xml version=\"1.0\" encoding=\"UTF-8\" standalone=\"no\"?>\n<!DOCTYPE svg PUBLIC \"-//W3C//DTD SVG 1.1//EN\"\n \"http://www.w3.org/Graphics/SVG/1.1/DTD/svg11.dtd\">\n<!-- Generated by graphviz version 2.40.1 (20161225.0304)\n -->\n<!-- Title: G Pages: 1 -->\n<svg width=\"597pt\" height=\"78pt\"\n viewBox=\"0.00 0.00 596.69 78.00\" xmlns=\"http://www.w3.org/2000/svg\" xmlns:xlink=\"http://www.w3.org/1999/xlink\">\n<g id=\"graph0\" class=\"graph\" transform=\"scale(1 1) rotate(0) translate(4 74)\">\n<title>G</title>\n<polygon fill=\"#ffffff\" stroke=\"transparent\" points=\"-4,4 -4,-74 592.6863,-74 592.6863,4 -4,4\"/>\n<!-- init -->\n<g id=\"node1\" class=\"node\">\n<title>init</title>\n<ellipse fill=\"none\" stroke=\"#000000\" cx=\"27\" cy=\"-18\" rx=\"27\" ry=\"18\"/>\n<text text-anchor=\"middle\" x=\"27\" y=\"-14.3\" font-family=\"Times,serif\" font-size=\"14.00\" fill=\"#000000\">init</text>\n</g>\n<!-- predict -->\n<g id=\"node2\" class=\"node\">\n<title>predict</title>\n<ellipse fill=\"none\" stroke=\"#000000\" cx=\"127.3968\" cy=\"-18\" rx=\"36.2938\" ry=\"18\"/>\n<text text-anchor=\"middle\" x=\"127.3968\" y=\"-14.3\" font-family=\"Times,serif\" font-size=\"14.00\" fill=\"#000000\">predict</text>\n</g>\n<!-- init&#45;&gt;predict -->\n<g id=\"edge1\" class=\"edge\">\n<title>init&#45;&gt;predict</title>\n<path fill=\"none\" stroke=\"#000000\" d=\"M54.1688,-18C62.3543,-18 71.5827,-18 80.6596,-18\"/>\n<polygon fill=\"#000000\" stroke=\"#000000\" points=\"80.7795,-21.5001 90.7795,-18 80.7795,-14.5001 80.7795,-21.5001\"/>\n</g>\n<!-- loss -->\n<g id=\"node3\" class=\"node\">\n<title>loss</title>\n<ellipse fill=\"none\" stroke=\"#000000\" cx=\"227.7935\" cy=\"-52\" rx=\"27\" ry=\"18\"/>\n<text text-anchor=\"middle\" x=\"227.7935\" y=\"-48.3\" font-family=\"Times,serif\" font-size=\"14.00\" fill=\"#000000\">loss</text>\n</g>\n<!-- predict&#45;&gt;loss -->\n<g id=\"edge2\" class=\"edge\">\n<title>predict&#45;&gt;loss</title>\n<path fill=\"none\" stroke=\"#000000\" d=\"M157.5191,-28.2011C168.9806,-32.0826 182.1139,-36.5303 193.9014,-40.5222\"/>\n<polygon fill=\"#000000\" stroke=\"#000000\" points=\"192.8259,-43.8532 203.4202,-43.7458 195.0713,-37.2231 192.8259,-43.8532\"/>\n</g>\n<!-- gradient -->\n<g id=\"node4\" class=\"node\">\n<title>gradient</title>\n<ellipse fill=\"none\" stroke=\"#000000\" cx=\"365.7399\" cy=\"-52\" rx=\"40.8928\" ry=\"18\"/>\n<text text-anchor=\"middle\" x=\"365.7399\" y=\"-48.3\" font-family=\"Times,serif\" font-size=\"14.00\" fill=\"#000000\">gradient</text>\n</g>\n<!-- loss&#45;&gt;gradient -->\n<g id=\"edge3\" class=\"edge\">\n<title>loss&#45;&gt;gradient</title>\n<path fill=\"none\" stroke=\"#000000\" d=\"M255.0473,-52C272.0415,-52 294.4481,-52 314.6545,-52\"/>\n<polygon fill=\"#000000\" stroke=\"#000000\" points=\"314.671,-55.5001 324.671,-52 314.671,-48.5001 314.671,-55.5001\"/>\n</g>\n<!-- step -->\n<g id=\"node5\" class=\"node\">\n<title>step</title>\n<ellipse fill=\"none\" stroke=\"#000000\" cx=\"470.6863\" cy=\"-18\" rx=\"27\" ry=\"18\"/>\n<text text-anchor=\"middle\" x=\"470.6863\" y=\"-14.3\" font-family=\"Times,serif\" font-size=\"14.00\" fill=\"#000000\">step</text>\n</g>\n<!-- gradient&#45;&gt;step -->\n<g id=\"edge4\" class=\"edge\">\n<title>gradient&#45;&gt;step</title>\n<path fill=\"none\" stroke=\"#000000\" d=\"M398.9456,-41.2422C410.9558,-37.3512 424.5297,-32.9536 436.6132,-29.0388\"/>\n<polygon fill=\"#000000\" stroke=\"#000000\" points=\"437.9112,-32.2975 446.3457,-25.8857 435.7537,-25.6382 437.9112,-32.2975\"/>\n</g>\n<!-- step&#45;&gt;predict -->\n<g id=\"edge6\" class=\"edge\">\n<title>step&#45;&gt;predict</title>\n<path fill=\"none\" stroke=\"#000000\" d=\"M443.4266,-18C384.9297,-18 246.7861,-18 174.0495,-18\"/>\n<polygon fill=\"#000000\" stroke=\"#000000\" points=\"173.8098,-14.5001 163.8098,-18 173.8097,-21.5001 173.8098,-14.5001\"/>\n<text text-anchor=\"middle\" x=\"289.7935\" y=\"-21.8\" font-family=\"Times,serif\" font-size=\"14.00\" fill=\"#000000\">repeat</text>\n</g>\n<!-- stop -->\n<g id=\"node6\" class=\"node\">\n<title>stop</title>\n<ellipse fill=\"none\" stroke=\"#000000\" cx=\"561.6863\" cy=\"-18\" rx=\"27\" ry=\"18\"/>\n<text text-anchor=\"middle\" x=\"561.6863\" y=\"-14.3\" font-family=\"Times,serif\" font-size=\"14.00\" fill=\"#000000\">stop</text>\n</g>\n<!-- step&#45;&gt;stop -->\n<g id=\"edge5\" class=\"edge\">\n<title>step&#45;&gt;stop</title>\n<path fill=\"none\" stroke=\"#000000\" d=\"M497.9893,-18C506.2676,-18 515.508,-18 524.3268,-18\"/>\n<polygon fill=\"#000000\" stroke=\"#000000\" points=\"524.4026,-21.5001 534.4025,-18 524.4025,-14.5001 524.4026,-21.5001\"/>\n</g>\n</g>\n</svg>\n"
          },
          "metadata": {
            "tags": []
          },
          "execution_count": 100
        }
      ]
    },
    {
      "cell_type": "markdown",
      "metadata": {
        "id": "mQLyUWpx34gc"
      },
      "source": [
        "To summarize, at the beginning, the weights of our model can be random (training *from scratch*) or come from a pretrained model (*transfer learning*). In the first case, the output we will get from our inputs won't have anything to do with what we want, and even in the second case, it's very likely the pretrained model won't be very good at the specific task we are targeting. So the model will need to *learn* better weights.\n",
        "\n",
        "We begin by comparing the outputs the model gives us with our targets (we have labeled data, so we know what result the model should give) using a *loss function*, which returns a number that we want to make as low as possible by improving our weights. To do this, we take a few data items (such as images) from the training set and feed them to our model. We compare the corresponding targets using our loss function, and the score we get tells us how wrong our predictions were. We then change the weights a little bit to make it slightly better.\n",
        "\n",
        "To find how to change the weights to make the loss a bit better, we use calculus to calculate the *gradients*. (Actually, we let PyTorch do it for us!) Let's consider an analogy. Imagine you are lost in the mountains with your car parked at the lowest point. To find your way back to it, you might wander in a random direction, but that probably wouldn't help much. Since you know your vehicle is at the lowest point, you would be better off going downhill. By always taking a step in the direction of the steepest downward slope, you should eventually arrive at your destination. We use the magnitude of the gradient (i.e., the steepness of the slope) to tell us how big a step to take; specifically, we multiply the gradient by a number we choose called the *learning rate* to decide on the step size. We then *iterate* until we have reached the lowest point, which will be our parking lot, then we can *stop*.\n",
        "\n",
        "All of that we just saw can be transposed directly to the MNIST dataset, except for the loss function. Let's now see how we can define a good training objective. "
      ]
    },
    {
      "cell_type": "markdown",
      "metadata": {
        "id": "4J4n1mw334gd"
      },
      "source": [
        "## The MNIST Loss Function"
      ]
    },
    {
      "cell_type": "markdown",
      "metadata": {
        "id": "nd5OMUI734gd"
      },
      "source": [
        "We already have our dependent variables `x`—these are the images themselves. We'll concatenate them all into a single tensor, and also change them from a list of matrices (a rank-3 tensor) to a list of vectors (a rank-2 tensor). We can do this using `view`, which is a PyTorch method that changes the shape of a tensor without changing its contents. `-1` is a special parameter to `view` that means \"make this axis as big as necessary to fit all the data\":"
      ]
    },
    {
      "cell_type": "code",
      "metadata": {
        "id": "TqN7J65934ge"
      },
      "source": [
        "train_x = torch.cat([stacked_threes, stacked_sevens]).view(-1, 28*28) # This is to stack each row of a certain image end to end to make a single line vector in horizontal direction. \r\n",
        "# then stack every images in the horizontal direction. So far, it has made it a rank-2 tensor. "
      ],
      "execution_count": 105,
      "outputs": []
    },
    {
      "cell_type": "markdown",
      "metadata": {
        "id": "8-4-Q6Bz34ge"
      },
      "source": [
        "We need a label for each image. We'll use `1` for 3s and `0` for 7s:"
      ]
    },
    {
      "cell_type": "code",
      "metadata": {
        "id": "GXScpma134ge",
        "colab": {
          "base_uri": "https://localhost:8080/"
        },
        "outputId": "943a9e10-f623-4fdf-ba94-c177d6de8fd5"
      },
      "source": [
        "train_y = tensor([1]*len(threes) + [0]*len(sevens)).unsqueeze(1) # this is to change the y axis from [12396] tensor to [12396,1].\n",
        "train_x.shape,train_y.shape"
      ],
      "execution_count": 106,
      "outputs": [
        {
          "output_type": "execute_result",
          "data": {
            "text/plain": [
              "(torch.Size([12396, 784]), torch.Size([12396, 1]))"
            ]
          },
          "metadata": {
            "tags": []
          },
          "execution_count": 106
        }
      ]
    },
    {
      "cell_type": "code",
      "metadata": {
        "colab": {
          "base_uri": "https://localhost:8080/"
        },
        "id": "bNg2tdJGMceV",
        "outputId": "c27e72f1-6b77-4618-8521-fe8dc05c3ce8"
      },
      "source": [
        " #hide\r\n",
        " a = tensor([1]*len(threes) + [0]*len(sevens))\r\n",
        " a.shape"
      ],
      "execution_count": 101,
      "outputs": [
        {
          "output_type": "execute_result",
          "data": {
            "text/plain": [
              "torch.Size([12396])"
            ]
          },
          "metadata": {
            "tags": []
          },
          "execution_count": 101
        }
      ]
    },
    {
      "cell_type": "markdown",
      "metadata": {
        "id": "QFgnBTagp2kl"
      },
      "source": [
        "-------------------------------------------------------\r\n",
        "[pytorch unsqueeze](https://stackoverflow.com/questions/57237352/what-does-unsqueeze-do-in-pytorch)\r\n",
        "\r\n",
        "\r\n",
        "\r\n",
        "```\r\n",
        ">>> x = torch.tensor([1, 2, 3, 4])\r\n",
        ">>> torch.unsqueeze(x, 0)\r\n",
        "tensor([[ 1,  2,  3,  4]])\r\n",
        ">>> torch.unsqueeze(x, 1)\r\n",
        "tensor([[ 1],\r\n",
        "        [ 2],\r\n",
        "        [ 3],\r\n",
        "        [ 4]])\r\n",
        "```\r\n",
        "If you look at the shape of the array before and after, you see that before it was (4,) and after it is (1, 4) (when second parameter is 0) and (4, 1) (when second parameter is 1). So a 1 was inserted in the shape of the array at axis 0 or 1, depending on the value of the second parameter.\r\n",
        "\r\n",
        "That is opposite of np.squeeze() (nomenclature borrowed from MATLAB) which removes axes of size 1 (singletons).\r\n",
        "\r\n",
        "-------------------------------------------------------"
      ]
    },
    {
      "cell_type": "code",
      "metadata": {
        "colab": {
          "base_uri": "https://localhost:8080/"
        },
        "id": "9Vok18AjM0sS",
        "outputId": "64676c23-abdc-41c2-c046-94d5969b335e"
      },
      "source": [
        "#hide\r\n",
        "print(train_y)"
      ],
      "execution_count": 107,
      "outputs": [
        {
          "output_type": "stream",
          "text": [
            "tensor([[1],\n",
            "        [1],\n",
            "        [1],\n",
            "        ...,\n",
            "        [0],\n",
            "        [0],\n",
            "        [0]])\n"
          ],
          "name": "stdout"
        }
      ]
    },
    {
      "cell_type": "markdown",
      "metadata": {
        "id": "64vhiEBt34ge"
      },
      "source": [
        "A `Dataset` in PyTorch is required to return a tuple of `(x,y)` when indexed. Python provides a `zip` function which, when combined with `list`, provides a simple way to get this functionality:"
      ]
    },
    {
      "cell_type": "code",
      "metadata": {
        "id": "084bSdXt34gf",
        "colab": {
          "base_uri": "https://localhost:8080/"
        },
        "outputId": "65ff440e-c0c6-47ce-9635-6bf5152d8f7e"
      },
      "source": [
        "dset = list(zip(train_x,train_y)) # Train_x, Train_y has multiple image stacked in vertical direction\n",
        "x,y = dset[0] # This contains one image for x and y.( one row from ( Train_x, Train_y))\n",
        "x.shape,y"
      ],
      "execution_count": 109,
      "outputs": [
        {
          "output_type": "execute_result",
          "data": {
            "text/plain": [
              "(torch.Size([784]), tensor([1]))"
            ]
          },
          "metadata": {
            "tags": []
          },
          "execution_count": 109
        }
      ]
    },
    {
      "cell_type": "markdown",
      "metadata": {
        "id": "4PWoFj2iswje"
      },
      "source": [
        "----------\r\n",
        "[Python Zip](https://stackoverflow.com/questions/13704860/zip-lists-in-python)\r\n",
        "\r\n",
        "```\r\n",
        "# Example 1\r\n",
        ">>> zip ([1,2],[3,4])\r\n",
        "[(1,3), (2,4)]\r\n",
        "\r\n",
        "# Example 2\r\n",
        "numbers = [1,2,3]\r\n",
        "letters = 'abcd'\r\n",
        "zip(numbers, letters)\r\n",
        "# [(1, 'a'), (2, 'b'), (3, 'c')]\r\n",
        "```\r\n",
        "----------\r\n"
      ]
    },
    {
      "cell_type": "code",
      "metadata": {
        "id": "EqitRsEj34gf"
      },
      "source": [
        "valid_x = torch.cat([valid_3_tens, valid_7_tens]).view(-1, 28*28)\n",
        "valid_y = tensor([1]*len(valid_3_tens) + [0]*len(valid_7_tens)).unsqueeze(1)\n",
        "valid_dset = list(zip(valid_x,valid_y))"
      ],
      "execution_count": 108,
      "outputs": []
    },
    {
      "cell_type": "markdown",
      "metadata": {
        "id": "MZLsfsIo34gf"
      },
      "source": [
        "Now we need an (initially random) weight for every pixel (this is the *initialize* step in our seven-step process):"
      ]
    },
    {
      "cell_type": "code",
      "metadata": {
        "id": "sE38gXNP34gk"
      },
      "source": [
        "def init_params(size, std=1.0): return (torch.randn(size)*std).requires_grad_() # requires_grad tells that we want to gradients for these weights.\r\n",
        "# _ in the end means that it is in place operation"
      ],
      "execution_count": null,
      "outputs": []
    },
    {
      "cell_type": "code",
      "metadata": {
        "id": "niy1YYp334gl"
      },
      "source": [
        "weights = init_params((28*28,1))"
      ],
      "execution_count": null,
      "outputs": []
    },
    {
      "cell_type": "markdown",
      "metadata": {
        "id": "a-Pfin6Q34gl"
      },
      "source": [
        "The function `weights*pixels` won't be flexible enough—it is always equal to 0 when the pixels are equal to 0 (i.e., its *intercept* is 0). You might remember from high school math that the formula for a line is `y=w*x+b`; we still need the `b`. We'll initialize it to a random number too:"
      ]
    },
    {
      "cell_type": "code",
      "metadata": {
        "id": "AjuxPCc134gl"
      },
      "source": [
        "bias = init_params(1)"
      ],
      "execution_count": null,
      "outputs": []
    },
    {
      "cell_type": "markdown",
      "metadata": {
        "id": "wVdaVGw134gm"
      },
      "source": [
        "In neural networks, the `w` in the equation `y=w*x+b` is called the *weights*, and the `b` is called the *bias*. Together, the weights and bias make up the *parameters*."
      ]
    },
    {
      "cell_type": "markdown",
      "metadata": {
        "id": "FogcFjW834gm"
      },
      "source": [
        "> jargon: Parameters: The _weights_ and _biases_ of a model. The weights are the `w` in the equation `w*x+b`, and the biases are the `b` in that equation."
      ]
    },
    {
      "cell_type": "markdown",
      "metadata": {
        "id": "OR5BZqGs34gm"
      },
      "source": [
        "We can now calculate a prediction for one image:"
      ]
    },
    {
      "cell_type": "code",
      "metadata": {
        "id": "efF3r3_H34gn",
        "outputId": "6cc7638e-993c-4631-e685-0b988554ffef"
      },
      "source": [
        "(train_x[0]*weights.T).sum() + bias"
      ],
      "execution_count": null,
      "outputs": [
        {
          "output_type": "execute_result",
          "data": {
            "text/plain": [
              "tensor([20.2336], grad_fn=<AddBackward0>)"
            ]
          },
          "metadata": {
            "tags": []
          },
          "execution_count": 0
        }
      ]
    },
    {
      "cell_type": "markdown",
      "metadata": {
        "id": "L4OCYSHO34gn"
      },
      "source": [
        "While we could use a Python `for` loop to calculate the prediction for each image, that would be very slow. Because Python loops don't run on the GPU, and because Python is a slow language for loops in general, we need to represent as much of the computation in a model as possible using higher-level functions.\n",
        "\n",
        "In this case, there's an extremely convenient mathematical operation that calculates `w*x` for every row of a matrix—it's called *matrix multiplication*. <<matmul>> shows what matrix multiplication looks like."
      ]
    },
    {
      "cell_type": "markdown",
      "metadata": {
        "id": "b603xGlN34gn"
      },
      "source": [
        "<img alt=\"Matrix multiplication\" width=\"400\" caption=\"Matrix multiplication\" src=\"https://github.com/flyforward2016/fastbook/blob/master/images/matmul2.svg?raw=1\" id=\"matmul\"/>"
      ]
    },
    {
      "cell_type": "markdown",
      "metadata": {
        "id": "0AgWxjAx34gn"
      },
      "source": [
        "This image shows two matrices, `A` and `B`, being multiplied together. Each item of the result, which we'll call `AB`, contains each item of its corresponding row of `A` multiplied by each item of its corresponding column of `B`, added together. For instance, row 1, column 2 (the orange dot with a red border) is calculated as $a_{1,1} * b_{1,2} + a_{1,2} * b_{2,2}$. If you need a refresher on matrix multiplication, we suggest you take a look at the [Intro to Matrix Multiplication](https://youtu.be/kT4Mp9EdVqs) on *Khan Academy*, since this is the most important mathematical operation in deep learning.\n",
        "\n",
        "In Python, matrix multiplication is represented with the `@` operator. Let's try it:"
      ]
    },
    {
      "cell_type": "code",
      "metadata": {
        "id": "P4SqnL8234go",
        "outputId": "9f30c2be-182f-4321-d1ef-15981ac48127"
      },
      "source": [
        "def linear1(xb): return xb@weights + bias\n",
        "preds = linear1(train_x)\n",
        "preds"
      ],
      "execution_count": null,
      "outputs": [
        {
          "output_type": "execute_result",
          "data": {
            "text/plain": [
              "tensor([[20.2336],\n",
              "        [17.0644],\n",
              "        [15.2384],\n",
              "        ...,\n",
              "        [18.3804],\n",
              "        [23.8567],\n",
              "        [28.6816]], grad_fn=<AddBackward0>)"
            ]
          },
          "metadata": {
            "tags": []
          },
          "execution_count": 0
        }
      ]
    },
    {
      "cell_type": "markdown",
      "metadata": {
        "id": "3yZMdRZv34gp"
      },
      "source": [
        "The first element is the same as we calculated before, as we'd expect. This equation, `batch@weights + bias`, is one of the two fundamental equations of any neural network (the other one is the *activation function*, which we'll see in a moment)."
      ]
    },
    {
      "cell_type": "markdown",
      "metadata": {
        "id": "I9gKgt5934gp"
      },
      "source": [
        "Let's check our accuracy. To decide if an output represents a 3 or a 7, we can just check whether it's greater than 0, so our accuracy for each item can be calculated (using broadcasting, so no loops!) with:"
      ]
    },
    {
      "cell_type": "code",
      "metadata": {
        "id": "a1HXqZxe34gq",
        "colab": {
          "base_uri": "https://localhost:8080/"
        },
        "outputId": "9b82e83f-485a-44fb-97c1-9f6bc2a3827c"
      },
      "source": [
        "corrects = (preds>0.0).float() == train_y\n",
        "corrects"
      ],
      "execution_count": null,
      "outputs": [
        {
          "output_type": "execute_result",
          "data": {
            "text/plain": [
              "tensor([[ True, False, False,  ..., False, False, False],\n",
              "        [ True, False, False,  ..., False, False, False],\n",
              "        [ True, False, False,  ..., False, False, False],\n",
              "        ...,\n",
              "        [False,  True,  True,  ...,  True,  True,  True],\n",
              "        [False,  True,  True,  ...,  True,  True,  True],\n",
              "        [False,  True,  True,  ...,  True,  True,  True]])"
            ]
          },
          "metadata": {
            "tags": []
          },
          "execution_count": 112
        }
      ]
    },
    {
      "cell_type": "code",
      "metadata": {
        "id": "2RsncR7z34gq",
        "colab": {
          "base_uri": "https://localhost:8080/"
        },
        "outputId": "530b7d53-ecd8-4979-9afd-ff0be3730860"
      },
      "source": [
        "corrects.float().mean().item()"
      ],
      "execution_count": null,
      "outputs": [
        {
          "output_type": "execute_result",
          "data": {
            "text/plain": [
              "0.5048644542694092"
            ]
          },
          "metadata": {
            "tags": []
          },
          "execution_count": 113
        }
      ]
    },
    {
      "cell_type": "code",
      "metadata": {
        "colab": {
          "base_uri": "https://localhost:8080/"
        },
        "id": "qRCsLQ4CTKtd",
        "outputId": "e4532a79-d15a-4b2c-ba50-f941bd071c93"
      },
      "source": [
        "#hide\r\n",
        "corrects.float().mean() # without .item(), it will be just a tensor"
      ],
      "execution_count": null,
      "outputs": [
        {
          "output_type": "execute_result",
          "data": {
            "text/plain": [
              "tensor(0.5049)"
            ]
          },
          "metadata": {
            "tags": []
          },
          "execution_count": 114
        }
      ]
    },
    {
      "cell_type": "markdown",
      "metadata": {
        "id": "H0H-rgzA34gq"
      },
      "source": [
        "Now let's see what the change in accuracy is for a small change in one of the weights:"
      ]
    },
    {
      "cell_type": "code",
      "metadata": {
        "id": "IcnO9Cao34gr"
      },
      "source": [
        "weights[0] *= 1.0001"
      ],
      "execution_count": null,
      "outputs": []
    },
    {
      "cell_type": "code",
      "metadata": {
        "id": "qNPw5pLp34gr",
        "outputId": "60fd838e-5e9e-4a07-da7f-736856f8a3dd"
      },
      "source": [
        "preds = linear1(train_x)\n",
        "((preds>0.0).float() == train_y).float().mean().item()"
      ],
      "execution_count": null,
      "outputs": [
        {
          "output_type": "execute_result",
          "data": {
            "text/plain": [
              "0.4912068545818329"
            ]
          },
          "metadata": {
            "tags": []
          },
          "execution_count": 0
        }
      ]
    },
    {
      "cell_type": "markdown",
      "metadata": {
        "id": "eicuEWgy34gr"
      },
      "source": [
        "As we've seen, we need gradients in order to improve our model using SGD, and in order to calculate gradients we need some *loss function* that represents how good our model is. That is because the gradients are a measure of how that loss function changes with small tweaks to the weights.\n",
        "\n",
        "So, we need to choose a loss function. The obvious approach would be to use accuracy, which is our metric, as our loss function as well. In this case, we would calculate our prediction for each image, collect these values to calculate an overall accuracy, and then calculate the gradients of each weight with respect to that overall accuracy.\n",
        "\n",
        "Unfortunately, we have a significant technical problem here. The gradient of a function is its *slope*, or its steepness, which can be defined as *rise over run*—that is, how much the value of the function goes up or down, divided by how much we changed the input. We can write this in mathematically as: `(y_new - y_old) / (x_new - x_old)`. This gives us a good approximation of the gradient when `x_new` is very similar to `x_old`, meaning that their difference is very small. But accuracy only changes at all when a prediction changes from a 3 to a 7, or vice versa.`The problem is that a small change in weights` from `x_old` to `x_new` `isn't likely to cause any prediction to change`, so `(y_new - y_old)` will almost always be 0. In other words, the gradient is 0 almost everywhere."
      ]
    },
    {
      "cell_type": "markdown",
      "metadata": {
        "id": "IS6BSQ8p34gr"
      },
      "source": [
        "A very small change in the value of a weight will often not actually change the accuracy at all. This means it is not useful to use accuracy as a loss function—if we do, most of the time our gradients will actually be 0, and the model will not be able to learn from that number.\n",
        "\n",
        "> S: In mathematical terms, accuracy is a function that is constant almost everywhere (except at the threshold, 0.5), so its derivative is nil almost everywhere (and infinity at the threshold). This then gives gradients that are 0 or infinite, which are useless for updating the model.\n",
        "\n",
        "Instead, we need a loss function which, when our weights result in slightly better predictions, gives us a slightly better loss. So what does a \"slightly better prediction\" look like, exactly? Well, in this case, it means that if the correct answer is a 3 the score is a little higher, or if the correct answer is a 7 the score is a little lower.\n",
        "\n",
        "Let's write such a function now. What form does it take?\n",
        "\n",
        "The loss function receives not the images themselves, but the predictions from the model. Let's make one argument, `prds`, of values between 0 and 1, where each value is the prediction that an image is a 3. It is a vector (i.e., a rank-1 tensor), indexed over the images.\n",
        "\n",
        "The purpose of the loss function is to measure the difference between predicted values and the true values — that is, the targets (aka labels). Let's make another argument, `trgts`, with values of 0 or 1 which tells whether an image actually is a 3 or not. It is also a vector (i.e., another rank-1 tensor), indexed over the images.\n",
        "\n",
        "So, for instance, suppose we had three images which we knew were a 3, a 7, and a 3. And suppose our model predicted with high confidence (`0.9`) that the first was a 3, with slight confidence (`0.4`) that the second was a 7, and with fair confidence (`0.2`), but incorrectly, that the last was a 7. This would mean our loss function would receive these values as its inputs:"
      ]
    },
    {
      "cell_type": "code",
      "metadata": {
        "id": "iXzB60y234gs"
      },
      "source": [
        "trgts  = tensor([1,0,1])\n",
        "prds   = tensor([0.9, 0.4, 0.2])"
      ],
      "execution_count": 112,
      "outputs": []
    },
    {
      "cell_type": "markdown",
      "metadata": {
        "id": "W3e46Gtl34gs"
      },
      "source": [
        "Here's a first try at a loss function that measures the distance between `predictions` and `targets`:"
      ]
    },
    {
      "cell_type": "code",
      "metadata": {
        "id": "tdsOUKm134gs"
      },
      "source": [
        "def mnist_loss(predictions, targets):\n",
        "    return torch.where(targets==1, 1-predictions, predictions).mean()"
      ],
      "execution_count": 113,
      "outputs": []
    },
    {
      "cell_type": "markdown",
      "metadata": {
        "id": "yR1b08qf34gs"
      },
      "source": [
        "We're using a new function, `torch.where(a,b,c)`. This is the same as running the list comprehension `[b[i] if a[i] else c[i] for i in range(len(a))]`, except it works on tensors, at C/CUDA speed. In plain English, this function will measure how distant each prediction is from 1 if it should be 1, and how distant it is from 0 if it should be 0, and then it will take the mean of all those distances.\n",
        "\n",
        "> note: Read the Docs: It's important to learn about PyTorch functions like this, because looping over tensors in Python performs at Python speed, not C/CUDA speed! Try running `help(torch.where)` now to read the docs for this function, or, better still, look it up on the PyTorch documentation site."
      ]
    },
    {
      "cell_type": "markdown",
      "metadata": {
        "id": "_wc2NESsd0eo"
      },
      "source": [
        "----\r\n",
        "[torch.where](https://pytorch.org/docs/stable/generated/torch.where.html)\r\n",
        "<br>torch.where(condition, x, y) → Tensor\r\n",
        "\r\n",
        "```\r\n",
        "# This is formatted as code\r\n",
        "```\r\n",
        "![Screenshot_1.png](data:image/png;base64,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)\r\n",
        "---\r\n"
      ]
    },
    {
      "cell_type": "code",
      "metadata": {
        "id": "DWmjUrN6dkUp",
        "colab": {
          "base_uri": "https://localhost:8080/"
        },
        "outputId": "d920ae54-f724-448b-c2da-6f0216de4777"
      },
      "source": [
        "help(torch.where)"
      ],
      "execution_count": 114,
      "outputs": [
        {
          "output_type": "stream",
          "text": [
            "Help on built-in function where:\n",
            "\n",
            "where(...)\n",
            "    where(condition, x, y) -> Tensor\n",
            "    \n",
            "    Return a tensor of elements selected from either :attr:`x` or :attr:`y`, depending on :attr:`condition`.\n",
            "    \n",
            "    The operation is defined as:\n",
            "    \n",
            "    .. math::\n",
            "        \\text{out}_i = \\begin{cases}\n",
            "            \\text{x}_i & \\text{if } \\text{condition}_i \\\\\n",
            "            \\text{y}_i & \\text{otherwise} \\\\\n",
            "        \\end{cases}\n",
            "    \n",
            "    .. note::\n",
            "        The tensors :attr:`condition`, :attr:`x`, :attr:`y` must be :ref:`broadcastable <broadcasting-semantics>`.\n",
            "    \n",
            "    .. note::\n",
            "        Currently valid scalar and tensor combination are\n",
            "        1. Scalar of floating dtype and torch.double\n",
            "        2. Scalar of integral dtype and torch.long\n",
            "        3. Scalar of complex dtype and torch.complex128\n",
            "    \n",
            "    Arguments:\n",
            "        condition (BoolTensor): When True (nonzero), yield x, otherwise yield y\n",
            "        x (Tensor or Scalar): value (if :attr:x is a scalar) or values selected at indices\n",
            "                              where :attr:`condition` is ``True``\n",
            "        y (Tensor or Scalar): value (if :attr:x is a scalar) or values selected at indices\n",
            "                              where :attr:`condition` is ``False``\n",
            "    \n",
            "    Returns:\n",
            "        Tensor: A tensor of shape equal to the broadcasted shape of :attr:`condition`, :attr:`x`, :attr:`y`\n",
            "    \n",
            "    Example::\n",
            "    \n",
            "        >>> x = torch.randn(3, 2)\n",
            "        >>> y = torch.ones(3, 2)\n",
            "        >>> x\n",
            "        tensor([[-0.4620,  0.3139],\n",
            "                [ 0.3898, -0.7197],\n",
            "                [ 0.0478, -0.1657]])\n",
            "        >>> torch.where(x > 0, x, y)\n",
            "        tensor([[ 1.0000,  0.3139],\n",
            "                [ 0.3898,  1.0000],\n",
            "                [ 0.0478,  1.0000]])\n",
            "        >>> x = torch.randn(2, 2, dtype=torch.double)\n",
            "        >>> x\n",
            "        tensor([[ 1.0779,  0.0383],\n",
            "                [-0.8785, -1.1089]], dtype=torch.float64)\n",
            "        >>> torch.where(x > 0, x, 0.)\n",
            "        tensor([[1.0779, 0.0383],\n",
            "                [0.0000, 0.0000]], dtype=torch.float64)\n",
            "    \n",
            "    .. function:: where(condition) -> tuple of LongTensor\n",
            "    \n",
            "    ``torch.where(condition)`` is identical to\n",
            "    ``torch.nonzero(condition, as_tuple=True)``.\n",
            "    \n",
            "    .. note::\n",
            "        See also :func:`torch.nonzero`.\n",
            "\n"
          ],
          "name": "stdout"
        }
      ]
    },
    {
      "cell_type": "markdown",
      "metadata": {
        "id": "0D6vU9T-34gt"
      },
      "source": [
        "Let's try it on our `prds` and `trgts`:"
      ]
    },
    {
      "cell_type": "code",
      "metadata": {
        "id": "Qdir50-c34gu",
        "colab": {
          "base_uri": "https://localhost:8080/"
        },
        "outputId": "be6c4148-0a6f-4982-ee1f-5714c811064d"
      },
      "source": [
        "torch.where(trgts==1, 1-prds, prds)"
      ],
      "execution_count": 115,
      "outputs": [
        {
          "output_type": "execute_result",
          "data": {
            "text/plain": [
              "tensor([0.1000, 0.4000, 0.8000])"
            ]
          },
          "metadata": {
            "tags": []
          },
          "execution_count": 115
        }
      ]
    },
    {
      "cell_type": "markdown",
      "metadata": {
        "id": "2Q1NZYU734gu"
      },
      "source": [
        "You can see that this function returns a lower number when predictions are more accurate, when accurate predictions are more confident (higher absolute values), and when inaccurate predictions are less confident. In PyTorch, we always assume that a lower value of a loss function is better. Since we need a scalar for the final loss, `mnist_loss` takes the mean of the previous tensor:"
      ]
    },
    {
      "cell_type": "code",
      "metadata": {
        "id": "0xS0hnsL34gu",
        "outputId": "6a530e81-fa9b-4b64-a2f1-3fffcd0eeb8d"
      },
      "source": [
        "mnist_loss(prds,trgts)"
      ],
      "execution_count": null,
      "outputs": [
        {
          "output_type": "execute_result",
          "data": {
            "text/plain": [
              "tensor(0.4333)"
            ]
          },
          "metadata": {
            "tags": []
          },
          "execution_count": 0
        }
      ]
    },
    {
      "cell_type": "markdown",
      "metadata": {
        "id": "P0ouvNnn34gu"
      },
      "source": [
        "For instance, if we change our prediction for the one \"false\" target from `0.2` to `0.8` the loss will go down, indicating that this is a better prediction:"
      ]
    },
    {
      "cell_type": "code",
      "metadata": {
        "id": "LsjgyeYO34gv",
        "outputId": "b2e29fb9-2325-437f-9977-0e5f8dcfd611"
      },
      "source": [
        "mnist_loss(tensor([0.9, 0.4, 0.8]),trgts)"
      ],
      "execution_count": null,
      "outputs": [
        {
          "output_type": "execute_result",
          "data": {
            "text/plain": [
              "tensor(0.2333)"
            ]
          },
          "metadata": {
            "tags": []
          },
          "execution_count": 0
        }
      ]
    },
    {
      "cell_type": "markdown",
      "metadata": {
        "id": "bhjRZvWP34gv"
      },
      "source": [
        "One problem with `mnist_loss` as currently defined is that it assumes that predictions are always between 0 and 1. We need to ensure, then, that this is actually the case! As it happens, there is a function that does exactly that—let's take a look."
      ]
    },
    {
      "cell_type": "markdown",
      "metadata": {
        "id": "ADBov_m-34gv"
      },
      "source": [
        "### Sigmoid"
      ]
    },
    {
      "cell_type": "markdown",
      "metadata": {
        "id": "2FMe9IQ034gv"
      },
      "source": [
        "The `sigmoid` function always outputs a number between 0 and 1. It's defined as follows:"
      ]
    },
    {
      "cell_type": "code",
      "metadata": {
        "id": "lZc4DRd234gv"
      },
      "source": [
        "def sigmoid(x): return 1/(1+torch.exp(-x))"
      ],
      "execution_count": 116,
      "outputs": []
    },
    {
      "cell_type": "code",
      "metadata": {
        "colab": {
          "base_uri": "https://localhost:8080/"
        },
        "id": "lePVRmaWcMWl",
        "outputId": "b8e6e3d0-4f0c-4389-fcb7-4f94332d0884"
      },
      "source": [
        "#hide\r\n",
        "math.e**2"
      ],
      "execution_count": 117,
      "outputs": [
        {
          "output_type": "execute_result",
          "data": {
            "text/plain": [
              "7.3890560989306495"
            ]
          },
          "metadata": {
            "tags": []
          },
          "execution_count": 117
        }
      ]
    },
    {
      "cell_type": "code",
      "metadata": {
        "colab": {
          "base_uri": "https://localhost:8080/"
        },
        "id": "hkDpuwTrcOZN",
        "outputId": "95a87730-c46f-46c8-ae84-f3cd01f665c6"
      },
      "source": [
        "#hide\r\n",
        "torch.exp(tensor(2.)) # The '.' signals a float"
      ],
      "execution_count": 118,
      "outputs": [
        {
          "output_type": "execute_result",
          "data": {
            "text/plain": [
              "tensor(7.3891)"
            ]
          },
          "metadata": {
            "tags": []
          },
          "execution_count": 118
        }
      ]
    },
    {
      "cell_type": "code",
      "metadata": {
        "colab": {
          "base_uri": "https://localhost:8080/"
        },
        "id": "n7N27mxacu0i",
        "outputId": "406eccbb-122d-4ff8-8b66-830486ff2165"
      },
      "source": [
        "#hide\r\n",
        "type(2)"
      ],
      "execution_count": 119,
      "outputs": [
        {
          "output_type": "execute_result",
          "data": {
            "text/plain": [
              "int"
            ]
          },
          "metadata": {
            "tags": []
          },
          "execution_count": 119
        }
      ]
    },
    {
      "cell_type": "code",
      "metadata": {
        "colab": {
          "base_uri": "https://localhost:8080/"
        },
        "id": "CE7V5-Cscyx3",
        "outputId": "ea554c3b-af85-4ac5-bc4c-04f0c23e010a"
      },
      "source": [
        "#hide\r\n",
        "type(2.)"
      ],
      "execution_count": 120,
      "outputs": [
        {
          "output_type": "execute_result",
          "data": {
            "text/plain": [
              "float"
            ]
          },
          "metadata": {
            "tags": []
          },
          "execution_count": 120
        }
      ]
    },
    {
      "cell_type": "markdown",
      "metadata": {
        "id": "BjuQxPp934gv"
      },
      "source": [
        "Pytorch defines an accelerated version for us, so we don’t really need our own. This is an important function in deep learning, since we often want to ensure values are between 0 and 1. This is what it looks like:"
      ]
    },
    {
      "cell_type": "code",
      "metadata": {
        "id": "sDNe6mqf34gw",
        "colab": {
          "base_uri": "https://localhost:8080/",
          "height": 281
        },
        "outputId": "91250590-433e-4b0b-b5fc-48c8d5e9dce4"
      },
      "source": [
        "plot_function(torch.sigmoid, title='Sigmoid', min=-4, max=4)"
      ],
      "execution_count": 121,
      "outputs": [
        {
          "output_type": "display_data",
          "data": {
            "image/png": "[encoded data removed]",
            "text/plain": [
              "<Figure size 432x288 with 1 Axes>"
            ]
          },
          "metadata": {
            "tags": [],
            "needs_background": "light"
          }
        }
      ]
    },
    {
      "cell_type": "code",
      "metadata": {
        "id": "to8dZNMo1Zly"
      },
      "source": [
        "?plot_function"
      ],
      "execution_count": 127,
      "outputs": []
    },
    {
      "cell_type": "markdown",
      "metadata": {
        "id": "HgAnKnpf34gw"
      },
      "source": [
        "As you can see, it takes any input value, positive or negative, and smooshes it onto an output value between 0 and 1. It's also a smooth curve that only goes up, which makes it easier for SGD to find meaningful gradients. \n",
        "\n",
        "Let's update `mnist_loss` to first apply `sigmoid` to the inputs:"
      ]
    },
    {
      "cell_type": "code",
      "metadata": {
        "id": "o-NMqgYm34gw"
      },
      "source": [
        "def mnist_loss(predictions, targets):\n",
        "    predictions = predictions.sigmoid()\n",
        "    return torch.where(targets==1, 1-predictions, predictions).mean()"
      ],
      "execution_count": null,
      "outputs": []
    },
    {
      "cell_type": "markdown",
      "metadata": {
        "id": "AI-lsEmh34gw"
      },
      "source": [
        "Now we can be confident our loss function will work, even if the predictions are not between 0 and 1. All that is required is that a higher prediction corresponds to higher confidence an image is a 3.\n",
        "\n",
        "Having defined a loss function, now is a good moment to recapitulate why we did this. After all, we already had a metric, which was overall accuracy. So why did we define a loss?\n",
        "\n",
        "The key difference is that the metric is to drive human understanding and the loss is to drive automated learning. To drive automated learning, the loss must be a function that has a meaningful derivative. It can't have big flat sections and large jumps, but instead must be reasonably smooth. This is why we designed a loss function that would respond to small changes in confidence level. This requirement means that sometimes it does not really reflect exactly what we are trying to achieve, but is rather a compromise between our real goal, and a function that can be optimized using its gradient. The loss function is calculated for each item in our dataset, and then at the end of an epoch the loss values are all averaged and the overall mean is reported for the epoch.\n",
        "\n",
        "Metrics, on the other hand, are the numbers that we really care about. These are the values that are printed at the end of each epoch that tell us how our model is really doing. It is important that we learn to focus on these metrics, rather than the loss, when judging the performance of a model."
      ]
    },
    {
      "cell_type": "markdown",
      "metadata": {
        "id": "5xu9nAzG34gw"
      },
      "source": [
        "### SGD and Mini-Batches"
      ]
    },
    {
      "cell_type": "markdown",
      "metadata": {
        "id": "iOZ5CSH334gw"
      },
      "source": [
        "Now that we have a loss function that is suitable for driving SGD, we can consider some of the details involved in the next phase of the learning process, which is to change or update the weights based on the gradients. This is called an *optimization step*.\n",
        "\n",
        "In order to take an optimization step we need to calculate the loss over one or more data items. How many should we use? We could calculate it for the whole dataset, and take the average, or we could calculate it for a single data item. But neither of these is ideal. Calculating it for the whole dataset would take a very long time. Calculating it for a single item would not use much information, so it would result in a very imprecise and unstable gradient. That is, you'd be going to the trouble of updating the weights, but taking into account only how that would improve the model's performance on that single item.\n",
        "\n",
        "So instead we take a compromise between the two: we calculate the average loss for a few data items at a time. This is called a *mini-batch*. The number of data items in the mini-batch is called the *batch size*. A larger batch size means that you will get a more accurate and stable estimate of your dataset's gradients from the loss function, but it will take longer, and you will process fewer mini-batches per epoch. Choosing a good batch size is one of the decisions you need to make as a deep learning practitioner to train your model quickly and accurately. We will talk about how to make this choice throughout this book.\n",
        "\n",
        "Another good reason for using mini-batches rather than calculating the gradient on individual data items is that, in practice, we nearly always do our training on an accelerator such as a GPU. These accelerators only perform well if they have lots of work to do at a time, so it's helpful if we can give them lots of data items to work on. Using mini-batches is one of the best ways to do this. However, if you give them too much data to work on at once, they run out of memory—making GPUs happy is also tricky!\n",
        "\n",
        "As we saw in our discussion of data augmentation in <<chapter_production>>, we get better generalization if we can vary things during training. One simple and effective thing we can vary is what data items we put in each mini-batch. Rather than simply enumerating our dataset in order for every epoch, instead what we normally do is randomly shuffle it on every epoch, before we create mini-batches. PyTorch and fastai provide a class that will do the shuffling and mini-batch collation for you, called `DataLoader`.\n",
        "\n",
        "A `DataLoader` can take any Python collection and turn it into an iterator over many batches, like so:"
      ]
    },
    {
      "cell_type": "code",
      "metadata": {
        "id": "3kuMR09E34gx",
        "colab": {
          "base_uri": "https://localhost:8080/"
        },
        "outputId": "662ce0ba-2bfd-4bf6-bfe7-54ac80b6e580"
      },
      "source": [
        "coll = range(15)\n",
        "dl = DataLoader(coll, batch_size=5, shuffle=True) # Dataloader will return a iterator\n",
        "list(dl) # if you pass a iterator in a list, it will show every element.\n",
        "# We have total of 15 samples with batch_size = 5, we should get 15/5 = 3 batches."
      ],
      "execution_count": null,
      "outputs": [
        {
          "output_type": "execute_result",
          "data": {
            "text/plain": [
              "[tensor([ 3, 12,  8, 10,  2]),\n",
              " tensor([ 9,  4,  7, 14,  5]),\n",
              " tensor([ 1, 13,  0,  6, 11])]"
            ]
          },
          "metadata": {
            "tags": []
          },
          "execution_count": 125
        }
      ]
    },
    {
      "cell_type": "markdown",
      "metadata": {
        "id": "4v0ATmqais5e"
      },
      "source": [
        "[Iterator](https://www.w3schools.com/python/python_iterators.asp)\r\n",
        "\r\n"
      ]
    },
    {
      "cell_type": "code",
      "metadata": {
        "colab": {
          "base_uri": "https://localhost:8080/"
        },
        "id": "A9Qz8nDMiVYg",
        "outputId": "a3664f13-5928-4b68-d5e6-6f53c86db2f9"
      },
      "source": [
        "#hide - python Iterator\r\n",
        "mytuple = (\"apple\", \"banana\", \"cherry\")\r\n",
        "myit = iter(mytuple)\r\n",
        "list(myit)"
      ],
      "execution_count": null,
      "outputs": [
        {
          "output_type": "execute_result",
          "data": {
            "text/plain": [
              "['apple', 'banana', 'cherry']"
            ]
          },
          "metadata": {
            "tags": []
          },
          "execution_count": 129
        }
      ]
    },
    {
      "cell_type": "markdown",
      "metadata": {
        "id": "Jucc_5cW34gx"
      },
      "source": [
        "For training a model, we don't just want any Python collection, but a collection containing independent and dependent variables (that is, the inputs and targets of the model). A collection that contains tuples of independent and dependent variables is known in PyTorch as a `Dataset`. Here's an example of an extremely simple `Dataset`:"
      ]
    },
    {
      "cell_type": "code",
      "metadata": {
        "id": "YiUXMm0T34gx",
        "colab": {
          "base_uri": "https://localhost:8080/"
        },
        "outputId": "90e95aa2-0c01-4fff-cf09-6a8c680a0942"
      },
      "source": [
        "ds = L(enumerate(string.ascii_lowercase))\n",
        "ds"
      ],
      "execution_count": null,
      "outputs": [
        {
          "output_type": "execute_result",
          "data": {
            "text/plain": [
              "(#26) [(0, 'a'),(1, 'b'),(2, 'c'),(3, 'd'),(4, 'e'),(5, 'f'),(6, 'g'),(7, 'h'),(8, 'i'),(9, 'j')...]"
            ]
          },
          "metadata": {
            "tags": []
          },
          "execution_count": 132
        }
      ]
    },
    {
      "cell_type": "code",
      "metadata": {
        "id": "4SxBV979lKNb"
      },
      "source": [
        "#hide\r\n",
        "string.ascii_lowercase"
      ],
      "execution_count": null,
      "outputs": []
    },
    {
      "cell_type": "code",
      "metadata": {
        "colab": {
          "base_uri": "https://localhost:8080/"
        },
        "id": "9ilGfrQMlOk7",
        "outputId": "c653f7cc-7fb5-4fd6-9db3-07b3263bd1d3"
      },
      "source": [
        "#hide\r\n",
        "enumerate(string.ascii_lowercase)"
      ],
      "execution_count": null,
      "outputs": [
        {
          "output_type": "execute_result",
          "data": {
            "text/plain": [
              "<enumerate at 0x7efc2be13240>"
            ]
          },
          "metadata": {
            "tags": []
          },
          "execution_count": 138
        }
      ]
    },
    {
      "cell_type": "code",
      "metadata": {
        "id": "s7rtlEnnk1YF"
      },
      "source": [
        "#hide\r\n",
        "help(L) \r\n",
        "??L"
      ],
      "execution_count": null,
      "outputs": []
    },
    {
      "cell_type": "markdown",
      "metadata": {
        "id": "GZI8dSHZmPOz"
      },
      "source": [
        "[python enumerate](https://www.geeksforgeeks.org/enumerate-in-python/)"
      ]
    },
    {
      "cell_type": "code",
      "metadata": {
        "colab": {
          "base_uri": "https://localhost:8080/"
        },
        "id": "kPn8hTxcmWKr",
        "outputId": "0c939580-d776-41ed-e402-8098dc3a5ba0"
      },
      "source": [
        "# hide \r\n",
        "# python\r\n",
        "# Python program to illustrate\r\n",
        "# enumerate function\r\n",
        "l1 = [\"eat\",\"sleep\",\"repeat\"]\r\n",
        "s1 = \"geek\"\r\n",
        " \r\n",
        "# creating enumerate objects\r\n",
        "obj1 = enumerate(l1)\r\n",
        "obj2 = enumerate(s1)\r\n",
        " \r\n",
        "print (\"Return type:\",type(obj1))\r\n",
        "print (list(enumerate(l1)))\r\n",
        " \r\n",
        "# changing start index to 2 from 0\r\n",
        "print (list(enumerate(s1,2)))"
      ],
      "execution_count": null,
      "outputs": [
        {
          "output_type": "stream",
          "text": [
            "Return type: <class 'enumerate'>\n",
            "[(0, 'eat'), (1, 'sleep'), (2, 'repeat')]\n",
            "[(2, 'g'), (3, 'e'), (4, 'e'), (5, 'k')]\n"
          ],
          "name": "stdout"
        }
      ]
    },
    {
      "cell_type": "markdown",
      "metadata": {
        "id": "vFhWWAIf34gy"
      },
      "source": [
        "When we pass a `Dataset` to a `DataLoader` we will get back many batches which are themselves tuples of tensors representing batches of independent and dependent variables:"
      ]
    },
    {
      "cell_type": "code",
      "metadata": {
        "id": "s-DAqRNI34gy",
        "colab": {
          "base_uri": "https://localhost:8080/"
        },
        "outputId": "ebbc94ed-1747-4784-d185-5174918ab879"
      },
      "source": [
        "dl = DataLoader(ds, batch_size=6, shuffle=True)\n",
        "list(dl)"
      ],
      "execution_count": null,
      "outputs": [
        {
          "output_type": "execute_result",
          "data": {
            "text/plain": [
              "[(tensor([17, 18, 10, 22,  8, 14]), ('r', 's', 'k', 'w', 'i', 'o')),\n",
              " (tensor([20, 15,  9, 13, 21, 12]), ('u', 'p', 'j', 'n', 'v', 'm')),\n",
              " (tensor([ 7, 25,  6,  5, 11, 23]), ('h', 'z', 'g', 'f', 'l', 'x')),\n",
              " (tensor([ 1,  3,  0, 24, 19, 16]), ('b', 'd', 'a', 'y', 't', 'q')),\n",
              " (tensor([2, 4]), ('c', 'e'))]"
            ]
          },
          "metadata": {
            "tags": []
          },
          "execution_count": 142
        }
      ]
    },
    {
      "cell_type": "markdown",
      "metadata": {
        "id": "KnT2NV4f34gy"
      },
      "source": [
        "We are now ready to write our first training loop for a model using SGD!"
      ]
    },
    {
      "cell_type": "markdown",
      "metadata": {
        "id": "w-Q_5pBL34gy"
      },
      "source": [
        "## Putting It All Together"
      ]
    },
    {
      "cell_type": "markdown",
      "metadata": {
        "id": "1RKn5x9S34gy"
      },
      "source": [
        "It's time to implement the process we saw in <<gradient_descent>>. In code, our process will be implemented something like this for each epoch:\n",
        "\n",
        "```python\n",
        "for x,y in dl:\n",
        "    pred = model(x)\n",
        "    loss = loss_func(pred, y)\n",
        "    loss.backward()\n",
        "    parameters -= parameters.grad * lr\n",
        "```"
      ]
    },
    {
      "cell_type": "markdown",
      "metadata": {
        "id": "0109oWVL34gz"
      },
      "source": [
        "First, let's re-initialize our parameters:"
      ]
    },
    {
      "cell_type": "code",
      "metadata": {
        "id": "iizy_XAG34gz"
      },
      "source": [
        "weights = init_params((28*28,1))\n",
        "bias = init_params(1)"
      ],
      "execution_count": null,
      "outputs": []
    },
    {
      "cell_type": "markdown",
      "metadata": {
        "id": "I0Jj0UaX34gz"
      },
      "source": [
        "A `DataLoader` can be created from a `Dataset`:"
      ]
    },
    {
      "cell_type": "code",
      "metadata": {
        "id": "ThPiqdiF34gz",
        "outputId": "b1f1b293-dd74-4541-8c75-846b4f987a21"
      },
      "source": [
        "dl = DataLoader(dset, batch_size=256)\n",
        "xb,yb = first(dl)\n",
        "xb.shape,yb.shape"
      ],
      "execution_count": null,
      "outputs": [
        {
          "output_type": "execute_result",
          "data": {
            "text/plain": [
              "(torch.Size([256, 784]), torch.Size([256, 1]))"
            ]
          },
          "metadata": {
            "tags": []
          },
          "execution_count": 0
        }
      ]
    },
    {
      "cell_type": "markdown",
      "metadata": {
        "id": "-y17j1yG34gz"
      },
      "source": [
        "We'll do the same for the validation set:"
      ]
    },
    {
      "cell_type": "code",
      "metadata": {
        "id": "i5dc0Xz034g0"
      },
      "source": [
        "valid_dl = DataLoader(valid_dset, batch_size=256)"
      ],
      "execution_count": null,
      "outputs": []
    },
    {
      "cell_type": "markdown",
      "metadata": {
        "id": "DkGiGUN534g0"
      },
      "source": [
        "Let's create a mini-batch of size 4 for testing:"
      ]
    },
    {
      "cell_type": "code",
      "metadata": {
        "id": "m46fAvVf34g0",
        "outputId": "dd14d0c1-0b62-4528-a4c9-9356b9284f5d"
      },
      "source": [
        "batch = train_x[:4]\n",
        "batch.shape"
      ],
      "execution_count": null,
      "outputs": [
        {
          "output_type": "execute_result",
          "data": {
            "text/plain": [
              "torch.Size([4, 784])"
            ]
          },
          "metadata": {
            "tags": []
          },
          "execution_count": 0
        }
      ]
    },
    {
      "cell_type": "code",
      "metadata": {
        "id": "oMSe8M9134g0",
        "outputId": "b5f978a7-7194-4a0e-81e8-c7b6bf40d756"
      },
      "source": [
        "preds = linear1(batch)\n",
        "preds"
      ],
      "execution_count": null,
      "outputs": [
        {
          "output_type": "execute_result",
          "data": {
            "text/plain": [
              "tensor([[-11.1002],\n",
              "        [  5.9263],\n",
              "        [  9.9627],\n",
              "        [ -8.1484]], grad_fn=<AddBackward0>)"
            ]
          },
          "metadata": {
            "tags": []
          },
          "execution_count": 0
        }
      ]
    },
    {
      "cell_type": "code",
      "metadata": {
        "id": "j28RZby634g1",
        "outputId": "775233ab-553d-4670-aaa4-77d399cdd37c"
      },
      "source": [
        "loss = mnist_loss(preds, train_y[:4])\n",
        "loss"
      ],
      "execution_count": null,
      "outputs": [
        {
          "output_type": "execute_result",
          "data": {
            "text/plain": [
              "tensor(0.5006, grad_fn=<MeanBackward0>)"
            ]
          },
          "metadata": {
            "tags": []
          },
          "execution_count": 0
        }
      ]
    },
    {
      "cell_type": "markdown",
      "metadata": {
        "id": "-U3eGka734g1"
      },
      "source": [
        "Now we can calculate the gradients:"
      ]
    },
    {
      "cell_type": "code",
      "metadata": {
        "id": "BKqpLAqF34g1",
        "outputId": "4ac56a2e-702a-4c13-cd4a-0e82b1e0e076"
      },
      "source": [
        "loss.backward()\n",
        "weights.grad.shape,weights.grad.mean(),bias.grad"
      ],
      "execution_count": null,
      "outputs": [
        {
          "output_type": "execute_result",
          "data": {
            "text/plain": [
              "(torch.Size([784, 1]), tensor(-0.0001), tensor([-0.0008]))"
            ]
          },
          "metadata": {
            "tags": []
          },
          "execution_count": 0
        }
      ]
    },
    {
      "cell_type": "markdown",
      "metadata": {
        "id": "dnNp2qML34g1"
      },
      "source": [
        "Let's put that all in a function:"
      ]
    },
    {
      "cell_type": "code",
      "metadata": {
        "id": "uv6x-KNq34g1"
      },
      "source": [
        "def calc_grad(xb, yb, model):\n",
        "    preds = model(xb)\n",
        "    loss = mnist_loss(preds, yb)\n",
        "    loss.backward()"
      ],
      "execution_count": null,
      "outputs": []
    },
    {
      "cell_type": "markdown",
      "metadata": {
        "id": "BnelQaLe34g2"
      },
      "source": [
        "and test it:"
      ]
    },
    {
      "cell_type": "code",
      "metadata": {
        "id": "al8YJQBR34g2",
        "outputId": "298392d6-1b48-49b3-f869-8bb206f8c29c"
      },
      "source": [
        "calc_grad(batch, train_y[:4], linear1)\n",
        "weights.grad.mean(),bias.grad"
      ],
      "execution_count": null,
      "outputs": [
        {
          "output_type": "execute_result",
          "data": {
            "text/plain": [
              "(tensor(-0.0002), tensor([-0.0015]))"
            ]
          },
          "metadata": {
            "tags": []
          },
          "execution_count": 0
        }
      ]
    },
    {
      "cell_type": "markdown",
      "metadata": {
        "id": "Twevpzdk34g2"
      },
      "source": [
        "But look what happens if we call it twice:"
      ]
    },
    {
      "cell_type": "code",
      "metadata": {
        "id": "oTh1gKBj34g4",
        "outputId": "1ff80ae3-df90-493c-abfa-3e32f18fbd3e"
      },
      "source": [
        "calc_grad(batch, train_y[:4], linear1)\n",
        "weights.grad.mean(),bias.grad"
      ],
      "execution_count": null,
      "outputs": [
        {
          "output_type": "execute_result",
          "data": {
            "text/plain": [
              "(tensor(-0.0003), tensor([-0.0023]))"
            ]
          },
          "metadata": {
            "tags": []
          },
          "execution_count": 0
        }
      ]
    },
    {
      "cell_type": "markdown",
      "metadata": {
        "id": "iiOw699n34g4"
      },
      "source": [
        "The gradients have changed! The reason for this is that `loss.backward` actually *adds* the gradients of `loss` to any gradients that are currently stored. So, we have to set the current gradients to 0 first:"
      ]
    },
    {
      "cell_type": "code",
      "metadata": {
        "id": "lETqfUAC34g4"
      },
      "source": [
        "weights.grad.zero_()\n",
        "bias.grad.zero_();"
      ],
      "execution_count": null,
      "outputs": []
    },
    {
      "cell_type": "markdown",
      "metadata": {
        "id": "4iQeR7kW34g5"
      },
      "source": [
        "> note: Inplace Operations: Methods in PyTorch whose names end in an underscore modify their objects _in place_. For instance, `bias.zero_()` sets all elements of the tensor `bias` to 0."
      ]
    },
    {
      "cell_type": "markdown",
      "metadata": {
        "id": "RpSjhVKC34g5"
      },
      "source": [
        "Our only remaining step is to update the weights and biases based on the gradient and learning rate. When we do so, we have to tell PyTorch not to take the gradient of this step too—otherwise things will get very confusing when we try to compute the derivative at the next batch! If we assign to the `data` attribute of a tensor then PyTorch will not take the gradient of that step. Here's our basic training loop for an epoch:"
      ]
    },
    {
      "cell_type": "code",
      "metadata": {
        "id": "FOrzNGrn34g5"
      },
      "source": [
        "def train_epoch(model, lr, params):\n",
        "    for xb,yb in dl:\n",
        "        calc_grad(xb, yb, model)\n",
        "        for p in params:\n",
        "            p.data -= p.grad*lr\n",
        "            p.grad.zero_()"
      ],
      "execution_count": null,
      "outputs": []
    },
    {
      "cell_type": "markdown",
      "metadata": {
        "id": "6ctoxU_n34g6"
      },
      "source": [
        "We also want to check how we're doing, by looking at the accuracy of the validation set. To decide if an output represents a 3 or a 7, we can just check whether it's greater than 0. So our accuracy for each item can be calculated (using broadcasting, so no loops!) with:"
      ]
    },
    {
      "cell_type": "code",
      "metadata": {
        "id": "fTSN1V3G34g7",
        "outputId": "f94485ee-096c-42e9-8d92-087718b120b9"
      },
      "source": [
        "(preds>0.0).float() == train_y[:4]"
      ],
      "execution_count": null,
      "outputs": [
        {
          "output_type": "execute_result",
          "data": {
            "text/plain": [
              "tensor([[False],\n",
              "        [ True],\n",
              "        [ True],\n",
              "        [False]])"
            ]
          },
          "metadata": {
            "tags": []
          },
          "execution_count": 0
        }
      ]
    },
    {
      "cell_type": "markdown",
      "metadata": {
        "id": "Pec_Va8K34g8"
      },
      "source": [
        "That gives us this function to calculate our validation accuracy:"
      ]
    },
    {
      "cell_type": "code",
      "metadata": {
        "id": "7RrjRQP-34g8"
      },
      "source": [
        "def batch_accuracy(xb, yb):\n",
        "    preds = xb.sigmoid()\n",
        "    correct = (preds>0.5) == yb\n",
        "    return correct.float().mean()"
      ],
      "execution_count": null,
      "outputs": []
    },
    {
      "cell_type": "markdown",
      "metadata": {
        "id": "9PaibHo534g8"
      },
      "source": [
        "We can check it works:"
      ]
    },
    {
      "cell_type": "code",
      "metadata": {
        "id": "0ryYBlBD34g9",
        "outputId": "b071030d-5768-49c6-f12e-92ab7aa694dc"
      },
      "source": [
        "batch_accuracy(linear1(batch), train_y[:4])"
      ],
      "execution_count": null,
      "outputs": [
        {
          "output_type": "execute_result",
          "data": {
            "text/plain": [
              "tensor(0.5000)"
            ]
          },
          "metadata": {
            "tags": []
          },
          "execution_count": 0
        }
      ]
    },
    {
      "cell_type": "markdown",
      "metadata": {
        "id": "Byi6MdrS34g9"
      },
      "source": [
        "and then put the batches together:"
      ]
    },
    {
      "cell_type": "code",
      "metadata": {
        "id": "QoeSFzeN34g-"
      },
      "source": [
        "def validate_epoch(model):\n",
        "    accs = [batch_accuracy(model(xb), yb) for xb,yb in valid_dl]\n",
        "    return round(torch.stack(accs).mean().item(), 4)"
      ],
      "execution_count": null,
      "outputs": []
    },
    {
      "cell_type": "code",
      "metadata": {
        "id": "NVJr5NOo34g-",
        "outputId": "d5f258b2-b4d1-4f7b-9b97-65c724fd9041"
      },
      "source": [
        "validate_epoch(linear1)"
      ],
      "execution_count": null,
      "outputs": [
        {
          "output_type": "execute_result",
          "data": {
            "text/plain": [
              "0.5219"
            ]
          },
          "metadata": {
            "tags": []
          },
          "execution_count": 0
        }
      ]
    },
    {
      "cell_type": "markdown",
      "metadata": {
        "id": "7EBgO25b34g_"
      },
      "source": [
        "That's our starting point. Let's train for one epoch, and see if the accuracy improves:"
      ]
    },
    {
      "cell_type": "code",
      "metadata": {
        "id": "hdwqUjgx34g_",
        "outputId": "99b2466b-0d3c-4319-9d7e-352c00f1dd82"
      },
      "source": [
        "lr = 1.\n",
        "params = weights,bias\n",
        "train_epoch(linear1, lr, params)\n",
        "validate_epoch(linear1)"
      ],
      "execution_count": null,
      "outputs": [
        {
          "output_type": "execute_result",
          "data": {
            "text/plain": [
              "0.6883"
            ]
          },
          "metadata": {
            "tags": []
          },
          "execution_count": 0
        }
      ]
    },
    {
      "cell_type": "markdown",
      "metadata": {
        "id": "Q5tHmOGE34g_"
      },
      "source": [
        "Then do a few more:"
      ]
    },
    {
      "cell_type": "code",
      "metadata": {
        "id": "brdrxXl934g_",
        "outputId": "24442044-667f-4178-f8fa-6d2f901d94ad"
      },
      "source": [
        "for i in range(20):\n",
        "    train_epoch(linear1, lr, params)\n",
        "    print(validate_epoch(linear1), end=' ')"
      ],
      "execution_count": null,
      "outputs": [
        {
          "output_type": "stream",
          "text": [
            "0.8314 0.9017 0.9227 0.9349 0.9438 0.9501 0.9535 0.9564 0.9594 0.9618 0.9613 0.9638 0.9643 0.9652 0.9662 0.9677 0.9687 0.9691 0.9691 0.9696 "
          ],
          "name": "stdout"
        }
      ]
    },
    {
      "cell_type": "markdown",
      "metadata": {
        "id": "Ie8V-BTd34hA"
      },
      "source": [
        "Looking good! We're already about at the same accuracy as our \"pixel similarity\" approach, and we've created a general-purpose foundation we can build on. Our next step will be to create an object that will handle the SGD step for us. In PyTorch, it's called an *optimizer*."
      ]
    },
    {
      "cell_type": "markdown",
      "metadata": {
        "id": "hyW3zGDu34hA"
      },
      "source": [
        "### Creating an Optimizer"
      ]
    },
    {
      "cell_type": "markdown",
      "metadata": {
        "id": "FM966Vj534hA"
      },
      "source": [
        "Because this is such a general foundation, PyTorch provides some useful classes to make it easier to implement. The first thing we can do is replace our `linear1` function with PyTorch's `nn.Linear` module. A *module* is an object of a class that inherits from the PyTorch `nn.Module` class. Objects of this class behave identically to standard Python functions, in that you can call them using parentheses and they will return the activations of a model.\n",
        "\n",
        "`nn.Linear` does the same thing as our `init_params` and `linear` together. It contains both the *weights* and *biases* in a single class. Here's how we replicate our model from the previous section:"
      ]
    },
    {
      "cell_type": "code",
      "metadata": {
        "id": "LjyJCefD34hA"
      },
      "source": [
        "linear_model = nn.Linear(28*28,1)"
      ],
      "execution_count": null,
      "outputs": []
    },
    {
      "cell_type": "markdown",
      "metadata": {
        "id": "iktaaUZ434hA"
      },
      "source": [
        "Every PyTorch module knows what parameters it has that can be trained; they are available through the `parameters` method:"
      ]
    },
    {
      "cell_type": "code",
      "metadata": {
        "id": "nV2BlWX734hB",
        "outputId": "4054e5d1-72a8-4e86-c59f-c310f6bbfa1a"
      },
      "source": [
        "w,b = linear_model.parameters()\n",
        "w.shape,b.shape"
      ],
      "execution_count": null,
      "outputs": [
        {
          "output_type": "execute_result",
          "data": {
            "text/plain": [
              "(torch.Size([1, 784]), torch.Size([1]))"
            ]
          },
          "metadata": {
            "tags": []
          },
          "execution_count": 0
        }
      ]
    },
    {
      "cell_type": "markdown",
      "metadata": {
        "id": "mkKEKWPA34hB"
      },
      "source": [
        "We can use this information to create an optimizer:"
      ]
    },
    {
      "cell_type": "code",
      "metadata": {
        "id": "bUQTELOa34hB"
      },
      "source": [
        "class BasicOptim:\n",
        "    def __init__(self,params,lr): self.params,self.lr = list(params),lr\n",
        "\n",
        "    def step(self, *args, **kwargs):\n",
        "        for p in self.params: p.data -= p.grad.data * self.lr\n",
        "\n",
        "    def zero_grad(self, *args, **kwargs):\n",
        "        for p in self.params: p.grad = None"
      ],
      "execution_count": null,
      "outputs": []
    },
    {
      "cell_type": "markdown",
      "metadata": {
        "id": "NyXyxKtb34hB"
      },
      "source": [
        "We can create our optimizer by passing in the model's parameters:"
      ]
    },
    {
      "cell_type": "code",
      "metadata": {
        "id": "EFTudQD-34hC"
      },
      "source": [
        "opt = BasicOptim(linear_model.parameters(), lr)"
      ],
      "execution_count": null,
      "outputs": []
    },
    {
      "cell_type": "markdown",
      "metadata": {
        "id": "_6q36yye34hC"
      },
      "source": [
        "Our training loop can now be simplified to:"
      ]
    },
    {
      "cell_type": "code",
      "metadata": {
        "id": "ahd28hzL34hC"
      },
      "source": [
        "def train_epoch(model):\n",
        "    for xb,yb in dl:\n",
        "        calc_grad(xb, yb, model)\n",
        "        opt.step()\n",
        "        opt.zero_grad()"
      ],
      "execution_count": null,
      "outputs": []
    },
    {
      "cell_type": "markdown",
      "metadata": {
        "id": "ZnvibtfY34hC"
      },
      "source": [
        "Our validation function doesn't need to change at all:"
      ]
    },
    {
      "cell_type": "code",
      "metadata": {
        "id": "MO5bBvuQ34hC",
        "outputId": "cd61dba4-821e-4b51-cee5-c28361edf2ca"
      },
      "source": [
        "validate_epoch(linear_model)"
      ],
      "execution_count": null,
      "outputs": [
        {
          "output_type": "execute_result",
          "data": {
            "text/plain": [
              "0.4157"
            ]
          },
          "metadata": {
            "tags": []
          },
          "execution_count": 0
        }
      ]
    },
    {
      "cell_type": "markdown",
      "metadata": {
        "id": "MVix-iH134hD"
      },
      "source": [
        "Let's put our little training loop in a function, to make things simpler:"
      ]
    },
    {
      "cell_type": "code",
      "metadata": {
        "id": "FrN1hOPR34hD"
      },
      "source": [
        "def train_model(model, epochs):\n",
        "    for i in range(epochs):\n",
        "        train_epoch(model)\n",
        "        print(validate_epoch(model), end=' ')"
      ],
      "execution_count": null,
      "outputs": []
    },
    {
      "cell_type": "markdown",
      "metadata": {
        "id": "ttRm8_RU34hD"
      },
      "source": [
        "The results are the same as in the previous section:"
      ]
    },
    {
      "cell_type": "code",
      "metadata": {
        "id": "84_on4EL34hD",
        "outputId": "42bd2c5a-a210-4b4a-ef3c-b20992e7ba64"
      },
      "source": [
        "train_model(linear_model, 20)"
      ],
      "execution_count": null,
      "outputs": [
        {
          "output_type": "stream",
          "text": [
            "0.4932 0.8618 0.8203 0.9102 0.9331 0.9468 0.9555 0.9629 0.9658 0.9673 0.9687 0.9707 0.9726 0.9751 0.9761 0.9761 0.9775 0.978 0.9785 0.9785 "
          ],
          "name": "stdout"
        }
      ]
    },
    {
      "cell_type": "markdown",
      "metadata": {
        "id": "b4WN3P2W34hD"
      },
      "source": [
        "fastai provides the `SGD` class which, by default, does the same thing as our `BasicOptim`:"
      ]
    },
    {
      "cell_type": "code",
      "metadata": {
        "id": "GlMIWKkZ34hE",
        "outputId": "594fb1c2-a524-428f-bad9-07d02cf49ac0"
      },
      "source": [
        "linear_model = nn.Linear(28*28,1)\n",
        "opt = SGD(linear_model.parameters(), lr)\n",
        "train_model(linear_model, 20)"
      ],
      "execution_count": null,
      "outputs": [
        {
          "output_type": "stream",
          "text": [
            "0.4932 0.852 0.8335 0.9116 0.9326 0.9473 0.9555 0.9624 0.9648 0.9668 0.9692 0.9712 0.9731 0.9746 0.9761 0.9765 0.9775 0.978 0.9785 0.9785 "
          ],
          "name": "stdout"
        }
      ]
    },
    {
      "cell_type": "markdown",
      "metadata": {
        "id": "iDIdqFUS34hE"
      },
      "source": [
        "fastai also provides `Learner.fit`, which we can use instead of `train_model`. To create a `Learner` we first need to create a `DataLoaders`, by passing in our training and validation `DataLoader`s:"
      ]
    },
    {
      "cell_type": "code",
      "metadata": {
        "id": "rtD--qnf34hE"
      },
      "source": [
        "dls = DataLoaders(dl, valid_dl)"
      ],
      "execution_count": null,
      "outputs": []
    },
    {
      "cell_type": "markdown",
      "metadata": {
        "id": "HedLN_yf34hE"
      },
      "source": [
        "To create a `Learner` without using an application (such as `cnn_learner`) we need to pass in all the elements that we've created in this chapter: the `DataLoaders`, the model, the optimization function (which will be passed the parameters), the loss function, and optionally any metrics to print:"
      ]
    },
    {
      "cell_type": "code",
      "metadata": {
        "id": "QQFGkeBo34hE"
      },
      "source": [
        "learn = Learner(dls, nn.Linear(28*28,1), opt_func=SGD,\n",
        "                loss_func=mnist_loss, metrics=batch_accuracy)"
      ],
      "execution_count": null,
      "outputs": []
    },
    {
      "cell_type": "markdown",
      "metadata": {
        "id": "yqaW1xgq34hF"
      },
      "source": [
        "Now we can call `fit`:"
      ]
    },
    {
      "cell_type": "code",
      "metadata": {
        "id": "vWAb1sFV34hF",
        "outputId": "da8e5d90-62d2-4459-baf4-7c08f45c22c4"
      },
      "source": [
        "learn.fit(10, lr=lr)"
      ],
      "execution_count": null,
      "outputs": [
        {
          "output_type": "display_data",
          "data": {
            "text/html": [
              "<table border=\"1\" class=\"dataframe\">\n",
              "  <thead>\n",
              "    <tr style=\"text-align: left;\">\n",
              "      <th>epoch</th>\n",
              "      <th>train_loss</th>\n",
              "      <th>valid_loss</th>\n",
              "      <th>batch_accuracy</th>\n",
              "      <th>time</th>\n",
              "    </tr>\n",
              "  </thead>\n",
              "  <tbody>\n",
              "    <tr>\n",
              "      <td>0</td>\n",
              "      <td>0.636857</td>\n",
              "      <td>0.503549</td>\n",
              "      <td>0.495584</td>\n",
              "      <td>00:00</td>\n",
              "    </tr>\n",
              "    <tr>\n",
              "      <td>1</td>\n",
              "      <td>0.545725</td>\n",
              "      <td>0.170281</td>\n",
              "      <td>0.866045</td>\n",
              "      <td>00:00</td>\n",
              "    </tr>\n",
              "    <tr>\n",
              "      <td>2</td>\n",
              "      <td>0.199223</td>\n",
              "      <td>0.184893</td>\n",
              "      <td>0.831207</td>\n",
              "      <td>00:00</td>\n",
              "    </tr>\n",
              "    <tr>\n",
              "      <td>3</td>\n",
              "      <td>0.086580</td>\n",
              "      <td>0.107836</td>\n",
              "      <td>0.911187</td>\n",
              "      <td>00:00</td>\n",
              "    </tr>\n",
              "    <tr>\n",
              "      <td>4</td>\n",
              "      <td>0.045185</td>\n",
              "      <td>0.078481</td>\n",
              "      <td>0.932777</td>\n",
              "      <td>00:00</td>\n",
              "    </tr>\n",
              "    <tr>\n",
              "      <td>5</td>\n",
              "      <td>0.029108</td>\n",
              "      <td>0.062792</td>\n",
              "      <td>0.946516</td>\n",
              "      <td>00:00</td>\n",
              "    </tr>\n",
              "    <tr>\n",
              "      <td>6</td>\n",
              "      <td>0.022560</td>\n",
              "      <td>0.053017</td>\n",
              "      <td>0.955348</td>\n",
              "      <td>00:00</td>\n",
              "    </tr>\n",
              "    <tr>\n",
              "      <td>7</td>\n",
              "      <td>0.019687</td>\n",
              "      <td>0.046500</td>\n",
              "      <td>0.962218</td>\n",
              "      <td>00:00</td>\n",
              "    </tr>\n",
              "    <tr>\n",
              "      <td>8</td>\n",
              "      <td>0.018252</td>\n",
              "      <td>0.041929</td>\n",
              "      <td>0.965162</td>\n",
              "      <td>00:00</td>\n",
              "    </tr>\n",
              "    <tr>\n",
              "      <td>9</td>\n",
              "      <td>0.017402</td>\n",
              "      <td>0.038573</td>\n",
              "      <td>0.967615</td>\n",
              "      <td>00:00</td>\n",
              "    </tr>\n",
              "  </tbody>\n",
              "</table>"
            ],
            "text/plain": [
              "<IPython.core.display.HTML object>"
            ]
          },
          "metadata": {
            "tags": []
          }
        }
      ]
    },
    {
      "cell_type": "markdown",
      "metadata": {
        "id": "X6cWJ2fj34hH"
      },
      "source": [
        "As you can see, there's nothing magic about the PyTorch and fastai classes. They are just convenient pre-packaged pieces that make your life a bit easier! (They also provide a lot of extra functionality we'll be using in future chapters.)\n",
        "\n",
        "With these classes, we can now replace our linear model with a neural network."
      ]
    },
    {
      "cell_type": "markdown",
      "metadata": {
        "id": "lEiddCsM34hH"
      },
      "source": [
        "## Adding a Nonlinearity"
      ]
    },
    {
      "cell_type": "markdown",
      "metadata": {
        "id": "BtlG2Uha34hH"
      },
      "source": [
        "So far we have a general procedure for optimizing the parameters of a function, and we have tried it out on a very boring function: a simple linear classifier. A linear classifier is very constrained in terms of what it can do. To make it a bit more complex (and able to handle more tasks), we need to add something nonlinear between two linear classifiers—this is what gives us a neural network.\n",
        "\n",
        "Here is the entire definition of a basic neural network:"
      ]
    },
    {
      "cell_type": "code",
      "metadata": {
        "id": "1JpTCWZi34hI"
      },
      "source": [
        "def simple_net(xb): \n",
        "    res = xb@w1 + b1\n",
        "    res = res.max(tensor(0.0))\n",
        "    res = res@w2 + b2\n",
        "    return res"
      ],
      "execution_count": null,
      "outputs": []
    },
    {
      "cell_type": "markdown",
      "metadata": {
        "id": "cIDhPg-U34hI"
      },
      "source": [
        "That's it! All we have in `simple_net` is two linear classifiers with a `max` function between them.\n",
        "\n",
        "Here, `w1` and `w2` are weight tensors, and `b1` and `b2` are bias tensors; that is, parameters that are initially randomly initialized, just like we did in the previous section:"
      ]
    },
    {
      "cell_type": "code",
      "metadata": {
        "id": "FpL5I2RX34hI"
      },
      "source": [
        "w1 = init_params((28*28,30))\n",
        "b1 = init_params(30)\n",
        "w2 = init_params((30,1))\n",
        "b2 = init_params(1)"
      ],
      "execution_count": null,
      "outputs": []
    },
    {
      "cell_type": "markdown",
      "metadata": {
        "id": "HD3n9c2y34hI"
      },
      "source": [
        "The key point about this is that `w1` has 30 output activations (which means that `w2` must have 30 input activations, so they match). That means that the first layer can construct 30 different features, each representing some different mix of pixels. You can change that `30` to anything you like, to make the model more or less complex.\n",
        "\n",
        "That little function `res.max(tensor(0.0))` is called a *rectified linear unit*, also known as *ReLU*. We think we can all agree that *rectified linear unit* sounds pretty fancy and complicated... But actually, there's nothing more to it than `res.max(tensor(0.0))`—in other words, replace every negative number with a zero. This tiny function is also available in PyTorch as `F.relu`:"
      ]
    },
    {
      "cell_type": "code",
      "metadata": {
        "id": "MrwD1Alk34hI",
        "outputId": "5a64eda6-60bc-4881-97ac-63bef0a165c8"
      },
      "source": [
        "plot_function(F.relu)"
      ],
      "execution_count": null,
      "outputs": [
        {
          "output_type": "display_data",
          "data": {
            "image/png": "[encoded data removed]",
            "text/plain": [
              "<Figure size 432x288 with 1 Axes>"
            ]
          },
          "metadata": {
            "tags": [],
            "needs_background": "light"
          }
        }
      ]
    },
    {
      "cell_type": "markdown",
      "metadata": {
        "id": "VrFpKWNK34hJ"
      },
      "source": [
        "> J: There is an enormous amount of jargon in deep learning, including terms like _rectified linear unit_. The vast vast majority of this jargon is no more complicated than can be implemented in a short line of code, as we saw in this example. The reality is that for academics to get their papers published they need to make them sound as impressive and sophisticated as possible. One of the ways that they do that is to introduce jargon. Unfortunately, this has the result that the field ends up becoming far more intimidating and difficult to get into than it should be. You do have to learn the jargon, because otherwise papers and tutorials are not going to mean much to you. But that doesn't mean you have to find the jargon intimidating. Just remember, when you come across a word or phrase that you haven't seen before, it will almost certainly turn to be referring to a very simple concept."
      ]
    },
    {
      "cell_type": "markdown",
      "metadata": {
        "id": "wtK3yTUE34hJ"
      },
      "source": [
        "The basic idea is that by using more linear layers, we can have our model do more computation, and therefore model more complex functions. But there's no point just putting one linear layout directly after another one, because when we multiply things together and then add them up multiple times, that could be replaced by multiplying different things together and adding them up just once! That is to say, a series of any number of linear layers in a row can be replaced with a single linear layer with a different set of parameters.\n",
        "\n",
        "But if we put a nonlinear function between them, such as `max`, then this is no longer true. Now each linear layer is actually somewhat decoupled from the other ones, and can do its own useful work. The `max` function is particularly interesting, because it operates as a simple `if` statement."
      ]
    },
    {
      "cell_type": "markdown",
      "metadata": {
        "id": "3UmqBpKe34hJ"
      },
      "source": [
        "> S: Mathematically, we say the composition of two linear functions is another linear function. So, we can stack as many linear classifiers as we want on top of each other, and without nonlinear functions between them, it will just be the same as one linear classifier."
      ]
    },
    {
      "cell_type": "markdown",
      "metadata": {
        "id": "mxtOvWzf34hJ"
      },
      "source": [
        "Amazingly enough, it can be mathematically proven that this little function can solve any computable problem to an arbitrarily high level of accuracy, if you can find the right parameters for `w1` and `w2` and if you make these matrices big enough. For any arbitrarily wiggly function, we can approximate it as a bunch of lines joined together; to make it closer to the wiggly function, we just have to use shorter lines. This is known as the *universal approximation theorem*. The three lines of code that we have here are known as *layers*. The first and third are known as *linear layers*, and the second line of code is known variously as a *nonlinearity*, or *activation function*.\n",
        "\n",
        "Just like in the previous section, we can replace this code with something a bit simpler, by taking advantage of PyTorch:"
      ]
    },
    {
      "cell_type": "code",
      "metadata": {
        "id": "_WM3riXb34hJ"
      },
      "source": [
        "simple_net = nn.Sequential(\n",
        "    nn.Linear(28*28,30),\n",
        "    nn.ReLU(),\n",
        "    nn.Linear(30,1)\n",
        ")"
      ],
      "execution_count": null,
      "outputs": []
    },
    {
      "cell_type": "markdown",
      "metadata": {
        "id": "eye-bEyn34hK"
      },
      "source": [
        "`nn.Sequential` creates a module that will call each of the listed layers or functions in turn.\n",
        "\n",
        "`nn.ReLU` is a PyTorch module that does exactly the same thing as the `F.relu` function. Most functions that can appear in a model also have identical forms that are modules. Generally, it's just a case of replacing `F` with `nn` and changing the capitalization. When using `nn.Sequential`, PyTorch requires us to use the module version. Since modules are classes, we have to instantiate them, which is why you see `nn.ReLU()` in this example. \n",
        "\n",
        "Because `nn.Sequential` is a module, we can get its parameters, which will return a list of all the parameters of all the modules it contains. Let's try it out! As this is a deeper model, we'll use a lower learning rate and a few more epochs."
      ]
    },
    {
      "cell_type": "code",
      "metadata": {
        "id": "ii3GQ2XZ34hK"
      },
      "source": [
        "learn = Learner(dls, simple_net, opt_func=SGD,\n",
        "                loss_func=mnist_loss, metrics=batch_accuracy)"
      ],
      "execution_count": null,
      "outputs": []
    },
    {
      "cell_type": "code",
      "metadata": {
        "id": "YsIqmoV334hL",
        "outputId": "6485845d-233c-46f6-dbe8-9c8edbf01903"
      },
      "source": [
        "#hide_output\n",
        "learn.fit(40, 0.1)"
      ],
      "execution_count": null,
      "outputs": [
        {
          "output_type": "display_data",
          "data": {
            "text/html": [
              "<table border=\"1\" class=\"dataframe\">\n",
              "  <thead>\n",
              "    <tr style=\"text-align: left;\">\n",
              "      <th>epoch</th>\n",
              "      <th>train_loss</th>\n",
              "      <th>valid_loss</th>\n",
              "      <th>batch_accuracy</th>\n",
              "      <th>time</th>\n",
              "    </tr>\n",
              "  </thead>\n",
              "  <tbody>\n",
              "    <tr>\n",
              "      <td>0</td>\n",
              "      <td>0.305828</td>\n",
              "      <td>0.399663</td>\n",
              "      <td>0.508341</td>\n",
              "      <td>00:00</td>\n",
              "    </tr>\n",
              "    <tr>\n",
              "      <td>1</td>\n",
              "      <td>0.142960</td>\n",
              "      <td>0.225702</td>\n",
              "      <td>0.807655</td>\n",
              "      <td>00:00</td>\n",
              "    </tr>\n",
              "    <tr>\n",
              "      <td>2</td>\n",
              "      <td>0.079516</td>\n",
              "      <td>0.113519</td>\n",
              "      <td>0.919529</td>\n",
              "      <td>00:00</td>\n",
              "    </tr>\n",
              "    <tr>\n",
              "      <td>3</td>\n",
              "      <td>0.052391</td>\n",
              "      <td>0.076792</td>\n",
              "      <td>0.943081</td>\n",
              "      <td>00:00</td>\n",
              "    </tr>\n",
              "    <tr>\n",
              "      <td>4</td>\n",
              "      <td>0.039796</td>\n",
              "      <td>0.060083</td>\n",
              "      <td>0.956330</td>\n",
              "      <td>00:00</td>\n",
              "    </tr>\n",
              "    <tr>\n",
              "      <td>5</td>\n",
              "      <td>0.033368</td>\n",
              "      <td>0.050713</td>\n",
              "      <td>0.963690</td>\n",
              "      <td>00:00</td>\n",
              "    </tr>\n",
              "    <tr>\n",
              "      <td>6</td>\n",
              "      <td>0.029680</td>\n",
              "      <td>0.044797</td>\n",
              "      <td>0.965653</td>\n",
              "      <td>00:00</td>\n",
              "    </tr>\n",
              "    <tr>\n",
              "      <td>7</td>\n",
              "      <td>0.027290</td>\n",
              "      <td>0.040729</td>\n",
              "      <td>0.968106</td>\n",
              "      <td>00:00</td>\n",
              "    </tr>\n",
              "    <tr>\n",
              "      <td>8</td>\n",
              "      <td>0.025568</td>\n",
              "      <td>0.037771</td>\n",
              "      <td>0.968597</td>\n",
              "      <td>00:00</td>\n",
              "    </tr>\n",
              "    <tr>\n",
              "      <td>9</td>\n",
              "      <td>0.024233</td>\n",
              "      <td>0.035508</td>\n",
              "      <td>0.970559</td>\n",
              "      <td>00:00</td>\n",
              "    </tr>\n",
              "    <tr>\n",
              "      <td>10</td>\n",
              "      <td>0.023149</td>\n",
              "      <td>0.033714</td>\n",
              "      <td>0.972031</td>\n",
              "      <td>00:00</td>\n",
              "    </tr>\n",
              "    <tr>\n",
              "      <td>11</td>\n",
              "      <td>0.022242</td>\n",
              "      <td>0.032243</td>\n",
              "      <td>0.972522</td>\n",
              "      <td>00:00</td>\n",
              "    </tr>\n",
              "    <tr>\n",
              "      <td>12</td>\n",
              "      <td>0.021468</td>\n",
              "      <td>0.031006</td>\n",
              "      <td>0.973503</td>\n",
              "      <td>00:00</td>\n",
              "    </tr>\n",
              "    <tr>\n",
              "      <td>13</td>\n",
              "      <td>0.020796</td>\n",
              "      <td>0.029944</td>\n",
              "      <td>0.974485</td>\n",
              "      <td>00:00</td>\n",
              "    </tr>\n",
              "    <tr>\n",
              "      <td>14</td>\n",
              "      <td>0.020207</td>\n",
              "      <td>0.029016</td>\n",
              "      <td>0.975466</td>\n",
              "      <td>00:00</td>\n",
              "    </tr>\n",
              "    <tr>\n",
              "      <td>15</td>\n",
              "      <td>0.019683</td>\n",
              "      <td>0.028196</td>\n",
              "      <td>0.976448</td>\n",
              "      <td>00:00</td>\n",
              "    </tr>\n",
              "    <tr>\n",
              "      <td>16</td>\n",
              "      <td>0.019215</td>\n",
              "      <td>0.027463</td>\n",
              "      <td>0.976448</td>\n",
              "      <td>00:00</td>\n",
              "    </tr>\n",
              "    <tr>\n",
              "      <td>17</td>\n",
              "      <td>0.018791</td>\n",
              "      <td>0.026806</td>\n",
              "      <td>0.976938</td>\n",
              "      <td>00:00</td>\n",
              "    </tr>\n",
              "    <tr>\n",
              "      <td>18</td>\n",
              "      <td>0.018405</td>\n",
              "      <td>0.026212</td>\n",
              "      <td>0.977920</td>\n",
              "      <td>00:00</td>\n",
              "    </tr>\n",
              "    <tr>\n",
              "      <td>19</td>\n",
              "      <td>0.018051</td>\n",
              "      <td>0.025671</td>\n",
              "      <td>0.977920</td>\n",
              "      <td>00:00</td>\n",
              "    </tr>\n",
              "    <tr>\n",
              "      <td>20</td>\n",
              "      <td>0.017725</td>\n",
              "      <td>0.025179</td>\n",
              "      <td>0.977920</td>\n",
              "      <td>00:00</td>\n",
              "    </tr>\n",
              "    <tr>\n",
              "      <td>21</td>\n",
              "      <td>0.017422</td>\n",
              "      <td>0.024728</td>\n",
              "      <td>0.978410</td>\n",
              "      <td>00:00</td>\n",
              "    </tr>\n",
              "    <tr>\n",
              "      <td>22</td>\n",
              "      <td>0.017141</td>\n",
              "      <td>0.024313</td>\n",
              "      <td>0.978901</td>\n",
              "      <td>00:00</td>\n",
              "    </tr>\n",
              "    <tr>\n",
              "      <td>23</td>\n",
              "      <td>0.016878</td>\n",
              "      <td>0.023932</td>\n",
              "      <td>0.979392</td>\n",
              "      <td>00:00</td>\n",
              "    </tr>\n",
              "    <tr>\n",
              "      <td>24</td>\n",
              "      <td>0.016632</td>\n",
              "      <td>0.023580</td>\n",
              "      <td>0.979882</td>\n",
              "      <td>00:00</td>\n",
              "    </tr>\n",
              "    <tr>\n",
              "      <td>25</td>\n",
              "      <td>0.016400</td>\n",
              "      <td>0.023254</td>\n",
              "      <td>0.979882</td>\n",
              "      <td>00:00</td>\n",
              "    </tr>\n",
              "    <tr>\n",
              "      <td>26</td>\n",
              "      <td>0.016181</td>\n",
              "      <td>0.022952</td>\n",
              "      <td>0.979882</td>\n",
              "      <td>00:00</td>\n",
              "    </tr>\n",
              "    <tr>\n",
              "      <td>27</td>\n",
              "      <td>0.015975</td>\n",
              "      <td>0.022672</td>\n",
              "      <td>0.980864</td>\n",
              "      <td>00:00</td>\n",
              "    </tr>\n",
              "    <tr>\n",
              "      <td>28</td>\n",
              "      <td>0.015779</td>\n",
              "      <td>0.022411</td>\n",
              "      <td>0.980864</td>\n",
              "      <td>00:00</td>\n",
              "    </tr>\n",
              "    <tr>\n",
              "      <td>29</td>\n",
              "      <td>0.015593</td>\n",
              "      <td>0.022168</td>\n",
              "      <td>0.981845</td>\n",
              "      <td>00:00</td>\n",
              "    </tr>\n",
              "    <tr>\n",
              "      <td>30</td>\n",
              "      <td>0.015417</td>\n",
              "      <td>0.021941</td>\n",
              "      <td>0.981845</td>\n",
              "      <td>00:00</td>\n",
              "    </tr>\n",
              "    <tr>\n",
              "      <td>31</td>\n",
              "      <td>0.015249</td>\n",
              "      <td>0.021728</td>\n",
              "      <td>0.981845</td>\n",
              "      <td>00:00</td>\n",
              "    </tr>\n",
              "    <tr>\n",
              "      <td>32</td>\n",
              "      <td>0.015088</td>\n",
              "      <td>0.021529</td>\n",
              "      <td>0.981845</td>\n",
              "      <td>00:00</td>\n",
              "    </tr>\n",
              "    <tr>\n",
              "      <td>33</td>\n",
              "      <td>0.014935</td>\n",
              "      <td>0.021341</td>\n",
              "      <td>0.981845</td>\n",
              "      <td>00:00</td>\n",
              "    </tr>\n",
              "    <tr>\n",
              "      <td>34</td>\n",
              "      <td>0.014788</td>\n",
              "      <td>0.021164</td>\n",
              "      <td>0.981845</td>\n",
              "      <td>00:00</td>\n",
              "    </tr>\n",
              "    <tr>\n",
              "      <td>35</td>\n",
              "      <td>0.014647</td>\n",
              "      <td>0.020998</td>\n",
              "      <td>0.982336</td>\n",
              "      <td>00:00</td>\n",
              "    </tr>\n",
              "    <tr>\n",
              "      <td>36</td>\n",
              "      <td>0.014512</td>\n",
              "      <td>0.020840</td>\n",
              "      <td>0.982826</td>\n",
              "      <td>00:00</td>\n",
              "    </tr>\n",
              "    <tr>\n",
              "      <td>37</td>\n",
              "      <td>0.014382</td>\n",
              "      <td>0.020691</td>\n",
              "      <td>0.982826</td>\n",
              "      <td>00:00</td>\n",
              "    </tr>\n",
              "    <tr>\n",
              "      <td>38</td>\n",
              "      <td>0.014257</td>\n",
              "      <td>0.020550</td>\n",
              "      <td>0.982826</td>\n",
              "      <td>00:00</td>\n",
              "    </tr>\n",
              "    <tr>\n",
              "      <td>39</td>\n",
              "      <td>0.014136</td>\n",
              "      <td>0.020415</td>\n",
              "      <td>0.982826</td>\n",
              "      <td>00:00</td>\n",
              "    </tr>\n",
              "  </tbody>\n",
              "</table>"
            ],
            "text/plain": [
              "<IPython.core.display.HTML object>"
            ]
          },
          "metadata": {
            "tags": []
          }
        }
      ]
    },
    {
      "cell_type": "markdown",
      "metadata": {
        "id": "xw65Cmvl34hL"
      },
      "source": [
        "We're not showing the 40 lines of output here to save room; the training process is recorded in `learn.recorder`, with the table of output stored in the `values` attribute, so we can plot the accuracy over training as:"
      ]
    },
    {
      "cell_type": "code",
      "metadata": {
        "id": "0K4PI-nR34hL",
        "outputId": "95b7db3d-5a05-43e7-f180-847e441f8062"
      },
      "source": [
        "plt.plot(L(learn.recorder.values).itemgot(2));"
      ],
      "execution_count": null,
      "outputs": [
        {
          "output_type": "display_data",
          "data": {
            "image/png": "[encoded data removed]",
            "text/plain": [
              "<Figure size 432x288 with 1 Axes>"
            ]
          },
          "metadata": {
            "tags": [],
            "needs_background": "light"
          }
        }
      ]
    },
    {
      "cell_type": "markdown",
      "metadata": {
        "id": "S87DI9kg34hM"
      },
      "source": [
        "And we can view the final accuracy:"
      ]
    },
    {
      "cell_type": "code",
      "metadata": {
        "id": "x6xRZTJX34hM",
        "outputId": "a351fea4-dbc0-4f77-b1b4-5a5dab316ac7"
      },
      "source": [
        "learn.recorder.values[-1][2]"
      ],
      "execution_count": null,
      "outputs": [
        {
          "output_type": "execute_result",
          "data": {
            "text/plain": [
              "0.982826292514801"
            ]
          },
          "metadata": {
            "tags": []
          },
          "execution_count": 0
        }
      ]
    },
    {
      "cell_type": "markdown",
      "metadata": {
        "id": "WXZCHLmt34hN"
      },
      "source": [
        "At this point we have something that is rather magical:\n",
        "\n",
        "1. A function that can solve any problem to any level of accuracy (the neural network) given the correct set of parameters\n",
        "1. A way to find the best set of parameters for any function (stochastic gradient descent)\n",
        "\n",
        "This is why deep learning can do things which seem rather magical such fantastic things. Believing that this combination of simple techniques can really solve any problem is one of the biggest steps that we find many students have to take. It seems too good to be true—surely things should be more difficult and complicated than this? Our recommendation: try it out! We just tried it on the MNIST dataset and you have seen the results. And since we are doing everything from scratch ourselves (except for calculating the gradients) you know that there is no special magic hiding behind the scenes."
      ]
    },
    {
      "cell_type": "markdown",
      "metadata": {
        "id": "bOj-JKjU34hN"
      },
      "source": [
        "### Going Deeper"
      ]
    },
    {
      "cell_type": "markdown",
      "metadata": {
        "id": "vKujvmvk34hO"
      },
      "source": [
        "There is no need to stop at just two linear layers. We can add as many as we want, as long as we add a nonlinearity between each pair of linear layers. As you will learn, however, the deeper the model gets, the harder it is to optimize the parameters in practice. Later in this book you will learn about some simple but brilliantly effective techniques for training deeper models.\n",
        "\n",
        "We already know that a single nonlinearity with two linear layers is enough to approximate any function. So why would we use deeper models? The reason is performance. With a deeper model (that is, one with more layers) we do not need to use as many parameters; it turns out that we can use smaller matrices with more layers, and get better results than we would get with larger matrices, and few layers.\n",
        "\n",
        "That means that we can train the model more quickly, and it will take up less memory. In the 1990s researchers were so focused on the universal approximation theorem that very few were experimenting with more than one nonlinearity. This theoretical but not practical foundation held back the field for years. Some researchers, however, did experiment with deep models, and eventually were able to show that these models could perform much better in practice. Eventually, theoretical results were developed which showed why this happens. Today, it is extremely unusual to find anybody using a neural network with just one nonlinearity.\n",
        "\n",
        "Here what happens when we train an 18-layer model using the same approach we saw in <<chapter_intro>>:"
      ]
    },
    {
      "cell_type": "code",
      "metadata": {
        "id": "3GvR8ruB34hQ",
        "outputId": "c62cd2a5-a947-42ae-d3fa-7cf0fc54312e"
      },
      "source": [
        "dls = ImageDataLoaders.from_folder(path)\n",
        "learn = cnn_learner(dls, resnet18, pretrained=False,\n",
        "                    loss_func=F.cross_entropy, metrics=accuracy)\n",
        "learn.fit_one_cycle(1, 0.1)"
      ],
      "execution_count": null,
      "outputs": [
        {
          "output_type": "display_data",
          "data": {
            "text/html": [
              "<table border=\"1\" class=\"dataframe\">\n",
              "  <thead>\n",
              "    <tr style=\"text-align: left;\">\n",
              "      <th>epoch</th>\n",
              "      <th>train_loss</th>\n",
              "      <th>valid_loss</th>\n",
              "      <th>accuracy</th>\n",
              "      <th>time</th>\n",
              "    </tr>\n",
              "  </thead>\n",
              "  <tbody>\n",
              "    <tr>\n",
              "      <td>0</td>\n",
              "      <td>0.082089</td>\n",
              "      <td>0.009578</td>\n",
              "      <td>0.997056</td>\n",
              "      <td>00:11</td>\n",
              "    </tr>\n",
              "  </tbody>\n",
              "</table>"
            ],
            "text/plain": [
              "<IPython.core.display.HTML object>"
            ]
          },
          "metadata": {
            "tags": []
          }
        }
      ]
    },
    {
      "cell_type": "markdown",
      "metadata": {
        "id": "jAOCFnuK34hQ"
      },
      "source": [
        "Nearly 100% accuracy! That's a big difference compared to our simple neural net. But as you'll learn in the remainder of this book, there are just a few little tricks you need to use to get such great results from scratch yourself. You already know the key foundational pieces. (Of course, even once you know all the tricks, you'll nearly always want to work with the pre-built classes provided by PyTorch and fastai, because they save you having to think about all the little details yourself.)"
      ]
    },
    {
      "cell_type": "markdown",
      "metadata": {
        "id": "coWiS61334hQ"
      },
      "source": [
        "## Jargon Recap"
      ]
    },
    {
      "cell_type": "markdown",
      "metadata": {
        "id": "JvJJwEhI34hR"
      },
      "source": [
        "Congratulations: you now know how to create and train a deep neural network from scratch! We've gone through quite a few steps to get to this point, but you might be surprised at how simple it really is.\n",
        "\n",
        "Now that we are at this point, it is a good opportunity to define, and review, some jargon and key concepts.\n",
        "\n",
        "A neural network contains a lot of numbers, but they are only of two types: numbers that are calculated, and the parameters that these numbers are calculated from. This gives us the two most important pieces of jargon to learn:\n",
        "\n",
        "- Activations:: Numbers that are calculated (both by linear and nonlinear layers)\n",
        "- Parameters:: Numbers that are randomly initialized, and optimized (that is, the numbers that define the model)\n",
        "\n",
        "We will often talk in this book about activations and parameters. Remember that they have very specific meanings. They are numbers. They are not abstract concepts, but they are actual specific numbers that are in your model. Part of becoming a good deep learning practitioner is getting used to the idea of actually looking at your activations and parameters, and plotting them and testing whether they are behaving correctly.\n",
        "\n",
        "Our activations and parameters are all contained in *tensors*. These are simply regularly shaped arrays—for example, a matrix. Matrices have rows and columns; we call these the *axes* or *dimensions*. The number of dimensions of a tensor is its *rank*. There are some special tensors:\n",
        "\n",
        "- Rank zero: scalar\n",
        "- Rank one: vector\n",
        "- Rank two: matrix\n",
        "\n",
        "A neural network contains a number of layers. Each layer is either *linear* or *nonlinear*. We generally alternate between these two kinds of layers in a neural network. Sometimes people refer to both a linear layer and its subsequent nonlinearity together as a single layer. Yes, this is confusing. Sometimes a nonlinearity is referred to as an *activation function*.\n",
        "\n",
        "<<dljargon1>> summarizes the key concepts related to SGD.\n",
        "\n",
        "```asciidoc\n",
        "[[dljargon1]]\n",
        ".Deep learning vocabulary\n",
        "[options=\"header\"]\n",
        "|=====\n",
        "| Term | Meaning\n",
        "|ReLU | Function that returns 0 for negative numbers and doesn't change positive numbers.\n",
        "|Mini-batch | A small group of inputs and labels gathered together in two arrays. A gradient descent step is updated on this batch (rather than a whole epoch).\n",
        "|Forward pass | Applying the model to some input and computing the predictions.\n",
        "|Loss | A value that represents how well (or badly) our model is doing.\n",
        "|Gradient | The derivative of the loss with respect to some parameter of the model.\n",
        "|Backward pass | Computing the gradients of the loss with respect to all model parameters.\n",
        "|Gradient descent | Taking a step in the directions opposite to the gradients to make the model parameters a little bit better.\n",
        "|Learning rate | The size of the step we take when applying SGD to update the parameters of the model.\n",
        "|=====\n",
        "```"
      ]
    },
    {
      "cell_type": "markdown",
      "metadata": {
        "id": "4K81NEMY34hR"
      },
      "source": [
        "> note: _Choose Your Own Adventure_ Reminder: Did you choose to skip over chapters 2 & 3, in your excitement to peek under the hood? Well, here's your reminder to head back to chapter 2 now, because you'll be needing to know that stuff very soon!"
      ]
    },
    {
      "cell_type": "markdown",
      "metadata": {
        "id": "McWp0SGZ34hR"
      },
      "source": [
        "## Questionnaire"
      ]
    },
    {
      "cell_type": "markdown",
      "metadata": {
        "id": "JFVGAXtI34hR"
      },
      "source": [
        "1. How is a grayscale image represented on a computer? How about a color image?\n",
        "1. How are the files and folders in the `MNIST_SAMPLE` dataset structured? Why?\n",
        "1. Explain how the \"pixel similarity\" approach to classifying digits works.\n",
        "1. What is a list comprehension? Create one now that selects odd numbers from a list and doubles them.\n",
        "1. What is a \"rank-3 tensor\"?\n",
        "1. What is the difference between tensor rank and shape? How do you get the rank from the shape?\n",
        "1. What are RMSE and L1 norm?\n",
        "1. How can you apply a calculation on thousands of numbers at once, many thousands of times faster than a Python loop?\n",
        "1. Create a 3×3 tensor or array containing the numbers from 1 to 9. Double it. Select the bottom-right four numbers.\n",
        "1. What is broadcasting?\n",
        "1. Are metrics generally calculated using the training set, or the validation set? Why?\n",
        "1. What is SGD?\n",
        "1. Why does SGD use mini-batches?\n",
        "1. What are the seven steps in SGD for machine learning?\n",
        "1. How do we initialize the weights in a model?\n",
        "1. What is \"loss\"?\n",
        "1. Why can't we always use a high learning rate?\n",
        "1. What is a \"gradient\"?\n",
        "1. Do you need to know how to calculate gradients yourself?\n",
        "1. Why can't we use accuracy as a loss function?\n",
        "1. Draw the sigmoid function. What is special about its shape?\n",
        "1. What is the difference between a loss function and a metric?\n",
        "1. What is the function to calculate new weights using a learning rate?\n",
        "1. What does the `DataLoader` class do?\n",
        "1. Write pseudocode showing the basic steps taken in each epoch for SGD.\n",
        "1. Create a function that, if passed two arguments `[1,2,3,4]` and `'abcd'`, returns `[(1, 'a'), (2, 'b'), (3, 'c'), (4, 'd')]`. What is special about that output data structure?\n",
        "1. What does `view` do in PyTorch?\n",
        "1. What are the \"bias\" parameters in a neural network? Why do we need them?\n",
        "1. What does the `@` operator do in Python?\n",
        "1. What does the `backward` method do?\n",
        "1. Why do we have to zero the gradients?\n",
        "1. What information do we have to pass to `Learner`?\n",
        "1. Show Python or pseudocode for the basic steps of a training loop.\n",
        "1. What is \"ReLU\"? Draw a plot of it for values from `-2` to `+2`.\n",
        "1. What is an \"activation function\"?\n",
        "1. What's the difference between `F.relu` and `nn.ReLU`?\n",
        "1. The universal approximation theorem shows that any function can be approximated as closely as needed using just one nonlinearity. So why do we normally use more?"
      ]
    },
    {
      "cell_type": "markdown",
      "metadata": {
        "id": "aP1d_VhO34hR"
      },
      "source": [
        "### Further Research"
      ]
    },
    {
      "cell_type": "markdown",
      "metadata": {
        "id": "YPSfLmLp34hR"
      },
      "source": [
        "1. Create your own implementation of `Learner` from scratch, based on the training loop shown in this chapter.\n",
        "1. Complete all the steps in this chapter using the full MNIST datasets (that is, for all digits, not just 3s and 7s). This is a significant project and will take you quite a bit of time to complete! You'll need to do some of your own research to figure out how to overcome some obstacles you'll meet on the way."
      ]
    },
    {
      "cell_type": "code",
      "metadata": {
        "id": "c1yVR0RI34hS"
      },
      "source": [
        ""
      ],
      "execution_count": null,
      "outputs": []
    }
  ]
}